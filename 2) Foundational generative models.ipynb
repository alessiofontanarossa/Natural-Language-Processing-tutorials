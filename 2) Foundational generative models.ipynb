{
 "cells": [
  {
   "cell_type": "markdown",
   "id": "fb8ed7dc",
   "metadata": {},
   "source": [
    "As it is (without anything downloaded and always with 1 epoch when needed), the running time of the whole notebook is (approximately) <span style=\"background-color: lightblue\"> 1 minutes</span>.\n",
    "\n",
    "<span style=\"background-color: yellow\"> </span>"
   ]
  },
  {
   "cell_type": "markdown",
   "id": "4b17c0cb",
   "metadata": {},
   "source": [
    "##### Libraries"
   ]
  },
  {
   "cell_type": "code",
   "execution_count": 1,
   "id": "54199f64",
   "metadata": {},
   "outputs": [
    {
     "name": "stderr",
     "output_type": "stream",
     "text": [
      "/var/folders/35/gw8dmgsd6m11bg8nhrgpd3vr0000gn/T/ipykernel_19736/285391475.py:15: DeprecationWarning: pkg_resources is deprecated as an API. See https://setuptools.pypa.io/en/latest/pkg_resources.html\n",
      "  import pkg_resources            # package and dependency management\n",
      "/opt/miniconda3/envs/Trans_env/lib/python3.10/site-packages/transformers/utils/generic.py:441: UserWarning: torch.utils._pytree._register_pytree_node is deprecated. Please use torch.utils._pytree.register_pytree_node instead.\n",
      "  _torch_pytree._register_pytree_node(\n",
      "/opt/miniconda3/envs/Trans_env/lib/python3.10/site-packages/transformers/utils/generic.py:309: UserWarning: torch.utils._pytree._register_pytree_node is deprecated. Please use torch.utils._pytree.register_pytree_node instead.\n",
      "  _torch_pytree._register_pytree_node(\n",
      "/opt/miniconda3/envs/Trans_env/lib/python3.10/site-packages/transformers/utils/generic.py:309: UserWarning: torch.utils._pytree._register_pytree_node is deprecated. Please use torch.utils._pytree.register_pytree_node instead.\n",
      "  _torch_pytree._register_pytree_node(\n",
      "/opt/miniconda3/envs/Trans_env/lib/python3.10/site-packages/transformers/utils/generic.py:309: UserWarning: torch.utils._pytree._register_pytree_node is deprecated. Please use torch.utils._pytree.register_pytree_node instead.\n",
      "  _torch_pytree._register_pytree_node(\n"
     ]
    }
   ],
   "source": [
    "########################## UTILITY AND SYSTEM ##########################\n",
    "\n",
    "import os                       # filesystem operations\n",
    "import csv                      # reading/writing CSV files\n",
    "import json                     # JSON parsing and serialization\n",
    "import math                     # basic math functions\n",
    "import random                   # random number generation\n",
    "import time                     # time-related functions\n",
    "import tempfile                 # temporary file management\n",
    "import tarfile                  # tar archive handling\n",
    "import io                       # input/output streams\n",
    "import pickle                   # object serialization\n",
    "import importlib                # dynamic import of modules\n",
    "import multiprocessing          # parallel process management\n",
    "import pkg_resources            # package and dependency management\n",
    "from copy import deepcopy       # deep copy of objects\n",
    "from pathlib import Path        # filesystem paths handling (cross-platform)\n",
    "\n",
    "########################## DOWNLOAD ##########################\n",
    "\n",
    "import requests                 # HTTP requests library\n",
    "import wget                     # file downloads from URLs\n",
    "from urllib.request import urlopen  # open URLs (alternative to requests)\n",
    "\n",
    "########################## VISUALIZATION ##########################\n",
    "\n",
    "import matplotlib.pyplot as plt # basic plotting library\n",
    "import plotly.graph_objs as go  # interactive plotting\n",
    "from tqdm.notebook import tqdm  # progress bars for loops in notebooks\n",
    "from pprint import pprint       # formatted pretty-printing of objects\n",
    "\n",
    "########################## DATAFRAME ##########################\n",
    "\n",
    "import numpy as np              # numerical arrays and operations\n",
    "import pandas as pd             # dataframes and data manipulation\n",
    "from sklearn.manifold import TSNE\n",
    "\n",
    "########################## TEXT PROCESSING ##########################\n",
    "\n",
    "import re                      # regular expressions\n",
    "import string                  # string constants and operations\n",
    "from itertools import chain, islice  # advanced iteration and chaining\n",
    "\n",
    "########################## TOKENIZATION ##########################\n",
    "\n",
    "from collections import Counter, OrderedDict  # frequency counts and ordered dictionaries\n",
    "import nltk                                   # natural language processing toolkit\n",
    "from nltk.tokenize import word_tokenize       # word tokenization\n",
    "import spacy                                  # advanced NLP (tokenization, parsing)\n",
    "from torchtext.data.utils import get_tokenizer       # torchtext tokenizers\n",
    "from torchtext.data.functional import to_map_style_dataset\n",
    "\n",
    "from torchtext.vocab import build_vocab_from_iterator # build vocabulary from iterator\n",
    "\n",
    "########################## DATASET AND DATALOADER ##########################\n",
    "\n",
    "from torch.utils.data import Dataset, DataLoader, random_split   # datasets and data loading utilities\n",
    "from torch.nn.utils.rnn import pad_sequence                      # padding variable-length sequences\n",
    "from datasets import load_dataset, DatasetDict                   # HuggingFace datasets loading\n",
    "from torchtext.datasets import AG_NEWS                           # torchtext built-in datasets\n",
    "\n",
    "########################## PYTORCH AND DEEP LEARNING ##########################\n",
    "\n",
    "import torch                             # PyTorch main library\n",
    "from torch import nn, Tensor             # neural network modules and tensors\n",
    "from torch.nn import CrossEntropyLoss    # common loss function for classification\n",
    "from torchsummary import summary\n",
    "\n",
    "########################## WORD EMBEDDING ##########################\n",
    "\n",
    "from torchtext.vocab import GloVe        # pretrained GloVe embeddings\n",
    "# from gensim.models import Word2Vec     # word2vec embeddings from corpus \n",
    "\n",
    "########################## HUGGING FACE ##########################\n",
    "\n",
    "import transformers                      # transformers library core\n",
    "from transformers import (\n",
    "    GPT2Tokenizer, GPT2LMHeadModel,     # GPT-2 tokenizer and model\n",
    "    BertTokenizer, BertTokenizerFast, BertConfig, BertForMaskedLM,  # BERT components\n",
    "    XLNetTokenizer,                     # XLNet tokenizer\n",
    "    DistilBertForSequenceClassification, DistilBertTokenizer, AutoModelForSequenceClassification,\n",
    "    pipeline,                          # easy pipelines for inference\n",
    "    AutoTokenizer,                    # auto tokenizer loader\n",
    "    AutoModelForCausalLM, GPT2ForSequenceClassification,\n",
    "    DataCollatorForLanguageModeling, TrainingArguments, Trainer,  # training utilities\n",
    "    set_seed, GenerationConfig,\n",
    "    BertModel                        # BERT base model\n",
    ")\n",
    "from datasets import DatasetDict         # HuggingFace dataset dictionaries\n",
    "\n",
    "######################### TRL & PEFT (TRAINING & PARAMETER EFFICIENT FINE-TUNING) ##########################\n",
    "\n",
    "# from trl import (\n",
    "#     SFTConfig, SFTTrainer, DataCollatorForCompletionOnlyLM,\n",
    "#     DPOConfig, DPOTrainer,\n",
    "#     RewardTrainer, RewardConfig\n",
    "# )\n",
    "from peft import get_peft_model, LoraConfig, TaskType\n",
    "from torchmetrics import Accuracy        # metrics for evaluation\n",
    "\n",
    "########################## RAG ##########################\n",
    "\n",
    "from transformers import (\n",
    "    DPRQuestionEncoder, DPRQuestionEncoderTokenizer,\n",
    "    DPRContextEncoder, DPRContextEncoderTokenizer\n",
    ")\n",
    "import faiss                              # similarity search library\n",
    "\n",
    "########################## EVALUATION ##########################\n",
    "\n",
    "import evaluate\n",
    "\n"
   ]
  },
  {
   "cell_type": "code",
   "execution_count": 2,
   "id": "33f3c57f",
   "metadata": {},
   "outputs": [
    {
     "name": "stdout",
     "output_type": "stream",
     "text": [
      "Which device we are on: cpu\n"
     ]
    }
   ],
   "source": [
    "def accelerator(where = \"mps\"):\n",
    "    if where == \"mps\":\n",
    "        device = torch.device(\"mps\" if torch.backends.mps.is_available() else \"cpu\")\n",
    "        print(\"Which device we are on: {}\".format(device))\n",
    "        return device\n",
    "    if where == \"cuda\":\n",
    "        device = torch.device(\"cuda\" if torch.cuda.is_available() else \"cpu\")\n",
    "        print(\"Which device we are on: {}\".format(device))\n",
    "        return device\n",
    "    if where == \"cpu\":\n",
    "        device = torch.device(\"cpu\")\n",
    "        print(\"Which device we are on: {}\".format(device))\n",
    "        return device\n",
    "\n",
    "device = accelerator(\"cpu\")"
   ]
  },
  {
   "cell_type": "markdown",
   "id": "cc5eb079",
   "metadata": {},
   "source": [
    "# A) CONCEPTS: N-Gram models, Word2vec models with CBOW and Skip-gram"
   ]
  },
  {
   "cell_type": "markdown",
   "id": "aeb3aa13",
   "metadata": {},
   "source": [
    "## N-gram models"
   ]
  },
  {
   "cell_type": "markdown",
   "id": "d1f3b658",
   "metadata": {},
   "source": [
    "The idea is to compute:\n",
    "\n",
    "- **Bi-gram**: $$P(\\text{word}_{i+1} \\mid \\text{word}_{i})= \\frac{\\text{count}(\\text{word}_{i}\\text{word}_{i+1})}{\\text{total count of}(\\text{word}_{i})}\\,, \\quad \\widehat{\\text{word}}_{i+1} = \\arg\\max_{\\text{word}_{i+1}} P(\\text{word}_{i+1} \\mid  \\text{word}_{i})$$ where $\\text{word}_{i}$ is the context, and the `context_size = 1`, because we only consider the previous word.\n",
    "- **Tri-gram**: $P(\\text{word}_{i+2} \\mid \\text{word}_{i+1}, \\text{word}_{i})$→ `context_size = 2`. Then:  $\\widehat{\\text{word}}_{i+2} = \\arg\\max_{\\text{word}_{i+2}} P(\\text{word}_{i+2} \\mid \\text{word}_{i+1}, \\text{word}_{i})$\n",
    "\n",
    "To do this we need frequencies, in the sense that the conditioned probability is computed by using **frequency of occurrence/total number of words**.\n",
    "\n",
    "\n",
    "For large $N$-grams, this becomes computationally complex due to data sparsity and memory usage. To overcome this, we can use **neural networks to approximate** the probability distribution:\n",
    "\n",
    "- The **input dimension** is: $\\text{dim\\_voc} \\times (N - 1)$ where the context vector is defined as the **concatenation of the one-hot encodings** (or embeddings) of the previous $N-1$ words.\n",
    "  \n",
    "  - If using **one-hot encoding**: it means concatenating $(N-1)$ one-hot vectors of size $\\text{dim\\_voc}$.\n",
    "  - More commonly, we use **embedding vectors** (e.g. via `nn.Embedding`) of dimension $d$, so the input becomes a concatenation of $(N-1)$ vectors in $\\mathbb{R}^d$, i.e. $\\text{Input size} = d \\times (N - 1)$.\n",
    "\n",
    "- The **output dimension** is $\\text{dim\\_voc}$, because we want to **predict a word** within the vocabulary — i.e., a classification problem.\n",
    "\n",
    "One should pay attention to this:\n",
    "- If we build the tokens using **word_tokenize**, then it is better not to use the methods **build_vocab_from_iterator** of torchtext, which is built to work well with **get_tokenizer**. This last approach is useful for neural networks, so if we instead build standard N-gram, we can use nltk for preprocess the text (see below).\n",
    "\n",
    "Summarizing, we define a function to preprocess strings\n",
    "```\n",
    "def preprocess_string(s):\n",
    "    s = re.sub(r\"[^\\w\\s]\", '', s) # Remove all non-word characters (everything except numbers and letters)\n",
    "    s = re.sub(r\"\\s+\", '', s) # Replace all runs of whitespaces with no space\n",
    "    s = re.sub(r\"\\d\", '', s) # replace digits with no space\n",
    "    return s\n",
    "```\n",
    "and then:\n",
    "1. if we build **Standard N-grams**, we  use:\n",
    "```\n",
    "def preprocess(words):\n",
    "    tokens = word_tokenize(words)\n",
    "    tokens = [preprocess_string(w)   for w in tokens]\n",
    "    return [w.lower()  for w in tokens if len(w)!=0 or not(w in string.punctuation) ]\n",
    "\n",
    "tokens = preprocess(song)\n",
    "vocabulary = set(tokens)\n",
    "```\n",
    "2. if we build **Neural Networks**, we use: \n",
    "```\n",
    "tokenizer = get_tokenizer(\"basic_english\")\n",
    "\n",
    "def preprocess(words):\n",
    "    tokens = tokenizer(words)\n",
    "    tokens = [preprocess_string(w)   for w in tokens]\n",
    "    return [w.lower()  for w in tokens if len(w)!=0 or not(w in string.punctuation) ]\n",
    "\n",
    "def yield_tokens(data_iter):\n",
    "    for _, text in data_iter:\n",
    "        yield tokenizer(text)\n",
    "\n",
    "tokens = preprocess(song)\n",
    "vocabulary = build_vocab_from_iterator(yield_tokens(song), specials=[\"<unk>\"])\n",
    "vocab.set_default_index(vocab[\"<unk>\"])\n",
    "``` \n",
    "\n",
    "Really, the tokenizer from torchtext is usually sufficient, whilst our preprocess_string() is quite aggressive, since it removes all the punctuation and white spaces. So, typically one uses (for nn):\n",
    "```\n",
    "tokenizer = get_tokenizer(\"basic_english\")\n",
    "tokens = tokenizer(song)\n",
    "\n",
    "def yield_tokens(data_iter):\n",
    "    for _, text in data_iter:\n",
    "        yield tokenizer(text)\n",
    "\n",
    "tokens = preprocess(song)\n",
    "vocabulary = build_vocab_from_iterator(yield_tokens(song), specials=[\"<unk>\"])\n",
    "vocab.set_default_index(vocab[\"<unk>\"])\n",
    "``` "
   ]
  },
  {
   "cell_type": "markdown",
   "id": "15ff4aa6",
   "metadata": {},
   "source": [
    "## Word2vec"
   ]
  },
  {
   "cell_type": "markdown",
   "id": "112885ea",
   "metadata": {},
   "source": [
    "These models are very similar to the nn approach of N-grams, the key difference is that:\n",
    "- **N-gram** : given a target $i$, it uses the preceeding $N-1$ words to predict the $i-th$ one;\n",
    "- **Word-to-vec** : \n",
    "    1. **CBOW**: given a target $i$, it uses the preceeding $n$ and successive $n$ words (which are the context) to predict the $i-th$ one. It uses a BOW, so the input dimension of the nn, this time, is $D=$dimension of vocabulary. In practice, as usual, one uses the token indices, so the BOW is not done using the OHE. In the CBOW introduced by (Mikolov et al., 2013), the order of the context is not important, and so we will use a **nn.EmbeddingBag**\n",
    "    2. **Skip-gram**: predicts the same context, using the target (it is the opposite!). In this case, the embedding dimension is usally greater than the vocab size!  The idea is that words that appear in similar contexts tend to have similar meanings\n",
    "\n",
    "When selecting CBOW or Skip-Gram, the best approach often depends on the specifics of your task and data. If your dataset is small but you need to have a good representation of rarer words, Skip-gram might be the better choice. If the computational efficiency is more critical and the rare words are less of a concern, CBOW might be adequate. It's also worth noting that for very small datasets, the benefits of neural word embeddings might be limited, and simpler methods or leveraging pretrained embeddings might be more effective.\n"
   ]
  },
  {
   "cell_type": "markdown",
   "id": "00a275d8",
   "metadata": {},
   "source": [
    "# 1) N-Gram model: <span style=\"background-color: yellow\">simplest Generative AI</span>\n",
    "\n",
    "Not useful because it consider only the previous N-1 words, without capturing long-ranges dependencies"
   ]
  },
  {
   "cell_type": "code",
   "execution_count": 3,
   "id": "37d72ebd",
   "metadata": {},
   "outputs": [],
   "source": [
    "def preprocess_string(s):\n",
    "    s = re.sub(r\"[^\\w\\s]\", '', s) # Remove all non-word characters (everything except numbers and letters)\n",
    "    s = re.sub(r\"\\s+\", '', s) # Replace all runs of whitespaces with no space\n",
    "    s = re.sub(r\"\\d\", '', s) # replace digits with no space\n",
    "    return s\n",
    "\n",
    "def preprocess(words):\n",
    "    tokens = word_tokenize(words)\n",
    "    tokens = [preprocess_string(w)   for w in tokens]\n",
    "    return [w.lower()  for w in tokens if len(w)!=0 or not(w in string.punctuation) ]"
   ]
  },
  {
   "cell_type": "markdown",
   "id": "7a296704",
   "metadata": {},
   "source": [
    "The dataset:"
   ]
  },
  {
   "cell_type": "code",
   "execution_count": 4,
   "id": "bd854340",
   "metadata": {},
   "outputs": [],
   "source": [
    "song = \"\"\"We are no strangers to love\n",
    "You know the rules and so do I\n",
    "A full commitments what Im thinking of\n",
    "You wouldnt get this from any other guy\n",
    "I just wanna tell you how Im feeling\n",
    "Gotta make you understand\n",
    "Never gonna give you up\n",
    "Never gonna let you down\n",
    "Never gonna run around and desert you\n",
    "Never gonna make you cry\n",
    "Never gonna say goodbye\n",
    "Never gonna tell a lie and hurt you\n",
    "Weve known each other for so long\n",
    "Your hearts been aching but youre too shy to say it\n",
    "Inside we both know whats been going on\n",
    "We know the game and were gonna play it\n",
    "And if you ask me how Im feeling\n",
    "Dont tell me youre too blind to see\n",
    "Never gonna give you up\n",
    "Never gonna let you down\n",
    "Never gonna run around and desert you\n",
    "Never gonna make you cry\n",
    "Never gonna say goodbye\n",
    "Never gonna tell a lie and hurt you\n",
    "Never gonna give you up\n",
    "Never gonna let you down\n",
    "Never gonna run around and desert you\n",
    "Never gonna make you cry\n",
    "Never gonna say goodbye\n",
    "Never gonna tell a lie and hurt you\n",
    "Weve known each other for so long\n",
    "Your hearts been aching but youre too shy to say it\n",
    "Inside we both know whats been going on\n",
    "We know the game and were gonna play it\n",
    "I just wanna tell you how Im feeling\n",
    "Gotta make you understand\n",
    "Never gonna give you up\n",
    "Never gonna let you down\n",
    "Never gonna run around and desert you\n",
    "Never gonna make you cry\n",
    "Never gonna say goodbye\n",
    "Never gonna tell a lie and hurt you\n",
    "Never gonna give you up\n",
    "Never gonna let you down\n",
    "Never gonna run around and desert you\n",
    "Never gonna make you cry\n",
    "Never gonna say goodbye\n",
    "Never gonna tell a lie and hurt you\n",
    "Never gonna give you up\n",
    "Never gonna let you down\n",
    "Never gonna run around and desert you\n",
    "Never gonna make you cry\n",
    "Never gonna say goodbye\n",
    "Never gonna tell a lie and hurt you\"\"\""
   ]
  },
  {
   "cell_type": "markdown",
   "id": "6c01ee5a",
   "metadata": {},
   "source": [
    "## Using Frequency"
   ]
  },
  {
   "cell_type": "code",
   "execution_count": 5,
   "id": "deafa303",
   "metadata": {},
   "outputs": [
    {
     "name": "stdout",
     "output_type": "stream",
     "text": [
      "['we', 'are', 'no', 'strangers', 'to', 'love']\n"
     ]
    }
   ],
   "source": [
    "tokens = preprocess(song)\n",
    "print(tokens[:6])\n",
    "vocabulary = set(tokens)\n",
    "\n",
    "fdist = nltk.FreqDist(tokens) #function from nltk to count the frequency of each tokem, dict{'word': frequency}\n",
    "\n",
    "total_number_of_words = sum(fdist.values()) # == len(tokens)\n",
    "\n",
    "non_cond_probability = {}\n",
    "for token in tokens:\n",
    "    non_cond_probability[token] = fdist[token]/total_number_of_words"
   ]
  },
  {
   "cell_type": "markdown",
   "id": "dc40a83b",
   "metadata": {},
   "source": [
    "A uni-gram model would have used non_cond_probability to predict the next word, predicting basically each time the word with the max probability (useless!)"
   ]
  },
  {
   "cell_type": "markdown",
   "id": "5d2f0e58",
   "metadata": {},
   "source": [
    "This make_predictions function works for every N-gram:"
   ]
  },
  {
   "cell_type": "code",
   "execution_count": 6,
   "id": "9807f27b",
   "metadata": {},
   "outputs": [],
   "source": [
    "def make_predictions(my_words, freq_grams, normlize=1, vocabulary = vocabulary):\n",
    "    \"\"\"\n",
    "    Generate predictions for the conditional probability of the next word given a sequence.\n",
    "\n",
    "    Args:\n",
    "        my_words (list): A list of words in the input sequence.\n",
    "        freq_grams (dict): A dictionary containing frequency of n-grams.\n",
    "        normlize (int): A normalization factor for calculating probabilities.\n",
    "        vocabulary (list): A list of words in the vocabulary.\n",
    "\n",
    "    Returns:\n",
    "        list: A list of predicted words along with their probabilities, sorted in descending order.\n",
    "    \"\"\"\n",
    "\n",
    "    vocab_probabilities = {}  # Initialize a dictionary to store predicted word probabilities\n",
    "\n",
    "    context_size = len(list(freq_grams.keys())[0])  # Determine the context size from n-grams keys\n",
    "\n",
    "    # Preprocess input words and take only the relevant context words\n",
    "    my_tokens = preprocess(my_words)[0:context_size - 1]\n",
    "\n",
    "    # Calculate probabilities for each word in the vocabulary given the context\n",
    "    for next_word in vocabulary:\n",
    "        temp = my_tokens.copy()\n",
    "        temp.append(next_word)  # Add the next word to the context\n",
    "\n",
    "        # Calculate the conditional probability using the frequency information\n",
    "        if normlize!=0:\n",
    "            vocab_probabilities[next_word] = freq_grams[tuple(temp)] / normlize\n",
    "        else:\n",
    "            vocab_probabilities[next_word] = freq_grams[tuple(temp)] \n",
    "    # Sort the predicted words based on their probabilities in descending order\n",
    "    vocab_probabilities = sorted(vocab_probabilities.items(), key=lambda x: x[1], reverse=True)\n",
    "\n",
    "    return vocab_probabilities"
   ]
  },
  {
   "cell_type": "markdown",
   "id": "3bd72ee9",
   "metadata": {},
   "source": [
    "### Bi-gram and Tri-gram"
   ]
  },
  {
   "cell_type": "code",
   "execution_count": 7,
   "id": "411e42d3",
   "metadata": {},
   "outputs": [
    {
     "name": "stdout",
     "output_type": "stream",
     "text": [
      "[('we', 'are'), ('are', 'no')]\n",
      "i just wan na tell a lie and desert you never gon na tell a lie and desert you never gon na tell a lie and desert you never gon na tell a lie and desert you never gon na tell a lie and desert you never gon na tell a lie and desert you never gon na tell a lie and desert you never gon na tell a lie and desert you never gon na tell a lie and desert you never gon na tell a lie and desert you never gon na tell a lie and desert you never\n",
      "i just wan na tell a lie and hurt you never gon na tell a lie and hurt you never gon na tell a lie and hurt you never gon na tell a lie and hurt you never gon na tell a lie and hurt you never gon na tell a lie and hurt you never gon na tell a lie and hurt you never gon na tell a lie and hurt you never gon na tell a lie and hurt you never gon na tell a lie and hurt you never gon na tell a lie and hurt you never gon\n"
     ]
    }
   ],
   "source": [
    "bigrams = nltk.bigrams(tokens) # this is an iterator\n",
    "my_bigrams = list(bigrams) # list of tuples, each tuple is a bigram (word1,word2)\n",
    "print(my_bigrams[0:2])\n",
    "\n",
    "bigrams = nltk.bigrams(tokens) # again to reset the iterator\n",
    "freq_bigrams  = nltk.FreqDist(bigrams)\n",
    "\n",
    "my_song = \"i\"\n",
    "for i in range(100):\n",
    "    next_word = make_predictions(my_song.split()[-1], freq_bigrams, fdist[my_song.split()[-1]], list(fdist))\n",
    "    my_song += \" \" + next_word[0][0]\n",
    "print(my_song)\n",
    "\n",
    "trigrams = nltk.trigrams(tokens) # again to reset the iterator\n",
    "freq_tigrams  = nltk.FreqDist(trigrams)\n",
    "\n",
    "my_song = \"i just\"\n",
    "for i in range(100):\n",
    "    context = my_song.split()[-2:]\n",
    "    normlize = freq_bigrams[tuple(context)]  # Frequenza del contesto\n",
    "    next_word = make_predictions(\" \".join(context), freq_tigrams, normlize, list(fdist))\n",
    "    my_song += \" \" + next_word[0][0]\n",
    "print(my_song)\n"
   ]
  },
  {
   "cell_type": "markdown",
   "id": "0fe5ccba",
   "metadata": {},
   "source": [
    "## Using a NN"
   ]
  },
  {
   "cell_type": "markdown",
   "id": "7fca944e",
   "metadata": {},
   "source": [
    "Hyperparameters:"
   ]
  },
  {
   "cell_type": "code",
   "execution_count": 8,
   "id": "18c397f6",
   "metadata": {},
   "outputs": [],
   "source": [
    "BATCH_SIZE = 10    # Number of samples per training batch\n",
    "EMBEDDING_DIM = 10 # Dimension of the word embeddings\n",
    "EPOCHS = 2\n",
    "LR = 0.01"
   ]
  },
  {
   "cell_type": "markdown",
   "id": "596cb97b",
   "metadata": {},
   "source": [
    "Basics. build the tokens, the vocabulary and a function to translate new text into indices:"
   ]
  },
  {
   "cell_type": "code",
   "execution_count": 9,
   "id": "3b533f03",
   "metadata": {},
   "outputs": [],
   "source": [
    "tokenizer = get_tokenizer(\"basic_english\")\n",
    "tokens = tokenizer(song)\n",
    "# use yields_token to create a vocabulary, stronger choice wrt to map(tokenizer,song). Modified the function because we do not have a label in the song\n",
    "def yield_tokens(data_iter):\n",
    "    for text in data_iter:\n",
    "        yield tokenizer(text)\n",
    "\n",
    "vocab = build_vocab_from_iterator(yield_tokens([song]), specials=[\"<unk>\", \"<pad>\"]) # should include the pad here!\n",
    "vocab.set_default_index(vocab[\"<unk>\"])\n",
    "\n",
    "def text_pipeline(text):\n",
    "    return vocab(tokenizer(text))"
   ]
  },
  {
   "cell_type": "markdown",
   "id": "88dd36f4",
   "metadata": {},
   "source": [
    "Moreover we have to make the padding, otherwise the bathces could have different lenght (in particular the last one!). In this way we keep the full song, but if we are ok with eliminate the last batch instead, we can use **drop_last = True** in the DataLoader!"
   ]
  },
  {
   "cell_type": "markdown",
   "id": "40995737",
   "metadata": {},
   "source": [
    "We manage the padding manually here instead of using `pad_sequence` as usual, beacuse the model will not take sequences, but tokens:"
   ]
  },
  {
   "cell_type": "code",
   "execution_count": 10,
   "id": "054c4733",
   "metadata": {},
   "outputs": [],
   "source": [
    "Padding = BATCH_SIZE-len(tokens)%BATCH_SIZE\n",
    "tokens_pad = tokens + [\"<pad>\"] * Padding"
   ]
  },
  {
   "cell_type": "markdown",
   "id": "748fb2a8",
   "metadata": {},
   "source": [
    "### Create the loader and collate function"
   ]
  },
  {
   "cell_type": "markdown",
   "id": "1f4cb595",
   "metadata": {},
   "source": [
    "The collate function will have to construct pair of (context, target), according to the value of N(-grams). Before construct the collate_fn, let's build these pairs explicitly for educational purposes:"
   ]
  },
  {
   "cell_type": "code",
   "execution_count": 11,
   "id": "9d67678f",
   "metadata": {},
   "outputs": [
    {
     "name": "stdout",
     "output_type": "stream",
     "text": [
      "[(['are', 'we'], 'no'), (['no', 'are'], 'strangers'), (['strangers', 'no'], 'to')] \n",
      "\n",
      "context:  ['are', 'we'] and target: no\n",
      "context index [59, 22] target index [71]\n"
     ]
    }
   ],
   "source": [
    "def genngrams(tokens, N = 3):\n",
    "    CONTEXT_SIZE = N-1\n",
    "    ngrams = [\n",
    "        (\n",
    "            [tokens[i - j - 1] for j in range(CONTEXT_SIZE)],  # Context words (previous words)\n",
    "            tokens[i]  # Target word (the word to predict)\n",
    "        )\n",
    "        for i in range(CONTEXT_SIZE, len(tokens))\n",
    "    ]\n",
    "    return ngrams\n",
    "\n",
    "trigram = genngrams(tokens, N = 3)\n",
    "print(trigram[0:3],'\\n')\n",
    "\n",
    "context, target = trigram[0]\n",
    "print(\"context: \",context,\"and target:\",target)\n",
    "print(\"context index\",vocab(context),\"target index\",vocab([target]))\n"
   ]
  },
  {
   "cell_type": "markdown",
   "id": "2eb9f9f5",
   "metadata": {},
   "source": [
    "Now we build the collate function, which does the same but returns target and context separately for each gram (directly as indices):"
   ]
  },
  {
   "cell_type": "code",
   "execution_count": 12,
   "id": "e351188b",
   "metadata": {},
   "outputs": [
    {
     "name": "stdout",
     "output_type": "stream",
     "text": [
      "tensor([71, 59, 22]) tensor(75)\n"
     ]
    }
   ],
   "source": [
    "CONTEXT_SIZE = 3\n",
    "\n",
    "def collate_batch(batch):\n",
    "    batch_size = len(batch)  # Get the size of the batch\n",
    "    context, target = [], [] # Initialize lists for context and target words\n",
    "\n",
    "    # Loop through the batch, ensuring enough previous words exist for context\n",
    "    for i in range(CONTEXT_SIZE, batch_size):\n",
    "        # Convert the target word to its index using the vocabulary\n",
    "        target.append(vocab([batch[i]]))\n",
    "\n",
    "        # Convert the previous CONTEXT_SIZE words to indices using the vocabulary\n",
    "        context.append(vocab([batch[i - j - 1] for j in range(CONTEXT_SIZE)]))\n",
    "\n",
    "    return torch.tensor(context).to(device), torch.tensor(target).to(device).reshape(-1) #from tensor([ID]) to tensor(ID)\n",
    "\n",
    "context, target = collate_batch(tokens)\n",
    "print(context[0], target[0]) #These are the same results as before"
   ]
  },
  {
   "cell_type": "markdown",
   "id": "8272a1dc",
   "metadata": {},
   "source": [
    "We are ready for the loader. We pass the padded tokens, and for this we set `drop_last = False`. Shuffle = False because we want to keep the ordering!"
   ]
  },
  {
   "cell_type": "code",
   "execution_count": 13,
   "id": "d385b825",
   "metadata": {},
   "outputs": [],
   "source": [
    "dataloader = DataLoader(tokens_pad, batch_size = BATCH_SIZE, shuffle = False, collate_fn = collate_batch, drop_last = False)"
   ]
  },
  {
   "cell_type": "markdown",
   "id": "7daec876",
   "metadata": {},
   "source": [
    "Since we will want to change the hyperparameter CONTEXT_SIZE in future without running again the code, we define:"
   ]
  },
  {
   "cell_type": "code",
   "execution_count": 14,
   "id": "6efcd83b",
   "metadata": {},
   "outputs": [],
   "source": [
    "def get_collate_fn(context_size):\n",
    "    def collate_batch(batch):\n",
    "        batch_size = len(batch)\n",
    "        context, target = [], []\n",
    "        for i in range(context_size, batch_size):\n",
    "            target.append(vocab([batch[i]]))\n",
    "            context.append(vocab([batch[i - j - 1] for j in range(context_size)]))\n",
    "        return torch.tensor(context).to(device), torch.tensor(target).to(device).reshape(-1)\n",
    "    return collate_batch\n",
    "\n",
    "CONTEXT_SIZE_EXAMPLE = 2\n",
    "collate_batch = get_collate_fn(CONTEXT_SIZE_EXAMPLE)\n",
    "dataloader = DataLoader(tokens_pad, batch_size = BATCH_SIZE, shuffle = False, collate_fn = collate_batch, drop_last = False)"
   ]
  },
  {
   "cell_type": "markdown",
   "id": "435318a4",
   "metadata": {},
   "source": [
    "### Model"
   ]
  },
  {
   "cell_type": "code",
   "execution_count": 15,
   "id": "a3debb11",
   "metadata": {},
   "outputs": [],
   "source": [
    "class NGramLanguageModeler(nn.Module):\n",
    "    def __init__(self, vocab_size, embedding_dim, context_size):\n",
    "        super(NGramLanguageModeler, self).__init__()\n",
    "\n",
    "        self.context_size = context_size\n",
    "        self.embedding_dim = embedding_dim\n",
    "        self.embeddings = nn.Embedding(vocab_size, embedding_dim)\n",
    "        self.linear1 = nn.Linear(context_size * embedding_dim, 128)\n",
    "        self.linear2 = nn.Linear(128, vocab_size) # to predice a word in the vocabulary\n",
    "\n",
    "    def forward(self, context): #the input is the context!!!\n",
    "\n",
    "        embeddings = self.embeddings(context)  # Shape: (batch_size, context_size, embedding_dim)\n",
    "        flattened = torch.reshape(embeddings, (-1, self.context_size * self.embedding_dim))  # Reshape the embeddings into a single vector per input sample\n",
    "        # New shape: (batch_size, embedding_dim * context_size = embedding_dim * (N-1))\n",
    "        out = nn.functional.relu(self.linear1(flattened))  # Shape: (batch_size, 128)\n",
    "        out = self.linear2(out)  # Shape: (batch_size, vocab_size)\n",
    "\n",
    "        return out"
   ]
  },
  {
   "cell_type": "markdown",
   "id": "960f1391",
   "metadata": {},
   "source": [
    "### Training the model"
   ]
  },
  {
   "cell_type": "code",
   "execution_count": 16,
   "id": "dd55539e",
   "metadata": {},
   "outputs": [
    {
     "data": {
      "application/vnd.jupyter.widget-view+json": {
       "model_id": "816c302bff6846b2b0e1c5c45cb5803d",
       "version_major": 2,
       "version_minor": 0
      },
      "text/plain": [
       "  0%|          | 0/2 [00:00<?, ?it/s]"
      ]
     },
     "metadata": {},
     "output_type": "display_data"
    },
    {
     "data": {
      "application/vnd.jupyter.widget-view+json": {
       "model_id": "7dac1cb1c7904fd698f97552529ec9f2",
       "version_major": 2,
       "version_minor": 0
      },
      "text/plain": [
       "  0%|          | 0/2 [00:00<?, ?it/s]"
      ]
     },
     "metadata": {},
     "output_type": "display_data"
    },
    {
     "data": {
      "application/vnd.jupyter.widget-view+json": {
       "model_id": "3c8be729059847f38e31db0a9517bf86",
       "version_major": 2,
       "version_minor": 0
      },
      "text/plain": [
       "  0%|          | 0/2 [00:00<?, ?it/s]"
      ]
     },
     "metadata": {},
     "output_type": "display_data"
    }
   ],
   "source": [
    "criterion = torch.nn.CrossEntropyLoss()\n",
    "#scheduler = torch.optim.lr_scheduler.StepLR(optimizer, step_size = 1.0, gamma = 0.1) # after 1.0 epochs, the lerning rate will be multiplied by gamma\n",
    "\n",
    "def train(dataloader, model, optimizer, number_of_epochs = 1):\n",
    "    LOSS = [] \n",
    "    for epoch in tqdm(range(number_of_epochs)):\n",
    "        total_loss = 0.0\n",
    "        for context, target in dataloader:\n",
    "\n",
    "            model.zero_grad()         \n",
    "            predicted = model(context)  \n",
    "            loss = criterion(predicted, target)  \n",
    "            total_loss += loss.item() \n",
    "\n",
    "            loss.backward() \n",
    "            optimizer.step()   \n",
    "\n",
    "        LOSS.append(total_loss/len(dataloader))  \n",
    "\n",
    "    return LOSS \n",
    "\n",
    "CONTEXT_SIZE = 2\n",
    "collate_batch = get_collate_fn(CONTEXT_SIZE)\n",
    "dataloader = DataLoader( tokens_pad, batch_size = BATCH_SIZE, shuffle = False, collate_fn = collate_batch, drop_last = False)\n",
    "model_2 = NGramLanguageModeler(vocab_size = len(vocab), embedding_dim = EMBEDDING_DIM, context_size = CONTEXT_SIZE).to(device)\n",
    "optimizer_2 = torch.optim.SGD(model_2.parameters(), lr = LR)\n",
    "loss_2 = train(dataloader = dataloader, model = model_2, optimizer = optimizer_2, number_of_epochs = EPOCHS)\n",
    "save_path = '3gram.pth'\n",
    "torch.save(model_2.state_dict(), save_path)\n",
    "\n",
    "CONTEXT_SIZE = 4\n",
    "collate_batch = get_collate_fn(CONTEXT_SIZE)\n",
    "dataloader = DataLoader( tokens_pad, batch_size = BATCH_SIZE, shuffle = False, collate_fn = collate_batch, drop_last = False)\n",
    "model_4 = NGramLanguageModeler(vocab_size = len(vocab), embedding_dim = EMBEDDING_DIM, context_size = CONTEXT_SIZE).to(device)\n",
    "optimizer_4 = torch.optim.SGD(model_4.parameters(), lr = LR)\n",
    "loss_4 = train(dataloader = dataloader, model = model_4, optimizer = optimizer_4, number_of_epochs = EPOCHS)\n",
    "save_path = '5gram.pth'\n",
    "torch.save(model_4.state_dict(), save_path)\n",
    "\n",
    "CONTEXT_SIZE = 8\n",
    "collate_batch = get_collate_fn(CONTEXT_SIZE)\n",
    "dataloader = DataLoader( tokens_pad, batch_size = BATCH_SIZE, shuffle = False, collate_fn = collate_batch, drop_last = False)\n",
    "model_8 = NGramLanguageModeler(vocab_size = len(vocab), embedding_dim = EMBEDDING_DIM, context_size = CONTEXT_SIZE).to(device)\n",
    "optimizer_8 = torch.optim.SGD(model_8.parameters(), lr = LR)\n",
    "loss_8 = train(dataloader = dataloader, model = model_8, optimizer = optimizer_8, number_of_epochs = EPOCHS)\n",
    "save_path = '9gram.pth'\n",
    "torch.save(model_8.state_dict(), save_path)\n",
    "\n",
    "losses_list = [loss_2, loss_4, loss_8]\n",
    "\n"
   ]
  },
  {
   "cell_type": "code",
   "execution_count": 17,
   "id": "fe74be8e",
   "metadata": {},
   "outputs": [
    {
     "data": {
      "image/png": "[encoded data removed]",
      "text/plain": [
       "<Figure size 640x480 with 1 Axes>"
      ]
     },
     "metadata": {},
     "output_type": "display_data"
    }
   ],
   "source": [
    "plt.plot(loss_2)\n",
    "plt.plot(loss_4)\n",
    "plt.plot(loss_8)\n",
    "plt.legend([\"Tri-gram\",\"Five-gram\",\"Nine-gram\"])\n",
    "plt.xlabel(\"Epochs\")\n",
    "plt.ylabel('Loss')\n",
    "plt.show()\n",
    "plt.close()"
   ]
  },
  {
   "cell_type": "markdown",
   "id": "749105de",
   "metadata": {},
   "source": [
    "### Inference - Text generation"
   ]
  },
  {
   "cell_type": "markdown",
   "id": "c2e7c85d",
   "metadata": {},
   "source": [
    "Function for generating songs:"
   ]
  },
  {
   "cell_type": "code",
   "execution_count": 18,
   "id": "9336178f",
   "metadata": {},
   "outputs": [],
   "source": [
    "def write_song(model, my_song, number_of_words = 100, context_size = 2):\n",
    "    index_to_token = vocab.get_itos() # list of token and vocabulary IDs\n",
    "\n",
    "    for i in range(number_of_words):\n",
    "\n",
    "        with torch.no_grad():  # Disable gradient computation for inference\n",
    "            \n",
    "            # Prepare the input context by extracting the last CONTEXT_SIZE words from tokens\n",
    "            context = torch.tensor(\n",
    "                vocab([tokens[i - j - 1] for j in range(context_size)])\n",
    "            ).to(device)  \n",
    "            \n",
    "            # Predict the next word by selecting the word with the highest probability\n",
    "            word_idx = torch.argmax(model(context))  # Get index of the most likely next word\n",
    "            \n",
    "            # Append the predicted word to the generated text\n",
    "            my_song += \" \" + index_to_token[word_idx.detach().item()]\n",
    "\n",
    "    return my_song"
   ]
  },
  {
   "cell_type": "code",
   "execution_count": 19,
   "id": "fca0a977",
   "metadata": {},
   "outputs": [
    {
     "data": {
      "text/plain": [
       "'I love my gonna gonna tell you gonna you around you gonna you you just you but gonna for you you you you gonna you never gonna i gonna you you just i'"
      ]
     },
     "execution_count": 19,
     "metadata": {},
     "output_type": "execute_result"
    }
   ],
   "source": [
    "model_8.load_state_dict(torch.load('9gram.pth'))\n",
    "model_8.eval()\n",
    "write_song(model_8, 'I love my', number_of_words = 30, context_size = 8)"
   ]
  },
  {
   "cell_type": "markdown",
   "id": "86df951a",
   "metadata": {},
   "source": [
    "### Embedding Analysis"
   ]
  },
  {
   "cell_type": "code",
   "execution_count": 20,
   "id": "8d9c3cb2",
   "metadata": {},
   "outputs": [
    {
     "data": {
      "image/png": "[encoded data removed]",
      "text/plain": [
       "<Figure size 640x480 with 1 Axes>"
      ]
     },
     "metadata": {},
     "output_type": "display_data"
    }
   ],
   "source": [
    "X = model_8.embeddings.weight.cpu().detach().numpy()\n",
    "tsne = TSNE(n_components=2, random_state=42)\n",
    "X_2d = tsne.fit_transform(X)\n",
    "\n",
    "labels = []\n",
    "\n",
    "for j in range(len(X_2d)):\n",
    "    if j < 20:\n",
    "        plt.scatter(X_2d[j, 0], X_2d[j, 1], label=vocab.get_itos()[j])\n",
    "        labels.append(vocab.get_itos()[j])\n",
    "        # Add words as annotations\n",
    "        plt.annotate(vocab.get_itos()[j],\n",
    "                     (X_2d[j, 0], X_2d[j, 1]),\n",
    "                     textcoords=\"offset points\",\n",
    "                     xytext=(0, 10),\n",
    "                     ha='center')\n",
    "    else:\n",
    "        plt.scatter(X_2d[j, 0], X_2d[j, 1])\n",
    "\n",
    "plt.legend(labels, loc='upper left', bbox_to_anchor=(1, 1))\n",
    "plt.show()"
   ]
  },
  {
   "cell_type": "markdown",
   "id": "cfae4318",
   "metadata": {},
   "source": [
    "òl"
   ]
  },
  {
   "cell_type": "markdown",
   "id": "b365aafa",
   "metadata": {},
   "source": [
    "# 2) Word2vec model with CBOW (continuous Bag-of-words) and Skip-gram\n",
    "\n",
    "<span style=\"background-color: yellow\">Next-to-simplest models </span>. It continues to not consider long-ranges dependencies, and it has still a fixed context-size"
   ]
  },
  {
   "cell_type": "markdown",
   "id": "66622081",
   "metadata": {},
   "source": [
    "The dataset:"
   ]
  },
  {
   "cell_type": "code",
   "execution_count": 21,
   "id": "4099b8f7",
   "metadata": {},
   "outputs": [],
   "source": [
    "toy_data = \"\"\"I wish I was little bit taller\n",
    "I wish I was a baller\n",
    "She wore a small black dress to the party\n",
    "The dog chased a big red ball in the park\n",
    "He had a huge smile on his face when he won the race\n",
    "The tiny kitten played with a fluffy toy mouse\n",
    "The team celebrated their victory with a grand parade\n",
    "She bought a small, delicate necklace for her sister\n",
    "The mountain peak stood majestic and tall against the clear blue sky\n",
    "The toddler took small, careful steps as she learned to walk\n",
    "The house had a spacious backyard with a big swimming pool\n",
    "He felt a sense of accomplishment after completing the challenging puzzle\n",
    "The chef prepared a delicious, flavorful dish using fresh ingredients\n",
    "The children played happily in the small, cozy room\n",
    "The book had an enormous impact on readers around the world\n",
    "The wind blew gently, rustling the leaves of the tall trees\n",
    "She painted a beautiful, intricate design on the small canvas\n",
    "The concert hall was filled with thousands of excited fans\n",
    "The garden was adorned with colorful flowers of all sizes\n",
    "I hope to achieve great success in my chosen career path\n",
    "The skyscraper towered above the city, casting a long shadow\n",
    "He gazed in awe at the breathtaking view from the mountaintop\n",
    "The artist created a stunning masterpiece with bold brushstrokes\n",
    "The baby took her first steps, a small milestone that brought joy to her parents\n",
    "The team put in a tremendous amount of effort to win the championship\n",
    "The sun set behind the horizon, painting the sky in vibrant colors\n",
    "The professor gave a fascinating lecture on the history of ancient civilizations\n",
    "The house was filled with laughter and the sound of children playing\n",
    "She received a warm, enthusiastic welcome from the audience\n",
    "The marathon runner had incredible endurance and determination\n",
    "The child's eyes sparkled with excitement upon opening the gift\n",
    "The ship sailed across the vast ocean, guided by the stars\n",
    "The company achieved remarkable growth in a short period of time\n",
    "The team worked together harmoniously to complete the project\n",
    "The puppy wagged its tail, expressing its happiness and affection\n",
    "She wore a stunning gown that made her feel like a princess\n",
    "The building had a grand entrance with towering columns\n",
    "The concert was a roaring success, with the crowd cheering and clapping\n",
    "The baby took a tiny bite of the sweet, juicy fruit\n",
    "The athlete broke a new record, achieving a significant milestone in her career\n",
    "The sculpture was a masterpiece of intricate details and craftsmanship\n",
    "The forest was filled with towering trees, creating a sense of serenity\n",
    "The children built a small sandcastle on the beach, their imaginations running wild\n",
    "The mountain range stretched as far as the eye could see, majestic and awe-inspiring\n",
    "The artist's brush glided smoothly across the canvas, creating a beautiful painting\n",
    "She received a small token of appreciation for her hard work and dedication\n",
    "The orchestra played a magnificent symphony that moved the audience to tears\n",
    "The flower bloomed in vibrant colors, attracting butterflies and bees\n",
    "The team celebrated their victory with a big, extravagant party\n",
    "The child's laughter echoed through the small room, filling it with joy\n",
    "The sunflower stood tall, reaching for the sky with its bright yellow petals\n",
    "The city skyline was dominated by tall buildings and skyscrapers\n",
    "The cake was adorned with a beautiful, elaborate design for the special occasion\n",
    "The storm brought heavy rain and strong winds, causing widespread damage\n",
    "The small boat sailed peacefully on the calm, glassy lake\n",
    "The artist used bold strokes of color to create a striking and vivid painting\n",
    "The couple shared a passionate kiss under the starry night sky\n",
    "The mountain climber reached the summit after a long and arduous journey\n",
    "The child's eyes widened in amazement as the magician performed his tricks\n",
    "The garden was filled with the sweet fragrance of blooming flowers\n",
    "The basketball player made a big jump and scored a spectacular slam dunk\n",
    "The cat pounced on a small mouse, displaying its hunting instincts\n",
    "The mansion had a grand entrance with a sweeping staircase and chandeliers\n",
    "The raindrops fell gently, creating a rhythmic patter on the roof\n",
    "The baby took a big step forward, encouraged by her parents' applause\n",
    "The actor delivered a powerful and emotional performance on stage\n",
    "The butterfly fluttered its delicate wings, mesmerizing those who watched\n",
    "The company launched a small-scale advertising campaign to test the market\n",
    "The building was constructed with strong, sturdy materials to withstand earthquakes\n",
    "The singer's voice was powerful and resonated throughout the concert hall\n",
    "The child built a massive sandcastle with towers, moats, and bridges\n",
    "The garden was teeming with a variety of small insects and buzzing bees\n",
    "The athlete's muscles were well-developed and strong from years of training\n",
    "The sun cast long shadows as it set behind the mountains\n",
    "The couple exchanged heartfelt vows in a beautiful, intimate ceremony\n",
    "The dog wagged its tail vigorously, a sign of excitement and happiness\n",
    "The baby let out a tiny giggle, bringing joy to everyone around\"\"\""
   ]
  },
  {
   "cell_type": "code",
   "execution_count": 22,
   "id": "9bfaf848",
   "metadata": {},
   "outputs": [],
   "source": [
    "tokenizer = get_tokenizer(\"basic_english\")\n",
    "tokens = tokenizer(toy_data)\n",
    "# use yields_token to create a vocabulary, stronger choice wrt to map(tokenizer,song). Modified the function because we do not have a label in the song\n",
    "def yield_tokens(data_iter):\n",
    "    for text in data_iter:\n",
    "        yield tokenizer(text)\n",
    "\n",
    "vocab = build_vocab_from_iterator(yield_tokens([toy_data]), specials=[\"<unk>\"])\n",
    "vocab.set_default_index(vocab[\"<unk>\"])\n",
    "\n",
    "def text_pipeline(text):\n",
    "    return vocab(tokenizer(text))"
   ]
  },
  {
   "cell_type": "markdown",
   "id": "897464c0",
   "metadata": {},
   "source": [
    "Training functions, used both in CBOW and skip-gram: "
   ]
  },
  {
   "cell_type": "code",
   "execution_count": 23,
   "id": "d672fa89",
   "metadata": {},
   "outputs": [],
   "source": [
    "def train(dataloader, model, optimizer, criterion, number_of_epochs = 1):\n",
    "    LOSS = [] \n",
    "    for epoch in tqdm(range(number_of_epochs)):\n",
    "        total_loss = 0.0\n",
    "        for idx, samples in enumerate(dataloader):\n",
    "\n",
    "            model.zero_grad()         \n",
    "            # Check for EmbeddingBag layer in the model, used in the CBOW model\n",
    "            if any(isinstance(module, nn.EmbeddingBag) for _, module in model.named_modules()):\n",
    "                target, context, offsets = samples\n",
    "                predicted = model(context, offsets)\n",
    "            \n",
    "            # Check for Embedding layer in the model\n",
    "            elif any(isinstance(module, nn.Embedding) for _, module in model.named_modules()):\n",
    "                target, context = samples\n",
    "                predicted = model(context)\n",
    "\n",
    "            loss = criterion(predicted, target)  \n",
    "            total_loss += loss.item() \n",
    "\n",
    "            loss.backward() \n",
    "            torch.nn.utils.clip_grad_norm_(model.parameters(), 0.1)\n",
    "            optimizer.step()   \n",
    "\n",
    "        LOSS.append(total_loss/len(dataloader))  \n",
    "\n",
    "    return LOSS "
   ]
  },
  {
   "cell_type": "markdown",
   "id": "e67f4561",
   "metadata": {},
   "source": [
    "## CBOW"
   ]
  },
  {
   "cell_type": "code",
   "execution_count": 24,
   "id": "dee24d33",
   "metadata": {},
   "outputs": [
    {
     "data": {
      "text/plain": [
       "['i', 'wish', 'i', 'was', 'little', 'bit', 'taller', 'i', 'wish', 'i']"
      ]
     },
     "execution_count": 24,
     "metadata": {},
     "output_type": "execute_result"
    }
   ],
   "source": [
    "tokens[0:10]"
   ]
  },
  {
   "cell_type": "markdown",
   "id": "08bf31eb",
   "metadata": {},
   "source": [
    "The following is similar to the N-gram, again for educational purposes:"
   ]
  },
  {
   "cell_type": "code",
   "execution_count": 25,
   "id": "e1a633a9",
   "metadata": {},
   "outputs": [
    {
     "data": {
      "text/plain": [
       "[(['i', 'wish', 'was', 'little'], 'i'),\n",
       " (['wish', 'i', 'little', 'bit'], 'was')]"
      ]
     },
     "execution_count": 25,
     "metadata": {},
     "output_type": "execute_result"
    }
   ],
   "source": [
    "CONTEXT_SIZE = 2 #we look to CONTEXT_SIZE words before and CONTEXT_SIZE words after the target word\n",
    "cbow_data = []\n",
    "\n",
    "for i in range(CONTEXT_SIZE, len(tokens) - CONTEXT_SIZE):\n",
    "\n",
    "    context = (\n",
    "        [tokens [i - CONTEXT_SIZE + j] for j in range(CONTEXT_SIZE)]\n",
    "        + [tokens [i + j + 1] for j in range(CONTEXT_SIZE)]\n",
    "    )\n",
    "\n",
    "    target = tokens [i]\n",
    "\n",
    "    cbow_data.append((context, target))\n",
    "\n",
    "cbow_data[0:2]"
   ]
  },
  {
   "cell_type": "markdown",
   "id": "ae172785",
   "metadata": {},
   "source": [
    "Now we build the collate function, which does the same but return target, context and offsets separately:"
   ]
  },
  {
   "cell_type": "code",
   "execution_count": 26,
   "id": "7baefc8d",
   "metadata": {},
   "outputs": [],
   "source": [
    "def collate_batch(batch):\n",
    "    target_list, context_list, offsets = [], [], [0]\n",
    "    for _context, _target in batch:\n",
    "        \n",
    "        target_list.append(vocab[_target])  \n",
    "        processed_context = torch.tensor(text_pipeline(' '.join(_context)), dtype=torch.int64)\n",
    "        context_list.append(processed_context)\n",
    "        offsets.append(processed_context.size(0))\n",
    "    target_list = torch.tensor(target_list, dtype=torch.int64)\n",
    "    offsets = torch.tensor(offsets[:-1]).cumsum(dim=0)\n",
    "    context_list = torch.cat(context_list)\n",
    "    return target_list.to(device), context_list.to(device), offsets.to(device)"
   ]
  },
  {
   "cell_type": "code",
   "execution_count": 27,
   "id": "dc0daf4d",
   "metadata": {},
   "outputs": [],
   "source": [
    "BATCH_SIZE = 64  # batch size for training\n",
    "\n",
    "dataloader_cbow = DataLoader(\n",
    "    cbow_data, batch_size=BATCH_SIZE, shuffle = True, collate_fn = collate_batch)"
   ]
  },
  {
   "cell_type": "code",
   "execution_count": 28,
   "id": "4ec51535",
   "metadata": {},
   "outputs": [],
   "source": [
    "class CBOW(nn.Module):\n",
    "    def __init__(self, vocab_size, embed_dim, num_class):\n",
    "        \n",
    "        super(CBOW, self).__init__()\n",
    "        self.embedding = nn.EmbeddingBag(vocab_size, embed_dim, sparse=False)\n",
    "        self.linear1 = nn.Linear(embed_dim, embed_dim//2)\n",
    "        self.fc = nn.Linear(embed_dim//2, vocab_size)\n",
    "        self.init_weights()\n",
    "\n",
    "    def init_weights(self):\n",
    "        initrange = 0.5\n",
    "        self.embedding.weight.data.uniform_(-initrange, initrange)\n",
    "        self.fc.weight.data.uniform_(-initrange, initrange)\n",
    "        self.fc.bias.data.zero_()\n",
    "        \n",
    "    def forward(self, text, offsets):\n",
    "        out = self.embedding(text, offsets)\n",
    "        out = torch.relu(self.linear1(out))\n",
    "        return self.fc(out)\n",
    "\n",
    "vocab_size = len(vocab)\n",
    "emsize = 24\n",
    "model_cbow = CBOW(vocab_size, emsize, vocab_size).to(device)"
   ]
  },
  {
   "cell_type": "code",
   "execution_count": 29,
   "id": "033b6cd8",
   "metadata": {},
   "outputs": [
    {
     "data": {
      "application/vnd.jupyter.widget-view+json": {
       "model_id": "edfef7c67727474792e0a4ee4f3c93a5",
       "version_major": 2,
       "version_minor": 0
      },
      "text/plain": [
       "  0%|          | 0/400 [00:00<?, ?it/s]"
      ]
     },
     "metadata": {},
     "output_type": "display_data"
    }
   ],
   "source": [
    "LR = 5 \n",
    "criterion = torch.nn.CrossEntropyLoss() \n",
    "optimizer = torch.optim.SGD(model_cbow.parameters(), lr = LR)\n",
    "\n",
    "loss = train(dataloader = dataloader_cbow, model = model_cbow, optimizer = optimizer, criterion = criterion, number_of_epochs = 400)"
   ]
  },
  {
   "cell_type": "code",
   "execution_count": 30,
   "id": "d5056ebd",
   "metadata": {},
   "outputs": [
    {
     "data": {
      "text/plain": [
       "[<matplotlib.lines.Line2D at 0x3280e65c0>]"
      ]
     },
     "execution_count": 30,
     "metadata": {},
     "output_type": "execute_result"
    },
    {
     "data": {
      "image/png": "[encoded data removed]",
      "text/plain": [
       "<Figure size 640x480 with 1 Axes>"
      ]
     },
     "metadata": {},
     "output_type": "display_data"
    }
   ],
   "source": [
    "plt.plot(loss)"
   ]
  },
  {
   "cell_type": "markdown",
   "id": "f2ac9984",
   "metadata": {},
   "source": [
    "## Skip-gram"
   ]
  },
  {
   "cell_type": "code",
   "execution_count": 31,
   "id": "1eb87bf3",
   "metadata": {},
   "outputs": [
    {
     "name": "stdout",
     "output_type": "stream",
     "text": [
      "Tokens: ['i', 'wish', 'i', 'was', 'little', 'bit', 'taller', 'i', 'wish', 'i']\n",
      "CBOW: [(['i', 'wish', 'was', 'little'], 'i'), (['wish', 'i', 'little', 'bit'], 'was')]\n",
      "Skip: [('i', ['wish', 'i', 'was', 'little']), ('was', ['i', 'wish', 'little', 'bit'])]\n",
      "[('i', 'wish'), ('i', 'i'), ('i', 'was'), ('i', 'little')]\n"
     ]
    }
   ],
   "source": [
    "CONTEXT_SIZE = 2\n",
    "skip_data = []\n",
    "\n",
    "for i in range(CONTEXT_SIZE, len(tokens) - CONTEXT_SIZE):\n",
    "\n",
    "    context = (\n",
    "        [tokens[i - j - 1] for j in range(CONTEXT_SIZE)]  # Preceding words\n",
    "        + [tokens[i + j + 1] for j in range(CONTEXT_SIZE)]  # Succeeding words\n",
    "    )\n",
    "    target = tokens[i]\n",
    "    skip_data.append((target, context))\n",
    "\n",
    "print('Tokens:',tokens[0:10])\n",
    "print('CBOW:',cbow_data[0:2])\n",
    "print('Skip:',skip_data[0:2]) # opposite of CBOW\n",
    "\n",
    "\n",
    "skip_data_flat = [(target, context_word) for target, context in skip_data for context_word in context] # flatten the list of tuples into a single list, for the nn.EmbeddingBag\n",
    "      \n",
    "print(skip_data_flat[0:4])"
   ]
  },
  {
   "cell_type": "code",
   "execution_count": 32,
   "id": "b3d000b5",
   "metadata": {},
   "outputs": [],
   "source": [
    "def collate_fn(batch):\n",
    "    target_list, context_list = [], []\n",
    "    for _context, _target in batch:\n",
    "        \n",
    "        target_list.append(vocab[_target]) \n",
    "        context_list.append(vocab[_context])\n",
    "        \n",
    "    target_list = torch.tensor(target_list, dtype=torch.int64)\n",
    "    context_list = torch.tensor(context_list, dtype=torch.int64)\n",
    "    return target_list.to(device), context_list.to(device)\n",
    "\n",
    "dataloader = DataLoader(skip_data_flat, batch_size = BATCH_SIZE, collate_fn = collate_fn)\n"
   ]
  },
  {
   "cell_type": "code",
   "execution_count": 33,
   "id": "319c2f06",
   "metadata": {},
   "outputs": [],
   "source": [
    "class SkipGram_Model(nn.Module):\n",
    "\n",
    "    def __init__(self, vocab_size, embed_dim):\n",
    "        super(SkipGram_Model, self).__init__()\n",
    "        self.embeddings = nn.Embedding(\n",
    "            num_embeddings=vocab_size,\n",
    "            embedding_dim=embed_dim\n",
    "        )\n",
    "        self.fc = nn.Linear(in_features=embed_dim, out_features=vocab_size)\n",
    "\n",
    "    def forward(self, text):\n",
    "        out = self.embeddings(text)\n",
    "        out = torch.relu(out)\n",
    "        out = self.fc(out)\n",
    "\n",
    "        return out\n",
    "\n",
    "emsize = 24\n",
    "model_sg = SkipGram_Model(vocab_size, emsize).to(device)"
   ]
  },
  {
   "cell_type": "code",
   "execution_count": 34,
   "id": "7dd4bf63",
   "metadata": {},
   "outputs": [
    {
     "data": {
      "application/vnd.jupyter.widget-view+json": {
       "model_id": "c93ae07640bf4064bae49b836064b864",
       "version_major": 2,
       "version_minor": 0
      },
      "text/plain": [
       "  0%|          | 0/400 [00:00<?, ?it/s]"
      ]
     },
     "metadata": {},
     "output_type": "display_data"
    }
   ],
   "source": [
    "LR = 5  \n",
    "\n",
    "criterion = torch.nn.CrossEntropyLoss()\n",
    "optimizer = torch.optim.SGD(model_sg.parameters(), lr = LR)\n",
    "\n",
    "loss = train(dataloader, model_sg, optimizer, criterion, number_of_epochs = 400)"
   ]
  },
  {
   "cell_type": "code",
   "execution_count": 35,
   "id": "06a9c9c1",
   "metadata": {},
   "outputs": [
    {
     "data": {
      "image/png": "[encoded data removed]",
      "text/plain": [
       "<Figure size 640x480 with 1 Axes>"
      ]
     },
     "metadata": {},
     "output_type": "display_data"
    }
   ],
   "source": [
    "plt.plot(loss)\n",
    "plt.show()"
   ]
  },
  {
   "cell_type": "markdown",
   "id": "54f48d46",
   "metadata": {},
   "source": [
    "# 3) Word2vec Using Gensim\n",
    "\n",
    "Automatic way to implement 2)"
   ]
  },
  {
   "cell_type": "markdown",
   "id": "02152ef4",
   "metadata": {},
   "source": [
    "`vector_size` = hidden_dimension, `window` = size_of_context_window, `min_count` parameter sets the minimum frequency of a word to be included in the training process. Finally, the `workers` parameter controls the number of threads used for training."
   ]
  },
  {
   "cell_type": "code",
   "execution_count": 36,
   "id": "0d4a6007",
   "metadata": {},
   "outputs": [],
   "source": [
    "# from gensim.models import Word2Vec\n",
    "\n",
    "# sentences = [[\"I\", \"like\", \"to\", \"eat\", \"pizza\"],\n",
    "#              [\"Pizza\", \"is\", \"my\", \"favorite\", \"food\"],\n",
    "#              [\"I\", \"enjoy\", \"eating\", \"pasta\"]]\n",
    "# sentences = [[word.lower() for word in sentence] for sentence in sentences]\n",
    "\n",
    "# w2v_model = Word2Vec(sentences, vector_size = 100, window = 3, min_count = 1, workers = 4)\n",
    "\n",
    "# w2v_model.build_vocab(sentences, progress_per = 10000)\n",
    "\n",
    "# w2v_model.train(sentences, total_examples = w2v_model.corpus_count, epochs = 30, report_delay = 1)"
   ]
  },
  {
   "cell_type": "code",
   "execution_count": 37,
   "id": "a6e632d2",
   "metadata": {},
   "outputs": [],
   "source": [
    "# similar_words = w2v_model.wv.most_similar(\"pizza\")\n",
    "# print(\"Similar words to 'pizza':\", similar_words)\n",
    "\n",
    "# # Calculating word similarity\n",
    "# similarity = w2v_model.wv.similarity(\"pizza\", \"pasta\")\n",
    "# print(\"Similarity between 'pizza' and 'pasta':\", similarity)"
   ]
  },
  {
   "cell_type": "code",
   "execution_count": 38,
   "id": "790c9b4b",
   "metadata": {},
   "outputs": [],
   "source": [
    "# # Extract word vectors and create word-to-index mapping\n",
    "# word_vectors = w2v_model.wv\n",
    "# # a dictionary to map words to their index in vocab\n",
    "# word_to_index = {word: index for index, word in enumerate(word_vectors.index_to_key)}\n",
    "\n",
    "# # Create an instance of nn.Embedding and load it with the trained vectors\n",
    "# embedding_dim = w2v_model.vector_size\n",
    "# embedding = torch.nn.Embedding(len(word_vectors.index_to_key), embedding_dim)\n",
    "# embedding.weight.data.copy_(torch.from_numpy(word_vectors.vectors))\n",
    "\n",
    "# # Example usage: get the embedding for a word\n",
    "# word = \"pizza\"\n",
    "# word_index = word_to_index[word]\n",
    "# word_embedding = embedding(torch.LongTensor([word_index]))\n",
    "# print(f\"Word: {word}, Embedding: {word_embedding.detach().numpy()}\")"
   ]
  },
  {
   "cell_type": "markdown",
   "id": "760b9ce7",
   "metadata": {},
   "source": []
  }
 ],
 "metadata": {
  "kernelspec": {
   "display_name": "Trans_env",
   "language": "python",
   "name": "python3"
  },
  "language_info": {
   "codemirror_mode": {
    "name": "ipython",
    "version": 3
   },
   "file_extension": ".py",
   "mimetype": "text/x-python",
   "name": "python",
   "nbconvert_exporter": "python",
   "pygments_lexer": "ipython3",
   "version": "3.10.18"
  }
 },
 "nbformat": 4,
 "nbformat_minor": 5
}
