{
 "cells": [
  {
   "cell_type": "markdown",
   "id": "4b17c0cb",
   "metadata": {},
   "source": [
    "##### Libraries"
   ]
  },
  {
   "cell_type": "code",
   "execution_count": 1,
   "id": "54199f64",
   "metadata": {},
   "outputs": [
    {
     "name": "stderr",
     "output_type": "stream",
     "text": [
      "/var/folders/35/gw8dmgsd6m11bg8nhrgpd3vr0000gn/T/ipykernel_71660/1292714131.py:15: DeprecationWarning: pkg_resources is deprecated as an API. See https://setuptools.pypa.io/en/latest/pkg_resources.html\n",
      "  import pkg_resources            # package and dependency management\n"
     ]
    }
   ],
   "source": [
    "########################## UTILITY AND SYSTEM ##########################\n",
    "\n",
    "import os                       # filesystem operations\n",
    "import csv                      # reading/writing CSV files\n",
    "import json                     # JSON parsing and serialization\n",
    "import math                     # basic math functions\n",
    "import random                   # random number generation\n",
    "import time                     # time-related functions\n",
    "import tempfile                 # temporary file management\n",
    "import tarfile                  # tar archive handling\n",
    "import io                       # input/output streams\n",
    "import pickle                   # object serialization\n",
    "import importlib                # dynamic import of modules\n",
    "import multiprocessing          # parallel process management\n",
    "import pkg_resources            # package and dependency management\n",
    "from copy import deepcopy       # deep copy of objects\n",
    "from pathlib import Path        # filesystem paths handling (cross-platform)\n",
    "\n",
    "########################## DOWNLOAD ##########################\n",
    "\n",
    "import requests                 # HTTP requests library\n",
    "import wget                     # file downloads from URLs\n",
    "from urllib.request import urlopen  # open URLs (alternative to requests)\n",
    "\n",
    "########################## VISUALIZATION ##########################\n",
    "\n",
    "import matplotlib.pyplot as plt # basic plotting library\n",
    "import plotly.graph_objs as go  # interactive plotting\n",
    "from tqdm.notebook import tqdm  # progress bars for loops in notebooks\n",
    "from pprint import pprint       # formatted pretty-printing of objects\n",
    "\n",
    "########################## DATAFRAME ##########################\n",
    "\n",
    "import numpy as np              # numerical arrays and operations\n",
    "import pandas as pd             # dataframes and data manipulation\n",
    "from sklearn.manifold import TSNE\n",
    "\n",
    "########################## TEXT PROCESSING ##########################\n",
    "\n",
    "import re                      # regular expressions\n",
    "import string                  # string constants and operations\n",
    "from itertools import chain, islice  # advanced iteration and chaining\n",
    "\n",
    "########################## TOKENIZATION ##########################\n",
    "\n",
    "from collections import Counter, OrderedDict  # frequency counts and ordered dictionaries\n",
    "import nltk                                   # natural language processing toolkit\n",
    "from nltk.tokenize import word_tokenize       # word tokenization\n",
    "import spacy                                  # advanced NLP (tokenization, parsing)\n",
    "from torchtext.data.utils import get_tokenizer       # torchtext tokenizers\n",
    "from torchtext.data.functional import to_map_style_dataset\n",
    "\n",
    "from torchtext.vocab import build_vocab_from_iterator # build vocabulary from iterator\n",
    "\n",
    "########################## DATASET AND DATALOADER ##########################\n",
    "\n",
    "from torch.utils.data import Dataset, DataLoader, random_split   # datasets and data loading utilities\n",
    "from torch.nn.utils.rnn import pad_sequence                      # padding variable-length sequences\n",
    "from datasets import load_dataset, DatasetDict                   # HuggingFace datasets loading\n",
    "from torchtext.datasets import AG_NEWS                           # torchtext built-in datasets\n",
    "\n",
    "########################## PYTORCH AND DEEP LEARNING ##########################\n",
    "\n",
    "import torch                             # PyTorch main library\n",
    "from torch import nn, Tensor             # neural network modules and tensors\n",
    "from torch.nn import CrossEntropyLoss    # common loss function for classification\n",
    "\n",
    "########################## WORD EMBEDDING ##########################\n",
    "\n",
    "from torchtext.vocab import GloVe        # pretrained GloVe embeddings\n",
    "# from gensim.models import Word2Vec     # word2vec embeddings from corpus (commented out)\n",
    "\n",
    "########################## HUGGING FACE ##########################\n",
    "\n",
    "import transformers                      # transformers library core\n",
    "from transformers import (\n",
    "    GPT2Tokenizer, GPT2LMHeadModel,     # GPT-2 tokenizer and model\n",
    "    BertTokenizer, BertTokenizerFast, BertConfig, BertForMaskedLM,  # BERT components\n",
    "    XLNetTokenizer,                     # XLNet tokenizer\n",
    "    DistilBertForSequenceClassification, DistilBertTokenizer, AutoModelForSequenceClassification,\n",
    "    pipeline,                          # easy pipelines for inference\n",
    "    AutoTokenizer,                    # auto tokenizer loader\n",
    "    AutoModelForCausalLM, GPT2ForSequenceClassification,\n",
    "    DataCollatorForLanguageModeling, TrainingArguments, Trainer,  # training utilities\n",
    "    set_seed, GenerationConfig,\n",
    "    BertModel                        # BERT base model\n",
    ")\n",
    "from datasets import DatasetDict         # HuggingFace dataset dictionaries\n",
    "\n",
    "######################### TRL & PEFT (TRAINING & PARAMETER EFFICIENT FINE-TUNING) ##########################\n",
    "\n",
    "from trl import (\n",
    "    SFTConfig, SFTTrainer, DataCollatorForCompletionOnlyLM,\n",
    "    DPOConfig, DPOTrainer,\n",
    "    RewardTrainer, RewardConfig\n",
    ")\n",
    "from peft import get_peft_model, LoraConfig, TaskType\n",
    "from torchmetrics import Accuracy        # metrics for evaluation\n",
    "\n",
    "########################## RAG ##########################\n",
    "\n",
    "from transformers import (\n",
    "    DPRQuestionEncoder, DPRQuestionEncoderTokenizer,\n",
    "    DPRContextEncoder, DPRContextEncoderTokenizer\n",
    ")\n",
    "import faiss                              # similarity search library\n",
    "\n",
    "########################## EVALUATION ##########################\n",
    "\n",
    "import evaluate\n",
    "\n"
   ]
  },
  {
   "cell_type": "code",
   "execution_count": 2,
   "id": "33f3c57f",
   "metadata": {},
   "outputs": [
    {
     "name": "stdout",
     "output_type": "stream",
     "text": [
      "Which device we are on: cpu\n"
     ]
    }
   ],
   "source": [
    "def accelerator(where = \"mps\"):\n",
    "    if where == \"mps\":\n",
    "        device = torch.device(\"mps\" if torch.backends.mps.is_available() else \"cpu\")\n",
    "        print(\"Which device we are on: {}\".format(device))\n",
    "        return device\n",
    "    if where == \"cuda\":\n",
    "        device = torch.device(\"cuda\" if torch.cuda.is_available() else \"cpu\")\n",
    "        print(\"Which device we are on: {}\".format(device))\n",
    "        return device\n",
    "    if where == \"cpu\":\n",
    "        device = torch.device(\"cpu\")\n",
    "        print(\"Which device we are on: {}\".format(device))\n",
    "        return device\n",
    "\n",
    "device = accelerator(\"cpu\")"
   ]
  },
  {
   "cell_type": "markdown",
   "id": "4339997d",
   "metadata": {},
   "source": [
    "# 1) Words to features: general"
   ]
  },
  {
   "cell_type": "markdown",
   "id": "39c12825",
   "metadata": {},
   "source": [
    "Given a $\\text{token}_i$, we have:\n",
    "- $\\text{OHE}_i=\\text{One-hot-encoding(token}_i)$ es. 'cat' = (0,0,1,0,0), 'I' = (1,0,0,0,0) and 'like' = (0,0,0,0,1). The vectors have lenght $D$ = number of words in the vocabulary;\n",
    "- $\\text{Bag-of-Words} = \\sum_{i} \\text{OHE}_i$ es 'I like cat' = (1,0,1,0,1). Always dimension $D$;\n",
    "- $\\text{Embedding}_i = W_{d\\times D} \\cdot \\text{OHE}_i$ . Vectors are in a new representation of lenght $d$, using an embedding matrix $W_{d\\times D}$.\n",
    "- $\\text{EmbeddingBag} = \\sum_{i} \\text{Embedding}_i = W_{d\\times D} \\cdot \\sum_{i} \\text{OHE}_i = W_{d\\times D} \\cdot \\text{Bag-of-Words}$. We can use the module **nn.Linear**.\n",
    "\n",
    "For practical purposes, it is easier to do:\n",
    "- construct vocab(tokenizer(text)) --> vector = [4, 6, 10, 45];\n",
    "- give it to the **nn.EmbeddingBag** module, which selects the rows (4,6,10,45) of $W_{d\\times D}$ (so the input to nn.EmbeddingBag will be the dimension of the vocabulary, even if the input vector has dimension $<D$!). Thus we do $\\text{EmbeddingBag} = \" W_{d\\times D}^{(4,6,10,45)} \\cdot [4, 6, 10, 45]\" \\equiv W_{d\\times D}^{\\text{column=4}}[4] + W_{d\\times D}^{\\text{column=6}}[6] + W_{d\\times D}^{\\text{column=10}}[10]+ W_{d\\times D}^{\\text{column=45}}[45]$\n",
    "\n",
    "This is easier because the inout vectors have smaller dimension than $D$ (4 in the example), and the bag-of-words is done implicitly by the module."
   ]
  },
  {
   "cell_type": "markdown",
   "id": "20e5f175",
   "metadata": {},
   "source": [
    "Difference between **nn.Embedding** and **nn.EmbeddingBag**:\n",
    "- **nn.Embedding**: maps each index into an embedding vector, keeping the sequential structure, useful for N-gramns or fixed context. It is then important that all the bathces have the same lenght (to be checked in the collate_fn by adding padding).\n",
    "- **nn.EmbeddingBag**: it does the sum (or mean) of a 'bag' of indices, useful for input with variable lenght, as in the case of classification of sentences."
   ]
  },
  {
   "cell_type": "markdown",
   "id": "5b68d8f8",
   "metadata": {},
   "source": [
    "# 2) Text Classification on AG dataset"
   ]
  },
  {
   "cell_type": "markdown",
   "id": "1b360e1f",
   "metadata": {},
   "source": [
    "AG is a text classifiation dataset with four labels: {1: \"World\", 2: \"Sports\", 3: \"Business\", 4: \"Sci/Tec\"}:"
   ]
  },
  {
   "cell_type": "code",
   "execution_count": 3,
   "id": "fd99a35e",
   "metadata": {},
   "outputs": [],
   "source": [
    "from torchtext.datasets import AG_NEWS"
   ]
  },
  {
   "cell_type": "markdown",
   "id": "e993e8f6",
   "metadata": {},
   "source": [
    "## From scratch:"
   ]
  },
  {
   "cell_type": "markdown",
   "id": "b4504038",
   "metadata": {},
   "source": [
    "### Dataset and DataLoader"
   ]
  },
  {
   "cell_type": "code",
   "execution_count": 4,
   "id": "14310767",
   "metadata": {},
   "outputs": [
    {
     "data": {
      "text/plain": [
       "('Business',\n",
       " \"Wall St. Bears Claw Back Into the Black (Reuters) Reuters - Short-sellers, Wall Street's dwindling\\\\band of ultra-cynics, are seeing green again.\")"
      ]
     },
     "execution_count": 4,
     "metadata": {},
     "output_type": "execute_result"
    }
   ],
   "source": [
    "ag_news_label = {1: \"World\", 2: \"Sports\", 3: \"Business\", 4: \"Sci/Tec\"}\n",
    "\n",
    "train_iter = iter(AG_NEWS(split=\"train\")) #load the train dataset\n",
    "test_iter = iter(AG_NEWS(split=\"test\")) #load test datasets\n",
    "\n",
    "\n",
    "train_labels = [label for (label, text) in train_iter]\n",
    "num_of_classes = pd.Series(train_labels).nunique() #4\n",
    "train_dataset_dimension = len(train_labels) #120000\n",
    "\n",
    "test_labels = [label for (label, text) in test_iter]\n",
    "num_of_classes = pd.Series(test_labels).nunique() #4\n",
    "test_dataset_dimension = len(test_labels) #7600\n",
    "\n",
    "train_iter = iter(AG_NEWS(split=\"train\"))  #load the dataset again to reset the iterator\n",
    "example_label, example_text = next(train_iter)\n",
    "\n",
    "ag_news_label[example_label],example_text"
   ]
  },
  {
   "cell_type": "markdown",
   "id": "6d0ab62d",
   "metadata": {},
   "source": [
    "Next we build the tokenizer, yield_tokens and the vocabulary in the standard way:"
   ]
  },
  {
   "cell_type": "code",
   "execution_count": 5,
   "id": "34849da5",
   "metadata": {},
   "outputs": [
    {
     "data": {
      "text/plain": [
       "95811"
      ]
     },
     "execution_count": 5,
     "metadata": {},
     "output_type": "execute_result"
    }
   ],
   "source": [
    "train_iter = AG_NEWS(split=\"train\")\n",
    "tokenizer = get_tokenizer(\"basic_english\")\n",
    "\n",
    "def yield_tokens(data_iter):\n",
    "    for label, text in data_iter:\n",
    "        yield tokenizer(text.lower())  # Lowercase conversion for consistency\n",
    "\n",
    "vocab = build_vocab_from_iterator(yield_tokens(train_iter), specials=[\"<unk>\"])\n",
    "vocab.set_default_index(vocab[\"<unk>\"])\n",
    "\n",
    "vocab.get_stoi() #this is a dictionary {'word in vocabulary': integer ID}\n",
    "len(vocab) #dimension of the vocabulary, which will be the dimension of the input layer of the model!"
   ]
  },
  {
   "cell_type": "markdown",
   "id": "8fa7b33a",
   "metadata": {},
   "source": [
    "The datasets are in iterable format, which is not compatible with indicization, len() and DataLoader. To solve this issue, we convert them to a map style dataset, and now we can do train_dataset[i] to get the i-th sentence. Moreover it is easier to get the lenght!"
   ]
  },
  {
   "cell_type": "code",
   "execution_count": 6,
   "id": "f345323b",
   "metadata": {},
   "outputs": [
    {
     "name": "stdout",
     "output_type": "stream",
     "text": [
      "120000 7600\n"
     ]
    }
   ],
   "source": [
    "train_iter, test_iter = iter(AG_NEWS(split=\"train\")), iter(AG_NEWS(split=\"test\")) \n",
    "\n",
    "train_dataset = to_map_style_dataset(train_iter)\n",
    "test_dataset = to_map_style_dataset(test_iter)\n",
    "\n",
    "train_dataset[0]\n",
    "\n",
    "print(len(train_dataset),len(test_dataset))"
   ]
  },
  {
   "cell_type": "markdown",
   "id": "019dcddc",
   "metadata": {},
   "source": [
    "Next we divide in train-valid-test, bu dividing the train in train and validation:"
   ]
  },
  {
   "cell_type": "code",
   "execution_count": 7,
   "id": "d1502d34",
   "metadata": {},
   "outputs": [
    {
     "data": {
      "text/plain": [
       "True"
      ]
     },
     "execution_count": 7,
     "metadata": {},
     "output_type": "execute_result"
    }
   ],
   "source": [
    "num_train = int(len(train_dataset) * 0.95)\n",
    "split_train, split_valid = random_split(train_dataset, [num_train, len(train_dataset) - num_train])\n",
    "len(split_train)+len(split_valid)==len(train_dataset)"
   ]
  },
  {
   "cell_type": "code",
   "execution_count": 8,
   "id": "b8c822bf",
   "metadata": {},
   "outputs": [
    {
     "data": {
      "text/plain": [
       "29"
      ]
     },
     "execution_count": 8,
     "metadata": {},
     "output_type": "execute_result"
    }
   ],
   "source": [
    "y,t = train_dataset[0]\n",
    "len(torch.tensor(vocab(tokenizer(t))))"
   ]
  },
  {
   "cell_type": "markdown",
   "id": "c0219320",
   "metadata": {},
   "source": [
    "We are ready to define the loaders, but to do it we should define the collate function before:"
   ]
  },
  {
   "cell_type": "code",
   "execution_count": 9,
   "id": "dcaa287a",
   "metadata": {},
   "outputs": [
    {
     "data": {
      "text/plain": [
       "(tensor([3, 2, 3, 1, 3, 3, 2, 2, 1, 1, 1, 0, 3, 2, 0, 0, 1, 2, 1, 2, 0, 0, 3, 0,\n",
       "         1, 3, 1, 2, 0, 0, 1, 2, 2, 2, 1, 1, 2, 0, 3, 3, 0, 2, 2, 2, 2, 2, 3, 1,\n",
       "         2, 0, 2, 1, 2, 3, 1, 2, 0, 0, 3, 3, 0, 1, 3, 3]),\n",
       " tensor([18829,   332,     4,  ...,   392,  5727,     1]),\n",
       " tensor([   0,   40,   71,   99,  153,  180,  235,  272,  318,  357,  394,  430,\n",
       "          484,  512,  560,  609,  627,  693,  737,  788,  824,  857,  925,  961,\n",
       "         1008, 1037, 1091, 1133, 1176, 1236, 1289, 1333, 1385, 1427, 1465, 1509,\n",
       "         1542, 1584, 1645, 1690, 1752, 1782, 1818, 1853, 1946, 1991, 2041, 2069,\n",
       "         2118, 2157, 2205, 2243, 2283, 2316, 2361, 2396, 2453, 2493, 2527, 2548,\n",
       "         2609, 2652, 2687, 2717]))"
      ]
     },
     "execution_count": 9,
     "metadata": {},
     "output_type": "execute_result"
    }
   ],
   "source": [
    "def collate_batch(batch):\n",
    "    label_list, text_list, offsets = [], [], [0]\n",
    "    for label, text in batch:\n",
    "\n",
    "        label_list.append(int(label)-1) # convert to zero-based index\n",
    "\n",
    "        processed_text = torch.tensor(vocab(tokenizer(text)), dtype=torch.int64) #vocab(tokenizer(text) is the list of integers corresponidng to the tokens\n",
    "        text_list.append(processed_text)\n",
    "        \n",
    "        offsets.append(len(processed_text))\n",
    "\n",
    "    label_list = torch.tensor(label_list, dtype=torch.int64)\n",
    "    offsets = torch.tensor(offsets[:-1]).cumsum(dim=0)\n",
    "    text_list = torch.cat(text_list) #concatenate all the text tensors into a single tensor\n",
    "    return label_list.to(device), text_list.to(device), offsets.to(device)\n",
    "\n",
    "BATCH_SIZE = 64\n",
    "\n",
    "train_loader = DataLoader(split_train, batch_size = BATCH_SIZE, shuffle = True, collate_fn = collate_batch)\n",
    "valid_loader = DataLoader(split_valid, batch_size = BATCH_SIZE, shuffle = True, collate_fn = collate_batch)\n",
    "test_loader = DataLoader(test_dataset, batch_size = BATCH_SIZE, shuffle = True, collate_fn = collate_batch)\n",
    "\n",
    "label, text, offsets = next(iter(valid_loader))\n",
    "label, text, offsets"
   ]
  },
  {
   "cell_type": "markdown",
   "id": "fd2ef135",
   "metadata": {},
   "source": [
    "### Model"
   ]
  },
  {
   "cell_type": "markdown",
   "id": "ba1ee6fb",
   "metadata": {},
   "source": [
    "We use the EmbeddingBag model because we started from vocab(tokenizer(text)); if we use one-hot encoding, instead, we could have used a linear layer to go to the hidden dimension."
   ]
  },
  {
   "cell_type": "code",
   "execution_count": 10,
   "id": "4caceeee",
   "metadata": {},
   "outputs": [
    {
     "name": "stdout",
     "output_type": "stream",
     "text": [
      "tensor([1, 2, 1, 1, 2, 1, 1, 1, 1, 1, 2, 2, 1, 0, 2, 0, 2, 3, 1, 2, 3, 2, 2, 1,\n",
      "        2, 1, 2, 1, 1, 2, 0, 1, 3, 2, 1, 1, 0, 2, 1, 1, 1, 2, 1, 1, 0, 1, 1, 1,\n",
      "        1, 2, 3, 1, 0, 1, 1, 3, 1, 1, 1, 1, 1, 1, 3, 1])\n",
      "tensor([3, 1, 3, 2, 2, 1, 0, 1, 2, 0, 1, 1, 3, 2, 0, 1, 0, 0, 3, 3, 2, 2, 0, 1,\n",
      "        0, 3, 3, 1, 1, 3, 0, 1, 3, 1, 0, 2, 2, 1, 1, 3, 1, 3, 3, 2, 3, 0, 0, 1,\n",
      "        2, 1, 0, 0, 3, 1, 3, 0, 3, 3, 1, 3, 2, 2, 2, 2])\n"
     ]
    }
   ],
   "source": [
    "class TextClassificationModel(nn.Module):\n",
    "    def __init__(self, input_dim, hidden_dim, output_dim):\n",
    "        super(TextClassificationModel, self).__init__()\n",
    "\n",
    "        self.embedding = nn.EmbeddingBag(input_dim, hidden_dim, sparse=False)\n",
    "        self.fc = nn.Linear(hidden_dim, output_dim)\n",
    "        self.init_weights()\n",
    "\n",
    "    def init_weights(self):\n",
    "        initrange = 0.5\n",
    "        self.embedding.weight.data.uniform_(-initrange, initrange)\n",
    "        self.fc.weight.data.uniform_(-initrange, initrange)\n",
    "        self.fc.bias.data.zero_()\n",
    "\n",
    "    def forward(self, text, offsets):\n",
    "        embedded = self.embedding(text, offsets)\n",
    "        output = self.fc(embedded)\n",
    "        return output\n",
    "    \n",
    "vocab_size = len(vocab)\n",
    "embed_dim = 64 \n",
    "num_of_classes = num_of_classes = len(ag_news_label)\n",
    "\n",
    "model = TextClassificationModel(input_dim = vocab_size, hidden_dim = embed_dim, output_dim = num_of_classes).to(device)\n",
    "\n",
    "label, text, offsets = next(iter(valid_loader))\n",
    "predicted_logits = model(text, offsets)\n",
    "predicted_logits.shape # [number_of_batches, number_of_classes]\n",
    "\n",
    "predict_classes = predicted_logits.argmax(dim = 1) # vector of dim number_of_batches containing the predicted classes\n",
    "print(predict_classes)\n",
    "print(label)\n"
   ]
  },
  {
   "cell_type": "markdown",
   "id": "9c40ab94",
   "metadata": {},
   "source": [
    "### Accuracy"
   ]
  },
  {
   "cell_type": "code",
   "execution_count": 11,
   "id": "0cde8843",
   "metadata": {},
   "outputs": [
    {
     "name": "stdout",
     "output_type": "stream",
     "text": [
      "Accuracies without training: 0.25080701754385964 0.2465 0.2521052631578947\n"
     ]
    }
   ],
   "source": [
    "def evaluate(dataloader, model ):\n",
    "    model.eval()\n",
    "    total_acc, total_count= 0, 0\n",
    "\n",
    "    with torch.no_grad():\n",
    "        for idx, (label, text, offsets) in enumerate(dataloader):\n",
    "            predicted_label = model(text, offsets)\n",
    "\n",
    "            total_acc += (predicted_label.argmax(1) == label).sum().item()\n",
    "            total_count += label.size(0)\n",
    "    return total_acc / total_count\n",
    "\n",
    "print('Accuracies without training:', evaluate(train_loader, model), evaluate(valid_loader, model), evaluate(test_loader, model))\n"
   ]
  },
  {
   "cell_type": "markdown",
   "id": "cbe27443",
   "metadata": {},
   "source": [
    "### Training the model"
   ]
  },
  {
   "cell_type": "code",
   "execution_count": 12,
   "id": "4938b0ba",
   "metadata": {},
   "outputs": [
    {
     "data": {
      "application/vnd.jupyter.widget-view+json": {
       "model_id": "cf95780df7f94564b0915bed25cd987d",
       "version_major": 2,
       "version_minor": 0
      },
      "text/plain": [
       "  0%|          | 0/1782 [00:00<?, ?it/s]"
      ]
     },
     "metadata": {},
     "output_type": "display_data"
    },
    {
     "data": {
      "application/vnd.jupyter.widget-view+json": {
       "model_id": "473793fd60b34bd6b2acc2249974262d",
       "version_major": 2,
       "version_minor": 0
      },
      "text/plain": [
       "  0%|          | 0/1782 [00:00<?, ?it/s]"
      ]
     },
     "metadata": {},
     "output_type": "display_data"
    }
   ],
   "source": [
    "lr=0.5\n",
    "epochs = 2\n",
    "cum_loss_list=[]\n",
    "acc_epoch=[]\n",
    "acc_old=0\n",
    "\n",
    "criterion = torch.nn.CrossEntropyLoss()\n",
    "optimizer = torch.optim.SGD(model.parameters(), lr = lr)\n",
    "scheduler = torch.optim.lr_scheduler.StepLR(optimizer, step_size = 1.0, gamma = 0.1) # after 1.0 epochs, the lerning rate will be multiplied by gamma\n",
    "\n",
    "for epoch in range(epochs):\n",
    "    cum_loss = 0.0\n",
    "    model.train()\n",
    "    for i, (label, text, offsets) in enumerate(tqdm(train_loader)):\n",
    "        optimizer.zero_grad()\n",
    "        predicted_label = model(text, offsets)\n",
    "        loss = criterion(predicted_label, label)\n",
    "        loss.backward()\n",
    "        torch.nn.utils.clip_grad_norm_(model.parameters(), 0.1) #gradient clipping\n",
    "        optimizer.step()\n",
    "        cum_loss += loss.item()\n",
    "    \n",
    "    cum_loss_list.append(cum_loss/len(train_loader))\n",
    "    accu_val = evaluate(valid_loader, model)\n",
    "    acc_epoch.append(accu_val)\n",
    "\n",
    "    if accu_val > acc_old:\n",
    "      acc_old= accu_val\n",
    "      torch.save(model.state_dict(), 'my_model.pth')\n",
    "\n",
    "    #scheduler.step()"
   ]
  },
  {
   "cell_type": "code",
   "execution_count": 13,
   "id": "b2cd406d",
   "metadata": {},
   "outputs": [
    {
     "data": {
      "image/png": "[encoded data removed]",
      "text/plain": [
       "<Figure size 640x480 with 2 Axes>"
      ]
     },
     "metadata": {},
     "output_type": "display_data"
    }
   ],
   "source": [
    "def plot(COST,ACC):\n",
    "    fig, ax1 = plt.subplots()\n",
    "    color = 'tab:red'\n",
    "    ax1.plot(COST, color=color)\n",
    "    ax1.set_xlabel('epoch', color=color)\n",
    "    ax1.set_ylabel('loss', color=color)\n",
    "    ax1.tick_params(axis='y', color=color)\n",
    "    \n",
    "    ax2 = ax1.twinx()  \n",
    "    color = 'tab:blue'\n",
    "    ax2.set_ylabel('accuracy', color=color)  # you already handled the x-label with ax1\n",
    "    ax2.plot(ACC, color=color)\n",
    "    ax2.tick_params(axis='y', color=color)\n",
    "    fig.tight_layout()  # otherwise the right y-label is slightly clipped\n",
    "    \n",
    "    plt.show()\n",
    "\n",
    "plot(cum_loss_list, acc_epoch)\n"
   ]
  },
  {
   "cell_type": "code",
   "execution_count": 14,
   "id": "122740cd",
   "metadata": {},
   "outputs": [
    {
     "data": {
      "text/plain": [
       "'Sports'"
      ]
     },
     "execution_count": 14,
     "metadata": {},
     "output_type": "execute_result"
    }
   ],
   "source": [
    "def predict(text):\n",
    "    with torch.no_grad():\n",
    "        text = torch.tensor(vocab(tokenizer(text)))\n",
    "        output = model(text, torch.tensor([0]))\n",
    "        return ag_news_label[output.argmax(dim = 1).item() + 1]\n",
    "\n",
    "real_text = [\n",
    "    \"International talks have made significant headway with the signing of a climate accord that commits countries to reduce emissions by 40% over the next two decades. World leaders expressed optimism at the conclusion of the summit.\",\n",
    "    \"In a stunning upset, the underdog team won the national title, beating the favorites in a match that featured an incredible comeback and a last-minute goal that sealed their victory in front of a record crowd.\",\n",
    "    \"Market analysts are optimistic as the tech startup's stock prices soared after the announcement of their latest product, which promises to revolutionize how we interact with smart devices.\",\n",
    "    \"A recent study published in a leading scientific journal suggests that a new drug has shown promise in the treatment of Alzheimer's disease, outperforming current leading medications in early clinical trials.\",\n",
    "    \"Diplomatic relations have taken a positive turn with the recent peace talks that aim to end decades of conflict. The ceasefire agreement has been welcomed by the international community.\",\n",
    "    \"Economic indicators show a sharp rebound in manufacturing, with the automobile industry leading the charge. Analysts predict this surge will result in significant job creation over the next year.\",\n",
    "    \"Researchers at the university's astrophysics department have discovered a potentially habitable exoplanet. The planet, which lies in a nearby star system, has conditions that could support liquid water and, possibly, life.\",\n",
    "    \"The sports world is in shock as a legendary player announces their retirement. Over an illustrious 20-year career, the athlete has amassed numerous records and is regarded as one of the greatest to ever play the game.\",\n",
    "    \"A multinational corporation has announced a major investment in renewable energy. The initiative includes the construction of new wind farms and solar panels that will power hundreds of thousands of homes.\",\n",
    "    \"Climate scientists warn that the melting of the polar ice caps has been accelerating at an alarming rate, raising sea levels and threatening coastal cities worldwide with increased flooding risks.\"\n",
    "]\n",
    "\n",
    "predict(real_text[5])"
   ]
  },
  {
   "cell_type": "markdown",
   "id": "88c6d75e",
   "metadata": {},
   "source": [
    "### Embedding analysis"
   ]
  },
  {
   "cell_type": "code",
   "execution_count": 15,
   "id": "77a6be6a",
   "metadata": {},
   "outputs": [
    {
     "data": {
      "application/vnd.plotly.v1+json": {
       "config": {
        "plotlyServerURL": "https://plot.ly"
       },
       "data": [
        {
         "marker": {
          "color": [
           3,
           2,
           3,
           1,
           0,
           3,
           0,
           0,
           3,
           0,
           3,
           1,
           0,
           2,
           3,
           1,
           2,
           0,
           0,
           1,
           0,
           3,
           1,
           2,
           1,
           3,
           0,
           1,
           2,
           0,
           2,
           0,
           2,
           2,
           3,
           0,
           1,
           3,
           0,
           2,
           1,
           0,
           1,
           2,
           0,
           1,
           3,
           0,
           2,
           0,
           1,
           3,
           3,
           1,
           0,
           1,
           2,
           0,
           2,
           0,
           2,
           3,
           3,
           3
          ],
          "colorscale": [
           [
            0,
            "#440154"
           ],
           [
            0.1111111111111111,
            "#482878"
           ],
           [
            0.2222222222222222,
            "#3e4989"
           ],
           [
            0.3333333333333333,
            "#31688e"
           ],
           [
            0.4444444444444444,
            "#26828e"
           ],
           [
            0.5555555555555556,
            "#1f9e89"
           ],
           [
            0.6666666666666666,
            "#35b779"
           ],
           [
            0.7777777777777778,
            "#6ece58"
           ],
           [
            0.8888888888888888,
            "#b5de2b"
           ],
           [
            1,
            "#fde725"
           ]
          ],
          "opacity": 0.8,
          "size": 5
         },
         "mode": "markers",
         "type": "scatter3d",
         "x": [
          -138.8808135986328,
          121.55243682861328,
          -102.01124572753906,
          -61.70438766479492,
          -124.10279846191406,
          -120.38235473632812,
          64.82637786865234,
          -11.955155372619629,
          -65.17672729492188,
          -30.964937210083008,
          95.17057037353516,
          0.7455888986587524,
          50.647335052490234,
          -113.7321548461914,
          2.3523261547088623,
          48.79322814941406,
          13.286849021911621,
          -69.84542083740234,
          31.941112518310547,
          105.3655014038086,
          78.10340118408203,
          -45.15019226074219,
          -34.04887771606445,
          -47.17013168334961,
          16.744909286499023,
          42.27635192871094,
          10.979369163513184,
          50.01665496826172,
          34.36565399169922,
          62.454437255859375,
          5.9378132820129395,
          -124.5116958618164,
          76.40946960449219,
          66.99336242675781,
          -34.520912170410156,
          3.512943744659424,
          76.47998809814453,
          71.09264373779297,
          -79.12738800048828,
          -104.12842559814453,
          7.953753471374512,
          -20.922155380249023,
          110.18718719482422,
          -21.1760196685791,
          6.321442604064941,
          -62.260128021240234,
          -3.087660789489746,
          -25.6431941986084,
          151.41722106933594,
          -19.32792091369629,
          59.23635482788086,
          -74.17738342285156,
          -96.47401428222656,
          -58.988861083984375,
          18.650299072265625,
          -63.23704147338867,
          9.284351348876953,
          78.23313903808594,
          123.36727142333984,
          19.794340133666992,
          -73.5710678100586,
          -39.4940185546875,
          69.74862670898438,
          27.959205627441406
         ],
         "y": [
          36.6232795715332,
          -58.85102462768555,
          86.98699188232422,
          -24.493850708007812,
          -50.39539337158203,
          -67.5162582397461,
          -121.96028137207031,
          -95.9422836303711,
          -90.55933380126953,
          49.49240493774414,
          -82.1749038696289,
          64.27784729003906,
          43.98347091674805,
          7.634013652801514,
          50.93948745727539,
          124.11156463623047,
          62.07257080078125,
          66.74848937988281,
          14.438539505004883,
          79.60659790039062,
          87.72135925292969,
          29.644866943359375,
          -34.71982955932617,
          59.55270767211914,
          -26.76169776916504,
          -59.69276428222656,
          -73.37092590332031,
          68.39202880859375,
          -132.35276794433594,
          -20.66585350036621,
          -130.18600463867188,
          3.665067434310913,
          -22.202672958374023,
          14.742732048034668,
          -44.35749435424805,
          81.82075500488281,
          65.16960906982422,
          -16.33545684814453,
          -120.23963928222656,
          68.75914001464844,
          121.02828979492188,
          -9.231098175048828,
          19.547744750976562,
          -87.18861389160156,
          -7.240816116333008,
          7.312331199645996,
          -113.3153305053711,
          117.06932067871094,
          -14.564992904663086,
          -62.049720764160156,
          -52.6414794921875,
          -29.999263763427734,
          -4.0771894454956055,
          115.69671630859375,
          -0.8910374641418457,
          -80.0659408569336,
          5.4949259757995605,
          76.56033325195312,
          -2.4939963817596436,
          -52.14678192138672,
          -27.511423110961914,
          22.63150405883789,
          -61.53052520751953,
          -72.76134490966797
         ],
         "z": [
          26.659523010253906,
          -9.891790390014648,
          57.492698669433594,
          55.123146057128906,
          35.46023941040039,
          -33.74955749511719,
          23.089506149291992,
          3.592438220977783,
          -76.30098724365234,
          -47.97524642944336,
          -70.15312957763672,
          -117.04114532470703,
          25.66276741027832,
          75.1343765258789,
          121.4095458984375,
          5.596989631652832,
          60.37498474121094,
          -95.84480285644531,
          -51.4882926940918,
          -14.622776985168457,
          72.2594223022461,
          60.084625244140625,
          12.80251407623291,
          14.652397155761719,
          135.23501586914062,
          -55.409385681152344,
          60.0812873840332,
          -42.88805389404297,
          -36.899715423583984,
          44.77983093261719,
          75.2918472290039,
          -22.46658706665039,
          -92.04845428466797,
          103.98210144042969,
          -125.18011474609375,
          -5.201434135437012,
          -100.42023468017578,
          -19.975984573364258,
          -16.83075714111328,
          -32.60471725463867,
          -64.88887023925781,
          -60.348480224609375,
          53.24404525756836,
          108.60501861572266,
          58.54549026489258,
          -0.1544894576072693,
          -94.79125213623047,
          65.65406036376953,
          9.617053985595703,
          -47.18601608276367,
          99.2236328125,
          -46.42233657836914,
          -96.08660125732422,
          -5.721184730529785,
          -104.86910247802734,
          42.65010070800781,
          0.5044924020767212,
          -189.80442810058594,
          -59.474735260009766,
          2.186988115310669,
          117.11131286621094,
          121.55029296875,
          22.209308624267578,
          -124.6579818725586
         ]
        }
       ],
       "layout": {
        "scene": {
         "xaxis": {
          "title": {
           "text": "Dimension 1"
          }
         },
         "yaxis": {
          "title": {
           "text": "Dimension 2"
          }
         },
         "zaxis": {
          "title": {
           "text": "Dimension 3"
          }
         }
        },
        "template": {
         "data": {
          "bar": [
           {
            "error_x": {
             "color": "#2a3f5f"
            },
            "error_y": {
             "color": "#2a3f5f"
            },
            "marker": {
             "line": {
              "color": "#E5ECF6",
              "width": 0.5
             },
             "pattern": {
              "fillmode": "overlay",
              "size": 10,
              "solidity": 0.2
             }
            },
            "type": "bar"
           }
          ],
          "barpolar": [
           {
            "marker": {
             "line": {
              "color": "#E5ECF6",
              "width": 0.5
             },
             "pattern": {
              "fillmode": "overlay",
              "size": 10,
              "solidity": 0.2
             }
            },
            "type": "barpolar"
           }
          ],
          "carpet": [
           {
            "aaxis": {
             "endlinecolor": "#2a3f5f",
             "gridcolor": "white",
             "linecolor": "white",
             "minorgridcolor": "white",
             "startlinecolor": "#2a3f5f"
            },
            "baxis": {
             "endlinecolor": "#2a3f5f",
             "gridcolor": "white",
             "linecolor": "white",
             "minorgridcolor": "white",
             "startlinecolor": "#2a3f5f"
            },
            "type": "carpet"
           }
          ],
          "choropleth": [
           {
            "colorbar": {
             "outlinewidth": 0,
             "ticks": ""
            },
            "type": "choropleth"
           }
          ],
          "contour": [
           {
            "colorbar": {
             "outlinewidth": 0,
             "ticks": ""
            },
            "colorscale": [
             [
              0,
              "#0d0887"
             ],
             [
              0.1111111111111111,
              "#46039f"
             ],
             [
              0.2222222222222222,
              "#7201a8"
             ],
             [
              0.3333333333333333,
              "#9c179e"
             ],
             [
              0.4444444444444444,
              "#bd3786"
             ],
             [
              0.5555555555555556,
              "#d8576b"
             ],
             [
              0.6666666666666666,
              "#ed7953"
             ],
             [
              0.7777777777777778,
              "#fb9f3a"
             ],
             [
              0.8888888888888888,
              "#fdca26"
             ],
             [
              1,
              "#f0f921"
             ]
            ],
            "type": "contour"
           }
          ],
          "contourcarpet": [
           {
            "colorbar": {
             "outlinewidth": 0,
             "ticks": ""
            },
            "type": "contourcarpet"
           }
          ],
          "heatmap": [
           {
            "colorbar": {
             "outlinewidth": 0,
             "ticks": ""
            },
            "colorscale": [
             [
              0,
              "#0d0887"
             ],
             [
              0.1111111111111111,
              "#46039f"
             ],
             [
              0.2222222222222222,
              "#7201a8"
             ],
             [
              0.3333333333333333,
              "#9c179e"
             ],
             [
              0.4444444444444444,
              "#bd3786"
             ],
             [
              0.5555555555555556,
              "#d8576b"
             ],
             [
              0.6666666666666666,
              "#ed7953"
             ],
             [
              0.7777777777777778,
              "#fb9f3a"
             ],
             [
              0.8888888888888888,
              "#fdca26"
             ],
             [
              1,
              "#f0f921"
             ]
            ],
            "type": "heatmap"
           }
          ],
          "heatmapgl": [
           {
            "colorbar": {
             "outlinewidth": 0,
             "ticks": ""
            },
            "colorscale": [
             [
              0,
              "#0d0887"
             ],
             [
              0.1111111111111111,
              "#46039f"
             ],
             [
              0.2222222222222222,
              "#7201a8"
             ],
             [
              0.3333333333333333,
              "#9c179e"
             ],
             [
              0.4444444444444444,
              "#bd3786"
             ],
             [
              0.5555555555555556,
              "#d8576b"
             ],
             [
              0.6666666666666666,
              "#ed7953"
             ],
             [
              0.7777777777777778,
              "#fb9f3a"
             ],
             [
              0.8888888888888888,
              "#fdca26"
             ],
             [
              1,
              "#f0f921"
             ]
            ],
            "type": "heatmapgl"
           }
          ],
          "histogram": [
           {
            "marker": {
             "pattern": {
              "fillmode": "overlay",
              "size": 10,
              "solidity": 0.2
             }
            },
            "type": "histogram"
           }
          ],
          "histogram2d": [
           {
            "colorbar": {
             "outlinewidth": 0,
             "ticks": ""
            },
            "colorscale": [
             [
              0,
              "#0d0887"
             ],
             [
              0.1111111111111111,
              "#46039f"
             ],
             [
              0.2222222222222222,
              "#7201a8"
             ],
             [
              0.3333333333333333,
              "#9c179e"
             ],
             [
              0.4444444444444444,
              "#bd3786"
             ],
             [
              0.5555555555555556,
              "#d8576b"
             ],
             [
              0.6666666666666666,
              "#ed7953"
             ],
             [
              0.7777777777777778,
              "#fb9f3a"
             ],
             [
              0.8888888888888888,
              "#fdca26"
             ],
             [
              1,
              "#f0f921"
             ]
            ],
            "type": "histogram2d"
           }
          ],
          "histogram2dcontour": [
           {
            "colorbar": {
             "outlinewidth": 0,
             "ticks": ""
            },
            "colorscale": [
             [
              0,
              "#0d0887"
             ],
             [
              0.1111111111111111,
              "#46039f"
             ],
             [
              0.2222222222222222,
              "#7201a8"
             ],
             [
              0.3333333333333333,
              "#9c179e"
             ],
             [
              0.4444444444444444,
              "#bd3786"
             ],
             [
              0.5555555555555556,
              "#d8576b"
             ],
             [
              0.6666666666666666,
              "#ed7953"
             ],
             [
              0.7777777777777778,
              "#fb9f3a"
             ],
             [
              0.8888888888888888,
              "#fdca26"
             ],
             [
              1,
              "#f0f921"
             ]
            ],
            "type": "histogram2dcontour"
           }
          ],
          "mesh3d": [
           {
            "colorbar": {
             "outlinewidth": 0,
             "ticks": ""
            },
            "type": "mesh3d"
           }
          ],
          "parcoords": [
           {
            "line": {
             "colorbar": {
              "outlinewidth": 0,
              "ticks": ""
             }
            },
            "type": "parcoords"
           }
          ],
          "pie": [
           {
            "automargin": true,
            "type": "pie"
           }
          ],
          "scatter": [
           {
            "fillpattern": {
             "fillmode": "overlay",
             "size": 10,
             "solidity": 0.2
            },
            "type": "scatter"
           }
          ],
          "scatter3d": [
           {
            "line": {
             "colorbar": {
              "outlinewidth": 0,
              "ticks": ""
             }
            },
            "marker": {
             "colorbar": {
              "outlinewidth": 0,
              "ticks": ""
             }
            },
            "type": "scatter3d"
           }
          ],
          "scattercarpet": [
           {
            "marker": {
             "colorbar": {
              "outlinewidth": 0,
              "ticks": ""
             }
            },
            "type": "scattercarpet"
           }
          ],
          "scattergeo": [
           {
            "marker": {
             "colorbar": {
              "outlinewidth": 0,
              "ticks": ""
             }
            },
            "type": "scattergeo"
           }
          ],
          "scattergl": [
           {
            "marker": {
             "colorbar": {
              "outlinewidth": 0,
              "ticks": ""
             }
            },
            "type": "scattergl"
           }
          ],
          "scattermapbox": [
           {
            "marker": {
             "colorbar": {
              "outlinewidth": 0,
              "ticks": ""
             }
            },
            "type": "scattermapbox"
           }
          ],
          "scatterpolar": [
           {
            "marker": {
             "colorbar": {
              "outlinewidth": 0,
              "ticks": ""
             }
            },
            "type": "scatterpolar"
           }
          ],
          "scatterpolargl": [
           {
            "marker": {
             "colorbar": {
              "outlinewidth": 0,
              "ticks": ""
             }
            },
            "type": "scatterpolargl"
           }
          ],
          "scatterternary": [
           {
            "marker": {
             "colorbar": {
              "outlinewidth": 0,
              "ticks": ""
             }
            },
            "type": "scatterternary"
           }
          ],
          "surface": [
           {
            "colorbar": {
             "outlinewidth": 0,
             "ticks": ""
            },
            "colorscale": [
             [
              0,
              "#0d0887"
             ],
             [
              0.1111111111111111,
              "#46039f"
             ],
             [
              0.2222222222222222,
              "#7201a8"
             ],
             [
              0.3333333333333333,
              "#9c179e"
             ],
             [
              0.4444444444444444,
              "#bd3786"
             ],
             [
              0.5555555555555556,
              "#d8576b"
             ],
             [
              0.6666666666666666,
              "#ed7953"
             ],
             [
              0.7777777777777778,
              "#fb9f3a"
             ],
             [
              0.8888888888888888,
              "#fdca26"
             ],
             [
              1,
              "#f0f921"
             ]
            ],
            "type": "surface"
           }
          ],
          "table": [
           {
            "cells": {
             "fill": {
              "color": "#EBF0F8"
             },
             "line": {
              "color": "white"
             }
            },
            "header": {
             "fill": {
              "color": "#C8D4E3"
             },
             "line": {
              "color": "white"
             }
            },
            "type": "table"
           }
          ]
         },
         "layout": {
          "annotationdefaults": {
           "arrowcolor": "#2a3f5f",
           "arrowhead": 0,
           "arrowwidth": 1
          },
          "autotypenumbers": "strict",
          "coloraxis": {
           "colorbar": {
            "outlinewidth": 0,
            "ticks": ""
           }
          },
          "colorscale": {
           "diverging": [
            [
             0,
             "#8e0152"
            ],
            [
             0.1,
             "#c51b7d"
            ],
            [
             0.2,
             "#de77ae"
            ],
            [
             0.3,
             "#f1b6da"
            ],
            [
             0.4,
             "#fde0ef"
            ],
            [
             0.5,
             "#f7f7f7"
            ],
            [
             0.6,
             "#e6f5d0"
            ],
            [
             0.7,
             "#b8e186"
            ],
            [
             0.8,
             "#7fbc41"
            ],
            [
             0.9,
             "#4d9221"
            ],
            [
             1,
             "#276419"
            ]
           ],
           "sequential": [
            [
             0,
             "#0d0887"
            ],
            [
             0.1111111111111111,
             "#46039f"
            ],
            [
             0.2222222222222222,
             "#7201a8"
            ],
            [
             0.3333333333333333,
             "#9c179e"
            ],
            [
             0.4444444444444444,
             "#bd3786"
            ],
            [
             0.5555555555555556,
             "#d8576b"
            ],
            [
             0.6666666666666666,
             "#ed7953"
            ],
            [
             0.7777777777777778,
             "#fb9f3a"
            ],
            [
             0.8888888888888888,
             "#fdca26"
            ],
            [
             1,
             "#f0f921"
            ]
           ],
           "sequentialminus": [
            [
             0,
             "#0d0887"
            ],
            [
             0.1111111111111111,
             "#46039f"
            ],
            [
             0.2222222222222222,
             "#7201a8"
            ],
            [
             0.3333333333333333,
             "#9c179e"
            ],
            [
             0.4444444444444444,
             "#bd3786"
            ],
            [
             0.5555555555555556,
             "#d8576b"
            ],
            [
             0.6666666666666666,
             "#ed7953"
            ],
            [
             0.7777777777777778,
             "#fb9f3a"
            ],
            [
             0.8888888888888888,
             "#fdca26"
            ],
            [
             1,
             "#f0f921"
            ]
           ]
          },
          "colorway": [
           "#636efa",
           "#EF553B",
           "#00cc96",
           "#ab63fa",
           "#FFA15A",
           "#19d3f3",
           "#FF6692",
           "#B6E880",
           "#FF97FF",
           "#FECB52"
          ],
          "font": {
           "color": "#2a3f5f"
          },
          "geo": {
           "bgcolor": "white",
           "lakecolor": "white",
           "landcolor": "#E5ECF6",
           "showlakes": true,
           "showland": true,
           "subunitcolor": "white"
          },
          "hoverlabel": {
           "align": "left"
          },
          "hovermode": "closest",
          "mapbox": {
           "style": "light"
          },
          "paper_bgcolor": "white",
          "plot_bgcolor": "#E5ECF6",
          "polar": {
           "angularaxis": {
            "gridcolor": "white",
            "linecolor": "white",
            "ticks": ""
           },
           "bgcolor": "#E5ECF6",
           "radialaxis": {
            "gridcolor": "white",
            "linecolor": "white",
            "ticks": ""
           }
          },
          "scene": {
           "xaxis": {
            "backgroundcolor": "#E5ECF6",
            "gridcolor": "white",
            "gridwidth": 2,
            "linecolor": "white",
            "showbackground": true,
            "ticks": "",
            "zerolinecolor": "white"
           },
           "yaxis": {
            "backgroundcolor": "#E5ECF6",
            "gridcolor": "white",
            "gridwidth": 2,
            "linecolor": "white",
            "showbackground": true,
            "ticks": "",
            "zerolinecolor": "white"
           },
           "zaxis": {
            "backgroundcolor": "#E5ECF6",
            "gridcolor": "white",
            "gridwidth": 2,
            "linecolor": "white",
            "showbackground": true,
            "ticks": "",
            "zerolinecolor": "white"
           }
          },
          "shapedefaults": {
           "line": {
            "color": "#2a3f5f"
           }
          },
          "ternary": {
           "aaxis": {
            "gridcolor": "white",
            "linecolor": "white",
            "ticks": ""
           },
           "baxis": {
            "gridcolor": "white",
            "linecolor": "white",
            "ticks": ""
           },
           "bgcolor": "#E5ECF6",
           "caxis": {
            "gridcolor": "white",
            "linecolor": "white",
            "ticks": ""
           }
          },
          "title": {
           "x": 0.05
          },
          "xaxis": {
           "automargin": true,
           "gridcolor": "white",
           "linecolor": "white",
           "ticks": "",
           "title": {
            "standoff": 15
           },
           "zerolinecolor": "white",
           "zerolinewidth": 2
          },
          "yaxis": {
           "automargin": true,
           "gridcolor": "white",
           "linecolor": "white",
           "ticks": "",
           "title": {
            "standoff": 15
           },
           "zerolinecolor": "white",
           "zerolinewidth": 2
          }
         }
        },
        "title": {
         "text": "3D t-SNE Visualization of Embeddings"
        }
       }
      }
     },
     "metadata": {},
     "output_type": "display_data"
    }
   ],
   "source": [
    "# Get the first batch from the validation data\n",
    "batch = next(iter(valid_loader))\n",
    "\n",
    "# Extract the text and offsets from the batch\n",
    "label, text, offsets = batch\n",
    "\n",
    "# Send the data to the device (GPU if available)\n",
    "text = text.to(device)\n",
    "offsets = offsets.to(device)\n",
    "\n",
    "# Get the embeddings bag output for the batch\n",
    "embedded = model.embedding(text, offsets)\n",
    "\n",
    "# Convert the embeddings tensor to a numpy array\n",
    "embeddings_numpy = embedded.detach().cpu().numpy()\n",
    "\n",
    "# Perform t-SNE on the embeddings to reduce their dimensionality to 3D.\n",
    "X_embedded_3d = TSNE(n_components=3).fit_transform(embeddings_numpy)\n",
    "\n",
    "# Create a 3D scatter plot using Plotly\n",
    "trace = go.Scatter3d(\n",
    "    x=X_embedded_3d[:, 0],\n",
    "    y=X_embedded_3d[:, 1],\n",
    "    z=X_embedded_3d[:, 2],\n",
    "    mode='markers',\n",
    "    marker=dict(\n",
    "        size=5,\n",
    "        color=label.numpy(),  # Use label information for color\n",
    "        colorscale='Viridis',  # Choose a colorscale\n",
    "        opacity=0.8\n",
    "    )\n",
    ")\n",
    "\n",
    "layout = go.Layout(title=\"3D t-SNE Visualization of Embeddings\",\n",
    "                   scene=dict(xaxis_title='Dimension 1',\n",
    "                              yaxis_title='Dimension 2',\n",
    "                              zaxis_title='Dimension 3'))\n",
    "\n",
    "fig = go.Figure(data=[trace], layout=layout)\n",
    "fig.show()"
   ]
  },
  {
   "cell_type": "markdown",
   "id": "63b67f70",
   "metadata": {},
   "source": [
    "## Using pretrained GloVe"
   ]
  },
  {
   "cell_type": "markdown",
   "id": "241a044f",
   "metadata": {},
   "source": [
    "### Idea"
   ]
  },
  {
   "cell_type": "markdown",
   "id": "a2438007",
   "metadata": {},
   "source": [
    "GloVe, on the other hand, is another popular algorithm for learning word embeddings. It stands for Global Vectors for Word Representation. Unlike word2vec, which is based on predicting context/target words, GloVe focuses on capturing the global word co-occurrence statistics from the entire corpus. It constructs a co-occurrence matrix that represents how often words appear together in the text. The matrix is then factorized to obtain the word embeddings. For example, if \"Man\" and \"King\" co-occure many times, their vectors will be simialr.\n",
    "\n",
    "The GloVe model follows a fundamental approach by constructing a large word-context co-occurrence matrix that contains pairs of (word, context). Each entry in this matrix represents the frequency of a word occurring within a given context, which can be a sequence of words. The objective of the model is to utilize matrix factorization techniques to approximate this co-occurrence matrix. The process is illustrated in the following diagram:\n",
    "\n",
    "1. Create a word-context co-occurrence matrix: The model begins by generating a matrix that captures the co-occurrence information of words and their surrounding contexts. Each element in the matrix represents how often a specific word and context pair co-occur in the training data.\n",
    "\n",
    "2. Apply matrix factorization: Next, the GloVe model applies matrix factorization methods to approximate the word-context co-occurrence matrix. The goal is to decompose the original matrix into lower-dimensional representations that capture the semantic relationships between words and contexts.\n",
    "\n",
    "3. Obtain word and context embeddings: By factorizing the co-occurrence matrix, the model obtains word and context embeddings. These embeddings are numerical representations that encode the semantic meaning and relationships of words and contexts.\n",
    "\n",
    "To accomplish this, you can usually begin by initializing WF (Word-Feature matrix) and FC (Feature-Context matrix) with random weights.You will then perform a multiplication operation between these matrices to obtain WC' (an approximation of WC), and assess its similarity to WC. This process is repeated multiple times using Stochastic Gradient Descent (SGD) to minimize the error(WC'-WC).\n",
    "\n",
    "Once the training is complete, the resulting Word-Feature matrix (WF) provides you with word embeddings or vector representations for each word(the green vector in the diagram). The dimensionality of the embedding vectors can be predetermined by setting the value of F to a specific number of dimensions, allowing for a compact representation of the word semantics.\n",
    "\n",
    "<img src=\"https://cf-courses-data.s3.us.cloud-object-storage.appdomain.cloud/IBMSkillsNetwork-AI0205EN-SkillsNetwork/matrix%20fact.png\" alt=\"Co-occurence matrix\" class=\"bg-primary\" width=\"600px\">\n",
    "\n",
    "The key advantage of GloVe is that it can incorporate both global statistics and local context information. This results in word embeddings that not only capture the semantic relationships between words but also preserve certain syntactic relationships."
   ]
  },
  {
   "cell_type": "markdown",
   "id": "9c497f22",
   "metadata": {},
   "source": [
    "### Download and see similarities in embedding"
   ]
  },
  {
   "cell_type": "code",
   "execution_count": 16,
   "id": "e0a368b2",
   "metadata": {},
   "outputs": [
    {
     "data": {
      "text/plain": [
       "tensor([ 0.2501, -0.0340,  0.0941,  0.3234, -0.0165, -0.6321, -1.2778,  0.3226,\n",
       "        -0.1411, -0.2900, -0.7388, -1.0599, -0.6915,  0.0670,  1.4545,  0.2447,\n",
       "        -0.7986, -0.8467, -0.8100, -0.1035,  0.5937,  0.4780,  0.3372, -0.4284,\n",
       "        -0.3413, -1.8441,  0.3073,  0.2960, -0.4052,  0.3416,  3.4163,  0.4477,\n",
       "        -0.4327,  0.1254,  0.0556, -0.5740,  0.1810,  0.0923,  0.0726, -0.4837,\n",
       "        -0.7181,  0.3952, -0.1291, -0.2552,  0.4102,  0.1954, -0.1200,  0.8398,\n",
       "        -0.2912,  0.0787])"
      ]
     },
     "execution_count": 16,
     "metadata": {},
     "output_type": "execute_result"
    }
   ],
   "source": [
    "from torchtext.vocab import GloVe, vocab #*Glo*bal *Ve*ctors representation from Standford NLP group\n",
    "\n",
    "glove_vectors_6B = GloVe(name='6B', dim = 50, cache = './GloVe_model/') #6B is not the number of parameters, \n",
    "                                                                        #but the number of tokens used for training\n",
    "                                                                        #dim = embedding dimension\n",
    "\n",
    "\n",
    "vocab = vocab(glove_vectors_6B.stoi,0, specials = ('<unk>', '<pad>'))\n",
    "vocab.set_default_index(vocab['<unk>'])\n",
    "\n",
    "word_to_index = glove_vectors_6B.stoi  # without the special tokens\n",
    "\n",
    "embeddings_Glove6B = torch.nn.Embedding.from_pretrained(glove_vectors_6B.vectors,freeze=True)\n",
    "embeddings_Glove6B.weight[vocab['team']] #dim = 50, the embedding of the word 'team'\n"
   ]
  },
  {
   "cell_type": "markdown",
   "id": "34f419c1",
   "metadata": {},
   "source": [
    "This computed the similarity between two embedded words using the cosine similarity. We check the similarity between some words (it takes 13 sec):"
   ]
  },
  {
   "cell_type": "code",
   "execution_count": 17,
   "id": "ff177a2d",
   "metadata": {},
   "outputs": [
    {
     "name": "stdout",
     "output_type": "stream",
     "text": [
      "2 most similar words to team: ['teams', 'football']\n"
     ]
    }
   ],
   "source": [
    "def find_similar_words(target_word, embedding_dict, top_k=2):\n",
    "    if target_word not in embedding_dict:\n",
    "        return f\"Word '{target_word}' not found in embeddings.\"\n",
    "    \n",
    "    target_vector = embedding_dict[target_word]\n",
    "    similarities = {}\n",
    "\n",
    "    for word, vector in embedding_dict.items():\n",
    "        if word == target_word:\n",
    "            continue\n",
    "        similarity = np.dot(target_vector, vector) / (np.linalg.norm(target_vector) * np.linalg.norm(vector))\n",
    "        similarities[word] = similarity\n",
    "\n",
    "    sorted_words = sorted(similarities.items(), key=lambda x: x[1], reverse=True)\n",
    "    return [word for word, _ in sorted_words[:top_k]]\n",
    "\n",
    "words = glove_vectors_6B.itos # all the tokens without the special tokens <pad> and <unk>\n",
    "\n",
    "embedding_dict_Glove6B = {}\n",
    "for word in words:\n",
    "    # Get the index of the word from the vocabulary to access its embedding\n",
    "    embedding_vector = embeddings_Glove6B.weight[word_to_index[word]]\n",
    "    if embedding_vector is not None:\n",
    "        embedding_dict_Glove6B[word] = embedding_vector\n",
    "\n",
    "target_word = \"team\"\n",
    "top_k=2\n",
    "similar_words = find_similar_words(target_word, embedding_dict_Glove6B, top_k)\n",
    "\n",
    "# Print the similar words\n",
    "print(\"{} most similar words to {}:\".format(top_k,target_word) ,similar_words)\n"
   ]
  },
  {
   "cell_type": "markdown",
   "id": "26a3ef6d",
   "metadata": {},
   "source": [
    "### Using it for text classification"
   ]
  },
  {
   "cell_type": "code",
   "execution_count": 18,
   "id": "0b1ae628",
   "metadata": {},
   "outputs": [],
   "source": [
    "from torchtext.vocab import GloVe, vocab #*Glo*bal *Ve*ctors representation from Standford NLP group\n",
    "\n",
    "hidden_dim = 300 \n",
    "glove_vectors_6B = GloVe(name='6B', dim = hidden_dim, cache = './GloVe_model/') #6B is not the number of parameters, \n",
    "                                                                        #but the number of tokens used for training\n",
    "                                                                        #dim = embedding dimension\n",
    "\n",
    "# vocab = vocab(glove_vectors_6B.stoi,0, specials = ('<unk>', '<pad>'))\n",
    "# vocab.set_default_index(vocab['<unk>']) #this will bring to an error!!!\n",
    "\n",
    "counter = Counter(glove_vectors_6B.stoi.keys())\n",
    "ordered_dict = OrderedDict(counter.most_common())\n",
    "\n",
    "# Crea vocab e aggiungi special tokens\n",
    "vocab = vocab(ordered_dict)\n",
    "vocab.insert_token('<unk>', 0)\n",
    "vocab.insert_token('<pad>', 1)\n",
    "vocab.set_default_index(vocab['<unk>'])\n",
    "\n",
    "tokenizer = get_tokenizer(\"basic_english\")\n",
    "\n",
    "train_iter, test_iter = AG_NEWS()\n",
    "train_dataset = to_map_style_dataset(train_iter)\n",
    "test_dataset = to_map_style_dataset(test_iter)\n",
    "\n",
    "num_train = int(len(train_dataset) * 0.85)\n",
    "split_train, split_valid = random_split(train_dataset, [num_train, len(train_dataset) - num_train])\n",
    "\n",
    "ag_news_label = {1: \"World\", 2: \"Sports\", 3: \"Business\", 4: \"Sci/Tec\"}\n",
    "'''ag_news_label[y]'''\n",
    "num_class = len(set([label for (label, text) in train_iter ]))"
   ]
  },
  {
   "cell_type": "markdown",
   "id": "9bbf1010",
   "metadata": {},
   "source": [
    "Same collate as before (with the difference of the `.lower()` in `processed_text`):"
   ]
  },
  {
   "cell_type": "code",
   "execution_count": 19,
   "id": "4390fab6",
   "metadata": {},
   "outputs": [],
   "source": [
    "def collate_batch(batch):\n",
    "    label_list, text_list, offsets = [], [], [0]\n",
    "    for label, text in batch:\n",
    "\n",
    "        label_list.append(int(label)-1) # convert to zero-based index\n",
    "\n",
    "        processed_text = torch.tensor(vocab(tokenizer(text.lower())), dtype=torch.int64) #vocab(tokenizer(text) is the list of integers corresponidng to the tokens\n",
    "        text_list.append(processed_text)\n",
    "        \n",
    "        offsets.append(len(processed_text))\n",
    "\n",
    "    label_list = torch.tensor(label_list, dtype=torch.int64)\n",
    "    offsets = torch.tensor(offsets[:-1]).cumsum(dim=0)\n",
    "    text_list = torch.cat(text_list) #concatenate all the text tensors into a single tensor\n",
    "    return label_list.to(device), text_list.to(device), offsets.to(device)\n",
    "\n",
    "BATCH_SIZE = 64\n",
    "\n",
    "train_loader = DataLoader(split_train, batch_size = BATCH_SIZE, shuffle = True, collate_fn = collate_batch)\n",
    "valid_loader = DataLoader(split_valid, batch_size = BATCH_SIZE, shuffle = True, collate_fn = collate_batch)\n",
    "test_loader = DataLoader(test_dataset, batch_size = BATCH_SIZE, shuffle = True, collate_fn = collate_batch)"
   ]
  },
  {
   "cell_type": "markdown",
   "id": "5fac234f",
   "metadata": {},
   "source": [
    "Same model as before, but there is the pretrained nn and there is a difference in the forward"
   ]
  },
  {
   "cell_type": "code",
   "execution_count": 20,
   "id": "f1e35974",
   "metadata": {},
   "outputs": [],
   "source": [
    "class TextClassificationModel(nn.Module):\n",
    "    def __init__(self, input_dim, hidden_dim, output_dim):\n",
    "        super(TextClassificationModel, self).__init__()\n",
    "\n",
    "        embedding_matrix = torch.zeros(len(vocab), hidden_dim)\n",
    "        for token, idx in vocab.get_stoi().items():\n",
    "            if token in glove_vectors_6B.stoi:\n",
    "                embedding_matrix[idx] = glove_vectors_6B[token]\n",
    "            else:\n",
    "                embedding_matrix[idx] = torch.randn(hidden_dim)  # o lascia a zero\n",
    "\n",
    "        self.embedding = nn.EmbeddingBag.from_pretrained(embedding_matrix, freeze=True)\n",
    "        self.fc = nn.Linear(hidden_dim, output_dim)\n",
    "        self.init_weights()\n",
    "\n",
    "    def init_weights(self):\n",
    "        initrange = 0.5\n",
    "        self.embedding.weight.data.uniform_(-initrange, initrange)\n",
    "        self.fc.weight.data.uniform_(-initrange, initrange)\n",
    "        self.fc.bias.data.zero_()\n",
    "\n",
    "    def forward(self, text, offsets):\n",
    "        embedded = self.embedding(text, offsets)\n",
    "        out = self.fc(embedded)\n",
    "\n",
    "        return out"
   ]
  },
  {
   "cell_type": "markdown",
   "id": "db8fcb9f",
   "metadata": {},
   "source": [
    "Same accuracy as before:"
   ]
  },
  {
   "cell_type": "code",
   "execution_count": 21,
   "id": "8bad865a",
   "metadata": {},
   "outputs": [
    {
     "data": {
      "text/plain": [
       "0.23460526315789473"
      ]
     },
     "execution_count": 21,
     "metadata": {},
     "output_type": "execute_result"
    }
   ],
   "source": [
    "def evaluate(dataloader, model ):\n",
    "    model.eval()\n",
    "    total_acc, total_count= 0, 0\n",
    "\n",
    "    with torch.no_grad():\n",
    "        for idx, (label, text, offsets) in enumerate(dataloader):\n",
    "            predicted_label = model(text, offsets)\n",
    "\n",
    "            total_acc += (predicted_label.argmax(1) == label).sum().item()\n",
    "            total_count += label.size(0)\n",
    "    return total_acc / total_count\n",
    "\n",
    "vocab_size=len(vocab)\n",
    "embedding_dim = hidden_dim \n",
    "\n",
    "num_of_classes = num_class\n",
    "model = TextClassificationModel(input_dim = vocab_size, hidden_dim = embedding_dim, output_dim = num_of_classes).to(device)\n",
    "\n",
    "evaluate(test_loader, model)"
   ]
  },
  {
   "cell_type": "code",
   "execution_count": 22,
   "id": "c32b10ef",
   "metadata": {},
   "outputs": [
    {
     "name": "stdout",
     "output_type": "stream",
     "text": [
      "epoch 1\n"
     ]
    },
    {
     "data": {
      "application/vnd.jupyter.widget-view+json": {
       "model_id": "c10f09e4e0da42468ce63377ede3e39a",
       "version_major": 2,
       "version_minor": 0
      },
      "text/plain": [
       "  0%|          | 0/1594 [00:00<?, ?it/s]"
      ]
     },
     "metadata": {},
     "output_type": "display_data"
    },
    {
     "name": "stdout",
     "output_type": "stream",
     "text": [
      "epoch 2\n"
     ]
    },
    {
     "data": {
      "application/vnd.jupyter.widget-view+json": {
       "model_id": "5cceadc6ed1c40199bdf3e041c281d4c",
       "version_major": 2,
       "version_minor": 0
      },
      "text/plain": [
       "  0%|          | 0/1594 [00:00<?, ?it/s]"
      ]
     },
     "metadata": {},
     "output_type": "display_data"
    }
   ],
   "source": [
    "lr=0.01\n",
    "epochs = 2\n",
    "cum_loss_list=[]\n",
    "acc_epoch=[]\n",
    "acc_old=0\n",
    "\n",
    "criterion = torch.nn.CrossEntropyLoss()\n",
    "optimizer = torch.optim.SGD(model.parameters(), lr = lr)\n",
    "scheduler = torch.optim.lr_scheduler.StepLR(optimizer, step_size = 1.0, gamma = 0.1) # after 1.0 epochs, the lerning rate will be multiplied by gamma\n",
    "\n",
    "for epoch in range(epochs):\n",
    "    cum_loss = 0.0\n",
    "    print(f'epoch {epoch+1}')\n",
    "    model.train()\n",
    "    for i, (label, text, offsets) in enumerate(tqdm(train_loader)):\n",
    "        \n",
    "        optimizer.zero_grad()\n",
    "        predicted_label = model(text, offsets)\n",
    "        loss = criterion(predicted_label, label)\n",
    "        loss.backward()\n",
    "        torch.nn.utils.clip_grad_norm_(model.parameters(), 0.1) #gradient clipping\n",
    "        optimizer.step()\n",
    "        cum_loss += loss.item()\n",
    "    \n",
    "    cum_loss_list.append(cum_loss/len(train_loader))\n",
    "    accu_val = evaluate(valid_loader, model)\n",
    "    acc_epoch.append(accu_val)\n",
    "\n",
    "    if accu_val > acc_old:\n",
    "      acc_old= accu_val\n",
    "      torch.save(model.state_dict(), 'my_model.pth')\n"
   ]
  },
  {
   "cell_type": "code",
   "execution_count": 23,
   "id": "f240b777",
   "metadata": {},
   "outputs": [
    {
     "data": {
      "image/png": "[encoded data removed]",
      "text/plain": [
       "<Figure size 640x480 with 2 Axes>"
      ]
     },
     "metadata": {},
     "output_type": "display_data"
    }
   ],
   "source": [
    "def plot(COST,ACC):\n",
    "    fig, ax1 = plt.subplots()\n",
    "    color = 'tab:red'\n",
    "    ax1.plot(COST, color=color)\n",
    "    ax1.set_xlabel('epoch', color=color)\n",
    "    ax1.set_ylabel('loss', color=color)\n",
    "    ax1.tick_params(axis='y', color=color)\n",
    "    \n",
    "    ax2 = ax1.twinx()  \n",
    "    color = 'tab:blue'\n",
    "    ax2.set_ylabel('accuracy', color=color)  # you already handled the x-label with ax1\n",
    "    ax2.plot(ACC, color=color)\n",
    "    ax2.tick_params(axis='y', color=color)\n",
    "    fig.tight_layout()  # otherwise the right y-label is slightly clipped\n",
    "    \n",
    "    plt.show()\n",
    "\n",
    "plot(cum_loss_list, acc_epoch)"
   ]
  },
  {
   "cell_type": "markdown",
   "id": "00a275d8",
   "metadata": {},
   "source": [
    "# 3) N-Gram model"
   ]
  },
  {
   "cell_type": "markdown",
   "id": "65c4b999",
   "metadata": {},
   "source": [
    "## General and idea"
   ]
  },
  {
   "cell_type": "markdown",
   "id": "ab38303c",
   "metadata": {},
   "source": [
    "The idea is to compute:\n",
    "\n",
    "- **Bi-gram**: $$P(\\text{word}_{i+1} \\mid \\text{word}_{i})= \\frac{\\text{count}(\\text{word}_{i}\\text{word}_{i+1})}{\\text{total count of}(\\text{word}_{i})}\\,, \\quad \\widehat{\\text{word}}_{i+1} = \\arg\\max_{\\text{word}_{i+1}} P(\\text{word}_{i+1} \\mid  \\text{word}_{i})$$ where $\\text{word}_{i}$ is the context, and the `context_size = 1`, because we only consider the previous word.\n",
    "- **Tri-gram**: $P(\\text{word}_{i+2} \\mid \\text{word}_{i+1}, \\text{word}_{i})$→ `context_size = 2`. Then:  $\\widehat{\\text{word}}_{i+2} = \\arg\\max_{\\text{word}_{i+2}} P(\\text{word}_{i+2} \\mid \\text{word}_{i+1}, \\text{word}_{i})$\n",
    "\n",
    "To do this we need frequencies, in the sense that the conditioned probability is computed by using **frequency of occurrence/total number of words**.\n",
    "\n",
    "\n",
    "For large $N$-grams, this becomes computationally complex due to data sparsity and memory usage. To overcome this, we can use **neural networks to approximate** the probability distribution:\n",
    "\n",
    "- The **input dimension** is: $\\text{dim\\_voc} \\times (N - 1)$ where the context vector is defined as the **concatenation of the one-hot encodings** (or embeddings) of the previous $N-1$ words.\n",
    "  \n",
    "  - If using **one-hot encoding**: it means concatenating $(N-1)$ one-hot vectors of size $\\text{dim\\_voc}$.\n",
    "  - More commonly, we use **embedding vectors** (e.g. via `nn.Embedding`) of dimension $d$, so the input becomes a concatenation of $(N-1)$ vectors in $\\mathbb{R}^d$, i.e. $\\text{Input size} = d \\times (N - 1)$.\n",
    "\n",
    "- The **output dimension** is $\\text{dim\\_voc}$, because we want to **predict a word** within the vocabulary — i.e., a classification problem.\n"
   ]
  },
  {
   "cell_type": "markdown",
   "id": "6beccecf",
   "metadata": {},
   "source": [
    "One should pay attention to this:\n",
    "- If we build the tokens using **word_tokenize**, then it is better not to use the methods **build_vocab_from_iterator** of torchtext, which is built to work well with **get_tokenizer**. This last approach is useful for neural networks, so if we instead build standard N-gram, we can use nltk for preprocess the text (see below).\n",
    "\n",
    "Summarizing, we define a function to preprocess strings\n",
    "```\n",
    "def preprocess_string(s):\n",
    "    s = re.sub(r\"[^\\w\\s]\", '', s) # Remove all non-word characters (everything except numbers and letters)\n",
    "    s = re.sub(r\"\\s+\", '', s) # Replace all runs of whitespaces with no space\n",
    "    s = re.sub(r\"\\d\", '', s) # replace digits with no space\n",
    "    return s\n",
    "```\n",
    "and then:\n",
    "1. **Standard N-grams**:  use \n",
    "```\n",
    "def preprocess(words):\n",
    "    tokens = word_tokenize(words)\n",
    "    tokens = [preprocess_string(w)   for w in tokens]\n",
    "    return [w.lower()  for w in tokens if len(w)!=0 or not(w in string.punctuation) ]\n",
    "\n",
    "tokens = preprocess(song)\n",
    "vocabulary = set(tokens)\n",
    "```\n",
    "2. **Neural Networks**: use \n",
    "```\n",
    "tokenizer = get_tokenizer(\"basic_english\")\n",
    "\n",
    "def preprocess(words):\n",
    "    tokens = tokenizer(words)\n",
    "    tokens = [preprocess_string(w)   for w in tokens]\n",
    "    return [w.lower()  for w in tokens if len(w)!=0 or not(w in string.punctuation) ]\n",
    "\n",
    "def yield_tokens(data_iter):\n",
    "    for _, text in data_iter:\n",
    "        yield tokenizer(text)\n",
    "\n",
    "tokens = preprocess(song)\n",
    "vocabulary = build_vocab_from_iterator(yield_tokens(song), specials=[\"<unk>\"])\n",
    "vocab.set_default_index(vocab[\"<unk>\"])\n",
    "``` \n",
    "\n",
    "Really, the tokenizer from torchtext is usually sufficient, whilst our preprocess_string() is quite aggressive, since it removes all the punctuation and white spaces. So, typically one uses (for nn):\n",
    "```\n",
    "tokenizer = get_tokenizer(\"basic_english\")\n",
    "tokens = tokenizer(song)\n",
    "\n",
    "def yield_tokens(data_iter):\n",
    "    for _, text in data_iter:\n",
    "        yield tokenizer(text)\n",
    "\n",
    "tokens = preprocess(song)\n",
    "vocabulary = build_vocab_from_iterator(yield_tokens(song), specials=[\"<unk>\"])\n",
    "vocab.set_default_index(vocab[\"<unk>\"])\n",
    "``` \n",
    "\n"
   ]
  },
  {
   "cell_type": "code",
   "execution_count": 24,
   "id": "8be207ea",
   "metadata": {},
   "outputs": [],
   "source": [
    "def preprocess_string(s):\n",
    "    s = re.sub(r\"[^\\w\\s]\", '', s) # Remove all non-word characters (everything except numbers and letters)\n",
    "    s = re.sub(r\"\\s+\", '', s) # Replace all runs of whitespaces with no space\n",
    "    s = re.sub(r\"\\d\", '', s) # replace digits with no space\n",
    "    return s\n",
    "\n",
    "def preprocess(words):\n",
    "    tokens = word_tokenize(words)\n",
    "    tokens = [preprocess_string(w)   for w in tokens]\n",
    "    return [w.lower()  for w in tokens if len(w)!=0 or not(w in string.punctuation) ]"
   ]
  },
  {
   "cell_type": "markdown",
   "id": "6c01ee5a",
   "metadata": {},
   "source": [
    "## Using Frequency"
   ]
  },
  {
   "cell_type": "markdown",
   "id": "2d738b42",
   "metadata": {},
   "source": [
    "The dataset:"
   ]
  },
  {
   "cell_type": "code",
   "execution_count": 25,
   "id": "9567aaf7",
   "metadata": {},
   "outputs": [],
   "source": [
    "song= \"\"\"We are no strangers to love\n",
    "You know the rules and so do I\n",
    "A full commitments what Im thinking of\n",
    "You wouldnt get this from any other guy\n",
    "I just wanna tell you how Im feeling\n",
    "Gotta make you understand\n",
    "Never gonna give you up\n",
    "Never gonna let you down\n",
    "Never gonna run around and desert you\n",
    "Never gonna make you cry\n",
    "Never gonna say goodbye\n",
    "Never gonna tell a lie and hurt you\n",
    "Weve known each other for so long\n",
    "Your hearts been aching but youre too shy to say it\n",
    "Inside we both know whats been going on\n",
    "We know the game and were gonna play it\n",
    "And if you ask me how Im feeling\n",
    "Dont tell me youre too blind to see\n",
    "Never gonna give you up\n",
    "Never gonna let you down\n",
    "Never gonna run around and desert you\n",
    "Never gonna make you cry\n",
    "Never gonna say goodbye\n",
    "Never gonna tell a lie and hurt you\n",
    "Never gonna give you up\n",
    "Never gonna let you down\n",
    "Never gonna run around and desert you\n",
    "Never gonna make you cry\n",
    "Never gonna say goodbye\n",
    "Never gonna tell a lie and hurt you\n",
    "Weve known each other for so long\n",
    "Your hearts been aching but youre too shy to say it\n",
    "Inside we both know whats been going on\n",
    "We know the game and were gonna play it\n",
    "I just wanna tell you how Im feeling\n",
    "Gotta make you understand\n",
    "Never gonna give you up\n",
    "Never gonna let you down\n",
    "Never gonna run around and desert you\n",
    "Never gonna make you cry\n",
    "Never gonna say goodbye\n",
    "Never gonna tell a lie and hurt you\n",
    "Never gonna give you up\n",
    "Never gonna let you down\n",
    "Never gonna run around and desert you\n",
    "Never gonna make you cry\n",
    "Never gonna say goodbye\n",
    "Never gonna tell a lie and hurt you\n",
    "Never gonna give you up\n",
    "Never gonna let you down\n",
    "Never gonna run around and desert you\n",
    "Never gonna make you cry\n",
    "Never gonna say goodbye\n",
    "Never gonna tell a lie and hurt you\"\"\""
   ]
  },
  {
   "cell_type": "code",
   "execution_count": 26,
   "id": "deafa303",
   "metadata": {},
   "outputs": [
    {
     "name": "stdout",
     "output_type": "stream",
     "text": [
      "['we', 'are', 'no', 'strangers', 'to', 'love']\n"
     ]
    }
   ],
   "source": [
    "tokens = preprocess(song)\n",
    "print(tokens[:6])\n",
    "vocabulary = set(tokens)\n",
    "\n",
    "fdist = nltk.FreqDist(tokens) #function from nltk to count the frequency of each tokem, dict{'word': frequency}\n",
    "\n",
    "total_number_of_words = sum(fdist.values()) # == len(tokens)\n",
    "\n",
    "non_cond_probability = {}\n",
    "for token in tokens:\n",
    "    non_cond_probability[token] = fdist[token]/total_number_of_words"
   ]
  },
  {
   "cell_type": "markdown",
   "id": "dc40a83b",
   "metadata": {},
   "source": [
    "A uni-gram model would have used non_cond_probability to predict the next word, predicting basically each time the word with the max probability (useless!)"
   ]
  },
  {
   "cell_type": "markdown",
   "id": "5d2f0e58",
   "metadata": {},
   "source": [
    "This make_predictions function works for every N-gram:"
   ]
  },
  {
   "cell_type": "code",
   "execution_count": 27,
   "id": "9807f27b",
   "metadata": {},
   "outputs": [],
   "source": [
    "def make_predictions(my_words, freq_grams, normlize=1, vocabulary = vocabulary):\n",
    "    \"\"\"\n",
    "    Generate predictions for the conditional probability of the next word given a sequence.\n",
    "\n",
    "    Args:\n",
    "        my_words (list): A list of words in the input sequence.\n",
    "        freq_grams (dict): A dictionary containing frequency of n-grams.\n",
    "        normlize (int): A normalization factor for calculating probabilities.\n",
    "        vocabulary (list): A list of words in the vocabulary.\n",
    "\n",
    "    Returns:\n",
    "        list: A list of predicted words along with their probabilities, sorted in descending order.\n",
    "    \"\"\"\n",
    "\n",
    "    vocab_probabilities = {}  # Initialize a dictionary to store predicted word probabilities\n",
    "\n",
    "    context_size = len(list(freq_grams.keys())[0])  # Determine the context size from n-grams keys\n",
    "\n",
    "    # Preprocess input words and take only the relevant context words\n",
    "    my_tokens = preprocess(my_words)[0:context_size - 1]\n",
    "\n",
    "    # Calculate probabilities for each word in the vocabulary given the context\n",
    "    for next_word in vocabulary:\n",
    "        temp = my_tokens.copy()\n",
    "        temp.append(next_word)  # Add the next word to the context\n",
    "\n",
    "        # Calculate the conditional probability using the frequency information\n",
    "        if normlize!=0:\n",
    "            vocab_probabilities[next_word] = freq_grams[tuple(temp)] / normlize\n",
    "        else:\n",
    "            vocab_probabilities[next_word] = freq_grams[tuple(temp)] \n",
    "    # Sort the predicted words based on their probabilities in descending order\n",
    "    vocab_probabilities = sorted(vocab_probabilities.items(), key=lambda x: x[1], reverse=True)\n",
    "\n",
    "    return vocab_probabilities"
   ]
  },
  {
   "cell_type": "markdown",
   "id": "3bd72ee9",
   "metadata": {},
   "source": [
    "### Bi-gram and Tri-gram"
   ]
  },
  {
   "cell_type": "code",
   "execution_count": 28,
   "id": "411e42d3",
   "metadata": {},
   "outputs": [
    {
     "name": "stdout",
     "output_type": "stream",
     "text": [
      "[('we', 'are'), ('are', 'no')]\n",
      "i just wan na tell a lie and desert you never gon na tell a lie and desert you never gon na tell a lie and desert you never gon na tell a lie and desert you never gon na tell a lie and desert you never gon na tell a lie and desert you never gon na tell a lie and desert you never gon na tell a lie and desert you never gon na tell a lie and desert you never gon na tell a lie and desert you never gon na tell a lie and desert you never\n",
      "i just wan na tell a lie and hurt you never gon na tell a lie and hurt you never gon na tell a lie and hurt you never gon na tell a lie and hurt you never gon na tell a lie and hurt you never gon na tell a lie and hurt you never gon na tell a lie and hurt you never gon na tell a lie and hurt you never gon na tell a lie and hurt you never gon na tell a lie and hurt you never gon na tell a lie and hurt you never gon\n"
     ]
    }
   ],
   "source": [
    "bigrams = nltk.bigrams(tokens) # this is an iterator\n",
    "my_bigrams = list(bigrams) # list of tuples, each tuple is a bigram (word1,word2)\n",
    "print(my_bigrams[0:2])\n",
    "\n",
    "bigrams = nltk.bigrams(tokens) # again to reset the iterator\n",
    "freq_bigrams  = nltk.FreqDist(bigrams)\n",
    "\n",
    "my_song = \"i\"\n",
    "for i in range(100):\n",
    "    next_word = make_predictions(my_song.split()[-1], freq_bigrams, fdist[my_song.split()[-1]], list(fdist))\n",
    "    my_song += \" \" + next_word[0][0]\n",
    "print(my_song)\n",
    "\n",
    "trigrams = nltk.trigrams(tokens) # again to reset the iterator\n",
    "freq_tigrams  = nltk.FreqDist(trigrams)\n",
    "\n",
    "my_song = \"i just\"\n",
    "for i in range(100):\n",
    "    context = my_song.split()[-2:]\n",
    "    normlize = freq_bigrams[tuple(context)]  # Frequenza del contesto\n",
    "    next_word = make_predictions(\" \".join(context), freq_tigrams, normlize, list(fdist))\n",
    "    my_song += \" \" + next_word[0][0]\n",
    "print(my_song)\n"
   ]
  },
  {
   "cell_type": "markdown",
   "id": "0fe5ccba",
   "metadata": {},
   "source": [
    "## Using a nn"
   ]
  },
  {
   "cell_type": "markdown",
   "id": "9408661a",
   "metadata": {},
   "source": [
    "The dataset:"
   ]
  },
  {
   "cell_type": "code",
   "execution_count": 29,
   "id": "243f4e2c",
   "metadata": {},
   "outputs": [],
   "source": [
    "song = \"\"\"We are no strangers to love\n",
    "You know the rules and so do I\n",
    "A full commitments what Im thinking of\n",
    "You wouldnt get this from any other guy\n",
    "I just wanna tell you how Im feeling\n",
    "Gotta make you understand\n",
    "Never gonna give you up\n",
    "Never gonna let you down\n",
    "Never gonna run around and desert you\n",
    "Never gonna make you cry\n",
    "Never gonna say goodbye\n",
    "Never gonna tell a lie and hurt you\n",
    "Weve known each other for so long\n",
    "Your hearts been aching but youre too shy to say it\n",
    "Inside we both know whats been going on\n",
    "We know the game and were gonna play it\n",
    "And if you ask me how Im feeling\n",
    "Dont tell me youre too blind to see\n",
    "Never gonna give you up\n",
    "Never gonna let you down\n",
    "Never gonna run around and desert you\n",
    "Never gonna make you cry\n",
    "Never gonna say goodbye\n",
    "Never gonna tell a lie and hurt you\n",
    "Never gonna give you up\n",
    "Never gonna let you down\n",
    "Never gonna run around and desert you\n",
    "Never gonna make you cry\n",
    "Never gonna say goodbye\n",
    "Never gonna tell a lie and hurt you\n",
    "Weve known each other for so long\n",
    "Your hearts been aching but youre too shy to say it\n",
    "Inside we both know whats been going on\n",
    "We know the game and were gonna play it\n",
    "I just wanna tell you how Im feeling\n",
    "Gotta make you understand\n",
    "Never gonna give you up\n",
    "Never gonna let you down\n",
    "Never gonna run around and desert you\n",
    "Never gonna make you cry\n",
    "Never gonna say goodbye\n",
    "Never gonna tell a lie and hurt you\n",
    "Never gonna give you up\n",
    "Never gonna let you down\n",
    "Never gonna run around and desert you\n",
    "Never gonna make you cry\n",
    "Never gonna say goodbye\n",
    "Never gonna tell a lie and hurt you\n",
    "Never gonna give you up\n",
    "Never gonna let you down\n",
    "Never gonna run around and desert you\n",
    "Never gonna make you cry\n",
    "Never gonna say goodbye\n",
    "Never gonna tell a lie and hurt you\"\"\""
   ]
  },
  {
   "cell_type": "markdown",
   "id": "7fca944e",
   "metadata": {},
   "source": [
    "Hyperparameters:"
   ]
  },
  {
   "cell_type": "code",
   "execution_count": 30,
   "id": "18c397f6",
   "metadata": {},
   "outputs": [],
   "source": [
    "BATCH_SIZE = 10    # Number of samples per training batch\n",
    "EMBEDDING_DIM = 10 # Dimension of the word embeddings\n",
    "EPOCHS = 1\n",
    "LR = 0.01"
   ]
  },
  {
   "cell_type": "markdown",
   "id": "596cb97b",
   "metadata": {},
   "source": [
    "Basics. build the tokens, the vocabulary and a function to translate new text into indices:"
   ]
  },
  {
   "cell_type": "code",
   "execution_count": 31,
   "id": "3b533f03",
   "metadata": {},
   "outputs": [],
   "source": [
    "tokenizer = get_tokenizer(\"basic_english\")\n",
    "tokens = tokenizer(song)\n",
    "# use yields_token to create a vocabulary, stronger choice wrt to map(tokenizer,song). Modified the function because we do not have a label in the song\n",
    "def yield_tokens(data_iter):\n",
    "    for text in data_iter:\n",
    "        yield tokenizer(text)\n",
    "\n",
    "vocab = build_vocab_from_iterator(yield_tokens([song]), specials=[\"<unk>\"])\n",
    "vocab.set_default_index(vocab[\"<unk>\"])\n",
    "\n",
    "def text_pipeline(text):\n",
    "    return vocab(tokenizer(text))"
   ]
  },
  {
   "cell_type": "markdown",
   "id": "88dd36f4",
   "metadata": {},
   "source": [
    "Moreover we have to make the padding, otherwise the bathces could have different lenght (in particular the last one!). In this way we keep the full song, but if we are ok with eliminate the last batch instead, we can use **drop_last = True** in the DataLoader!"
   ]
  },
  {
   "cell_type": "code",
   "execution_count": 32,
   "id": "054c4733",
   "metadata": {},
   "outputs": [],
   "source": [
    "Padding = BATCH_SIZE-len(tokens)%BATCH_SIZE\n",
    "tokens_pad = tokens + [\"<pad>\"] * Padding\n",
    "vocab.append_token(\"<pad>\") "
   ]
  },
  {
   "cell_type": "markdown",
   "id": "748fb2a8",
   "metadata": {},
   "source": [
    "## Create the loader and collate function"
   ]
  },
  {
   "cell_type": "markdown",
   "id": "1f4cb595",
   "metadata": {},
   "source": [
    "The collate function will have to construct pair of (context, target), according to the value of N(-grams). Before construct the collate_fn, let's build these pairs explicitly for educational purposes:"
   ]
  },
  {
   "cell_type": "code",
   "execution_count": 33,
   "id": "9d67678f",
   "metadata": {},
   "outputs": [
    {
     "name": "stdout",
     "output_type": "stream",
     "text": [
      "[(['are', 'we'], 'no'), (['no', 'are'], 'strangers'), (['strangers', 'no'], 'to')] \n",
      "\n",
      "context:  ['are', 'we'] and target: no\n",
      "context index [58, 21] target index [70]\n"
     ]
    }
   ],
   "source": [
    "def genngrams(tokens, N = 3):\n",
    "    CONTEXT_SIZE = N-1\n",
    "    ngrams = [\n",
    "        (\n",
    "            [tokens[i - j - 1] for j in range(CONTEXT_SIZE)],  # Context words (previous words)\n",
    "            tokens[i]  # Target word (the word to predict)\n",
    "        )\n",
    "        for i in range(CONTEXT_SIZE, len(tokens))\n",
    "    ]\n",
    "    return ngrams\n",
    "\n",
    "trigram = genngrams(tokens, N = 3)\n",
    "print(trigram[0:3],'\\n')\n",
    "\n",
    "context, target = trigram[0]\n",
    "print(\"context: \",context,\"and target:\",target)\n",
    "print(\"context index\",vocab(context),\"target index\",vocab([target]))\n"
   ]
  },
  {
   "cell_type": "markdown",
   "id": "2eb9f9f5",
   "metadata": {},
   "source": [
    "Now we build the collate function, which does the same but returns target and context separately for each gram (directly as indices):"
   ]
  },
  {
   "cell_type": "code",
   "execution_count": 34,
   "id": "e351188b",
   "metadata": {},
   "outputs": [
    {
     "name": "stdout",
     "output_type": "stream",
     "text": [
      "tensor([58, 21]) tensor(70)\n"
     ]
    }
   ],
   "source": [
    "CONTEXT_SIZE = 2\n",
    "\n",
    "def collate_batch(batch):\n",
    "    batch_size = len(batch)  # Get the size of the batch\n",
    "    context, target = [], [] # Initialize lists for context and target words\n",
    "\n",
    "    # Loop through the batch, ensuring enough previous words exist for context\n",
    "    for i in range(CONTEXT_SIZE, batch_size):\n",
    "        # Convert the target word to its index using the vocabulary\n",
    "        target.append(vocab([batch[i]]))\n",
    "\n",
    "        # Convert the previous CONTEXT_SIZE words to indices using the vocabulary\n",
    "        context.append(vocab([batch[i - j - 1] for j in range(CONTEXT_SIZE)]))\n",
    "\n",
    "    return torch.tensor(context).to(device), torch.tensor(target).to(device).reshape(-1) #from tensor([ID]) to tensor(ID)\n",
    "\n",
    "context, target = collate_batch(tokens)\n",
    "print(context[0], target[0]) #These are the same results as before"
   ]
  },
  {
   "cell_type": "markdown",
   "id": "8272a1dc",
   "metadata": {},
   "source": [
    "We are ready for the loader. We pass the pad_tokens, and for this we set drop_last = False. Shuffle = False because we want to keep the ordering!"
   ]
  },
  {
   "cell_type": "code",
   "execution_count": 35,
   "id": "d385b825",
   "metadata": {},
   "outputs": [],
   "source": [
    "dataloader = DataLoader(tokens_pad, batch_size = BATCH_SIZE, shuffle = False, collate_fn = collate_batch, drop_last = False)"
   ]
  },
  {
   "cell_type": "markdown",
   "id": "7daec876",
   "metadata": {},
   "source": [
    "Since we will want to change the hyperparameter CONTEXT_SIZE in future without running again the code, we define:"
   ]
  },
  {
   "cell_type": "code",
   "execution_count": 36,
   "id": "6efcd83b",
   "metadata": {},
   "outputs": [],
   "source": [
    "def get_collate_fn(context_size):\n",
    "    def collate_batch(batch):\n",
    "        batch_size = len(batch)\n",
    "        context, target = [], []\n",
    "        for i in range(context_size, batch_size):\n",
    "            target.append(vocab([batch[i]]))\n",
    "            context.append(vocab([batch[i - j - 1] for j in range(context_size)]))\n",
    "        return torch.tensor(context).to(device), torch.tensor(target).to(device).reshape(-1)\n",
    "    return collate_batch\n",
    "\n",
    "CONTEXT_SIZE = 2\n",
    "collate_batch = get_collate_fn(CONTEXT_SIZE)\n",
    "dataloader = DataLoader(tokens_pad, batch_size = BATCH_SIZE, shuffle = False, collate_fn = collate_batch, drop_last = False)"
   ]
  },
  {
   "cell_type": "markdown",
   "id": "435318a4",
   "metadata": {},
   "source": [
    "## Model"
   ]
  },
  {
   "cell_type": "code",
   "execution_count": 37,
   "id": "a3debb11",
   "metadata": {},
   "outputs": [],
   "source": [
    "class NGramLanguageModeler(nn.Module):\n",
    "    def __init__(self, vocab_size, embedding_dim, context_size):\n",
    "        super(NGramLanguageModeler, self).__init__()\n",
    "\n",
    "        self.context_size = context_size\n",
    "        self.embedding_dim = embedding_dim\n",
    "        self.embeddings = nn.Embedding(vocab_size, embedding_dim)\n",
    "        self.linear1 = nn.Linear(context_size * embedding_dim, 128)\n",
    "        self.linear2 = nn.Linear(128, vocab_size)\n",
    "\n",
    "    def forward(self, context): #the input is the context!!!\n",
    "\n",
    "        embeddings = self.embeddings(context)  # Shape: (batch_size, context_size, embedding_dim)\n",
    "        flattened = torch.reshape(embeddings, (-1, self.context_size * self.embedding_dim))  # Reshape the embeddings into a single vector per input sample\n",
    "        # New shape: (batch_size, embedding_dim * context_size = embedding_dim * (N-1))\n",
    "        out = nn.functional.relu(self.linear1(flattened))  # Shape: (batch_size, 128)\n",
    "        out = self.linear2(out)  # Shape: (batch_size, vocab_size)\n",
    "\n",
    "        return out\n",
    "    \n"
   ]
  },
  {
   "cell_type": "markdown",
   "id": "960f1391",
   "metadata": {},
   "source": [
    "## Training the model"
   ]
  },
  {
   "cell_type": "code",
   "execution_count": 38,
   "id": "dd55539e",
   "metadata": {},
   "outputs": [
    {
     "data": {
      "application/vnd.jupyter.widget-view+json": {
       "model_id": "25945410b4c34b4abdd9be77dc14ee71",
       "version_major": 2,
       "version_minor": 0
      },
      "text/plain": [
       "  0%|          | 0/1 [00:00<?, ?it/s]"
      ]
     },
     "metadata": {},
     "output_type": "display_data"
    },
    {
     "data": {
      "application/vnd.jupyter.widget-view+json": {
       "model_id": "171e8182038f48979e9e7a1169fc0d35",
       "version_major": 2,
       "version_minor": 0
      },
      "text/plain": [
       "  0%|          | 0/1 [00:00<?, ?it/s]"
      ]
     },
     "metadata": {},
     "output_type": "display_data"
    },
    {
     "data": {
      "application/vnd.jupyter.widget-view+json": {
       "model_id": "b1d046919f024f08936ec401f60d0c47",
       "version_major": 2,
       "version_minor": 0
      },
      "text/plain": [
       "  0%|          | 0/1 [00:00<?, ?it/s]"
      ]
     },
     "metadata": {},
     "output_type": "display_data"
    }
   ],
   "source": [
    "criterion = torch.nn.CrossEntropyLoss()\n",
    "#scheduler = torch.optim.lr_scheduler.StepLR(optimizer, step_size = 1.0, gamma = 0.1) # after 1.0 epochs, the lerning rate will be multiplied by gamma\n",
    "\n",
    "def train(dataloader, model, optimizer, number_of_epochs = 1):\n",
    "    LOSS = [] \n",
    "    for epoch in tqdm(range(number_of_epochs)):\n",
    "        total_loss = 0.0\n",
    "        for context, target in dataloader:\n",
    "\n",
    "            model.zero_grad()         \n",
    "            predicted = model(context)  \n",
    "            loss = criterion(predicted, target)  \n",
    "            total_loss += loss.item() \n",
    "\n",
    "            loss.backward() \n",
    "            optimizer.step()   \n",
    "\n",
    "        LOSS.append(total_loss/len(dataloader))  \n",
    "\n",
    "    return LOSS \n",
    "\n",
    "CONTEXT_SIZE = 2\n",
    "collate_batch = get_collate_fn(CONTEXT_SIZE)\n",
    "dataloader = DataLoader( tokens_pad, batch_size = BATCH_SIZE, shuffle = False, collate_fn = collate_batch, drop_last = False)\n",
    "model_2 = NGramLanguageModeler(vocab_size = len(vocab), embedding_dim = EMBEDDING_DIM, context_size = CONTEXT_SIZE).to(device)\n",
    "optimizer_2 = torch.optim.SGD(model_2.parameters(), lr = LR)\n",
    "loss_2 = train(dataloader = dataloader, model = model_2, optimizer = optimizer_2, number_of_epochs = EPOCHS)\n",
    "save_path = '3gram.pth'\n",
    "torch.save(model_2.state_dict(), save_path)\n",
    "\n",
    "CONTEXT_SIZE = 4\n",
    "collate_batch = get_collate_fn(CONTEXT_SIZE)\n",
    "dataloader = DataLoader( tokens_pad, batch_size = BATCH_SIZE, shuffle = False, collate_fn = collate_batch, drop_last = False)\n",
    "model_4 = NGramLanguageModeler(vocab_size = len(vocab), embedding_dim = EMBEDDING_DIM, context_size = CONTEXT_SIZE).to(device)\n",
    "optimizer_4 = torch.optim.SGD(model_4.parameters(), lr = LR)\n",
    "loss_4 = train(dataloader = dataloader, model = model_4, optimizer = optimizer_4, number_of_epochs = EPOCHS)\n",
    "save_path = '5gram.pth'\n",
    "torch.save(model_4.state_dict(), save_path)\n",
    "\n",
    "CONTEXT_SIZE = 8\n",
    "collate_batch = get_collate_fn(CONTEXT_SIZE)\n",
    "dataloader = DataLoader( tokens_pad, batch_size = BATCH_SIZE, shuffle = False, collate_fn = collate_batch, drop_last = False)\n",
    "model_8 = NGramLanguageModeler(vocab_size = len(vocab), embedding_dim = EMBEDDING_DIM, context_size = CONTEXT_SIZE).to(device)\n",
    "optimizer_8 = torch.optim.SGD(model_8.parameters(), lr = LR)\n",
    "loss_8 = train(dataloader = dataloader, model = model_8, optimizer = optimizer_8, number_of_epochs = EPOCHS)\n",
    "save_path = '9gram.pth'\n",
    "torch.save(model_8.state_dict(), save_path)\n",
    "\n",
    "losses_list = [loss_2, loss_4, loss_8]\n",
    "\n"
   ]
  },
  {
   "cell_type": "code",
   "execution_count": 39,
   "id": "fe74be8e",
   "metadata": {},
   "outputs": [
    {
     "data": {
      "image/png": "[encoded data removed]",
      "text/plain": [
       "<Figure size 640x480 with 1 Axes>"
      ]
     },
     "metadata": {},
     "output_type": "display_data"
    }
   ],
   "source": [
    "plt.plot(loss_2)\n",
    "plt.plot(loss_4)\n",
    "plt.plot(loss_8)\n",
    "plt.legend([\"Tri-gram\",\"Five-gram\",\"Nine-gram\"])\n",
    "plt.xlabel(\"Epochs\")\n",
    "plt.ylabel('Loss')\n",
    "plt.show()\n",
    "plt.close()"
   ]
  },
  {
   "cell_type": "markdown",
   "id": "749105de",
   "metadata": {},
   "source": [
    "## Inference - Text generation"
   ]
  },
  {
   "cell_type": "markdown",
   "id": "c2e7c85d",
   "metadata": {},
   "source": [
    "Function for generating songs:"
   ]
  },
  {
   "cell_type": "code",
   "execution_count": 40,
   "id": "9336178f",
   "metadata": {},
   "outputs": [],
   "source": [
    "def write_song(model, my_song, number_of_words = 100, context_size = 2):\n",
    "    index_to_token = vocab.get_itos() # list of token and vocabulary IDs\n",
    "\n",
    "    for i in range(number_of_words):\n",
    "\n",
    "        with torch.no_grad():  # Disable gradient computation for inference\n",
    "            \n",
    "            # Prepare the input context by extracting the last CONTEXT_SIZE words from tokens\n",
    "            context = torch.tensor(\n",
    "                vocab([tokens[i - j - 1] for j in range(context_size)])\n",
    "            ).to(device)  \n",
    "            \n",
    "            # Predict the next word by selecting the word with the highest probability\n",
    "            word_idx = torch.argmax(model(context))  # Get index of the most likely next word\n",
    "            \n",
    "            # Append the predicted word to the generated text\n",
    "            my_song += \" \" + index_to_token[word_idx.detach().item()]\n",
    "\n",
    "    return my_song"
   ]
  },
  {
   "cell_type": "code",
   "execution_count": 41,
   "id": "fca0a977",
   "metadata": {},
   "outputs": [
    {
     "data": {
      "text/plain": [
       "'I love my never no dont for say say gonna commitments commitments it do say it it say commitments gonna strangers strangers it commitments gotta get commitments it say never dont dont feeling'"
      ]
     },
     "execution_count": 41,
     "metadata": {},
     "output_type": "execute_result"
    }
   ],
   "source": [
    "model_8.load_state_dict(torch.load('9gram.pth'))\n",
    "model_8.eval()\n",
    "write_song(model_8, 'I love my', number_of_words = 30, context_size = 8)"
   ]
  },
  {
   "cell_type": "markdown",
   "id": "86df951a",
   "metadata": {},
   "source": [
    "## Embedding Analysis"
   ]
  },
  {
   "cell_type": "code",
   "execution_count": 42,
   "id": "8d9c3cb2",
   "metadata": {},
   "outputs": [
    {
     "data": {
      "image/png": "[encoded data removed]",
      "text/plain": [
       "<Figure size 640x480 with 1 Axes>"
      ]
     },
     "metadata": {},
     "output_type": "display_data"
    }
   ],
   "source": [
    "X = model_8.embeddings.weight.cpu().detach().numpy()\n",
    "tsne = TSNE(n_components=2, random_state=42)\n",
    "X_2d = tsne.fit_transform(X)\n",
    "\n",
    "labels = []\n",
    "\n",
    "for j in range(len(X_2d)):\n",
    "    if j < 20:\n",
    "        plt.scatter(X_2d[j, 0], X_2d[j, 1], label=vocab.get_itos()[j])\n",
    "        labels.append(vocab.get_itos()[j])\n",
    "        # Add words as annotations\n",
    "        plt.annotate(vocab.get_itos()[j],\n",
    "                     (X_2d[j, 0], X_2d[j, 1]),\n",
    "                     textcoords=\"offset points\",\n",
    "                     xytext=(0, 10),\n",
    "                     ha='center')\n",
    "    else:\n",
    "        plt.scatter(X_2d[j, 0], X_2d[j, 1])\n",
    "\n",
    "plt.legend(labels, loc='upper left', bbox_to_anchor=(1, 1))\n",
    "plt.show()"
   ]
  },
  {
   "cell_type": "markdown",
   "id": "b365aafa",
   "metadata": {},
   "source": [
    "# 4) Word2vec model with CBOW (continuous Bag-of-words) and Skip-gram"
   ]
  },
  {
   "cell_type": "markdown",
   "id": "6a2c3413",
   "metadata": {},
   "source": [
    "These models are very similar to the nn approach of N-grams, the key difference is that:\n",
    "- **N-gram** : given a target $i$, it uses the preceeding $N-1$ words to predict the $i-th$ one;\n",
    "- **Word-to-vec** : \n",
    "    1. **CBOW**: given a target $i$, it uses the preceeding $n$ and successive $n$ words (which are the context) to predict the $i-th$ one. It uses a BOW, so the input dimension of the nn, this time, is $D=$dimension of vocabulary. In practice, as usual, one uses the token indices, so the BOW is not done using the OHE. In the CBOW introduced by (Mikolov et al., 2013), the order of the context is not important, and so we will use a **nn.EmbeddingBag**\n",
    "    2. **Skip-gram**: predicts the same context, using the target (it is the opposite!). In this case, the embedding dimension is usally greater than the vocab size!  The idea is that words that appear in similar contexts tend to have similar meanings\n"
   ]
  },
  {
   "cell_type": "markdown",
   "id": "8d7075a9",
   "metadata": {},
   "source": [
    "When selecting CBOW or Skip-Gram, the best approach often depends on the specifics of your task and data. If your dataset is small but you need to have a good representation of rarer words, Skip-gram might be the better choice. If the computational efficiency is more critical and the rare words are less of a concern, CBOW might be adequate. It's also worth noting that for very small datasets, the benefits of neural word embeddings might be limited, and simpler methods or leveraging pretrained embeddings might be more effective.\n"
   ]
  },
  {
   "cell_type": "markdown",
   "id": "66622081",
   "metadata": {},
   "source": [
    "The dataset:"
   ]
  },
  {
   "cell_type": "code",
   "execution_count": 43,
   "id": "4099b8f7",
   "metadata": {},
   "outputs": [],
   "source": [
    "toy_data = \"\"\"I wish I was little bit taller\n",
    "I wish I was a baller\n",
    "She wore a small black dress to the party\n",
    "The dog chased a big red ball in the park\n",
    "He had a huge smile on his face when he won the race\n",
    "The tiny kitten played with a fluffy toy mouse\n",
    "The team celebrated their victory with a grand parade\n",
    "She bought a small, delicate necklace for her sister\n",
    "The mountain peak stood majestic and tall against the clear blue sky\n",
    "The toddler took small, careful steps as she learned to walk\n",
    "The house had a spacious backyard with a big swimming pool\n",
    "He felt a sense of accomplishment after completing the challenging puzzle\n",
    "The chef prepared a delicious, flavorful dish using fresh ingredients\n",
    "The children played happily in the small, cozy room\n",
    "The book had an enormous impact on readers around the world\n",
    "The wind blew gently, rustling the leaves of the tall trees\n",
    "She painted a beautiful, intricate design on the small canvas\n",
    "The concert hall was filled with thousands of excited fans\n",
    "The garden was adorned with colorful flowers of all sizes\n",
    "I hope to achieve great success in my chosen career path\n",
    "The skyscraper towered above the city, casting a long shadow\n",
    "He gazed in awe at the breathtaking view from the mountaintop\n",
    "The artist created a stunning masterpiece with bold brushstrokes\n",
    "The baby took her first steps, a small milestone that brought joy to her parents\n",
    "The team put in a tremendous amount of effort to win the championship\n",
    "The sun set behind the horizon, painting the sky in vibrant colors\n",
    "The professor gave a fascinating lecture on the history of ancient civilizations\n",
    "The house was filled with laughter and the sound of children playing\n",
    "She received a warm, enthusiastic welcome from the audience\n",
    "The marathon runner had incredible endurance and determination\n",
    "The child's eyes sparkled with excitement upon opening the gift\n",
    "The ship sailed across the vast ocean, guided by the stars\n",
    "The company achieved remarkable growth in a short period of time\n",
    "The team worked together harmoniously to complete the project\n",
    "The puppy wagged its tail, expressing its happiness and affection\n",
    "She wore a stunning gown that made her feel like a princess\n",
    "The building had a grand entrance with towering columns\n",
    "The concert was a roaring success, with the crowd cheering and clapping\n",
    "The baby took a tiny bite of the sweet, juicy fruit\n",
    "The athlete broke a new record, achieving a significant milestone in her career\n",
    "The sculpture was a masterpiece of intricate details and craftsmanship\n",
    "The forest was filled with towering trees, creating a sense of serenity\n",
    "The children built a small sandcastle on the beach, their imaginations running wild\n",
    "The mountain range stretched as far as the eye could see, majestic and awe-inspiring\n",
    "The artist's brush glided smoothly across the canvas, creating a beautiful painting\n",
    "She received a small token of appreciation for her hard work and dedication\n",
    "The orchestra played a magnificent symphony that moved the audience to tears\n",
    "The flower bloomed in vibrant colors, attracting butterflies and bees\n",
    "The team celebrated their victory with a big, extravagant party\n",
    "The child's laughter echoed through the small room, filling it with joy\n",
    "The sunflower stood tall, reaching for the sky with its bright yellow petals\n",
    "The city skyline was dominated by tall buildings and skyscrapers\n",
    "The cake was adorned with a beautiful, elaborate design for the special occasion\n",
    "The storm brought heavy rain and strong winds, causing widespread damage\n",
    "The small boat sailed peacefully on the calm, glassy lake\n",
    "The artist used bold strokes of color to create a striking and vivid painting\n",
    "The couple shared a passionate kiss under the starry night sky\n",
    "The mountain climber reached the summit after a long and arduous journey\n",
    "The child's eyes widened in amazement as the magician performed his tricks\n",
    "The garden was filled with the sweet fragrance of blooming flowers\n",
    "The basketball player made a big jump and scored a spectacular slam dunk\n",
    "The cat pounced on a small mouse, displaying its hunting instincts\n",
    "The mansion had a grand entrance with a sweeping staircase and chandeliers\n",
    "The raindrops fell gently, creating a rhythmic patter on the roof\n",
    "The baby took a big step forward, encouraged by her parents' applause\n",
    "The actor delivered a powerful and emotional performance on stage\n",
    "The butterfly fluttered its delicate wings, mesmerizing those who watched\n",
    "The company launched a small-scale advertising campaign to test the market\n",
    "The building was constructed with strong, sturdy materials to withstand earthquakes\n",
    "The singer's voice was powerful and resonated throughout the concert hall\n",
    "The child built a massive sandcastle with towers, moats, and bridges\n",
    "The garden was teeming with a variety of small insects and buzzing bees\n",
    "The athlete's muscles were well-developed and strong from years of training\n",
    "The sun cast long shadows as it set behind the mountains\n",
    "The couple exchanged heartfelt vows in a beautiful, intimate ceremony\n",
    "The dog wagged its tail vigorously, a sign of excitement and happiness\n",
    "The baby let out a tiny giggle, bringing joy to everyone around\"\"\""
   ]
  },
  {
   "cell_type": "code",
   "execution_count": 44,
   "id": "9bfaf848",
   "metadata": {},
   "outputs": [],
   "source": [
    "tokenizer = get_tokenizer(\"basic_english\")\n",
    "tokens = tokenizer(toy_data)\n",
    "# use yields_token to create a vocabulary, stronger choice wrt to map(tokenizer,song). Modified the function because we do not have a label in the song\n",
    "def yield_tokens(data_iter):\n",
    "    for text in data_iter:\n",
    "        yield tokenizer(text)\n",
    "\n",
    "vocab = build_vocab_from_iterator(yield_tokens([toy_data]), specials=[\"<unk>\"])\n",
    "vocab.set_default_index(vocab[\"<unk>\"])\n",
    "\n",
    "def text_pipeline(text):\n",
    "    return vocab(tokenizer(text))"
   ]
  },
  {
   "cell_type": "markdown",
   "id": "897464c0",
   "metadata": {},
   "source": [
    "Training functions, used both in CBOW and skip-gram: "
   ]
  },
  {
   "cell_type": "code",
   "execution_count": 45,
   "id": "d672fa89",
   "metadata": {},
   "outputs": [],
   "source": [
    "def train(dataloader, model, optimizer, criterion, number_of_epochs = 1):\n",
    "    LOSS = [] \n",
    "    for epoch in tqdm(range(number_of_epochs)):\n",
    "        total_loss = 0.0\n",
    "        for idx, samples in enumerate(dataloader):\n",
    "\n",
    "            model.zero_grad()         \n",
    "            # Check for EmbeddingBag layer in the model, used in the CBOW model\n",
    "            if any(isinstance(module, nn.EmbeddingBag) for _, module in model.named_modules()):\n",
    "                target, context, offsets = samples\n",
    "                predicted = model(context, offsets)\n",
    "            \n",
    "            # Check for Embedding layer in the model\n",
    "            elif any(isinstance(module, nn.Embedding) for _, module in model.named_modules()):\n",
    "                target, context = samples\n",
    "                predicted = model(context)\n",
    "\n",
    "            loss = criterion(predicted, target)  \n",
    "            total_loss += loss.item() \n",
    "\n",
    "            loss.backward() \n",
    "            torch.nn.utils.clip_grad_norm_(model.parameters(), 0.1)\n",
    "            optimizer.step()   \n",
    "\n",
    "        LOSS.append(total_loss/len(dataloader))  \n",
    "\n",
    "    return LOSS "
   ]
  },
  {
   "cell_type": "markdown",
   "id": "e67f4561",
   "metadata": {},
   "source": [
    "## CBOW"
   ]
  },
  {
   "cell_type": "code",
   "execution_count": 46,
   "id": "dee24d33",
   "metadata": {},
   "outputs": [
    {
     "data": {
      "text/plain": [
       "['i', 'wish', 'i', 'was', 'little', 'bit', 'taller', 'i', 'wish', 'i']"
      ]
     },
     "execution_count": 46,
     "metadata": {},
     "output_type": "execute_result"
    }
   ],
   "source": [
    "tokens[0:10]"
   ]
  },
  {
   "cell_type": "markdown",
   "id": "08bf31eb",
   "metadata": {},
   "source": [
    "The following is similar to the N-gram, again for educational purposes:"
   ]
  },
  {
   "cell_type": "code",
   "execution_count": 47,
   "id": "e1a633a9",
   "metadata": {},
   "outputs": [
    {
     "data": {
      "text/plain": [
       "[(['i', 'wish', 'was', 'little'], 'i'),\n",
       " (['wish', 'i', 'little', 'bit'], 'was')]"
      ]
     },
     "execution_count": 47,
     "metadata": {},
     "output_type": "execute_result"
    }
   ],
   "source": [
    "CONTEXT_SIZE = 2 #we look to CONTEXT_SIZE words before and CONTEXT_SIZE words after the target word\n",
    "cbow_data = []\n",
    "\n",
    "for i in range(CONTEXT_SIZE, len(tokens) - CONTEXT_SIZE):\n",
    "\n",
    "    context = (\n",
    "        [tokens [i - CONTEXT_SIZE + j] for j in range(CONTEXT_SIZE)]\n",
    "        + [tokens [i + j + 1] for j in range(CONTEXT_SIZE)]\n",
    "    )\n",
    "\n",
    "    target = tokens [i]\n",
    "\n",
    "    cbow_data.append((context, target))\n",
    "\n",
    "cbow_data[0:2]"
   ]
  },
  {
   "cell_type": "markdown",
   "id": "ae172785",
   "metadata": {},
   "source": [
    "Now we build the collate function, which does the same but return target, context and offsets separately:"
   ]
  },
  {
   "cell_type": "code",
   "execution_count": 48,
   "id": "7baefc8d",
   "metadata": {},
   "outputs": [],
   "source": [
    "def collate_batch(batch):\n",
    "    target_list, context_list, offsets = [], [], [0]\n",
    "    for _context, _target in batch:\n",
    "        \n",
    "        target_list.append(vocab[_target])  \n",
    "        processed_context = torch.tensor(text_pipeline(' '.join(_context)), dtype=torch.int64)\n",
    "        context_list.append(processed_context)\n",
    "        offsets.append(processed_context.size(0))\n",
    "    target_list = torch.tensor(target_list, dtype=torch.int64)\n",
    "    offsets = torch.tensor(offsets[:-1]).cumsum(dim=0)\n",
    "    context_list = torch.cat(context_list)\n",
    "    return target_list.to(device), context_list.to(device), offsets.to(device)"
   ]
  },
  {
   "cell_type": "code",
   "execution_count": 49,
   "id": "dc0daf4d",
   "metadata": {},
   "outputs": [],
   "source": [
    "BATCH_SIZE = 64  # batch size for training\n",
    "\n",
    "dataloader_cbow = DataLoader(\n",
    "    cbow_data, batch_size=BATCH_SIZE, shuffle=True, collate_fn=collate_batch)"
   ]
  },
  {
   "cell_type": "code",
   "execution_count": 50,
   "id": "4ec51535",
   "metadata": {},
   "outputs": [],
   "source": [
    "class CBOW(nn.Module):\n",
    "    def __init__(self, vocab_size, embed_dim, num_class):\n",
    "        \n",
    "        super(CBOW, self).__init__()\n",
    "        self.embedding = nn.EmbeddingBag(vocab_size, embed_dim, sparse=False)\n",
    "        self.linear1 = nn.Linear(embed_dim, embed_dim//2)\n",
    "        self.fc = nn.Linear(embed_dim//2, vocab_size)\n",
    "        self.init_weights()\n",
    "\n",
    "    def init_weights(self):\n",
    "        initrange = 0.5\n",
    "        self.embedding.weight.data.uniform_(-initrange, initrange)\n",
    "        self.fc.weight.data.uniform_(-initrange, initrange)\n",
    "        self.fc.bias.data.zero_()\n",
    "        \n",
    "    def forward(self, text, offsets):\n",
    "        out = self.embedding(text, offsets)\n",
    "        out = torch.relu(self.linear1(out))\n",
    "        return self.fc(out)\n",
    "\n",
    "vocab_size = len(vocab)\n",
    "emsize = 24\n",
    "model_cbow = CBOW(vocab_size, emsize, vocab_size).to(device)"
   ]
  },
  {
   "cell_type": "code",
   "execution_count": 51,
   "id": "033b6cd8",
   "metadata": {},
   "outputs": [
    {
     "data": {
      "application/vnd.jupyter.widget-view+json": {
       "model_id": "747658f26c5043ab98a9064b5bf79c1c",
       "version_major": 2,
       "version_minor": 0
      },
      "text/plain": [
       "  0%|          | 0/400 [00:00<?, ?it/s]"
      ]
     },
     "metadata": {},
     "output_type": "display_data"
    }
   ],
   "source": [
    "LR = 5 \n",
    "criterion = torch.nn.CrossEntropyLoss() \n",
    "optimizer = torch.optim.SGD(model_cbow.parameters(), lr = LR)\n",
    "\n",
    "loss = train(dataloader = dataloader_cbow, model = model_cbow, optimizer = optimizer, criterion = criterion, number_of_epochs = 400)"
   ]
  },
  {
   "cell_type": "code",
   "execution_count": 52,
   "id": "d5056ebd",
   "metadata": {},
   "outputs": [
    {
     "data": {
      "text/plain": [
       "[<matplotlib.lines.Line2D at 0x32607d0f0>]"
      ]
     },
     "execution_count": 52,
     "metadata": {},
     "output_type": "execute_result"
    },
    {
     "data": {
      "image/png": "[encoded data removed]",
      "text/plain": [
       "<Figure size 640x480 with 1 Axes>"
      ]
     },
     "metadata": {},
     "output_type": "display_data"
    }
   ],
   "source": [
    "plt.plot(loss)"
   ]
  },
  {
   "cell_type": "markdown",
   "id": "f2ac9984",
   "metadata": {},
   "source": [
    "## Skip-gram"
   ]
  },
  {
   "cell_type": "code",
   "execution_count": 53,
   "id": "1eb87bf3",
   "metadata": {},
   "outputs": [
    {
     "name": "stdout",
     "output_type": "stream",
     "text": [
      "Tokens: ['i', 'wish', 'i', 'was', 'little', 'bit', 'taller', 'i', 'wish', 'i']\n",
      "CBOW: [(['i', 'wish', 'was', 'little'], 'i'), (['wish', 'i', 'little', 'bit'], 'was')]\n",
      "Skip: [('i', ['wish', 'i', 'was', 'little']), ('was', ['i', 'wish', 'little', 'bit'])]\n",
      "[('i', 'wish'), ('i', 'i'), ('i', 'was'), ('i', 'little')]\n"
     ]
    }
   ],
   "source": [
    "CONTEXT_SIZE = 2\n",
    "skip_data = []\n",
    "\n",
    "for i in range(CONTEXT_SIZE, len(tokens) - CONTEXT_SIZE):\n",
    "\n",
    "    context = (\n",
    "        [tokens[i - j - 1] for j in range(CONTEXT_SIZE)]  # Preceding words\n",
    "        + [tokens[i + j + 1] for j in range(CONTEXT_SIZE)]  # Succeeding words\n",
    "    )\n",
    "    target = tokens[i]\n",
    "    skip_data.append((target, context))\n",
    "\n",
    "print('Tokens:',tokens[0:10])\n",
    "print('CBOW:',cbow_data[0:2])\n",
    "print('Skip:',skip_data[0:2]) # opposite of CBOW\n",
    "\n",
    "\n",
    "skip_data_flat = [(target, context_word) for target, context in skip_data for context_word in context] # flatten the list of tuples into a single list, for the nn.EmbeddingBag\n",
    "      \n",
    "print(skip_data_flat[0:4])"
   ]
  },
  {
   "cell_type": "code",
   "execution_count": 54,
   "id": "b3d000b5",
   "metadata": {},
   "outputs": [],
   "source": [
    "def collate_fn(batch):\n",
    "    target_list, context_list = [], []\n",
    "    for _context, _target in batch:\n",
    "        \n",
    "        target_list.append(vocab[_target]) \n",
    "        context_list.append(vocab[_context])\n",
    "        \n",
    "    target_list = torch.tensor(target_list, dtype=torch.int64)\n",
    "    context_list = torch.tensor(context_list, dtype=torch.int64)\n",
    "    return target_list.to(device), context_list.to(device)\n",
    "\n",
    "dataloader = DataLoader(skip_data_flat, batch_size = BATCH_SIZE, collate_fn = collate_fn)\n"
   ]
  },
  {
   "cell_type": "code",
   "execution_count": 55,
   "id": "319c2f06",
   "metadata": {},
   "outputs": [],
   "source": [
    "class SkipGram_Model(nn.Module):\n",
    "\n",
    "    def __init__(self, vocab_size, embed_dim):\n",
    "        super(SkipGram_Model, self).__init__()\n",
    "        self.embeddings = nn.Embedding(\n",
    "            num_embeddings=vocab_size,\n",
    "            embedding_dim=embed_dim\n",
    "        )\n",
    "        self.fc = nn.Linear(in_features=embed_dim, out_features=vocab_size)\n",
    "\n",
    "    def forward(self, text):\n",
    "        out = self.embeddings(text)\n",
    "        out = torch.relu(out)\n",
    "        out = self.fc(out)\n",
    "\n",
    "        return out\n",
    "\n",
    "emsize = 24\n",
    "model_sg = SkipGram_Model(vocab_size, emsize).to(device)"
   ]
  },
  {
   "cell_type": "code",
   "execution_count": 56,
   "id": "7dd4bf63",
   "metadata": {},
   "outputs": [
    {
     "data": {
      "application/vnd.jupyter.widget-view+json": {
       "model_id": "c76d34a4c6d94ebeb7ab409ed9924edd",
       "version_major": 2,
       "version_minor": 0
      },
      "text/plain": [
       "  0%|          | 0/400 [00:00<?, ?it/s]"
      ]
     },
     "metadata": {},
     "output_type": "display_data"
    }
   ],
   "source": [
    "LR = 5  \n",
    "\n",
    "criterion = torch.nn.CrossEntropyLoss()\n",
    "optimizer = torch.optim.SGD(model_sg.parameters(), lr = LR)\n",
    "\n",
    "loss = train(dataloader, model_sg, optimizer, criterion, number_of_epochs = 400)"
   ]
  },
  {
   "cell_type": "code",
   "execution_count": 57,
   "id": "06a9c9c1",
   "metadata": {},
   "outputs": [
    {
     "data": {
      "image/png": "[encoded data removed]",
      "text/plain": [
       "<Figure size 640x480 with 1 Axes>"
      ]
     },
     "metadata": {},
     "output_type": "display_data"
    }
   ],
   "source": [
    "plt.plot(loss)\n",
    "plt.show()"
   ]
  },
  {
   "cell_type": "markdown",
   "id": "54f48d46",
   "metadata": {},
   "source": [
    "## Using Gensim"
   ]
  },
  {
   "cell_type": "markdown",
   "id": "02152ef4",
   "metadata": {},
   "source": [
    "`vector_size` = hidden_dimension, `window` = size_of_context_window, `min_count` parameter sets the minimum frequency of a word to be included in the training process. Finally, the `workers` parameter controls the number of threads used for training."
   ]
  },
  {
   "cell_type": "code",
   "execution_count": 58,
   "id": "0d4a6007",
   "metadata": {},
   "outputs": [],
   "source": [
    "# from gensim.models import Word2Vec\n",
    "\n",
    "# sentences = [[\"I\", \"like\", \"to\", \"eat\", \"pizza\"],\n",
    "#              [\"Pizza\", \"is\", \"my\", \"favorite\", \"food\"],\n",
    "#              [\"I\", \"enjoy\", \"eating\", \"pasta\"]]\n",
    "# sentences = [[word.lower() for word in sentence] for sentence in sentences]\n",
    "\n",
    "# w2v_model = Word2Vec(sentences, vector_size = 100, window = 3, min_count = 1, workers = 4)\n",
    "\n",
    "# w2v_model.build_vocab(sentences, progress_per = 10000)\n",
    "\n",
    "# w2v_model.train(sentences, total_examples = w2v_model.corpus_count, epochs = 30, report_delay = 1)"
   ]
  },
  {
   "cell_type": "code",
   "execution_count": 59,
   "id": "a6e632d2",
   "metadata": {},
   "outputs": [],
   "source": [
    "# similar_words = w2v_model.wv.most_similar(\"pizza\")\n",
    "# print(\"Similar words to 'pizza':\", similar_words)\n",
    "\n",
    "# # Calculating word similarity\n",
    "# similarity = w2v_model.wv.similarity(\"pizza\", \"pasta\")\n",
    "# print(\"Similarity between 'pizza' and 'pasta':\", similarity)"
   ]
  },
  {
   "cell_type": "code",
   "execution_count": 60,
   "id": "790c9b4b",
   "metadata": {},
   "outputs": [],
   "source": [
    "# # Extract word vectors and create word-to-index mapping\n",
    "# word_vectors = w2v_model.wv\n",
    "# # a dictionary to map words to their index in vocab\n",
    "# word_to_index = {word: index for index, word in enumerate(word_vectors.index_to_key)}\n",
    "\n",
    "# # Create an instance of nn.Embedding and load it with the trained vectors\n",
    "# embedding_dim = w2v_model.vector_size\n",
    "# embedding = torch.nn.Embedding(len(word_vectors.index_to_key), embedding_dim)\n",
    "# embedding.weight.data.copy_(torch.from_numpy(word_vectors.vectors))\n",
    "\n",
    "# # Example usage: get the embedding for a word\n",
    "# word = \"pizza\"\n",
    "# word_index = word_to_index[word]\n",
    "# word_embedding = embedding(torch.LongTensor([word_index]))\n",
    "# print(f\"Word: {word}, Embedding: {word_embedding.detach().numpy()}\")"
   ]
  },
  {
   "cell_type": "markdown",
   "id": "2c072e34",
   "metadata": {},
   "source": [
    "# 5) Sequence-to-sequence model"
   ]
  },
  {
   "cell_type": "markdown",
   "id": "55db10d0",
   "metadata": {},
   "source": [
    "## Idea"
   ]
  },
  {
   "cell_type": "markdown",
   "id": "f8a4c302",
   "metadata": {},
   "source": [
    "The aim here is for **transform a sequence into another**, and it is possibile that the first sequence has a different lenght from the second. They are used for translation, chatbots, code generation, image generation and text summarization. They overclass a problem with BOW, that is that 'the dog bites the cat' and 'the cat bites the dog' has the same BOW! Each sentence is completed with <bos> and <eos>, then are sorted by lenght (to batches the one with similar lenght), and finally we create batches, each with sentences of the same dimension (use padding). Moreover, they want to manage **input of different lenght** and **keep a global memory**, contrarily to word-to-vec and N-grams, which have a local memory. These models use:\n",
    "\n",
    "1. RNN, where the hidden layer is used for memory, concatenating the (outputs of) input layer at time $t$ and the hidden layer at $t-1$ to connect past and future. The input layer is given as input to the next step.\n",
    "\n",
    "RNNs have short memory and are challenging to train. Thus we use:\n",
    "\n",
    "2. Gated RNN: \n",
    "3. LSTM:\n",
    "4. Transformers\n"
   ]
  },
  {
   "cell_type": "markdown",
   "id": "26e82f78",
   "metadata": {},
   "source": [
    "Since sequence-to-sequence may not have the same dimensions (for example a sentence $x$ in input has lenght $T_x$ and the output $y$ has $T_y$), we introduce encoder-decoder:\n",
    "\n",
    "![Logo OpenAI](https://www.interdb.jp/dl/part03/fig-13-01.png)\n"
   ]
  },
  {
   "cell_type": "markdown",
   "id": "e3f68c4d",
   "metadata": {},
   "source": [
    "Here $x^{(i)}$ is a token from the sentence $x$. The output of RNN on $x^{(1)}$, which is the hidden state $h^{(1)}$, is used as input for the next RNN and so on until the context $h^{(T_x)}$, which is the last hidden state. Notice that the outputs are not used in the encoder, whilst they are saved in the decoder part, which produces predictions one-token-per-time. Before an encoder RNN cell (blue) we can always insert an embedding layer, and bafore and after a RNN cell we can always insert an embedding and a linear layer, respectively."
   ]
  },
  {
   "cell_type": "markdown",
   "id": "a2cd3139",
   "metadata": {},
   "source": [
    "# 6) Evaluation"
   ]
  },
  {
   "cell_type": "markdown",
   "id": "b698d5c0",
   "metadata": {},
   "source": [
    "1. **Perplexity**: $e^{\\text{Cross-Entropy-Loss}}$ is used generically only on the training set. We use PyTorch.\n",
    "2. **Precision(n) and Recall(n)**: given a reference translation 'The cat sits on the mat' and the trduction given by the model 'The big cat sitting on the rug' we count the number of unigram matched (4) and bigram matched (1), and this gives a measure of similarity. Then  $$ \\text{Precision}_n = \\frac{\\text{Number of common } n\\text{-grams}}{\\text{Number of } n\\text{-grams in the prediction}}\\,,\\quad  \\text{Recall}_n = \\frac{\\text{Number of common } n\\text{-grams}}{\\text{Number of } n\\text{-grams in the reference}}\\,,\\quad F_1 = \\frac{2}{\\frac{1}{P_n}+\\frac{1}{R_n}}\\,.$$\n",
    "3. **ROUGE** (Recall-Oriented Understudy for Gisting Evaluation): ROUGE is a set of metrics commonly used for evaluating text summarization systems. It measures the overlap between the generated summary and one or more reference summaries. ROUGE calculates various metrics, such as ROUGE-N, which measures the n-gram overlap, and ROUGE-L, which measures the longest common subsequence. Higher ROUGE scores indicate better summarization quality.\n",
    "4. **BLEU** (Bilingual Evaluation Understudy): BLEU is a metric primarily used for evaluating machine translation systems. It compares the generated translation with one or more reference translations and assigns a score based on the degree of overlap. BLEU measures the precision of the generated translation by counting the number of n-grams (contiguous sequences of n words) that appear in both the generated and reference translations. A higher BLEU score indicates a better translation quality.\n",
    "\n",
    "Libraries for evaluation:\n",
    "\n",
    "- NLTK with\n",
    "\n",
    "    1. BLEU: nltk.translate.bleu_score\n",
    "    2. METEOR: nltk.translate.meteor_score module\n",
    "\n",
    "- PyTorch with perplexity and celoss\n",
    "- Other libraries with\n",
    "\n",
    "    1. BLEU: torchtext.data.metrics.bleu_score\n",
    "    2. ROUGE: torchmetrics.text.rouge.ROUGEScore"
   ]
  },
  {
   "cell_type": "markdown",
   "id": "760b9ce7",
   "metadata": {},
   "source": []
  }
 ],
 "metadata": {
  "kernelspec": {
   "display_name": "Trans_env",
   "language": "python",
   "name": "python3"
  },
  "language_info": {
   "codemirror_mode": {
    "name": "ipython",
    "version": 3
   },
   "file_extension": ".py",
   "mimetype": "text/x-python",
   "name": "python",
   "nbconvert_exporter": "python",
   "pygments_lexer": "ipython3",
   "version": "3.10.18"
  }
 },
 "nbformat": 4,
 "nbformat_minor": 5
}
