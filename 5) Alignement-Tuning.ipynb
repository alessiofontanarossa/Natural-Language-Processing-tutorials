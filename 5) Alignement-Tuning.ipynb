{
 "cells": [
  {
   "cell_type": "markdown",
   "id": "95dbfb0d",
   "metadata": {},
   "source": [
    "As it is (without anything downloaded and always with 1 epoch when needed), the running time of the whole notebook is (approximately) <span style=\"background-color: lightblue\"> 4 minutes</span>.\n",
    "\n",
    "<span style=\"background-color: yellow\"> </span>"
   ]
  },
  {
   "cell_type": "markdown",
   "id": "fab0bca2",
   "metadata": {},
   "source": [
    "#### Libraries"
   ]
  },
  {
   "cell_type": "code",
   "execution_count": 59,
   "id": "446fdb8b",
   "metadata": {},
   "outputs": [],
   "source": [
    "########################## UTILITY AND SYSTEM ##########################\n",
    "\n",
    "import os                       # filesystem operations\n",
    "import csv                      # reading/writing CSV files\n",
    "import json                     # JSON parsing and serialization\n",
    "import math                     # basic math functions\n",
    "import random                   # random number generation\n",
    "import time                     # time-related functions\n",
    "import tempfile                 # temporary file management\n",
    "import tarfile                  # tar archive handling\n",
    "import io                       # input/output streams\n",
    "import pickle                   # object serialization\n",
    "import importlib                # dynamic import of modules\n",
    "import multiprocessing          # parallel process management\n",
    "import pkg_resources            # package and dependency management\n",
    "from copy import deepcopy       # deep copy of objects\n",
    "from pathlib import Path        # filesystem paths handling (cross-platform)\n",
    "\n",
    "########################## DOWNLOAD ##########################\n",
    "\n",
    "import requests                 # HTTP requests library\n",
    "import wget                     # file downloads from URLs\n",
    "from urllib.request import urlopen  # open URLs (alternative to requests)\n",
    "\n",
    "########################## VISUALIZATION ##########################\n",
    "\n",
    "import matplotlib.pyplot as plt # basic plotting library\n",
    "import plotly.graph_objs as go  # interactive plotting\n",
    "from tqdm.notebook import tqdm  # progress bars for loops in notebooks\n",
    "from pprint import pprint       # formatted pretty-printing of objects\n",
    "\n",
    "########################## DATAFRAME ##########################\n",
    "\n",
    "import numpy as np              # numerical arrays and operations\n",
    "import pandas as pd             # dataframes and data manipulation\n",
    "from sklearn.manifold import TSNE\n",
    "\n",
    "########################## TEXT PROCESSING ##########################\n",
    "\n",
    "import re                      # regular expressions\n",
    "import string                  # string constants and operations\n",
    "from itertools import chain, islice  # advanced iteration and chaining\n",
    "\n",
    "########################## TOKENIZATION ##########################\n",
    "\n",
    "from collections import Counter, OrderedDict  # frequency counts and ordered dictionaries\n",
    "import nltk                                   # natural language processing toolkit\n",
    "from nltk.tokenize import word_tokenize       # word tokenization\n",
    "import spacy                                  # advanced NLP (tokenization, parsing)\n",
    "from torchtext.data.utils import get_tokenizer       # torchtext tokenizers\n",
    "from torchtext.data.functional import to_map_style_dataset\n",
    "\n",
    "from torchtext.vocab import build_vocab_from_iterator # build vocabulary from iterator\n",
    "\n",
    "########################## DATASET AND DATALOADER ##########################\n",
    "\n",
    "from torch.utils.data import Dataset, DataLoader, random_split   # datasets and data loading utilities\n",
    "from torch.nn.utils.rnn import pad_sequence                      # padding variable-length sequences\n",
    "from datasets import load_dataset, DatasetDict                   # HuggingFace datasets loading\n",
    "from torchtext.datasets import AG_NEWS                           # torchtext built-in datasets\n",
    "\n",
    "########################## PYTORCH AND DEEP LEARNING ##########################\n",
    "\n",
    "import torch                             # PyTorch main library\n",
    "from torch import nn, Tensor             # neural network modules and tensors\n",
    "from torch.nn import CrossEntropyLoss    # common loss function for classification\n",
    "from torchsummary import summary as torchsummary\n",
    "from torchinfo import summary as torchinfosummary\n",
    "\n",
    "########################## WORD EMBEDDING ##########################\n",
    "\n",
    "from torchtext.vocab import GloVe        # pretrained GloVe embeddings\n",
    "# from gensim.models import Word2Vec     # word2vec embeddings from corpus (commented out)\n",
    "\n",
    "########################## HUGGING FACE ##########################\n",
    "\n",
    "import transformers                      # transformers library core\n",
    "from transformers import (\n",
    "    GPT2Tokenizer, GPT2LMHeadModel,     # GPT-2 tokenizer and model\n",
    "    BertTokenizer, BertTokenizerFast, BertConfig, BertForMaskedLM,  # BERT components\n",
    "    XLNetTokenizer,                     # XLNet tokenizer\n",
    "    DistilBertForSequenceClassification, DistilBertTokenizer, AutoModelForSequenceClassification,\n",
    "    pipeline,                          # easy pipelines for inference\n",
    "    AutoTokenizer,                    # auto tokenizer loader\n",
    "    AutoModelForCausalLM, GPT2ForSequenceClassification,\n",
    "    DataCollatorForLanguageModeling, TrainingArguments, Trainer,  # training utilities\n",
    "    set_seed, GenerationConfig,\n",
    "    BertModel,                        # BERT base model\n",
    "    PreTrainedTokenizerBase\n",
    ")\n",
    "from datasets import DatasetDict         # HuggingFace dataset dictionaries\n",
    "\n",
    "######################### TRL & PEFT (TRAINING & PARAMETER EFFICIENT FINE-TUNING) ##########################\n",
    "\n",
    "from trl import (\n",
    "    SFTConfig, SFTTrainer, DataCollatorForCompletionOnlyLM,\n",
    "    DPOConfig, DPOTrainer,\n",
    "    RewardTrainer, RewardConfig\n",
    ")\n",
    "from peft import get_peft_model, LoraConfig, TaskType\n",
    "from torchmetrics import Accuracy        # metrics for evaluation\n",
    "\n",
    "########################## RAG ##########################\n",
    "\n",
    "from transformers import (\n",
    "    DPRQuestionEncoder, DPRQuestionEncoderTokenizer,\n",
    "    DPRContextEncoder, DPRContextEncoderTokenizer\n",
    ")\n",
    "import faiss                              # similarity search library\n",
    "\n",
    "########################## EVALUATION ##########################\n",
    "\n",
    "import evaluate\n",
    "\n"
   ]
  },
  {
   "cell_type": "code",
   "execution_count": 60,
   "id": "792e3d71",
   "metadata": {},
   "outputs": [
    {
     "name": "stdout",
     "output_type": "stream",
     "text": [
      "Which device we are on: cpu\n"
     ]
    }
   ],
   "source": [
    "def accelerator(where = \"mps\"):\n",
    "    if where == \"mps\":\n",
    "        device = torch.device(\"mps\" if torch.backends.mps.is_available() else \"cpu\")\n",
    "        print(\"Which device we are on: {}\".format(device))\n",
    "        return device\n",
    "    if where == \"cuda\":\n",
    "        device = torch.device(\"cuda\" if torch.cuda.is_available() else \"cpu\")\n",
    "        print(\"Which device we are on: {}\".format(device))\n",
    "        return device\n",
    "    if where == \"cpu\":\n",
    "        device = torch.device(\"cpu\")\n",
    "        print(\"Which device we are on: {}\".format(device))\n",
    "        return device\n",
    "\n",
    "device = accelerator(\"cpu\")"
   ]
  },
  {
   "cell_type": "markdown",
   "id": "338f59e9",
   "metadata": {},
   "source": [
    "# A) CONCEPTS: Instruction-Tuning, Reward modelling, PPO, DPO"
   ]
  },
  {
   "cell_type": "markdown",
   "id": "4f1ad6c9",
   "metadata": {},
   "source": [
    "## Fine-Tuning vs Alignement-tuning"
   ]
  },
  {
   "cell_type": "markdown",
   "id": "a3929b64",
   "metadata": {},
   "source": [
    "Fine-tuning LLMs adapts pre-trained models to specif tasks/domains using domain-specific data. This process adjust model's parameters to improve task performance, and is useful if you have a limited dataset. Moreover it is time and resources efficient. We should pay attention to **catastrophic forgetting**, to prevent the model from losing its initial broad knowledge. Two main approaches to optimize language models:\n",
    "1. <span style=\"background-color: yellow\">FINE-TUNING</span>: improve the general features of a model on a specific task, or <span style=\"background-color: pink\">\"learn the task\"</span>. This can be done in various ways:\n",
    "    1. Self-supervised fine-tuning;\n",
    "    2. SFT supervised fine-tuning:\n",
    "        - Full fine-tuning;\n",
    "        - PEFT Parameter-efficient fine-tuning (<span style=\"background-color: orange\">adapters and LoRA</span>);\n",
    "2. <span style=\"background-color: yellow\">ALIGNEMENT-TUNING</span>: improve the behaviour and alignement of a model on the human preferences, or <span style=\"background-color: pink\">\"become similar to humans\"</span>. This is done with:\n",
    "    - Instruction-tuning, which is supervised, and then (one or the other):\n",
    "        1. RHLF: reinforcement learning from human feedback, or reward-modelling;\n",
    "        2. DPO: direct preference optimization, which does not need rewards and is directly controlled by humans.\n",
    "\n",
    "| Aspect                         | <span style=\"background-color: yellow\">FINE-TUNING</span>              | <span style=\"background-color: yellow\">ALIGNEMENT-TUNING</span>  |\n",
    "|-------------------------------|--------------------------------------------------|---------------------------------------------------|\n",
    "| **Main Goal**                 | Task-specific skill improvement                  | Align model behavior with human intent            |\n",
    "| **Data Format**              | Input → Target (e.g., text → label or answer)    | Instruction + Response, Human Preference pairs    |\n",
    "| **Supervision Type**         | Supervised or semi-supervised                    | Supervised (instructions), Reinforcement (RLHF), or Preference Optimization (DPO) |\n",
    "| **Use Case**                 | Classification, summarization, translation, etc. | Chatbots, assistants, safe and helpful responses  |\n",
    "| **Model Focus**              | Learning the correct output                      | Learning *how to behave* appropriately            |\n",
    "| **Parameter Updates**        | Full model (or partial via PEFT)                 | Usually full model tuning in multiple stages      |\n",
    "| **Typical Final Goal**       | Accuracy, F1, BLEU, etc.                         | Helpfulness, safety, alignment with human values  |"
   ]
  },
  {
   "cell_type": "markdown",
   "id": "ab49f998",
   "metadata": {},
   "source": [
    "## Alignement-Tuning"
   ]
  },
  {
   "cell_type": "markdown",
   "id": "60d7af39",
   "metadata": {},
   "source": [
    "### Instruction-Tuning"
   ]
  },
  {
   "cell_type": "markdown",
   "id": "1a655cd1",
   "metadata": {},
   "source": [
    "It trains the model with <span style=\"background-color: yellow\">expert labeled dataset </span> and is used before DPO (direct preference optimization) and RLHF (Reinf Learning from human feedback). It is composed by:\n",
    "1. **instruction** (es: answer the following question based on the provided context)\n",
    "2. **input** (es: What is the most important achievement of Einstein? He was a physicist.) **Not all models have input**\n",
    "3. **output** (es: He is best known for E=mc^2.)\n",
    "\n"
   ]
  },
  {
   "cell_type": "markdown",
   "id": "0c4fba8a",
   "metadata": {},
   "source": [
    "Usually, we use **Instruction masking**:\n",
    "\n",
    "During training, instruction tokens are masked (ignored in loss calculation), while response tokens are unmasked (used to compute loss).\n",
    "This ensures the model focuses on learning how to generate accurate answers rather than memorizing question formats.\n",
    "\n",
    "Why?\n",
    "\n",
    "Prevents overfitting to the instruction phrasing\n",
    "\n",
    "Improves response generation quality"
   ]
  },
  {
   "cell_type": "markdown",
   "id": "443d4d94",
   "metadata": {},
   "source": [
    "The temperature parameter in language models controls how random or predictable the generated responses are. Here's a simple breakdown:\n",
    "\n",
    "Low Temperature (e.g., 0.5): The model becomes more conservative. It tends to choose words that are more likely based on the context, leading to more predictable and coherent responses. Think of it as a chef sticking to a traditional recipe.\n",
    "High Temperature (e.g., 2.0 or higher): The model becomes more adventurous. It allows for a wider range of word choices, including less likely options, resulting in more diverse and creative responses. This is like a chef experimenting with unusual ingredients.\n",
    "\n",
    "Example: \n",
    "\n",
    "At a low temperature, if the prompt is \"The sky is,\" the model might generate \"blue\" or \"clear.\"\n",
    "At a high temperature, it might generate \"purple\" or \"filled with marshmallows,\" leading to more unexpected and imaginative responses.\n"
   ]
  },
  {
   "cell_type": "markdown",
   "id": "a7473266",
   "metadata": {},
   "source": [
    "#### examples of templates"
   ]
  },
  {
   "cell_type": "markdown",
   "id": "e3ae5080",
   "metadata": {},
   "source": [
    "Let's review certain examples for various templates:\n",
    "\n",
    "---\n",
    "#### Response template\n",
    "Template: `### Question: {question}\\n ### Answer: {answer}`\n",
    "\n",
    "Example:\n",
    "```\n",
    "### Question: What is the capital of France?\n",
    "### Answer: Paris\n",
    "```\n",
    "\n",
    "---\n",
    "#### Conversation template\n",
    "\n",
    "Template: `### User: {user_input}\\n ### Bot: {bot_response}`\n",
    "Example:\n",
    "```\n",
    "### User: How are you today?\n",
    "### Bot: I'm doing great, thank you! How can I assist you today?\n",
    "```\n",
    "\n",
    "---\n",
    "#### Instruction and output template\n",
    "\n",
    "Template: `### Instruction: {instruction}\\n ### Output: {output}`\n",
    "\n",
    "Example:\n",
    "```\n",
    "### Instruction: Translate the following sentence to Spanish: \"Hello, how are you?\"\n",
    "### Output: \"Hola, ¿cómo estás?\"\n",
    "```\n",
    "\n",
    "---\n",
    "#### Completion template\n",
    "\n",
    "Template: `{prompt} ### Completion: {completion}`\n",
    "Example:\n",
    "```\n",
    "Once upon a time in a faraway land, ### Completion: there lived a wise old owl who knew all the secrets of the forest.\n",
    "```\n",
    "\n",
    "#### Summarization template\n",
    "\n",
    "Template: `### Text: {text}\\n ### Summary: {summary}`\n",
    "\n",
    "Example:\n",
    "```\n",
    "### Text: The quick brown fox jumps over the lazy dog.\n",
    "### Summary: A fox jumps over a dog.\n",
    "```\n",
    "\n",
    "---\n",
    "#### Dialogue template\n",
    "\n",
    "Template: `### Speaker 1: {utterance_1}\\n ### Speaker 2: {utterance_2}\\n ### Speaker 1: {utterance_3}`\n",
    "\n",
    "Example:\n",
    "```\n",
    "### Speaker 1: Hi, what are you doing today?\n",
    "### Speaker 2: I'm going to the park.\n",
    "### Speaker 1: That sounds fun!\n",
    "```\n",
    "\n",
    "---\n",
    "#### Code generation template\n",
    "\n",
    "Template: `### Task: {task_description}\\n ### Code: {code_output}`\n",
    "\n",
    "Example:\n",
    "```\n",
    "### Task: Write a function to add two numbers in Python.\n",
    "### Code: def add(a, b):\\n    return a + b\n",
    "```\n",
    "\n",
    "---\n",
    "#### Data analysis template\n",
    "\n",
    "Template: `### Analysis Task: {task_description}\\n ### Analysis: {analysis_output}`\n",
    "\n",
    "Example:\n",
    "```\n",
    "### Analysis Task: Provide insights from the sales data of Q1 2022.\n",
    "### Analysis: The sales increased by 15% compared to Q4 2021, with the highest growth in the electronics category.\n",
    "```\n",
    "\n",
    "---\n",
    "#### Recipe template\n",
    "\n",
    "Template: `### Recipe Name: {recipe_name}\\n ### Ingredients: {ingredients}\\n ### Instructions: {instructions}`\n",
    "\n",
    "Example:\n",
    "```\n",
    "### Recipe Name: Chocolate Chip Cookies\n",
    "### Ingredients: Flour, Sugar, Chocolate Chips, Butter, Eggs, Vanilla Extract\n",
    "### Instructions: Mix the dry ingredients, add the wet ingredients, fold in the chocolate chips, and bake at 350°F for 10-12 minutes.\n",
    "```\n",
    "\n",
    "---\n",
    "#### Explanation template\n",
    "\n",
    "Template: `### Concept: {concept}\\n ### Explanation: {explanation}`\n",
    "\n",
    "Example:\n",
    "```\n",
    "### Concept: Photosynthesis\n",
    "### Explanation: Photosynthesis is the process by which green plants use sunlight to synthesize nutrients from carbon dioxide and water.\n",
    "```\n",
    "\n",
    "---\n"
   ]
  },
  {
   "cell_type": "markdown",
   "id": "096cd1d8",
   "metadata": {},
   "source": [
    "### RLHF: Reward modelling (Response Evaluation)"
   ]
  },
  {
   "cell_type": "markdown",
   "id": "ce5296a1",
   "metadata": {},
   "source": [
    "Quantify response quality by assigning numerical values to responses to assess and compare performances. Moreover it reflects user preferences for customized model behaviour:\n",
    "\n",
    "- The dataset used in this case, as said in 'instruction-tuning' is an <span style=\"background-color: yellow\">expert labeled dataset </span>. In particular, given a model, it comprises:\n",
    "    - a question;\n",
    "    - one or more answers predicted by the model;\n",
    "    - a label, given by an human, which choose the preferable answer.\n",
    "\n",
    "For example\n",
    "\n",
    "| Prompt                                                | Response A                                           | Response B                                           | Preferred |\n",
    "|-------------------------------------------------------|------------------------------------------------------|------------------------------------------------------|-----------|\n",
    "| What is the capital of France?                        | The capital of France is Paris.                      | France is a country in Europe.                       | A         |\n",
    "| Can you explain the theory of evolution in simple terms? | Evolution is the idea that species change over time through natural selection. | Charles Darwin was a British naturalist born in 1809. | A         |\n",
    "\n",
    "\n",
    "\n",
    "\n",
    " We tokenize the query (with tokens $\\text{word}_{i}$) and the answer (with tokens $\\widehat{\\text{word}}_{i}$, where the hat is present because this is generated by the model, so it is an extimation). Then we use the function $r$ on \n",
    "\n",
    "$$ r(\\text{word}_1,\\ldots,\\text{word}_{N_{\\text{query}}},\\widehat{\\text{word}}_1,\\ldots,\\widehat{\\text{word}}_{N_{\\text{answer}}})\\,.$$\n",
    "\n",
    "This function $r$ is obtained with a trainable model with an appropriate loss. So we want to train a model that identifies the desidered model from another model, basing on context and preferences.\n",
    "1. **function $r$**: it is the contextual embedding from an encoder of the concatenated $\\text{word}_1,\\ldots,\\text{word}_{N_{\\text{query}}},\\widehat{\\text{word}}_1,\\ldots,\\widehat{\\text{word}}_{N_{\\text{answer}}}$. This embedding is then projected (e.g., via a linear layer) to a scalar reward score.\n",
    "2. **Bradley-Terry reward loss** is used: using two different responses $A$ and $B$, find the parameters by applying \n",
    "\n",
    "$$ \\argmin_{\\text{parameters}} \\bigl[-\\sigma(r_A - r_B) \\bigr]\\,.$$  \n",
    "This encourages the model to assign a higher score to the preferred response."
   ]
  },
  {
   "cell_type": "markdown",
   "id": "e63e2633",
   "metadata": {},
   "source": [
    "Given a reward function $r$, the expected reward for N queries, each with K possible answers, is\n",
    "\n",
    "$$ E[r]\\sim \\frac{1}{N}\\sum_{n}^{N} \\frac{1}{K} \\sum_{k}^{K} r(\\text{query}_n, \\text{answer}_{n,k})$$"
   ]
  },
  {
   "cell_type": "markdown",
   "id": "c4bab81a",
   "metadata": {},
   "source": [
    "### Proximal Policy Optimization (PPO)"
   ]
  },
  {
   "cell_type": "markdown",
   "id": "e19f411d",
   "metadata": {},
   "source": [
    "The idea is to use reinforcement learning (from human feedback) like this:\n",
    "1. We have a LLM model $M_L$ (that needs to be fine-tuned by instruction fine-tuning), a reference model $M$ (pre-trained) and a reward model $M_R$;\n",
    "2. Give a $\\text{query}_n$ to $M_L$, this produces $K$ answers $\\text{answer}_{n,k}$;\n",
    "3. The model $M_R$ computes the rewards $r(\\text{query}_n, \\text{answer}_{n,k})$;\n",
    "4. Maximize a target function, which is the PPO (Proximal Policy Optimization) objective:\n",
    "   - a) Compute the log-probabilities of the generated answers under the current and reference (pre-trained) models;\n",
    "   - b) Use the reward signal $r$ to calculate the advantage estimates (e.g., via Generalized Advantage Estimation - GAE);\n",
    "   - c) Optimize the PPO clipped objective to update $M_L$, encouraging responses with higher rewards while staying close to the reference model;\n",
    "   - d) Optionally apply KL penalties to prevent the model from drifting too far from the original distribution;\n",
    "   - e) Repeat this process across multiple queries, batches, and epochs until convergence or performance stabilizes."
   ]
  },
  {
   "cell_type": "markdown",
   "id": "32fcbdb2",
   "metadata": {},
   "source": [
    "### Direct Preference Optimization (DPO)"
   ]
  },
  {
   "cell_type": "markdown",
   "id": "39aba278",
   "metadata": {},
   "source": [
    "Differently from the indirect $r$ method, DPO (which is a RL tecnique) directly change parameters to produce output aligned with human's feedback. In practice, the User should choose among two outputs. The optimal solution is to minimze the KL divergence, which brings to\n",
    "\n",
    "$$\n",
    "\\mathcal{L}_{\\text{DPO}} = -\\log\\bigg[ \\frac{\\exp(\\beta \\cdot \\log \\pi_\\theta(y^+|x))}{\\exp(\\beta \\cdot \\log \\pi_\\theta(y^+|x)) + \\exp(\\beta \\cdot \\log \\pi_\\theta(y^-|x))} \\bigg]\\,.\n",
    "$$\n"
   ]
  },
  {
   "cell_type": "markdown",
   "id": "ce1f67e3",
   "metadata": {},
   "source": [
    "# 1) Instruction-Tuning"
   ]
  },
  {
   "cell_type": "markdown",
   "id": "c3c11485",
   "metadata": {},
   "source": [
    "## Dataset"
   ]
  },
  {
   "cell_type": "markdown",
   "id": "fbe70d56",
   "metadata": {},
   "source": [
    "We use the CodeAlpaca 20k dataset (a coding dataset), and to keep thing simple we discard the examples that contain any 'input'"
   ]
  },
  {
   "cell_type": "code",
   "execution_count": 61,
   "id": "16484d11",
   "metadata": {},
   "outputs": [
    {
     "name": "stderr",
     "output_type": "stream",
     "text": [
      "python(19888) MallocStackLogging: can't turn off malloc stack logging because it was not enabled.\n"
     ]
    },
    {
     "name": "stdout",
     "output_type": "stream",
     "text": [
      "--2025-08-03 16:21:22--  https://cf-courses-data.s3.us.cloud-object-storage.appdomain.cloud/WzOT_CwDALWedTtXjwH7bA/CodeAlpaca-20k.json\n",
      "Risoluzione di cf-courses-data.s3.us.cloud-object-storage.appdomain.cloud (cf-courses-data.s3.us.cloud-object-storage.appdomain.cloud)... 198.23.119.245\n",
      "Connessione a cf-courses-data.s3.us.cloud-object-storage.appdomain.cloud (cf-courses-data.s3.us.cloud-object-storage.appdomain.cloud)|198.23.119.245|:443... connesso.\n",
      "Richiesta HTTP inviata, in attesa di risposta... 200 OK\n",
      "Lunghezza: 6957007 (6.6M) [application/json]\n",
      "Salvataggio in: «CodeAlpaca-20k.json»\n",
      "\n",
      "CodeAlpaca-20k.json 100%[===================>]   6.63M  3.42MB/s    in 1.9s    \n",
      "\n",
      "2025-08-03 16:21:25 (3.42 MB/s) - «CodeAlpaca-20k.json» salvato [6957007/6957007]\n",
      "\n"
     ]
    }
   ],
   "source": [
    "!wget https://cf-courses-data.s3.us.cloud-object-storage.appdomain.cloud/WzOT_CwDALWedTtXjwH7bA/CodeAlpaca-20k.json\n",
    "\n",
    "dataset = load_dataset(\"json\", data_files = \"CodeAlpaca-20k.json\", split = \"train\") #this *does not* take only the train subset\n",
    "dataset = dataset.filter(lambda example: example[\"input\"] == '')\n",
    "\n",
    "dataset = dataset.shuffle(seed=42) #shuffle it to be sure\n",
    "\n",
    "dataset_split = dataset.train_test_split(test_size=0.2, seed=42)\n",
    "train_dataset = dataset_split['train']\n",
    "test_dataset = dataset_split['test']\n",
    "\n",
    "tiny_train_dataset = train_dataset.select(range(10))\n",
    "tiny_test_dataset = test_dataset.select(range(10))"
   ]
  },
  {
   "cell_type": "code",
   "execution_count": 62,
   "id": "d3be384c",
   "metadata": {},
   "outputs": [
    {
     "data": {
      "text/plain": [
       "{'output': 'for i in list_str:\\n  print(i.upper())',\n",
       " 'instruction': 'Given the following list of strings:\\n\\nlist_str  = [\"one\", \"two\", \"three\", \"four\", \"five\"]\\n\\nWrite a program that prints out the strings in uppercase.',\n",
       " 'input': ''}"
      ]
     },
     "execution_count": 62,
     "metadata": {},
     "output_type": "execute_result"
    }
   ],
   "source": [
    "tiny_train_dataset[7]"
   ]
  },
  {
   "cell_type": "markdown",
   "id": "32b2fc51",
   "metadata": {},
   "source": [
    "## Model to be fine-tuned on the dataset"
   ]
  },
  {
   "cell_type": "markdown",
   "id": "3f152539",
   "metadata": {},
   "source": [
    "We load the model and its own toeknizer. This is not fine-tuned for prompt structured as \"### Instruction:\" and \"### Response:\". We will have to take this into account later, in the pre-processing section"
   ]
  },
  {
   "cell_type": "code",
   "execution_count": 63,
   "id": "1f0748a2",
   "metadata": {},
   "outputs": [],
   "source": [
    "model = AutoModelForCausalLM.from_pretrained(\"facebook/opt-350m\").to(device)\n",
    "tokenizer = AutoTokenizer.from_pretrained(\"facebook/opt-350m\", padding_side = 'left')"
   ]
  },
  {
   "cell_type": "markdown",
   "id": "615b610b",
   "metadata": {},
   "source": [
    "## Pre-processing of the dataset"
   ]
  },
  {
   "cell_type": "markdown",
   "id": "8903a82f",
   "metadata": {},
   "source": [
    "It is necessary now to put the dataset in a suitable format. The suitable format, in this case, is\n",
    "```\n",
    "'### Instruction:\\nConstruct an array of size 10 to store integers in Java.\\n\\n### Response:\\nint[] array = new int[10];</s>'\n",
    "```\n",
    "Here `</s>` is the end toke, available as `tokenizer.eos_token`.\n",
    "\n",
    "In particular we need to generate two functions, one with instructions and responses, and one with the instructions only for the training"
   ]
  },
  {
   "cell_type": "code",
   "execution_count": 64,
   "id": "da05bf28",
   "metadata": {},
   "outputs": [],
   "source": [
    "def formatting_prompts_func(dataset):\n",
    "    output_texts = []\n",
    "    for i in range(len(dataset['instruction'])):\n",
    "        text = (\n",
    "            f\"### Instruction:\\n{dataset['instruction'][i]}\"\n",
    "            f\"\\n\\n### Response:\\n{dataset['output'][i]}</s>\"\n",
    "        )\n",
    "        output_texts.append(text)\n",
    "    return output_texts\n",
    "\n",
    "def formatting_prompts_func_no_response(dataset):\n",
    "    output_texts = []\n",
    "    for i in range(len(dataset['instruction'])):\n",
    "        text = f\"### Instruction:\\n{dataset['instruction'][i]}\"\n",
    "        output_texts.append(text)\n",
    "    return output_texts"
   ]
  },
  {
   "cell_type": "markdown",
   "id": "f9b5e3d2",
   "metadata": {},
   "source": [
    "Example of usage:"
   ]
  },
  {
   "cell_type": "code",
   "execution_count": 65,
   "id": "a667afd9",
   "metadata": {},
   "outputs": [
    {
     "name": "stdout",
     "output_type": "stream",
     "text": [
      "### Instruction:\n",
      "How do you remove the last item from a list in Python?\n",
      "\n",
      "### Response:\n",
      "list.pop()</s>\n"
     ]
    }
   ],
   "source": [
    "print(formatting_prompts_func(tiny_test_dataset)[2])"
   ]
  },
  {
   "cell_type": "markdown",
   "id": "f0784935",
   "metadata": {},
   "source": [
    "On the test dataset, we have to create some lists\n",
    "\n",
    "| List                         | Content                                                           | Purpose                                                                 |\n",
    "|-----------------------------|--------------------------------------------------------------------|-------------------------------------------------------------------------|\n",
    "| `instructions_with_responses` | Full prompt: **instruction + expected response + `</s>` token**     | Create `expected_outputs`                  |\n",
    "| `instructions`                | Only **instruction**, without response                             | Used as input to test the model (to generate the response)              |\n",
    "| `expected_outputs`            | Only **expected response**, extracted from `instructions_with_responses`, without `</s>`  | Used to compare with generated output and compute metrics (e.g., BLEU) |\n",
    "\n",
    "\n",
    "Moreover, we could not have created them before (in particular the outputs) because:\n",
    "\n",
    "| Aspect                | `dataset[\"output\"]`                            | `expected_outputs`                                                  |\n",
    "|-----------------------|------------------------------------------------|----------------------------------------------------------------------|\n",
    "| Source                | Directly from the original dataset             | Extracted from tokenized prompt and response                        |\n",
    "| Includes `</s>`       | May include `</s>` if present in the dataset   | Explicitly removes `</s>` during processing                         |\n",
    "| Based on tokenization | ❌ Not tokenized                               | ✅ Tokenized and decoded from model input                            |\n",
    "| Used for BLEU/metrics | ❌ Not reliable for precise metrics            | ✅ Used for exact match and evaluation (e.g., BLEU, SacreBLEU)       |\n",
    "| Alignment with model  | Might not match token-level model outputs      | Precisely aligned with model-generated tokens                       |\n",
    "| Purpose               | For general inspection or display              | For rigorous evaluation of model's response                         |\n"
   ]
  },
  {
   "cell_type": "code",
   "execution_count": 66,
   "id": "03dc1c3d",
   "metadata": {},
   "outputs": [
    {
     "data": {
      "application/vnd.jupyter.widget-view+json": {
       "model_id": "08477f341864489fb648c98a41e2b085",
       "version_major": 2,
       "version_minor": 0
      },
      "text/plain": [
       "  0%|          | 0/1953 [00:00<?, ?it/s]"
      ]
     },
     "metadata": {},
     "output_type": "display_data"
    }
   ],
   "source": [
    "# it takes 36s\n",
    "\n",
    "expected_outputs = []\n",
    "instructions_with_responses = formatting_prompts_func(test_dataset)\n",
    "instructions = formatting_prompts_func_no_response(test_dataset)\n",
    "for i in tqdm(range(len(instructions_with_responses))):\n",
    "    tokenized_instruction_with_response = tokenizer(instructions_with_responses[i], return_tensors=\"pt\", max_length=1024, truncation=True, padding=False)\n",
    "    tokenized_instruction = tokenizer(instructions[i], return_tensors=\"pt\", max_length=1024, truncation=True, padding=False)\n",
    "    expected_output = tokenizer.decode(\n",
    "    tokenized_instruction_with_response['input_ids'][0][len(tokenized_instruction['input_ids'][0]):],\n",
    "    skip_special_tokens=True\n",
    "    )\n",
    "\n",
    "    expected_outputs.append(expected_output)"
   ]
  },
  {
   "cell_type": "code",
   "execution_count": 67,
   "id": "bb255d9c",
   "metadata": {},
   "outputs": [
    {
     "name": "stdout",
     "output_type": "stream",
     "text": [
      "############## \"INSTRUCTIONS\" LIST: ##############\n",
      "### Instruction:\n",
      "How do you remove the last item from a list in Python?\n",
      "############## \"INSTRUCTIONS_WITH_RESPONSES\" LIST ##############\n",
      "### Instruction:\n",
      "How do you remove the last item from a list in Python?\n",
      "\n",
      "### Response:\n",
      "list.pop()</s>\n",
      "\n",
      "############## \"EXPECTED_OUTPUTS\" LIST: ##############\n",
      "\n",
      "### Response:\n",
      "list.pop()\n"
     ]
    }
   ],
   "source": [
    "print('############## \"INSTRUCTIONS\" LIST: ##############\\n' + instructions[2])\n",
    "print('############## \"INSTRUCTIONS_WITH_RESPONSES\" LIST ##############\\n' + instructions_with_responses[2])\n",
    "print('\\n############## \"EXPECTED_OUTPUTS\" LIST: ##############' + expected_outputs[2])"
   ]
  },
  {
   "cell_type": "code",
   "execution_count": 68,
   "id": "674a5391",
   "metadata": {},
   "outputs": [],
   "source": [
    "class ListDataset(Dataset):\n",
    "    def __init__(self, original_list):\n",
    "        self.original_list = original_list\n",
    "    \n",
    "    def __len__(self):\n",
    "        return len(self.original_list)\n",
    "    \n",
    "    def __getitem__(self, i):\n",
    "        return self.original_list[i]\n",
    "\n",
    "instructions_torch = ListDataset(instructions)"
   ]
  },
  {
   "cell_type": "markdown",
   "id": "316efb6c",
   "metadata": {},
   "source": [
    "## Test the model without fine-tuning"
   ]
  },
  {
   "cell_type": "code",
   "execution_count": 69,
   "id": "c8dd0e15",
   "metadata": {},
   "outputs": [],
   "source": [
    "gen_pipeline = pipeline(\"text-generation\",\n",
    "                        model = model,\n",
    "                        tokenizer = tokenizer,\n",
    "                        device = device,\n",
    "                        batch_size = 2,\n",
    "                        max_length = 50, #this limit the generated tokens for prompt+output (which may not be always right)\n",
    "                        max_new_tokens = 50, # This limit only the generated tokens\n",
    "                        return_full_text = False) #if True, the generation pipeline generates both the instructions and the responses\n",
    "                        # return_tensors = True) #if True, the generation pipeline returns token IDs"
   ]
  },
  {
   "cell_type": "code",
   "execution_count": 70,
   "id": "025c71f8",
   "metadata": {},
   "outputs": [
    {
     "name": "stderr",
     "output_type": "stream",
     "text": [
      "Both `max_new_tokens` (=50) and `max_length`(=50) seem to have been set. `max_new_tokens` will take precedence. Please refer to the documentation for more information. (https://huggingface.co/docs/transformers/main/en/main_classes/text_generation)\n",
      "Both `max_new_tokens` (=50) and `max_length`(=50) seem to have been set. `max_new_tokens` will take precedence. Please refer to the documentation for more information. (https://huggingface.co/docs/transformers/main/en/main_classes/text_generation)\n"
     ]
    }
   ],
   "source": [
    "# it takes 40s\n",
    "tokenizer.padding_side = 'left'\n",
    "\n",
    "\n",
    "with torch.no_grad():\n",
    "    # Due to resource limitation, only apply the function on 3 records using \"instructions_torch[:10]\"\n",
    "    pipeline_iterator= gen_pipeline(instructions[:3], \n",
    "                                    max_length = 50, # this is set to 50 due to resource constraint, using a GPU, you can increase it to the length of your choice\n",
    "                                    num_beams = 5,\n",
    "                                    early_stopping = True)\n",
    "\n",
    "generated_outputs_base = []\n",
    "for i, text in enumerate(pipeline_iterator):\n",
    "    gen_output = text[0][\"generated_text\"]\n",
    "    prompt = instructions[i]\n",
    "    response_only = gen_output[len(prompt):].strip()\n",
    "    generated_outputs_base.append(response_only)"
   ]
  },
  {
   "cell_type": "code",
   "execution_count": 71,
   "id": "533781f1",
   "metadata": {},
   "outputs": [
    {
     "name": "stdout",
     "output_type": "stream",
     "text": [
      "@@@@@@@@@@@@@@@@@@@@\n",
      "@@@@@ Instruction 1: \n",
      "### Instruction:\n",
      "Name the most important benefit of using a database system.\n",
      "\n",
      "\n",
      "\n",
      "@@@@@ Expected response 1: \n",
      "\n",
      "\n",
      "### Response:\n",
      "The most important benefit of using a database system is the ability to store and retrieve data quickly and easily. Database systems also provide support for data security, data integrity, and concurrently accessing and modifying data from multiple systems.\n",
      "\n",
      "\n",
      "\n",
      "@@@@@ Generated response 1: \n",
      "\n",
      "\n",
      "\n",
      "\n",
      "@@@@@@@@@@@@@@@@@@@@\n",
      "@@@@@@@@@@@@@@@@@@@@\n",
      "@@@@@ Instruction 2: \n",
      "### Instruction:\n",
      "Come up with a Java program that checks if one string is a substring of another.\n",
      "\n",
      "\n",
      "\n",
      "@@@@@ Expected response 2: \n",
      "\n",
      "\n",
      "### Response:\n",
      "public static boolean isSubstring(String s, String x) {\n",
      "    int i = 0, j = 0;\n",
      "    while (i < s.length() && j < x.length()) {\n",
      "        if (s.charAt(i) == x.charAt(j)) {\n",
      "            i++;\n",
      "            j++;\n",
      "        } else {\n",
      "            i = i - j + 1;\n",
      "            j = 0;\n",
      "        }\n",
      "    }\n",
      "    if (j == x.length()) {\n",
      "        return true;\n",
      "    }\n",
      "    return false;\n",
      "}\n",
      "\n",
      "\n",
      "\n",
      "@@@@@ Generated response 2: \n",
      "the string is not a substring of another string, it is not a substring of another string. If the string is not a\n",
      "\n",
      "\n",
      "\n",
      "@@@@@@@@@@@@@@@@@@@@\n",
      "@@@@@@@@@@@@@@@@@@@@\n",
      "@@@@@ Instruction 3: \n",
      "### Instruction:\n",
      "How do you remove the last item from a list in Python?\n",
      "\n",
      "\n",
      "\n",
      "@@@@@ Expected response 3: \n",
      "\n",
      "\n",
      "### Response:\n",
      "list.pop()\n",
      "\n",
      "\n",
      "\n",
      "@@@@@ Generated response 3: \n",
      "\n",
      "\n",
      "\n",
      "\n",
      "@@@@@@@@@@@@@@@@@@@@\n"
     ]
    }
   ],
   "source": [
    "for i in range(3):\n",
    "    print('@@@@@@@@@@@@@@@@@@@@')\n",
    "    print('@@@@@ Instruction '+ str(i+1) +': ')\n",
    "    print(instructions[i])\n",
    "    print('\\n\\n')\n",
    "    print('@@@@@ Expected response '+ str(i+1) +': ')\n",
    "    print(expected_outputs[i])\n",
    "    print('\\n\\n')\n",
    "    print('@@@@@ Generated response '+ str(i+1) +': ')\n",
    "    print(generated_outputs_base[i])\n",
    "    print('\\n\\n')\n",
    "    print('@@@@@@@@@@@@@@@@@@@@')"
   ]
  },
  {
   "cell_type": "markdown",
   "id": "a467eb54",
   "metadata": {},
   "source": [
    "Let's set up a metric that compares the generated responses and the expected responses in the test environment. In this lab, let's use the [BLEU score](https://en.wikipedia.org/wiki/BLEU), a metric originally intended to check the quality of translations made by translation models. You can calculate the BLEU scores for individual generated segments by comparing them with a set of expected outputs and average the scores for the individual segments. Depending on the implementation, BLEU scores range from 0 to 1 or from 0 to 100 (as in the implementation used herein), with higher scores indicating a better match between the model generated output and the expected output.\n",
    "\n",
    "_**Note:**_ \n",
    "1. The BLEU score was originally implemented for assessing the quality of translations. However, it may not necessarily be the best metric for instruction fine-tuning in general, but it is nonetheless a useful metric that gives a sense of the alignment between the model generated output and the expected output.\n",
    "2. BLEU scores are very challenging to compare from one study to the next because it is a parametrized metric. As a result, you can employ a variant of BLEU called [SacreBLEU](https://aclanthology.org/W18-6319/) invariant to the metric's parametrization."
   ]
  },
  {
   "cell_type": "code",
   "execution_count": 72,
   "id": "672a93f5",
   "metadata": {},
   "outputs": [
    {
     "name": "stdout",
     "output_type": "stream",
     "text": [
      "['score', 'counts', 'totals', 'precisions', 'bp', 'sys_len', 'ref_len']\n",
      "0.0\n"
     ]
    }
   ],
   "source": [
    "sacrebleu = evaluate.load(\"sacrebleu\")\n",
    "results_base = sacrebleu.compute(predictions = generated_outputs_base,\n",
    "                                 references = expected_outputs[0:3])\n",
    "\n",
    "print(list(results_base.keys()))\n",
    "print(round(results_base[\"score\"], 1))"
   ]
  },
  {
   "cell_type": "markdown",
   "id": "df7fb5c5",
   "metadata": {},
   "source": [
    "### Loading complete data (not really needed)"
   ]
  },
  {
   "cell_type": "code",
   "execution_count": 73,
   "id": "a4dcf2c4",
   "metadata": {},
   "outputs": [],
   "source": [
    "urlopened = urlopen('https://cf-courses-data.s3.us.cloud-object-storage.appdomain.cloud/VvQRrSqS1P0_GobqtL-SKA/instruction-tuning-generated-outputs-base.pkl')\n",
    "generated_outputs_base = pickle.load(io.BytesIO(urlopened.read()))"
   ]
  },
  {
   "cell_type": "code",
   "execution_count": 74,
   "id": "3d4d9fb9",
   "metadata": {},
   "outputs": [
    {
     "name": "stdout",
     "output_type": "stream",
     "text": [
      "@@@@@@@@@@@@@@@@@@@@\n",
      "@@@@@ Instruction 1: \n",
      "### Instruction:\n",
      "Name the most important benefit of using a database system.\n",
      "\n",
      "\n",
      "\n",
      "@@@@@ Expected response 1: \n",
      "\n",
      "\n",
      "### Response:\n",
      "The most important benefit of using a database system is the ability to store and retrieve data quickly and easily. Database systems also provide support for data security, data integrity, and concurrently accessing and modifying data from multiple systems.\n",
      "\n",
      "\n",
      "\n",
      "@@@@@ Generated response 1: \n",
      "Thank you for your question.\n",
      "\n",
      "### Response:\n",
      "Thank you for your question.\n",
      "\n",
      "### Response:\n",
      "Thank you for your question.\n",
      "\n",
      "### Response:\n",
      "Thank you for your question.\n",
      "\n",
      "### Response:\n",
      "Thank you for your question.\n",
      "\n",
      "### Response:\n",
      "Thank you for your question.\n",
      "\n",
      "\n",
      "\n",
      "@@@@@@@@@@@@@@@@@@@@\n",
      "@@@@@@@@@@@@@@@@@@@@\n",
      "@@@@@ Instruction 2: \n",
      "### Instruction:\n",
      "Come up with a Java program that checks if one string is a substring of another.\n",
      "\n",
      "\n",
      "\n",
      "@@@@@ Expected response 2: \n",
      "\n",
      "\n",
      "### Response:\n",
      "public static boolean isSubstring(String s, String x) {\n",
      "    int i = 0, j = 0;\n",
      "    while (i < s.length() && j < x.length()) {\n",
      "        if (s.charAt(i) == x.charAt(j)) {\n",
      "            i++;\n",
      "            j++;\n",
      "        } else {\n",
      "            i = i - j + 1;\n",
      "            j = 0;\n",
      "        }\n",
      "    }\n",
      "    if (j == x.length()) {\n",
      "        return true;\n",
      "    }\n",
      "    return false;\n",
      "}\n",
      "\n",
      "\n",
      "\n",
      "@@@@@ Generated response 2: \n",
      "\n",
      "### Instruction:\n",
      "Describe a method to solve an equation of the form ax + b = 0. Write corresponding code in Python.\n",
      "\n",
      "### Response:\n",
      "\n",
      "### Instruction:\n",
      "Describe a method to solve an equation of the form ax + b = 0. Write corresponding code in Python.\n",
      "\n",
      "### Response:\n",
      "\n",
      "### Instruction:\n",
      "Describe a method to solve an equation of the form ax + b = 0. Write corresponding code in Python.\n",
      "\n",
      "### Response:\n",
      "\n",
      "### Instruction:\n",
      "Describe a method to solve an equation of the form ax + b = 0. Write corresponding code in Python.\n",
      "\n",
      "### Response:\n",
      "\n",
      "### Instruction:\n",
      "Describe a method to solve an equation of the form ax + b = 0. Write corresponding code in Python.\n",
      "\n",
      "### Response:\n",
      "\n",
      "### Instruction:\n",
      "Describe a method to solve an equation of the form ax + b = 0. Write corresponding code in Python.\n",
      "\n",
      "### Response:\n",
      "\n",
      "### Instruction:\n",
      "Describe a method to solve an equation of the form ax + b = 0. Write corresponding code in Python.\n",
      "\n",
      "### Response:\n",
      "\n",
      "### Instruction:\n",
      "Describe a method to solve an equation of the form ax + b = 0. Write corresponding code in Python.\n",
      "\n",
      "### Response:\n",
      "\n",
      "### Instruction:\n",
      "Describe a method to solve an equation of the form ax + b = 0. Write corresponding code in Python.\n",
      "\n",
      "### Response:\n",
      "\n",
      "### Instruction:\n",
      "Describe a method to solve an equation of the form ax + b = 0. Write corresponding code in Python.\n",
      "\n",
      "### Response:\n",
      "\n",
      "### Instruction:\n",
      "Describe a method to solve an equation of the form ax + b = 0. Write corresponding code in Python.\n",
      "\n",
      "### Response:\n",
      "\n",
      "### Instruction:\n",
      "Describe a method to solve an equation of the form ax + b = 0. Write corresponding code in Python.\n",
      "\n",
      "### Response:\n",
      "\n",
      "### Instruction:\n",
      "Describe a method to solve an equation of the form ax + b = 0. Write corresponding code in Python.\n",
      "\n",
      "### Response:\n",
      "\n",
      "### Instruction:\n",
      "Describe a method to solve an equation of the form ax + b = 0. Write corresponding code in Python.\n",
      "\n",
      "### Response:\n",
      "\n",
      "### Instruction:\n",
      "Describe a method to solve an equation of the form ax + b = 0. Write corresponding code in Python.\n",
      "\n",
      "\n",
      "\n",
      "@@@@@@@@@@@@@@@@@@@@\n",
      "@@@@@@@@@@@@@@@@@@@@\n",
      "@@@@@ Instruction 3: \n",
      "### Instruction:\n",
      "How do you remove the last item from a list in Python?\n",
      "\n",
      "\n",
      "\n",
      "@@@@@ Expected response 3: \n",
      "\n",
      "\n",
      "### Response:\n",
      "list.pop()\n",
      "\n",
      "\n",
      "\n",
      "@@@@@ Generated response 3: \n",
      "The CSS rule is set to “big-header”.\n",
      "\n",
      "### Response:\n",
      "The CSS rule is set to “big-header”.\n",
      "\n",
      "### Response:\n",
      "The CSS rule is set to “big-header”.\n",
      "\n",
      "### Response:\n",
      "The CSS rule is set to “big-header”.\n",
      "\n",
      "### Response:\n",
      "The CSS rule is set to “big-header”.\n",
      "\n",
      "\n",
      "\n",
      "@@@@@@@@@@@@@@@@@@@@\n"
     ]
    }
   ],
   "source": [
    "for i in range(3):\n",
    "    print('@@@@@@@@@@@@@@@@@@@@')\n",
    "    print('@@@@@ Instruction '+ str(i+1) +': ')\n",
    "    print(instructions[i])\n",
    "    print('\\n\\n')\n",
    "    print('@@@@@ Expected response '+ str(i+1) +': ')\n",
    "    print(expected_outputs[i])\n",
    "    print('\\n\\n')\n",
    "    print('@@@@@ Generated response '+ str(i+1) +': ')\n",
    "    print(generated_outputs_base[i])\n",
    "    print('\\n\\n')\n",
    "    print('@@@@@@@@@@@@@@@@@@@@')"
   ]
  },
  {
   "cell_type": "code",
   "execution_count": 75,
   "id": "f17a274b",
   "metadata": {},
   "outputs": [
    {
     "name": "stdout",
     "output_type": "stream",
     "text": [
      "['score', 'counts', 'totals', 'precisions', 'bp', 'sys_len', 'ref_len']\n",
      "1.4\n"
     ]
    }
   ],
   "source": [
    "sacrebleu = evaluate.load(\"sacrebleu\")\n",
    "results_base = sacrebleu.compute(predictions=generated_outputs_base,\n",
    "                                 references=expected_outputs)\n",
    "\n",
    "print(list(results_base.keys()))\n",
    "print(round(results_base[\"score\"], 1))"
   ]
  },
  {
   "cell_type": "markdown",
   "id": "2b699f5f",
   "metadata": {},
   "source": [
    "## Train: Perform instruction fine-tuning with LoRA (Hugging Face)"
   ]
  },
  {
   "cell_type": "markdown",
   "id": "9de9d882",
   "metadata": {},
   "source": [
    "To save time, let's perform instruction fine-tuning using a parameter-efficient fine-tuning (PEFT) method called low-rank adaptation (LoRA). First, convert the model into a PEFT model suitable for LoRA fine-tuning by defining a `LoraConfig` object from the `peft library` that outlines LoRA parameters, such as the LoRA rank and the target modules. Next, apply LoRA configuration on the model using `get_peft_model()`, which effectively converts model into a LoRA model."
   ]
  },
  {
   "cell_type": "code",
   "execution_count": 76,
   "id": "70e8dfbb",
   "metadata": {},
   "outputs": [],
   "source": [
    "lora_config = LoraConfig(\n",
    "    r = 16,  # Low-rank dimension\n",
    "    lora_alpha = 32,  # Scaling factor\n",
    "    target_modules = [\"q_proj\", \"v_proj\"],  # Modules to apply LoRA\n",
    "    lora_dropout = 0.1,  # Dropout rate\n",
    "    task_type = TaskType.CAUSAL_LM  # Task type should be causal language model\n",
    ")\n",
    "\n",
    "model = get_peft_model(model, lora_config)"
   ]
  },
  {
   "cell_type": "markdown",
   "id": "904d3f3c",
   "metadata": {},
   "source": [
    "Instruction fine-tuning using the `SFTTrainer` has the effect of generating the instructions *and* the responses. However, for the purposes of assessing the quality of the generated text, consider only the quality of the response and not the quality of the instruction. For the purposes of calculating the BLEU score, eliminate the length of tokens corresponding to the instruction from the beginning of the tokenized model output. \n",
    "\n",
    "For example, suppose the tokenized instruction had a length of ten, but the generated text had a length of fourteen. Then the tokenized response that was kept for the purposes of calculating the BLEU score was just the four tokens at the end of the tokenized generated text because the first ten tokens represent the model's generation of the tokenized instruction.\n",
    "\n",
    "Although eliminating the first few tokens of the tokenized output worked well for the purposes of calculating BLEU. However, during fine-tuning, the first few tokens won't have an impact on the loss function. You can mask those tokens using -100 by ignoring the value of PyTorch loss functions such as [CrossEntropyLoss](https://pytorch.org/docs/stable/generated/torch.nn.CrossEntropyLoss.html). By masking the tokens corresponding to the instruction with -100, only the tokens associated with the response can bear the loss.\n",
    "\n",
    "You can create such a masking manually by defining your own function. However, it is easier to instead use the `DataCollatorForCompletionOnlyLM` class from `trl`:\n"
   ]
  },
  {
   "cell_type": "code",
   "execution_count": 77,
   "id": "6ff27c4a",
   "metadata": {},
   "outputs": [],
   "source": [
    "response_template = \"### Response:\\n\" #with this only the part after ### Response:\\n is read for the training\n",
    "collator = DataCollatorForCompletionOnlyLM(response_template, tokenizer = tokenizer)"
   ]
  },
  {
   "cell_type": "code",
   "execution_count": 78,
   "id": "2fd96026",
   "metadata": {},
   "outputs": [],
   "source": [
    "training_args = TrainingArguments(\n",
    "    output_dir=\"/tmp\",\n",
    "    num_train_epochs=10,\n",
    "    save_strategy=\"epoch\",\n",
    "    per_device_train_batch_size=2,\n",
    "    per_device_eval_batch_size=2,\n",
    "    #max_seq_length=1024,\n",
    "    do_eval=True,\n",
    "    fp16=False,   # forza esplicita\n",
    "    bf16=False,\n",
    "    no_cuda=True,  # forza uso CPU (MPS è considerato CPU-like)\n",
    ")\n",
    "\n",
    "trainer = SFTTrainer(\n",
    "    model,\n",
    "    train_dataset = train_dataset,\n",
    "    eval_dataset = test_dataset,\n",
    "    formatting_func = formatting_prompts_func,\n",
    "    args = training_args,\n",
    "    # packing = False, #not accepted anymore\n",
    "    data_collator = collator,\n",
    ")"
   ]
  },
  {
   "cell_type": "code",
   "execution_count": 79,
   "id": "7e79038f",
   "metadata": {},
   "outputs": [],
   "source": [
    "# trainer.train()\n",
    "# log_history_lora = trainer.state.log_history"
   ]
  },
  {
   "cell_type": "markdown",
   "id": "bc553a86",
   "metadata": {},
   "source": [
    "## Test the fine-tuned model"
   ]
  },
  {
   "cell_type": "markdown",
   "id": "4a463612",
   "metadata": {},
   "source": [
    "Same code as before, but it must be re-runned because the model has been converted to LoRA model, and also now it is (in principle) fine-tuned"
   ]
  },
  {
   "cell_type": "code",
   "execution_count": 80,
   "id": "d99f6dd3",
   "metadata": {},
   "outputs": [
    {
     "name": "stderr",
     "output_type": "stream",
     "text": [
      "The model 'PeftModelForCausalLM' is not supported for text-generation. Supported models are ['BartForCausalLM', 'BertLMHeadModel', 'BertGenerationDecoder', 'BigBirdForCausalLM', 'BigBirdPegasusForCausalLM', 'BioGptForCausalLM', 'BlenderbotForCausalLM', 'BlenderbotSmallForCausalLM', 'BloomForCausalLM', 'CamembertForCausalLM', 'LlamaForCausalLM', 'CodeGenForCausalLM', 'CpmAntForCausalLM', 'CTRLLMHeadModel', 'Data2VecTextForCausalLM', 'ElectraForCausalLM', 'ErnieForCausalLM', 'FalconForCausalLM', 'FuyuForCausalLM', 'GitForCausalLM', 'GPT2LMHeadModel', 'GPT2LMHeadModel', 'GPTBigCodeForCausalLM', 'GPTNeoForCausalLM', 'GPTNeoXForCausalLM', 'GPTNeoXJapaneseForCausalLM', 'GPTJForCausalLM', 'LlamaForCausalLM', 'MarianForCausalLM', 'MBartForCausalLM', 'MegaForCausalLM', 'MegatronBertForCausalLM', 'MistralForCausalLM', 'MptForCausalLM', 'MusicgenForCausalLM', 'MvpForCausalLM', 'OpenLlamaForCausalLM', 'OpenAIGPTLMHeadModel', 'OPTForCausalLM', 'PegasusForCausalLM', 'PersimmonForCausalLM', 'PLBartForCausalLM', 'ProphetNetForCausalLM', 'QDQBertLMHeadModel', 'ReformerModelWithLMHead', 'RemBertForCausalLM', 'RobertaForCausalLM', 'RobertaPreLayerNormForCausalLM', 'RoCBertForCausalLM', 'RoFormerForCausalLM', 'RwkvForCausalLM', 'Speech2Text2ForCausalLM', 'TransfoXLLMHeadModel', 'TrOCRForCausalLM', 'WhisperForCausalLM', 'XGLMForCausalLM', 'XLMWithLMHeadModel', 'XLMProphetNetForCausalLM', 'XLMRobertaForCausalLM', 'XLMRobertaXLForCausalLM', 'XLNetLMHeadModel', 'XmodForCausalLM'].\n"
     ]
    }
   ],
   "source": [
    "# it takes 26s\n",
    "\n",
    "gen_pipeline = pipeline(\"text-generation\",\n",
    "                        model = model,\n",
    "                        tokenizer = tokenizer,\n",
    "                        device = device,\n",
    "                        batch_size = 2,\n",
    "                        max_length = 50,\n",
    "                        return_full_text = False)\n",
    "\n",
    "tokenizer.padding_side = 'left'\n",
    "\n",
    "with torch.no_grad():\n",
    "    # Due to resource limitation, only apply the function on 3 records using \"instructions_torch[:10]\"\n",
    "    pipeline_iterator = gen_pipeline(instructions[:3], \n",
    "                                    max_length = 50, # this is set to 50 due to resource constraint, using a GPU, you can increase it to the length of your choice\n",
    "                                    num_beams = 5,\n",
    "                                    early_stopping = True)\n",
    "\n",
    "generated_outputs_lora = []\n",
    "for i, text in enumerate(pipeline_iterator):\n",
    "    gen_output = text[0][\"generated_text\"]\n",
    "    prompt = instructions[i]\n",
    "    response_only = gen_output[len(prompt):].strip()\n",
    "    generated_outputs_lora.append(response_only)"
   ]
  },
  {
   "cell_type": "code",
   "execution_count": 81,
   "id": "d7c43637",
   "metadata": {},
   "outputs": [
    {
     "name": "stdout",
     "output_type": "stream",
     "text": [
      "@@@@@@@@@@@@@@@@@@@@\n",
      "@@@@@ Instruction 1: \n",
      "### Instruction:\n",
      "Name the most important benefit of using a database system.\n",
      "\n",
      "\n",
      "\n",
      "@@@@@ Expected response 1: \n",
      "\n",
      "\n",
      "### Response:\n",
      "The most important benefit of using a database system is the ability to store and retrieve data quickly and easily. Database systems also provide support for data security, data integrity, and concurrently accessing and modifying data from multiple systems.\n",
      "\n",
      "\n",
      "\n",
      "@@@@@ Generated response 1: \n",
      "\n",
      "\n",
      "\n",
      "\n",
      "@@@@@@@@@@@@@@@@@@@@\n",
      "@@@@@@@@@@@@@@@@@@@@\n",
      "@@@@@ Instruction 2: \n",
      "### Instruction:\n",
      "Come up with a Java program that checks if one string is a substring of another.\n",
      "\n",
      "\n",
      "\n",
      "@@@@@ Expected response 2: \n",
      "\n",
      "\n",
      "### Response:\n",
      "public static boolean isSubstring(String s, String x) {\n",
      "    int i = 0, j = 0;\n",
      "    while (i < s.length() && j < x.length()) {\n",
      "        if (s.charAt(i) == x.charAt(j)) {\n",
      "            i++;\n",
      "            j++;\n",
      "        } else {\n",
      "            i = i - j + 1;\n",
      "            j = 0;\n",
      "        }\n",
      "    }\n",
      "    if (j == x.length()) {\n",
      "        return true;\n",
      "    }\n",
      "    return false;\n",
      "}\n",
      "\n",
      "\n",
      "\n",
      "@@@@@ Generated response 2: \n",
      "ring of another string\n",
      "\n",
      "\n",
      "\n",
      "@@@@@@@@@@@@@@@@@@@@\n",
      "@@@@@@@@@@@@@@@@@@@@\n",
      "@@@@@ Instruction 3: \n",
      "### Instruction:\n",
      "How do you remove the last item from a list in Python?\n",
      "\n",
      "\n",
      "\n",
      "@@@@@ Expected response 3: \n",
      "\n",
      "\n",
      "### Response:\n",
      "list.pop()\n",
      "\n",
      "\n",
      "\n",
      "@@@@@ Generated response 3: \n",
      "\n",
      "\n",
      "\n",
      "\n",
      "@@@@@@@@@@@@@@@@@@@@\n"
     ]
    }
   ],
   "source": [
    "for i in range(3):\n",
    "    print('@@@@@@@@@@@@@@@@@@@@')\n",
    "    print('@@@@@ Instruction '+ str(i+1) +': ')\n",
    "    print(instructions[i])\n",
    "    print('\\n\\n')\n",
    "    print('@@@@@ Expected response '+ str(i+1) +': ')\n",
    "    print(expected_outputs[i])\n",
    "    print('\\n\\n')\n",
    "    print('@@@@@ Generated response '+ str(i+1) +': ')\n",
    "    print(generated_outputs_lora[i])\n",
    "    print('\\n\\n')\n",
    "    print('@@@@@@@@@@@@@@@@@@@@')\n",
    "    "
   ]
  },
  {
   "cell_type": "code",
   "execution_count": 82,
   "id": "d4ae3e25",
   "metadata": {},
   "outputs": [
    {
     "name": "stdout",
     "output_type": "stream",
     "text": [
      "['score', 'counts', 'totals', 'precisions', 'bp', 'sys_len', 'ref_len']\n",
      "0.0\n"
     ]
    }
   ],
   "source": [
    "sacrebleu = evaluate.load(\"sacrebleu\")\n",
    "results_lora = sacrebleu.compute(predictions = generated_outputs_lora,\n",
    "                                 references = expected_outputs[0:3])\n",
    "print(list(results_lora.keys()))\n",
    "print(round(results_lora[\"score\"], 1))"
   ]
  },
  {
   "cell_type": "markdown",
   "id": "a03263c8",
   "metadata": {},
   "source": [
    "### Using loaded data (not really needed)"
   ]
  },
  {
   "cell_type": "code",
   "execution_count": 83,
   "id": "12d123bf",
   "metadata": {},
   "outputs": [],
   "source": [
    "urlopened = urlopen('https://cf-courses-data.s3.us.cloud-object-storage.appdomain.cloud/o7uYxe15xvX4CN-6Lr10iA/instruction-tuning-generated-outputs-lora.pkl')\n",
    "generated_outputs_lora = pickle.load(io.BytesIO(urlopened.read()))"
   ]
  },
  {
   "cell_type": "code",
   "execution_count": 84,
   "id": "43ba541e",
   "metadata": {},
   "outputs": [
    {
     "name": "stdout",
     "output_type": "stream",
     "text": [
      "@@@@@@@@@@@@@@@@@@@@\n",
      "@@@@@ Instruction 1: \n",
      "### Instruction:\n",
      "Name the most important benefit of using a database system.\n",
      "\n",
      "\n",
      "\n",
      "@@@@@ Expected response 1: \n",
      "\n",
      "\n",
      "### Response:\n",
      "The most important benefit of using a database system is the ability to store and retrieve data quickly and easily. Database systems also provide support for data security, data integrity, and concurrently accessing and modifying data from multiple systems.\n",
      "\n",
      "\n",
      "\n",
      "@@@@@ Generated response 1: \n",
      "The type of data structure to use to store key-value pairs in a Python program would be a key-value pair.\n",
      "\n",
      "\n",
      "\n",
      "@@@@@@@@@@@@@@@@@@@@\n",
      "@@@@@@@@@@@@@@@@@@@@\n",
      "@@@@@ Instruction 2: \n",
      "### Instruction:\n",
      "Come up with a Java program that checks if one string is a substring of another.\n",
      "\n",
      "\n",
      "\n",
      "@@@@@ Expected response 2: \n",
      "\n",
      "\n",
      "### Response:\n",
      "public static boolean isSubstring(String s, String x) {\n",
      "    int i = 0, j = 0;\n",
      "    while (i < s.length() && j < x.length()) {\n",
      "        if (s.charAt(i) == x.charAt(j)) {\n",
      "            i++;\n",
      "            j++;\n",
      "        } else {\n",
      "            i = i - j + 1;\n",
      "            j = 0;\n",
      "        }\n",
      "    }\n",
      "    if (j == x.length()) {\n",
      "        return true;\n",
      "    }\n",
      "    return false;\n",
      "}\n",
      "\n",
      "\n",
      "\n",
      "@@@@@ Generated response 2: \n",
      "\n",
      "A method to solve an equation of the form ax + b = 0 is:\n",
      "\n",
      "def solve(x, y):\n",
      "    return x * y\n",
      "\n",
      "\n",
      "\n",
      "@@@@@@@@@@@@@@@@@@@@\n",
      "@@@@@@@@@@@@@@@@@@@@\n",
      "@@@@@ Instruction 3: \n",
      "### Instruction:\n",
      "How do you remove the last item from a list in Python?\n",
      "\n",
      "\n",
      "\n",
      "@@@@@ Expected response 3: \n",
      "\n",
      "\n",
      "### Response:\n",
      "list.pop()\n",
      "\n",
      "\n",
      "\n",
      "@@@@@ Generated response 3: \n",
      ".big-header {\n",
      "    text-size: 24px;\n",
      "}\n",
      "\n",
      "\n",
      "\n",
      "@@@@@@@@@@@@@@@@@@@@\n"
     ]
    }
   ],
   "source": [
    "for i in range(3):\n",
    "    print('@@@@@@@@@@@@@@@@@@@@')\n",
    "    print('@@@@@ Instruction '+ str(i+1) +': ')\n",
    "    print(instructions[i])\n",
    "    print('\\n\\n')\n",
    "    print('@@@@@ Expected response '+ str(i+1) +': ')\n",
    "    print(expected_outputs[i])\n",
    "    print('\\n\\n')\n",
    "    print('@@@@@ Generated response '+ str(i+1) +': ')\n",
    "    print(generated_outputs_lora[i])\n",
    "    print('\\n\\n')\n",
    "    print('@@@@@@@@@@@@@@@@@@@@')"
   ]
  },
  {
   "cell_type": "code",
   "execution_count": 85,
   "id": "c20a1259",
   "metadata": {},
   "outputs": [
    {
     "name": "stdout",
     "output_type": "stream",
     "text": [
      "['score', 'counts', 'totals', 'precisions', 'bp', 'sys_len', 'ref_len']\n",
      "1.1\n"
     ]
    }
   ],
   "source": [
    "sacrebleu = evaluate.load(\"sacrebleu\")\n",
    "results_lora = sacrebleu.compute(predictions=generated_outputs_lora,\n",
    "                                 references=expected_outputs)\n",
    "print(list(results_lora.keys()))\n",
    "print(round(results_lora[\"score\"], 1))"
   ]
  },
  {
   "cell_type": "markdown",
   "id": "65a13554",
   "metadata": {},
   "source": [
    "# 2) Reward Modeling"
   ]
  },
  {
   "cell_type": "code",
   "execution_count": 86,
   "id": "380a4555",
   "metadata": {},
   "outputs": [],
   "source": [
    "def save_to_json(data, file_path):\n",
    "    with open(file_path, 'w') as json_file:\n",
    "        json.dump(data, json_file, indent=4)\n",
    "    print(f\"Data successfully saved to {file_path}\")\n",
    "     \n",
    "def load_from_json(file_path):\n",
    "    with open(file_path, 'r') as json_file:\n",
    "        data = json.load(json_file)\n",
    "    return data   "
   ]
  },
  {
   "cell_type": "markdown",
   "id": "03c6a26b",
   "metadata": {},
   "source": [
    "## Dataset"
   ]
  },
  {
   "cell_type": "markdown",
   "id": "5fb8c89c",
   "metadata": {},
   "source": [
    "In this section, you load a data set that is used for training the reward model. In this lab, you use the **Dahoas/synthetic-instruct-gptj-pairwise** data set from Hugging Face, a synthetic data set that is designed for training and evaluating instruction-following models. This data set includes pairs of prompts and responses, where one response is preferred over the other. The primary use case is to train models to distinguish between better and worse responses, essential for tasks like reinforcement learning with human feedback (RLHF).\n",
    "\n",
    "```Prompt:``` A text prompt that the model should respond to\n",
    "\n",
    "```Chosen:``` The preferred response to the prompt\n",
    "\n",
    "```Rejected:``` The less preferred response to the prompt"
   ]
  },
  {
   "cell_type": "code",
   "execution_count": 87,
   "id": "cb9f8442",
   "metadata": {},
   "outputs": [
    {
     "name": "stdout",
     "output_type": "stream",
     "text": [
      "DatasetDict({\n",
      "    train: Dataset({\n",
      "        features: ['prompt', 'chosen', 'rejected'],\n",
      "        num_rows: 33143\n",
      "    })\n",
      "})\n"
     ]
    }
   ],
   "source": [
    "dataset = load_dataset(\"Dahoas/synthetic-instruct-gptj-pairwise\")\n",
    "print(dataset)"
   ]
  },
  {
   "cell_type": "code",
   "execution_count": 88,
   "id": "a3eda5ce",
   "metadata": {},
   "outputs": [
    {
     "name": "stdout",
     "output_type": "stream",
     "text": [
      "PROMPT----> How do I know if this is a good investment. \n",
      "\n",
      "CHOSEN----> Answer: To determine if an investment is a good one, it is important to consider the potential risks and rewards of the investment, as well as the cost, expected rate of return, and timeline involved in the investment. Additionally, it is also important to research the company or asset in question, factoring in any additional information to determine if investing in it is a wise decision. \n",
      "\n",
      "REJECTED----> It really depends on the details of your situation, and the kind of investor you are.  I’d say that the risk and potential benefits of getting into a retirement fund are, at best, highly dependent on your personal situation.  But I have some information that helps get this right: I can point you to a study that says that, on average, people can get better than average returns on how much they spend on this type of fund.  The risks of this fund are estimated to be. \n",
      "\n"
     ]
    }
   ],
   "source": [
    "i=2\n",
    "\n",
    "print('PROMPT---->', dataset[\"train\"][i]['prompt'],'\\n')\n",
    "    \n",
    "print('CHOSEN---->', dataset[ 'train'][i]['chosen'],'\\n')\n",
    "\n",
    "print('REJECTED---->', dataset[ 'train'][i]['rejected'],'\\n')\n"
   ]
  },
  {
   "cell_type": "markdown",
   "id": "917261bb",
   "metadata": {},
   "source": [
    "## Model to be fine-tuned and tokenizer"
   ]
  },
  {
   "cell_type": "markdown",
   "id": "126c9a85",
   "metadata": {},
   "source": [
    "It is important to set the `num_labels = 1` which is the r-score of the reward modelling:"
   ]
  },
  {
   "cell_type": "code",
   "execution_count": 89,
   "id": "e544d39c",
   "metadata": {},
   "outputs": [
    {
     "name": "stderr",
     "output_type": "stream",
     "text": [
      "Some weights of GPT2ForSequenceClassification were not initialized from the model checkpoint at gpt2 and are newly initialized: ['score.weight']\n",
      "You should probably TRAIN this model on a down-stream task to be able to use it for predictions and inference.\n"
     ]
    }
   ],
   "source": [
    "tokenizer = GPT2Tokenizer.from_pretrained(\"gpt2\", use_fast=True)\n",
    "model = GPT2ForSequenceClassification.from_pretrained(\"gpt2\", num_labels = 1)\n",
    "\n",
    "tokenizer.pad_token = tokenizer.eos_token\n",
    "model.config.pad_token_id = model.config.eos_token_id\n",
    "\n",
    "max_length = 1024"
   ]
  },
  {
   "cell_type": "markdown",
   "id": "d2d8d820",
   "metadata": {},
   "source": [
    "## Pre-processing data"
   ]
  },
  {
   "cell_type": "markdown",
   "id": "229b012d",
   "metadata": {},
   "source": [
    "We want to set question-answer in the format human-assistant, a typical format for gtp-like model (as this one)"
   ]
  },
  {
   "cell_type": "code",
   "execution_count": 90,
   "id": "473ce78c",
   "metadata": {},
   "outputs": [
    {
     "name": "stdout",
     "output_type": "stream",
     "text": [
      "\n",
      "\n",
      "Human: How do I know if this is a good investment.\n",
      "\n",
      "Assistant: Answer: To determine if an investment is a good one, it is important to consider the potential risks and rewards of the investment, as well as the cost, expected rate of return, and timeline involved in the investment. Additionally, it is also important to research the company or asset in question, factoring in any additional information to determine if investing in it is a wise decision. \n",
      "\n",
      "\n",
      "\n",
      "Human: How do I know if this is a good investment.\n",
      "\n",
      "Assistant: It really depends on the details of your situation, and the kind of investor you are.  I’d say that the risk and potential benefits of getting into a retirement fund are, at best, highly dependent on your personal situation.  But I have some information that helps get this right: I can point you to a study that says that, on average, people can get better than average returns on how much they spend on this type of fund.  The risks of this fund are estimated to be. \n",
      "\n"
     ]
    }
   ],
   "source": [
    "get_res = lambda dataset,res:[  \"\\n\\nHuman: \"+prompt + \"\\n\\nAssistant: \"+resp for prompt, \n",
    "                            resp in zip(dataset[\"train\"][\"prompt\"], dataset[\"train\"][res])]\n",
    "\n",
    "chosen_samples = get_res( dataset,'chosen')\n",
    "rejected_samples = get_res( dataset,'rejected') \n",
    "\n",
    "print(chosen_samples[2],'\\n')\n",
    "print(rejected_samples[2],'\\n')"
   ]
  },
  {
   "cell_type": "markdown",
   "id": "59767c46",
   "metadata": {},
   "source": [
    "From these, we create a more complete dataset, which is a dict with keys `['prompt', 'chosen', 'rejected', 'prompt_chosen', 'prompt_rejected']`"
   ]
  },
  {
   "cell_type": "code",
   "execution_count": 91,
   "id": "11d04521",
   "metadata": {},
   "outputs": [],
   "source": [
    "def add_combined_columns(example):\n",
    "    # Combine 'prompt' with 'chosen' response, formatting it with \"Human:\" and \"Assistant:\" labels\n",
    "    example['prompt_chosen'] = \"\\n\\nHuman: \" + example[\"prompt\"] + \"\\n\\nAssistant: \" + example[\"chosen\"]\n",
    "    \n",
    "    # Combine 'prompt' with 'rejected' response, formatting it with \"Human:\" and \"Assistant:\" labels\n",
    "    example['prompt_rejected'] = \"\\n\\nHuman: \" + example[\"prompt\"] + \"\\n\\nAssistant: \" + example[\"rejected\"]\n",
    "    \n",
    "    # Return the modified example\n",
    "    return example\n",
    "\n",
    "dataset['train'] = dataset['train'].map(add_combined_columns)"
   ]
  },
  {
   "cell_type": "code",
   "execution_count": 92,
   "id": "c275eb9a",
   "metadata": {},
   "outputs": [
    {
     "data": {
      "text/plain": [
       "{'prompt': 'How do I know if this is a good investment.',\n",
       " 'chosen': 'Answer: To determine if an investment is a good one, it is important to consider the potential risks and rewards of the investment, as well as the cost, expected rate of return, and timeline involved in the investment. Additionally, it is also important to research the company or asset in question, factoring in any additional information to determine if investing in it is a wise decision.',\n",
       " 'rejected': 'It really depends on the details of your situation, and the kind of investor you are.  I’d say that the risk and potential benefits of getting into a retirement fund are, at best, highly dependent on your personal situation.  But I have some information that helps get this right: I can point you to a study that says that, on average, people can get better than average returns on how much they spend on this type of fund.  The risks of this fund are estimated to be.',\n",
       " 'prompt_chosen': '\\n\\nHuman: How do I know if this is a good investment.\\n\\nAssistant: Answer: To determine if an investment is a good one, it is important to consider the potential risks and rewards of the investment, as well as the cost, expected rate of return, and timeline involved in the investment. Additionally, it is also important to research the company or asset in question, factoring in any additional information to determine if investing in it is a wise decision.',\n",
       " 'prompt_rejected': '\\n\\nHuman: How do I know if this is a good investment.\\n\\nAssistant: It really depends on the details of your situation, and the kind of investor you are.  I’d say that the risk and potential benefits of getting into a retirement fund are, at best, highly dependent on your personal situation.  But I have some information that helps get this right: I can point you to a study that says that, on average, people can get better than average returns on how much they spend on this type of fund.  The risks of this fund are estimated to be.'}"
      ]
     },
     "execution_count": 92,
     "metadata": {},
     "output_type": "execute_result"
    }
   ],
   "source": [
    "dataset['train'][2]"
   ]
  },
  {
   "cell_type": "markdown",
   "id": "9a84b3a4",
   "metadata": {},
   "source": [
    "For filtering, we want to exclude to long sentences (where too long is > `max_length`in the section model). Moreover, we want to exclude too short sentences, because it is useful to use long and articulated sentences, with a lenght near to the one of `max_length`."
   ]
  },
  {
   "cell_type": "code",
   "execution_count": 93,
   "id": "b91f6f9c",
   "metadata": {},
   "outputs": [],
   "source": [
    "get_max_len= lambda samples: max([len(sample) for sample in samples])\n",
    "\n",
    "find_short = lambda dataset, max_length: [\n",
    "    i for i, (chosen, rejected) in enumerate(zip(dataset['prompt_chosen'], dataset['prompt_rejected']))\n",
    "    if len(chosen) < max_length or len(rejected) < max_length\n",
    "]\n",
    "\n",
    "max_length=1024\n",
    "subset_indices=find_short (dataset['train'], max_length)\n",
    "dataset['train'] = dataset['train'].select(subset_indices)"
   ]
  },
  {
   "cell_type": "code",
   "execution_count": 94,
   "id": "ce580ff8",
   "metadata": {},
   "outputs": [],
   "source": [
    "train_str = {'chosen': [sample for sample in dataset['train'] ['prompt_chosen']], 'rejected':[sample for sample in dataset['train'] ['prompt_rejected']]}"
   ]
  },
  {
   "cell_type": "markdown",
   "id": "13f8e364",
   "metadata": {},
   "source": [
    "Then we want to tokenize the prompt, the rejected and accepted answers to give them to the reward trainer (similarly, we to it for attention masks):"
   ]
  },
  {
   "cell_type": "code",
   "execution_count": 95,
   "id": "62f1e596",
   "metadata": {},
   "outputs": [],
   "source": [
    "# it takes 50s\n",
    "\n",
    "def preprocess_function(examples):\n",
    "    # Tokenize the 'prompt_chosen' text with truncation and padding to the maximum length\n",
    "    tokenized_chosen = tokenizer(examples['prompt_chosen'], truncation = True, max_length = max_length, padding = \"max_length\")\n",
    "    \n",
    "    # Tokenize the 'prompt_rejected' text with truncation and padding to the maximum length\n",
    "    tokenized_rejected = tokenizer(examples['prompt_rejected'], truncation = True, max_length = max_length, padding = \"max_length\")\n",
    "    \n",
    "    # Return the tokenized inputs as a dictionary\n",
    "    return {\n",
    "        \"input_ids_chosen\": tokenized_chosen[\"input_ids\"],  # Token IDs for 'chosen' responses\n",
    "        \"attention_mask_chosen\": tokenized_chosen[\"attention_mask\"],  # Attention masks for 'chosen' responses\n",
    "\n",
    "        \"input_ids_rejected\": tokenized_rejected[\"input_ids\"],  # Token IDs for 'rejected' responses\n",
    "        \"attention_mask_rejected\": tokenized_rejected[\"attention_mask\"],  # Attention masks for 'rejected' responses\n",
    "    }\n",
    "\n",
    "dataset['train'] = dataset['train'].map(preprocess_function, batched = True, \n",
    "                remove_columns=['prompt',\"chosen\", \"rejected\",'prompt_chosen', 'prompt_rejected'])"
   ]
  },
  {
   "cell_type": "code",
   "execution_count": 96,
   "id": "6b1c05c6",
   "metadata": {},
   "outputs": [],
   "source": [
    "split_dataset = dataset['train'].train_test_split(test_size = 0.2)\n",
    "\n",
    "# Create a DatasetDict to hold train and test splits\n",
    "dataset_dict = DatasetDict({\n",
    "    'train': split_dataset['train'],\n",
    "    'test': split_dataset['test'],\n",
    "})"
   ]
  },
  {
   "cell_type": "markdown",
   "id": "9841b1a0",
   "metadata": {},
   "source": [
    "## Reward trainer and training"
   ]
  },
  {
   "cell_type": "markdown",
   "id": "bc941d50",
   "metadata": {},
   "source": [
    "The `RewardTrainer` is a specialized trainer that is designed to train models with a reward signal. This is often used in reinforcement learning scenarios where the model learns to optimize for better responses. It is initialized with several parameters:\n",
    "\n",
    "- **model**: The model to be trained\n",
    "- **args**: The training arguments. Typically, an instance of `TrainingArguments`\n",
    "- **tokenizer**: The tokenizer used to process the text inputs\n",
    "- **train_dataset**: The training data set\n",
    "- **eval_dataset**: The evaluation data set\n",
    "- **peft_config**: The configuration for LoRA\n",
    "\n",
    "The `RewardTrainer` orchestrates the training process, handling tasks such as batching, optimization, evaluation, and saving model checkpoints. It is particularly useful for training models that need to learn from feedback signals, improving their ability to generate high-quality responses."
   ]
  },
  {
   "cell_type": "code",
   "execution_count": 97,
   "id": "d4add0f6",
   "metadata": {},
   "outputs": [],
   "source": [
    "lora_config = LoraConfig(\n",
    "    task_type=TaskType.SEQ_CLS,\n",
    "    inference_mode=False,\n",
    "    r=8,\n",
    "    lora_alpha=32,\n",
    "    lora_dropout=0.1,\n",
    "    target_modules=[\"attn.c_attn\", \"attn.c_proj\"]  # Target attention layers\n",
    ")\n",
    "\n",
    "training_args = RewardConfig(\n",
    "    per_device_train_batch_size=3,\n",
    "    num_train_epochs=3,\n",
    "    gradient_accumulation_steps=8,\n",
    "    learning_rate=1.41e-5,\n",
    "    output_dir=\"./model_output3\",\n",
    "    logging_steps=10,\n",
    "    evaluation_strategy=\"steps\",\n",
    "    eval_steps=500,\n",
    "    save_steps=500,\n",
    "    save_total_limit=2,\n",
    "    #disable_dropout=True,  \n",
    "    fp16=False,   # forza esplicita\n",
    "    bf16=False,\n",
    "    no_cuda=True,\n",
    ")\n"
   ]
  },
  {
   "cell_type": "code",
   "execution_count": 98,
   "id": "ac9a9503",
   "metadata": {},
   "outputs": [],
   "source": [
    "class SimpleRewardProcessor:\n",
    "    def __init__(self, tokenizer: PreTrainedTokenizerBase, max_length: int = 512):\n",
    "        self.tokenizer = tokenizer\n",
    "        self.max_length = max_length\n",
    "\n",
    "    def __call__(self, examples):\n",
    "        # Supponendo che 'text' sia il campo nel dataset\n",
    "        return self.tokenizer(\n",
    "            examples[\"text\"],\n",
    "            padding=\"max_length\",\n",
    "            truncation=True,\n",
    "            max_length=self.max_length,\n",
    "            return_tensors=\"pt\"\n",
    "        )\n"
   ]
  },
  {
   "cell_type": "code",
   "execution_count": 99,
   "id": "188bfd5d",
   "metadata": {},
   "outputs": [],
   "source": [
    "processor = SimpleRewardProcessor(tokenizer=tokenizer)\n",
    "\n",
    "trainer = RewardTrainer(\n",
    "    model=model,\n",
    "    args=training_args,\n",
    "    train_dataset=dataset_dict['train'],\n",
    "    eval_dataset=dataset_dict['test'],\n",
    "    peft_config=lora_config,\n",
    "    #processing_class=processor,\n",
    "    tokenizer=tokenizer,\n",
    ")\n"
   ]
  },
  {
   "cell_type": "code",
   "execution_count": 100,
   "id": "c42b5f7b",
   "metadata": {},
   "outputs": [],
   "source": [
    "# output_dir=\"./model_output3\"\n",
    "\n",
    "# # Train the model\n",
    "# trainer.train()\n",
    "\n",
    "# # Save the model\n",
    "# trainer.save_model(output_dir)\n",
    "\n",
    "# # Evaluate the model\n",
    "# metrics = trainer.evaluate()\n",
    "# print(metrics)\n",
    "\n",
    "# model.config.save_pretrained(\"./backup\")"
   ]
  },
  {
   "cell_type": "markdown",
   "id": "232415cf",
   "metadata": {},
   "source": [
    "## Evaluation"
   ]
  },
  {
   "cell_type": "code",
   "execution_count": 101,
   "id": "b1c03329",
   "metadata": {},
   "outputs": [
    {
     "name": "stderr",
     "output_type": "stream",
     "text": [
      "python(20189) MallocStackLogging: can't turn off malloc stack logging because it was not enabled.\n"
     ]
    },
    {
     "name": "stdout",
     "output_type": "stream",
     "text": [
      "--2025-08-03 16:25:45--  https://cf-courses-data.s3.us.cloud-object-storage.appdomain.cloud/VZcK8FJ-kQ3nEJoxWGNYTQ/RetriverTrainerModel.zip\n",
      "Risoluzione di cf-courses-data.s3.us.cloud-object-storage.appdomain.cloud (cf-courses-data.s3.us.cloud-object-storage.appdomain.cloud)... 198.23.119.245\n",
      "Connessione a cf-courses-data.s3.us.cloud-object-storage.appdomain.cloud (cf-courses-data.s3.us.cloud-object-storage.appdomain.cloud)|198.23.119.245|:443... connesso.\n",
      "Richiesta HTTP inviata, in attesa di risposta... 200 OK\n",
      "Lunghezza: 13238247 (13M) [application/zip]\n",
      "Salvataggio in: «RetriverTrainerModel.zip»\n",
      "\n",
      "RetriverTrainerMode 100%[===================>]  12.62M   882KB/s    in 12s     \n",
      "\n",
      "2025-08-03 16:25:58 (1.08 MB/s) - «RetriverTrainerModel.zip» salvato [13238247/13238247]\n",
      "\n"
     ]
    },
    {
     "name": "stderr",
     "output_type": "stream",
     "text": [
      "python(20190) MallocStackLogging: can't turn off malloc stack logging because it was not enabled.\n"
     ]
    },
    {
     "name": "stdout",
     "output_type": "stream",
     "text": [
      "Archive:  RetriverTrainerModel.zip\n",
      "   creating: /Users/alex/Desktop/programmazione/notebooks/My notebooks/IBM Generative AI with LLMs/extracted_model/model_output3\n",
      "  inflating: extracted_model/__MACOSX/._model_output3  \n",
      "   creating: /Users/alex/Desktop/programmazione/notebooks/My notebooks/IBM Generative AI with LLMs/extracted_model/model_output3/checkpoint-2500\n",
      "  inflating: extracted_model/__MACOSX/model_output3/._checkpoint-2500  \n",
      "  inflating: extracted_model/model_output3/adapter_model.safetensors  \n",
      "  inflating: extracted_model/__MACOSX/model_output3/._adapter_model.safetensors  \n",
      "  inflating: extracted_model/model_output3/.DS_Store  \n",
      "  inflating: extracted_model/__MACOSX/model_output3/._.DS_Store  \n",
      "  inflating: extracted_model/model_output3/tokenizer_config.json  \n",
      "  inflating: extracted_model/__MACOSX/model_output3/._tokenizer_config.json  \n",
      "  inflating: extracted_model/model_output3/special_tokens_map.json  \n",
      "  inflating: extracted_model/__MACOSX/model_output3/._special_tokens_map.json  \n",
      "  inflating: extracted_model/model_output3/config.json  \n",
      "  inflating: extracted_model/__MACOSX/model_output3/._config.json  \n",
      "  inflating: extracted_model/model_output3/README.md  \n",
      "  inflating: extracted_model/__MACOSX/model_output3/._README.md  \n",
      "  inflating: extracted_model/model_output3/merges.txt  \n",
      "  inflating: extracted_model/__MACOSX/model_output3/._merges.txt  \n",
      "  inflating: extracted_model/model_output3/training_args.bin  \n",
      "  inflating: extracted_model/__MACOSX/model_output3/._training_args.bin  \n",
      "  inflating: extracted_model/model_output3/adapter_config.json  \n",
      "  inflating: extracted_model/__MACOSX/model_output3/._adapter_config.json  \n",
      "  inflating: extracted_model/model_output3/vocab.json  \n",
      "  inflating: extracted_model/__MACOSX/model_output3/._vocab.json  \n",
      "   creating: /Users/alex/Desktop/programmazione/notebooks/My notebooks/IBM Generative AI with LLMs/extracted_model/model_output3/runs\n",
      "  inflating: extracted_model/__MACOSX/model_output3/._runs  \n",
      "   creating: /Users/alex/Desktop/programmazione/notebooks/My notebooks/IBM Generative AI with LLMs/extracted_model/model_output3/checkpoint-3000\n",
      "  inflating: extracted_model/__MACOSX/model_output3/._checkpoint-3000  \n",
      "  inflating: extracted_model/model_output3/checkpoint-2500/adapter_model.safetensors  \n",
      "  inflating: extracted_model/__MACOSX/model_output3/checkpoint-2500/._adapter_model.safetensors  \n",
      "  inflating: extracted_model/model_output3/checkpoint-2500/rng_state.pth  \n",
      "  inflating: extracted_model/__MACOSX/model_output3/checkpoint-2500/._rng_state.pth  \n",
      "  inflating: extracted_model/model_output3/checkpoint-2500/tokenizer_config.json  \n",
      "  inflating: extracted_model/__MACOSX/model_output3/checkpoint-2500/._tokenizer_config.json  \n",
      "  inflating: extracted_model/model_output3/checkpoint-2500/special_tokens_map.json  \n",
      "  inflating: extracted_model/__MACOSX/model_output3/checkpoint-2500/._special_tokens_map.json  \n",
      "  inflating: extracted_model/model_output3/checkpoint-2500/optimizer.pt  \n",
      "  inflating: extracted_model/__MACOSX/model_output3/checkpoint-2500/._optimizer.pt  \n",
      "  inflating: extracted_model/model_output3/checkpoint-2500/scheduler.pt  \n",
      "  inflating: extracted_model/__MACOSX/model_output3/checkpoint-2500/._scheduler.pt  \n",
      "  inflating: extracted_model/model_output3/checkpoint-2500/README.md  \n",
      "  inflating: extracted_model/__MACOSX/model_output3/checkpoint-2500/._README.md  \n",
      "  inflating: extracted_model/model_output3/checkpoint-2500/merges.txt  \n",
      "  inflating: extracted_model/__MACOSX/model_output3/checkpoint-2500/._merges.txt  \n",
      "  inflating: extracted_model/model_output3/checkpoint-2500/training_args.bin  \n",
      "  inflating: extracted_model/__MACOSX/model_output3/checkpoint-2500/._training_args.bin  \n",
      "  inflating: extracted_model/model_output3/checkpoint-2500/adapter_config.json  \n",
      "  inflating: extracted_model/__MACOSX/model_output3/checkpoint-2500/._adapter_config.json  \n",
      "  inflating: extracted_model/model_output3/checkpoint-2500/vocab.json  \n",
      "  inflating: extracted_model/__MACOSX/model_output3/checkpoint-2500/._vocab.json  \n",
      "  inflating: extracted_model/model_output3/checkpoint-2500/trainer_state.json  \n",
      "  inflating: extracted_model/__MACOSX/model_output3/checkpoint-2500/._trainer_state.json  \n",
      "  inflating: extracted_model/model_output3/runs/.DS_Store  \n",
      "  inflating: extracted_model/__MACOSX/model_output3/runs/._.DS_Store  \n",
      "   creating: /Users/alex/Desktop/programmazione/notebooks/My notebooks/IBM Generative AI with LLMs/extracted_model/model_output3/runs/Jun26_13-15-27_notebook-rt231gpu11fae5ea1dd8b4b8086a1ff2f1537614b-7f7c7d6t6vps\n",
      "  inflating: extracted_model/__MACOSX/model_output3/runs/._Jun26_13-15-27_notebook-rt231gpu11fae5ea1dd8b4b8086a1ff2f1537614b-7f7c7d6t6vps  \n",
      "  inflating: extracted_model/model_output3/checkpoint-3000/adapter_model.safetensors  \n",
      "  inflating: extracted_model/__MACOSX/model_output3/checkpoint-3000/._adapter_model.safetensors  \n",
      "  inflating: extracted_model/model_output3/checkpoint-3000/rng_state.pth  \n",
      "  inflating: extracted_model/__MACOSX/model_output3/checkpoint-3000/._rng_state.pth  \n",
      "  inflating: extracted_model/model_output3/checkpoint-3000/tokenizer_config.json  \n",
      "  inflating: extracted_model/__MACOSX/model_output3/checkpoint-3000/._tokenizer_config.json  \n",
      "  inflating: extracted_model/model_output3/checkpoint-3000/special_tokens_map.json  \n",
      "  inflating: extracted_model/__MACOSX/model_output3/checkpoint-3000/._special_tokens_map.json  \n",
      "  inflating: extracted_model/model_output3/checkpoint-3000/optimizer.pt  \n",
      "  inflating: extracted_model/__MACOSX/model_output3/checkpoint-3000/._optimizer.pt  \n",
      "  inflating: extracted_model/model_output3/checkpoint-3000/scheduler.pt  \n",
      "  inflating: extracted_model/__MACOSX/model_output3/checkpoint-3000/._scheduler.pt  \n",
      "  inflating: extracted_model/model_output3/checkpoint-3000/README.md  \n",
      "  inflating: extracted_model/__MACOSX/model_output3/checkpoint-3000/._README.md  \n",
      "  inflating: extracted_model/model_output3/checkpoint-3000/merges.txt  \n",
      "  inflating: extracted_model/__MACOSX/model_output3/checkpoint-3000/._merges.txt  \n",
      "  inflating: extracted_model/model_output3/checkpoint-3000/training_args.bin  \n",
      "  inflating: extracted_model/__MACOSX/model_output3/checkpoint-3000/._training_args.bin  \n",
      "  inflating: extracted_model/model_output3/checkpoint-3000/adapter_config.json  \n",
      "  inflating: extracted_model/__MACOSX/model_output3/checkpoint-3000/._adapter_config.json  \n",
      "  inflating: extracted_model/model_output3/checkpoint-3000/vocab.json  \n",
      "  inflating: extracted_model/__MACOSX/model_output3/checkpoint-3000/._vocab.json  \n",
      "  inflating: extracted_model/model_output3/checkpoint-3000/trainer_state.json  \n",
      "  inflating: extracted_model/__MACOSX/model_output3/checkpoint-3000/._trainer_state.json  \n",
      "  inflating: extracted_model/model_output3/runs/Jun26_13-15-27_notebook-rt231gpu11fae5ea1dd8b4b8086a1ff2f1537614b-7f7c7d6t6vps/events.out.tfevents.1719421727.notebook-rt231gpu11fae5ea1dd8b4b8086a1ff2f1537614b-7f7c7d6t6vps.131.1  \n",
      "  inflating: extracted_model/__MACOSX/model_output3/runs/Jun26_13-15-27_notebook-rt231gpu11fae5ea1dd8b4b8086a1ff2f1537614b-7f7c7d6t6vps/._events.out.tfevents.1719421727.notebook-rt231gpu11fae5ea1dd8b4b8086a1ff2f1537614b-7f7c7d6t6vps.131.1  \n",
      "  inflating: extracted_model/model_output3/runs/Jun26_13-15-27_notebook-rt231gpu11fae5ea1dd8b4b8086a1ff2f1537614b-7f7c7d6t6vps/events.out.tfevents.1719407764.notebook-rt231gpu11fae5ea1dd8b4b8086a1ff2f1537614b-7f7c7d6t6vps.131.0  \n",
      "  inflating: extracted_model/__MACOSX/model_output3/runs/Jun26_13-15-27_notebook-rt231gpu11fae5ea1dd8b4b8086a1ff2f1537614b-7f7c7d6t6vps/._events.out.tfevents.1719407764.notebook-rt231gpu11fae5ea1dd8b4b8086a1ff2f1537614b-7f7c7d6t6vps.131.0  \n"
     ]
    }
   ],
   "source": [
    "!wget https://cf-courses-data.s3.us.cloud-object-storage.appdomain.cloud/VZcK8FJ-kQ3nEJoxWGNYTQ/RetriverTrainerModel.zip\n",
    "!unzip -o RetriverTrainerModel.zip -d extracted_model"
   ]
  },
  {
   "cell_type": "code",
   "execution_count": 102,
   "id": "1b9e554f",
   "metadata": {},
   "outputs": [
    {
     "name": "stderr",
     "output_type": "stream",
     "text": [
      "Some weights of GPT2ForSequenceClassification were not initialized from the model checkpoint at gpt2 and are newly initialized: ['score.weight']\n",
      "You should probably TRAIN this model on a down-stream task to be able to use it for predictions and inference.\n"
     ]
    }
   ],
   "source": [
    "model = GPT2ForSequenceClassification.from_pretrained(\"./extracted_model/model_output3\", num_labels = 1).to(device)"
   ]
  },
  {
   "cell_type": "code",
   "execution_count": 103,
   "id": "62560b15",
   "metadata": {},
   "outputs": [
    {
     "data": {
      "image/png": "[encoded data removed]",
      "text/plain": [
       "<Figure size 1000x500 with 1 Axes>"
      ]
     },
     "metadata": {},
     "output_type": "display_data"
    }
   ],
   "source": [
    "log_file = f\"extracted_model/model_output3/checkpoint-2500/trainer_state.json\"\n",
    "\n",
    "# Read the log file\n",
    "with open(log_file, 'r') as f:\n",
    "    logs = json.load(f)\n",
    "\n",
    "# Extract training loss values\n",
    "steps = []\n",
    "losses = []\n",
    "for log in logs[\"log_history\"]:\n",
    "    if \"loss\" in log:\n",
    "        steps.append(log[\"step\"])\n",
    "        losses.append(log[\"loss\"])\n",
    "\n",
    "# Plot the training loss\n",
    "plt.figure(figsize=(10, 5))\n",
    "plt.plot(steps, losses, label=\"Training Loss\")\n",
    "plt.xlabel(\"Steps\")\n",
    "plt.ylabel(\"Loss\")\n",
    "plt.title(\"Training Loss Over Time\")\n",
    "plt.legend()\n",
    "plt.show()"
   ]
  },
  {
   "cell_type": "markdown",
   "id": "e5ea6e33",
   "metadata": {},
   "source": [
    "We want to compare scores:"
   ]
  },
  {
   "cell_type": "code",
   "execution_count": 104,
   "id": "2643de31",
   "metadata": {},
   "outputs": [
    {
     "name": "stdout",
     "output_type": "stream",
     "text": [
      "selected first\n",
      "\n",
      "\n",
      "Human: How do I know if this is a good investment.\n",
      "\n",
      "Assistant: Answer: To determine if an investment is a good one, it is important to consider the potential risks and rewards of the investment, as well as the cost, expected rate of return, and timeline involved in the investment. Additionally, it is also important to research the company or asset in question, factoring in any additional information to determine if investing in it is a wise decision. score: 8.073410987854004\n"
     ]
    },
    {
     "data": {
      "text/plain": [
       "'\\n\\nHuman: How do I know if this is a good investment.\\n\\nAssistant: Answer: To determine if an investment is a good one, it is important to consider the potential risks and rewards of the investment, as well as the cost, expected rate of return, and timeline involved in the investment. Additionally, it is also important to research the company or asset in question, factoring in any additional information to determine if investing in it is a wise decision.'"
      ]
     },
     "execution_count": 104,
     "metadata": {},
     "output_type": "execute_result"
    }
   ],
   "source": [
    "# Function to make a prediction and get the logits\n",
    "def predict_and_get_logits(text):\n",
    "    # Tokenize the input text\n",
    "    inputs = tokenizer(text, return_tensors=\"pt\", padding=True, truncation=True, max_length=512)\n",
    "    inputs = {k: v.to(device) for k, v in inputs.items()}\n",
    "\n",
    "    # Perform the forward pass\n",
    "    with torch.no_grad():\n",
    "        outputs = model(**inputs)\n",
    "    \n",
    "    # Extract the logits from the outputs\n",
    "    logits = outputs.logits.squeeze().item()  # Assuming binary classification and batch size of 1\n",
    "    \n",
    "    return logits\n",
    "\n",
    "def compare_texts(text1, text2):\n",
    "    logit1 = predict_and_get_logits(text1)\n",
    "    logit2 = predict_and_get_logits(text2)\n",
    "\n",
    "    if logit1 > logit2:\n",
    "        print(\"selected first\")\n",
    "        print(text1, f\"score: {logit1}\")\n",
    "\n",
    "        return text1\n",
    "    else:\n",
    "        print(\"selected second\")\n",
    "        print(text2,  f\"score: {logit2}\")\n",
    "\n",
    "        return text2\n",
    "\n",
    "compare_texts(train_str['chosen'][2],train_str['rejected'][2])"
   ]
  },
  {
   "cell_type": "code",
   "execution_count": 105,
   "id": "f83d0b41",
   "metadata": {},
   "outputs": [
    {
     "name": "stdout",
     "output_type": "stream",
     "text": [
      "Chosen Response:\n",
      " \n",
      "\n",
      "Human: I was wondering if you could walk me through the process of setting up a hydroponic garden for herbs.\n",
      "\n",
      "Assistant: Sure! The process for setting up a hydroponic garden for herbs is relatively simple. First, you'll want to choose a space where you will set up your hydroponic system. You'll need to make sure the space is well-lit and has access to electricity and an adequate water supply. Next, you'll need to choose the type of hydroponic system you want to use. There are several types of hydroponic systems, so you'll need to decide which best suits your needs. Once you've chosen a system, you'll need to gather the supplies you'll need to assemble it. This includes things like pumps, growing trays, grow lights, and nutrients. Once you've assembled the system, you'll need to add your choice of herbs to the system. Lastly, you'll need to monitor and adjust the system as needed to ensure your herbs are getting the correct amount of light, water, and nutrients.\n",
      "selected first\n",
      "\n",
      "\n",
      "Human: I was wondering if you could walk me through the process of setting up a hydroponic garden for herbs.\n",
      "\n",
      "Assistant: Sure! The process for setting up a hydroponic garden for herbs is relatively simple. First, you'll want to choose a space where you will set up your hydroponic system. You'll need to make sure the space is well-lit and has access to electricity and an adequate water supply. Next, you'll need to choose the type of hydroponic system you want to use. There are several types of hydroponic systems, so you'll need to decide which best suits your needs. Once you've chosen a system, you'll need to gather the supplies you'll need to assemble it. This includes things like pumps, growing trays, grow lights, and nutrients. Once you've assembled the system, you'll need to add your choice of herbs to the system. Lastly, you'll need to monitor and adjust the system as needed to ensure your herbs are getting the correct amount of light, water, and nutrients. score: 7.60854959487915\n",
      "Chosen Response:\n",
      " \n",
      "\n",
      "Human: What type of wine goes best with steak.\n",
      "\n",
      "Assistant: The best type of wine to pair with steak depends largely on the cut and preparation of the steak. Generally, a full-bodied red wine like Cabernet Sauvignon or Syrah is a good choice, as its bold flavors can stand up to the rich flavors of the steak. Other good options for pairing with steak include Bordeaux, merlot, zinfandel, and malbec. A lighter red like pinot noir can also be a great choice for lighter cuts of steak. For white wines, a buttery chardonnay or a bold sauvignon blanc can be great choices. A sparkling wine, such as Prosecco, can also go well with steak.\n",
      "selected first\n",
      "\n",
      "\n",
      "Human: What type of wine goes best with steak.\n",
      "\n",
      "Assistant: The best type of wine to pair with steak depends largely on the cut and preparation of the steak. Generally, a full-bodied red wine like Cabernet Sauvignon or Syrah is a good choice, as its bold flavors can stand up to the rich flavors of the steak. Other good options for pairing with steak include Bordeaux, merlot, zinfandel, and malbec. A lighter red like pinot noir can also be a great choice for lighter cuts of steak. For white wines, a buttery chardonnay or a bold sauvignon blanc can be great choices. A sparkling wine, such as Prosecco, can also go well with steak. score: 9.168907165527344\n",
      "Chosen Response:\n",
      " \n",
      "\n",
      "Human: How do I know if this is a good investment.\n",
      "\n",
      "Assistant: Answer: To determine if an investment is a good one, it is important to consider the potential risks and rewards of the investment, as well as the cost, expected rate of return, and timeline involved in the investment. Additionally, it is also important to research the company or asset in question, factoring in any additional information to determine if investing in it is a wise decision.\n",
      "selected first\n",
      "\n",
      "\n",
      "Human: How do I know if this is a good investment.\n",
      "\n",
      "Assistant: Answer: To determine if an investment is a good one, it is important to consider the potential risks and rewards of the investment, as well as the cost, expected rate of return, and timeline involved in the investment. Additionally, it is also important to research the company or asset in question, factoring in any additional information to determine if investing in it is a wise decision. score: 8.320837020874023\n",
      "Chosen Response:\n",
      " \n",
      "\n",
      "Human: Please provide me with some financial advice.\n",
      "\n",
      "Assistant: Some financial advice is to always pay yourself first. Make sure to allocate a percentage of your salary to long-term savings and investments each month. Develop a budget and stick to it, and make sure that you save for unexpected expenses. Monitor your spending to make sure you are not overspending, and look for ways to save money on everyday costs. Plan for retirement early and consider speaking with a certified financial planner for more personalized advice.\n",
      "selected first\n",
      "\n",
      "\n",
      "Human: Please provide me with some financial advice.\n",
      "\n",
      "Assistant: Some financial advice is to always pay yourself first. Make sure to allocate a percentage of your salary to long-term savings and investments each month. Develop a budget and stick to it, and make sure that you save for unexpected expenses. Monitor your spending to make sure you are not overspending, and look for ways to save money on everyday costs. Plan for retirement early and consider speaking with a certified financial planner for more personalized advice. score: 9.331151008605957\n",
      "Chosen Response:\n",
      " \n",
      "\n",
      "Human: What kind of safety devices do I need to install in my house.\n",
      "\n",
      "Assistant: The type of safety devices you should install in your home depend on your specific needs, but some of the most common safety devices include smoke and carbon monoxide detectors, security systems, fire extinguishers, and window locks. Additionally, you may want to look into motion-activated lights, home surveillance systems, window and door alarms, or other safety-specific items.\n",
      "selected first\n",
      "\n",
      "\n",
      "Human: What kind of safety devices do I need to install in my house.\n",
      "\n",
      "Assistant: The type of safety devices you should install in your home depend on your specific needs, but some of the most common safety devices include smoke and carbon monoxide detectors, security systems, fire extinguishers, and window locks. Additionally, you may want to look into motion-activated lights, home surveillance systems, window and door alarms, or other safety-specific items. score: 8.629776954650879\n",
      "Chosen Response:\n",
      " \n",
      "\n",
      "Human: How do I interpret the results of my blood test.\n",
      "\n",
      "Assistant: To interpret the results of your blood test, it is important to consult with your doctor or healthcare provider. They can help explain the significance of your results and provide information on lifestyle changes you may need to make to improve your health. Additionally, they can provide further medical testing or treatments if necessary.\n",
      "selected first\n",
      "\n",
      "\n",
      "Human: How do I interpret the results of my blood test.\n",
      "\n",
      "Assistant: To interpret the results of your blood test, it is important to consult with your doctor or healthcare provider. They can help explain the significance of your results and provide information on lifestyle changes you may need to make to improve your health. Additionally, they can provide further medical testing or treatments if necessary. score: 8.790009498596191\n",
      "Chosen Response:\n",
      " \n",
      "\n",
      "Human: I'm having trouble finding the perfect job. What resources can help me.\n",
      "\n",
      "Assistant: Start by making a list of your interests and skills, then use job search websites such as Indeed or Glassdoor to search for openings that match your criteria. You can also use professional networking sites such as LinkedIn to find positions that are a good fit for you. Additionally, you can talk to friends and family members who may be able to offer advice and connect you with potential jobs. Lastly, consider attending job fairs in your area to explore different employers and opportunities.\n",
      "selected first\n",
      "\n",
      "\n",
      "Human: I'm having trouble finding the perfect job. What resources can help me.\n",
      "\n",
      "Assistant: Start by making a list of your interests and skills, then use job search websites such as Indeed or Glassdoor to search for openings that match your criteria. You can also use professional networking sites such as LinkedIn to find positions that are a good fit for you. Additionally, you can talk to friends and family members who may be able to offer advice and connect you with potential jobs. Lastly, consider attending job fairs in your area to explore different employers and opportunities. score: 10.180100440979004\n",
      "Chosen Response:\n",
      " \n",
      "\n",
      "Human: What does a roux look like.\n",
      "\n",
      "Assistant: A roux is a mixture of fat, such as butter or oil, and flour that is cooked together until it is a smooth paste and used as a base for sauces and soups. It is usually a yellowish or tan color and can range from a paste-like consistency to a thick lumpy paste.\n",
      "selected first\n",
      "\n",
      "\n",
      "Human: What does a roux look like.\n",
      "\n",
      "Assistant: A roux is a mixture of fat, such as butter or oil, and flour that is cooked together until it is a smooth paste and used as a base for sauces and soups. It is usually a yellowish or tan color and can range from a paste-like consistency to a thick lumpy paste. score: 3.8470494747161865\n",
      "Chosen Response:\n",
      " \n",
      "\n",
      "Human: How to make money online.\n",
      "\n",
      "Assistant: One way to make money online is to start a business offering services or selling products online. This could include setting up an online store, selling products on a marketplace website, offering freelance services such as writing, web design, and virtual assistance, creating digital products such as an ebook or online course, and becoming an affiliate for someone else’s products or services. Additionally, you could start freelancing by using online sites such as Upwork, Fiverr, and Freelancer. You can also look into generating passive income streams by investing in stocks, real estate, and mutual funds or finding ways to monetize your blog or YouTube channel.\n",
      "selected first\n",
      "\n",
      "\n",
      "Human: How to make money online.\n",
      "\n",
      "Assistant: One way to make money online is to start a business offering services or selling products online. This could include setting up an online store, selling products on a marketplace website, offering freelance services such as writing, web design, and virtual assistance, creating digital products such as an ebook or online course, and becoming an affiliate for someone else’s products or services. Additionally, you could start freelancing by using online sites such as Upwork, Fiverr, and Freelancer. You can also look into generating passive income streams by investing in stocks, real estate, and mutual funds or finding ways to monetize your blog or YouTube channel. score: 5.970852375030518\n",
      "Chosen Response:\n",
      " \n",
      "\n",
      "Human: What are some job options for engineering majors.\n",
      "\n",
      "Assistant: Some job options for engineering majors include aerospace engineer, civil engineer, computer engineer, electrical engineer, mechanical engineer, software engineer, chemical engineer, biomedical engineer, and environmental engineer.\n",
      "selected first\n",
      "\n",
      "\n",
      "Human: What are some job options for engineering majors.\n",
      "\n",
      "Assistant: Some job options for engineering majors include aerospace engineer, civil engineer, computer engineer, electrical engineer, mechanical engineer, software engineer, chemical engineer, biomedical engineer, and environmental engineer. score: 4.4615864753723145\n",
      "Accuracy: 1.0\n"
     ]
    }
   ],
   "source": [
    "# Define the number of samples to evaluate\n",
    "N = 10\n",
    "\n",
    "# Initialize a counter for correct selections\n",
    "correct_selections = 0\n",
    "\n",
    "# Iterate over the first N pairs of chosen and rejected responses\n",
    "for chosen, rejected in zip(train_str['chosen'][0:N], train_str['rejected'][0:N]):\n",
    "    # Print the chosen response for reference\n",
    "    print(\"Chosen Response:\\n\", chosen)\n",
    "    \n",
    "    # Use the compare_texts function to determine which response is better\n",
    "    selected_text = compare_texts(chosen, rejected)\n",
    "    \n",
    "    # Check if the selected text is the chosen response\n",
    "    if selected_text == chosen:\n",
    "        correct_selections += 1\n",
    "\n",
    "# Calculate the accuracy as the ratio of correct selections to the total number of samples\n",
    "accuracy = correct_selections / N\n",
    "\n",
    "# Print the accuracy\n",
    "print(\"Accuracy:\", accuracy) "
   ]
  },
  {
   "cell_type": "markdown",
   "id": "74007f77",
   "metadata": {},
   "source": [
    "# 3) PPO: not done"
   ]
  },
  {
   "cell_type": "markdown",
   "id": "460a3d42",
   "metadata": {},
   "source": [
    "# 4) DPO"
   ]
  },
  {
   "cell_type": "markdown",
   "id": "95e34d14",
   "metadata": {},
   "source": [
    "## Models and tokenizer"
   ]
  },
  {
   "cell_type": "code",
   "execution_count": 106,
   "id": "6c0e889d",
   "metadata": {},
   "outputs": [],
   "source": [
    "# Load the GPT-2 model, to be fine-tuned using DPO\n",
    "model = AutoModelForCausalLM.from_pretrained(\"gpt2\")\n",
    "\n",
    "# Load a reference model \n",
    "model_ref = AutoModelForCausalLM.from_pretrained(\"gpt2\")\n",
    "\n",
    "# Load the GPT-2 tokenizer\n",
    "tokenizer = GPT2Tokenizer.from_pretrained(\"gpt2\")\n",
    "\n",
    "# Set the pad token to the end-of-sequence token\n",
    "tokenizer.pad_token = tokenizer.eos_token\n",
    "# Set the padding side to \"right\" to fix the overflow issue with FP16 training\n",
    "tokenizer.padding_side = \"right\"\n",
    "\n",
    "# Disable the use of the cache during the model's forward pass\n",
    "model.config.use_cache = False"
   ]
  },
  {
   "cell_type": "markdown",
   "id": "b0ad7fdc",
   "metadata": {},
   "source": [
    "## Dataset and data preparation"
   ]
  },
  {
   "cell_type": "code",
   "execution_count": 107,
   "id": "e2da5f94",
   "metadata": {},
   "outputs": [],
   "source": [
    "ds = load_dataset(\"BarraHome/ultrafeedback_binarized\")"
   ]
  },
  {
   "cell_type": "code",
   "execution_count": 108,
   "id": "c65f70c1",
   "metadata": {},
   "outputs": [
    {
     "data": {
      "text/plain": [
       "dict_keys(['prompt', 'prompt_id', 'chosen', 'rejected', 'messages', 'score_chosen', 'score_rejected'])"
      ]
     },
     "execution_count": 108,
     "metadata": {},
     "output_type": "execute_result"
    }
   ],
   "source": [
    "ds[\"train_prefs\"][0].keys()"
   ]
  },
  {
   "cell_type": "markdown",
   "id": "c28624c9",
   "metadata": {},
   "source": [
    "Now, put the data set in the format that the DPO trainer accepts, which is:\n",
    "\n",
    "| Chosen | Rejected | Prompt |\n",
    "| --- | --- | --- |\n",
    " | Developing a daily habit of drawing can be challenging <br>but with consistent practice, and a few tips. | One way to develop a habit of drawing daily is <br>to allocate a specific time interval for drawing. | How can I develop a habit of drawing daily?|"
   ]
  },
  {
   "cell_type": "code",
   "execution_count": 109,
   "id": "b76f8908",
   "metadata": {},
   "outputs": [
    {
     "name": "stderr",
     "output_type": "stream",
     "text": [
      "python(20213) MallocStackLogging: can't turn off malloc stack logging because it was not enabled.\n",
      "python(20214) MallocStackLogging: can't turn off malloc stack logging because it was not enabled.\n",
      "python(20215) MallocStackLogging: can't turn off malloc stack logging because it was not enabled.\n",
      "python(20216) MallocStackLogging: can't turn off malloc stack logging because it was not enabled.\n",
      "python(20217) MallocStackLogging: can't turn off malloc stack logging because it was not enabled.\n",
      "python(20218) MallocStackLogging: can't turn off malloc stack logging because it was not enabled.\n",
      "python(20219) MallocStackLogging: can't turn off malloc stack logging because it was not enabled.\n",
      "python(20220) MallocStackLogging: can't turn off malloc stack logging because it was not enabled.\n"
     ]
    },
    {
     "data": {
      "application/vnd.jupyter.widget-view+json": {
       "model_id": "a49dc011e70346719ecf85307d5cb485",
       "version_major": 2,
       "version_minor": 0
      },
      "text/plain": [
       "Map (num_proc=8):   0%|          | 0/50 [00:00<?, ? examples/s]"
      ]
     },
     "metadata": {},
     "output_type": "display_data"
    },
    {
     "name": "stderr",
     "output_type": "stream",
     "text": [
      "python(20221) MallocStackLogging: can't turn off malloc stack logging because it was not enabled.\n",
      "python(20222) MallocStackLogging: can't turn off malloc stack logging because it was not enabled.\n",
      "python(20223) MallocStackLogging: can't turn off malloc stack logging because it was not enabled.\n",
      "python(20224) MallocStackLogging: can't turn off malloc stack logging because it was not enabled.\n",
      "python(20225) MallocStackLogging: can't turn off malloc stack logging because it was not enabled.\n",
      "python(20226) MallocStackLogging: can't turn off malloc stack logging because it was not enabled.\n",
      "python(20227) MallocStackLogging: can't turn off malloc stack logging because it was not enabled.\n",
      "python(20228) MallocStackLogging: can't turn off malloc stack logging because it was not enabled.\n",
      "python(20229) MallocStackLogging: can't turn off malloc stack logging because it was not enabled.\n"
     ]
    },
    {
     "data": {
      "application/vnd.jupyter.widget-view+json": {
       "model_id": "5a4e6dffbd1740f9a9ce1a14b0a31d46",
       "version_major": 2,
       "version_minor": 0
      },
      "text/plain": [
       "Map (num_proc=8):   0%|          | 0/50 [00:00<?, ? examples/s]"
      ]
     },
     "metadata": {},
     "output_type": "display_data"
    },
    {
     "name": "stderr",
     "output_type": "stream",
     "text": [
      "python(20230) MallocStackLogging: can't turn off malloc stack logging because it was not enabled.\n",
      "python(20231) MallocStackLogging: can't turn off malloc stack logging because it was not enabled.\n",
      "python(20232) MallocStackLogging: can't turn off malloc stack logging because it was not enabled.\n",
      "python(20233) MallocStackLogging: can't turn off malloc stack logging because it was not enabled.\n",
      "python(20234) MallocStackLogging: can't turn off malloc stack logging because it was not enabled.\n",
      "python(20235) MallocStackLogging: can't turn off malloc stack logging because it was not enabled.\n",
      "python(20236) MallocStackLogging: can't turn off malloc stack logging because it was not enabled.\n",
      "python(20237) MallocStackLogging: can't turn off malloc stack logging because it was not enabled.\n",
      "python(20238) MallocStackLogging: can't turn off malloc stack logging because it was not enabled.\n"
     ]
    },
    {
     "data": {
      "application/vnd.jupyter.widget-view+json": {
       "model_id": "df338f473c0348b59cd2253f215d6572",
       "version_major": 2,
       "version_minor": 0
      },
      "text/plain": [
       "Map (num_proc=8):   0%|          | 0/50 [00:00<?, ? examples/s]"
      ]
     },
     "metadata": {},
     "output_type": "display_data"
    },
    {
     "name": "stderr",
     "output_type": "stream",
     "text": [
      "python(20239) MallocStackLogging: can't turn off malloc stack logging because it was not enabled.\n",
      "python(20240) MallocStackLogging: can't turn off malloc stack logging because it was not enabled.\n",
      "python(20241) MallocStackLogging: can't turn off malloc stack logging because it was not enabled.\n",
      "python(20242) MallocStackLogging: can't turn off malloc stack logging because it was not enabled.\n",
      "python(20243) MallocStackLogging: can't turn off malloc stack logging because it was not enabled.\n",
      "python(20244) MallocStackLogging: can't turn off malloc stack logging because it was not enabled.\n",
      "python(20245) MallocStackLogging: can't turn off malloc stack logging because it was not enabled.\n",
      "python(20246) MallocStackLogging: can't turn off malloc stack logging because it was not enabled.\n",
      "python(20247) MallocStackLogging: can't turn off malloc stack logging because it was not enabled.\n"
     ]
    },
    {
     "data": {
      "application/vnd.jupyter.widget-view+json": {
       "model_id": "af0a4546a3264df983e858bb902c1295",
       "version_major": 2,
       "version_minor": 0
      },
      "text/plain": [
       "Map (num_proc=8):   0%|          | 0/50 [00:00<?, ? examples/s]"
      ]
     },
     "metadata": {},
     "output_type": "display_data"
    },
    {
     "name": "stderr",
     "output_type": "stream",
     "text": [
      "python(20248) MallocStackLogging: can't turn off malloc stack logging because it was not enabled.\n",
      "python(20249) MallocStackLogging: can't turn off malloc stack logging because it was not enabled.\n",
      "python(20250) MallocStackLogging: can't turn off malloc stack logging because it was not enabled.\n",
      "python(20251) MallocStackLogging: can't turn off malloc stack logging because it was not enabled.\n",
      "python(20252) MallocStackLogging: can't turn off malloc stack logging because it was not enabled.\n",
      "python(20253) MallocStackLogging: can't turn off malloc stack logging because it was not enabled.\n",
      "python(20254) MallocStackLogging: can't turn off malloc stack logging because it was not enabled.\n",
      "python(20255) MallocStackLogging: can't turn off malloc stack logging because it was not enabled.\n",
      "python(20256) MallocStackLogging: can't turn off malloc stack logging because it was not enabled.\n"
     ]
    },
    {
     "data": {
      "application/vnd.jupyter.widget-view+json": {
       "model_id": "c5046995f1ea40838a2567aaa0df18ac",
       "version_major": 2,
       "version_minor": 0
      },
      "text/plain": [
       "Map (num_proc=8):   0%|          | 0/50 [00:00<?, ? examples/s]"
      ]
     },
     "metadata": {},
     "output_type": "display_data"
    },
    {
     "name": "stderr",
     "output_type": "stream",
     "text": [
      "python(20257) MallocStackLogging: can't turn off malloc stack logging because it was not enabled.\n",
      "python(20258) MallocStackLogging: can't turn off malloc stack logging because it was not enabled.\n",
      "python(20259) MallocStackLogging: can't turn off malloc stack logging because it was not enabled.\n",
      "python(20260) MallocStackLogging: can't turn off malloc stack logging because it was not enabled.\n",
      "python(20261) MallocStackLogging: can't turn off malloc stack logging because it was not enabled.\n",
      "python(20262) MallocStackLogging: can't turn off malloc stack logging because it was not enabled.\n",
      "python(20263) MallocStackLogging: can't turn off malloc stack logging because it was not enabled.\n",
      "python(20264) MallocStackLogging: can't turn off malloc stack logging because it was not enabled.\n",
      "python(20265) MallocStackLogging: can't turn off malloc stack logging because it was not enabled.\n"
     ]
    },
    {
     "data": {
      "application/vnd.jupyter.widget-view+json": {
       "model_id": "56ea3e7b1bc8475cb11e42b3f6730f3f",
       "version_major": 2,
       "version_minor": 0
      },
      "text/plain": [
       "Map (num_proc=8):   0%|          | 0/50 [00:00<?, ? examples/s]"
      ]
     },
     "metadata": {},
     "output_type": "display_data"
    },
    {
     "name": "stderr",
     "output_type": "stream",
     "text": [
      "python(20266) MallocStackLogging: can't turn off malloc stack logging because it was not enabled.\n"
     ]
    }
   ],
   "source": [
    "for key in ds:\n",
    "    #cnt = round(ds[key].__len__()*0.05)\n",
    "    cnt=50\n",
    "    ds[key] = ds[key].select(range(cnt))\n",
    "\n",
    "# Define a function to process the data\n",
    "def process(row):\n",
    "    # delete unwanted columns\n",
    "    del row[\"prompt_id\"]\n",
    "    del row[\"messages\"]\n",
    "    del row[\"score_chosen\"]\n",
    "    del row[\"score_rejected\"]\n",
    "    # retrieve the actual response text\n",
    "    row[\"chosen\"] = row[\"chosen\"][-1][\"content\"]\n",
    "    row[\"rejected\"] = row[\"rejected\"][-1][\"content\"]\n",
    "\n",
    "    return row\n",
    "\n",
    "# Apply the data processing function to the dataset\n",
    "ds = ds.map(\n",
    "    process,\n",
    "    num_proc=multiprocessing.cpu_count(),\n",
    "    load_from_cache_file=False,\n",
    ")\n",
    "\n",
    "# Split the dataset into training and evaluation sets\n",
    "train_dataset = ds['train_prefs']\n",
    "eval_dataset = ds['test_prefs']"
   ]
  },
  {
   "cell_type": "code",
   "execution_count": 110,
   "id": "f0d35524",
   "metadata": {},
   "outputs": [
    {
     "data": {
      "text/plain": [
       "{'prompt': 'how can i develop a habit of drawing daily',\n",
       " 'chosen': \"Developing a daily habit of drawing can be challenging but with consistent practice and a few tips, it can become an enjoyable and rewarding part of your daily routine. Here are some strategies to help you develop the habit of drawing daily:\\n\\n1. Set a specific time: Allocate a specific time of the day to draw. It could be in the morning, afternoon, or evening. Make drawing a part of your daily routine.\\n2. Set a specific duration: Determine the amount of time you want to spend on drawing each day. It can be as little as 10 minutes or as long as an hour. Be consistent with the duration to help build the habit.\\n3. Start small and simple: Don't try to create a masterpiece every day, start with simple and easy-to-do sketches. Focus on improving your skills gradually.\\n4. Use a variety of tools and mediums: Experiment with different tools like pencils, pens, markers, and different mediums like paper, canvas, or digital apps to keep your drawing practice interesting and engaging.\\n5. Take breaks and rest: Taking breaks and resting after some time of drawing can help you avoid burnout and stay motivated.\\n6. Challenge yourself: Set challenges like drawing objects from memory or a specific subject to improve your skills and keep your drawing practice interesting.\\n7. Track your progress: Keep a record of your daily drawing practice and track your progress. This can be a source of motivation and help you see how far you've come.\\n\\nRemember, developing a habit takes time and patience. Stay consistent with your drawing practice, be flexible and open to trying new things, and with time, you'll develop a habit of daily drawing that brings you joy and satisfaction.\",\n",
       " 'rejected': \"One way to develop a habit of drawing daily is to allocate a specific time interval for drawing each day, whether it's early in the morning or before going to bed at night. You can also find inspiration or motivation to draw by joining drawing communities, following artists on social media, or going out into nature and sketching what you see. Additionally, practicing drawing every day can help you improve your skills over time.\"}"
      ]
     },
     "execution_count": 110,
     "metadata": {},
     "output_type": "execute_result"
    }
   ],
   "source": [
    "train_dataset[0]"
   ]
  },
  {
   "cell_type": "markdown",
   "id": "fe8c0235",
   "metadata": {},
   "source": [
    "## DPO (with also LoRA)"
   ]
  },
  {
   "cell_type": "code",
   "execution_count": 111,
   "id": "06d6453b",
   "metadata": {},
   "outputs": [],
   "source": [
    "lora_config = LoraConfig(\n",
    "        # The rank of the low-rank adaptation weights\n",
    "        r=4,\n",
    "        # The target modules to apply the low-rank adaptation to\n",
    "        target_modules=['c_proj','c_attn'],\n",
    "        # The task type for the low-rank adaptation\n",
    "        task_type=\"CAUSAL_LM\",\n",
    "        # The scaling factor for the low-rank adaptation weights\n",
    "        lora_alpha=8,\n",
    "        # The dropout probability for the low-rank adaptation weights\n",
    "        lora_dropout=0.1,\n",
    "        # The bias mode for the low-rank adaptation\n",
    "        bias=\"none\",\n",
    ")"
   ]
  },
  {
   "cell_type": "code",
   "execution_count": 112,
   "id": "55b84385",
   "metadata": {},
   "outputs": [],
   "source": [
    "training_args = DPOConfig(\n",
    "    # The beta parameter for the DPO loss function\n",
    "    #beta is the temperature parameter for the DPO loss, typically something in the range of 0.1 to 0.5 . \n",
    "    beta=0.1,\n",
    "    # The output directory for the training\n",
    "    output_dir=\"dpo\",\n",
    "    # The number of training epochs\n",
    "    num_train_epochs=5,\n",
    "    # The batch size per device during training\n",
    "    per_device_train_batch_size=1,\n",
    "    # The batch size per device during evaluation\n",
    "    per_device_eval_batch_size=1,\n",
    "    # Whether to remove unused columns from the dataset\n",
    "    remove_unused_columns=False,\n",
    "    # The number of steps between logging training progress\n",
    "    logging_steps=10,\n",
    "    # The number of gradient accumulation steps\n",
    "    gradient_accumulation_steps=1,\n",
    "    # The learning rate for the optimization\n",
    "    learning_rate=1e-4,\n",
    "    # The evaluation strategy (e.g., after each step or epoch)\n",
    "    evaluation_strategy=\"epoch\",\n",
    "    # The number of warmup steps for the learning rate scheduler\n",
    "    warmup_steps=2,\n",
    "    # Whether to use 16-bit (float16) precision\n",
    "    fp16=False,\n",
    "    bf16=False,\n",
    "    # The number of steps between saving checkpoints\n",
    "    save_steps=500,\n",
    "    # The maximum number of checkpoints to keep\n",
    "    #save_total_limit=2,\n",
    "    # The reporting backend to use (set to 'none' to disable, you can also report to wandb or tensorboard)\n",
    "    report_to='none'\n",
    ")"
   ]
  },
  {
   "cell_type": "code",
   "execution_count": 113,
   "id": "a3b7048d",
   "metadata": {},
   "outputs": [],
   "source": [
    "tokenizer.pad_token = tokenizer.eos_token\n",
    "\n",
    "# Create a DPO trainer\n",
    "# This trainer will handle the fine-tuning of the model using the DPO technique\n",
    "trainer = DPOTrainer(\n",
    "        # The model to be fine-tuned\n",
    "        model = model,\n",
    "        tokenizer = tokenizer,\n",
    "        # The reference model (not used in this case because LoRA has been used)\n",
    "        ref_model=None,\n",
    "        # The DPO training configuration\n",
    "        args=training_args,\n",
    "        # The beta parameter for the DPO loss function\n",
    "       \n",
    "        # The training dataset\n",
    "        train_dataset=train_dataset,\n",
    "        # The evaluation dataset\n",
    "        eval_dataset=eval_dataset,\n",
    "        # The tokenizer for the model\n",
    "        #tokenizer=tokenizer,\n",
    "        # The PEFT (Parallel Efficient Finetuning) configuration\n",
    "        peft_config=lora_config,\n",
    "        # The maximum prompt length\n",
    "        #max_prompt_length=512,\n",
    "        # The maximum sequence length\n",
    "        #max_length=512,\n",
    "    )"
   ]
  },
  {
   "cell_type": "code",
   "execution_count": 114,
   "id": "6fdcff59",
   "metadata": {},
   "outputs": [],
   "source": [
    "#trainer.train()"
   ]
  },
  {
   "cell_type": "markdown",
   "id": "ce2bfd04",
   "metadata": {},
   "source": [
    "## Evaluate and generation"
   ]
  },
  {
   "cell_type": "code",
   "execution_count": 115,
   "id": "00c0d82c",
   "metadata": {},
   "outputs": [
    {
     "name": "stdout",
     "output_type": "stream",
     "text": [
      "Files extracted: ['DPO', 'DPO/adapter_config.json', 'DPO/tokenizer_config.json', 'DPO/merges.txt', 'DPO/adapter_model.safetensors', 'DPO/special_tokens_map.json', 'DPO/training_args.bin', 'DPO/README.md', 'DPO/vocab.json']\n"
     ]
    }
   ],
   "source": [
    "# Define the URL and the filename\n",
    "url = 'https://cf-courses-data.s3.us.cloud-object-storage.appdomain.cloud/YIDeT3qihEpWChdXN_RmTg/DPO-tar.gz'\n",
    "filename = './DPO.tar'\n",
    "\n",
    "# Download the file\n",
    "response = requests.get(url)\n",
    "\n",
    "# Save the file locally\n",
    "with open(filename, 'wb') as f:\n",
    "    f.write(response.content)\n",
    "\n",
    "# Extract the tar file\n",
    "if tarfile.is_tarfile(filename):\n",
    "    with tarfile.open(filename, 'r') as tar:\n",
    "        tar.extractall()\n",
    "        print(\"Files extracted:\", tar.getnames())\n",
    "else:\n",
    "    print(\"The adownloaded file is not a tar file.\")\n",
    "\n",
    "dpo_model = AutoModelForCausalLM.from_pretrained('./DPO')"
   ]
  },
  {
   "cell_type": "code",
   "execution_count": 116,
   "id": "4f5557f1",
   "metadata": {},
   "outputs": [
    {
     "name": "stdout",
     "output_type": "stream",
     "text": [
      "DPO response:\t Is a higher octane gasoline better for your car?\n",
      "\n",
      "The answer is yes. The higher octane gasoline is better for your car.\n",
      "\n",
      "The higher octane gasoline\n",
      "\n",
      "GPT2 response:\t Is a higher octane gasoline better for your car?\n",
      "\n",
      "The answer is yes. The higher octane gasoline is more efficient and more fuel efficient.\n",
      "\n",
      "The higher oct\n"
     ]
    }
   ],
   "source": [
    "# Define the generation configuration for the DPO model\n",
    "# This sets the parameters for text generation\n",
    "generation_config = GenerationConfig(\n",
    "        # Use sampling to generate diverse text\n",
    "        do_sample=True,\n",
    "        # Top-k sampling parameter\n",
    "        top_k=1,\n",
    "        # Temperature parameter to control the randomness of the generated text\n",
    "        temperature=0.1,\n",
    "        # Maximum number of new tokens to generate\n",
    "        max_new_tokens=25,\n",
    "        # Use the end-of-sequence token as the padding token\n",
    "        pad_token_id=tokenizer.eos_token_id\n",
    "    )\n",
    "\n",
    "# Define the input prompt for text generation\n",
    "PROMPT = \"Is a higher octane gasoline better for your car?\"\n",
    "# Encode the prompt using the tokenizer\n",
    "inputs = tokenizer(PROMPT, return_tensors='pt')\n",
    "\n",
    "# Generate text using the DPO model\n",
    "outputs = dpo_model.generate(**inputs, generation_config=generation_config)\n",
    "# Decode the generated text and print it\n",
    "print(\"DPO response:\\t\",tokenizer.decode(outputs[0], skip_special_tokens=True))\n",
    "\n",
    "# Load the pre-trained GPT-2 model\n",
    "gpt2_model = AutoModelForCausalLM.from_pretrained('gpt2')\n",
    "# Generate text using the GPT-2 model\n",
    "outputs = gpt2_model.generate(**inputs, generation_config=generation_config)\n",
    "# Decode the generated text and print it\n",
    "print(\"\\nGPT2 response:\\t\",tokenizer.decode(outputs[0], skip_special_tokens=True))"
   ]
  }
 ],
 "metadata": {
  "kernelspec": {
   "display_name": "Trans_env",
   "language": "python",
   "name": "python3"
  },
  "language_info": {
   "codemirror_mode": {
    "name": "ipython",
    "version": 3
   },
   "file_extension": ".py",
   "mimetype": "text/x-python",
   "name": "python",
   "nbconvert_exporter": "python",
   "pygments_lexer": "ipython3",
   "version": "3.10.18"
  }
 },
 "nbformat": 4,
 "nbformat_minor": 5
}
