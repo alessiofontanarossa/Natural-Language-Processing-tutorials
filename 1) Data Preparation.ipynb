{
 "cells": [
  {
   "cell_type": "markdown",
   "id": "189b1ce9",
   "metadata": {},
   "source": [
    "As it is (without anything downloaded and always with 1 epoch when needed), the running time of the whole notebook is (approximately) <span style=\"background-color: lightblue\"> 2 minutes</span>.\n",
    "\n",
    "<span style=\"background-color: yellow\"> </span>"
   ]
  },
  {
   "cell_type": "markdown",
   "id": "2e987dba",
   "metadata": {},
   "source": [
    "##### Libraries"
   ]
  },
  {
   "cell_type": "code",
   "execution_count": 1,
   "id": "593c0a7b",
   "metadata": {},
   "outputs": [
    {
     "name": "stderr",
     "output_type": "stream",
     "text": [
      "/var/folders/35/gw8dmgsd6m11bg8nhrgpd3vr0000gn/T/ipykernel_19672/61174236.py:15: DeprecationWarning: pkg_resources is deprecated as an API. See https://setuptools.pypa.io/en/latest/pkg_resources.html\n",
      "  import pkg_resources            # package and dependency management\n",
      "/opt/miniconda3/envs/Trans_env/lib/python3.10/site-packages/transformers/utils/generic.py:441: UserWarning: torch.utils._pytree._register_pytree_node is deprecated. Please use torch.utils._pytree.register_pytree_node instead.\n",
      "  _torch_pytree._register_pytree_node(\n",
      "/opt/miniconda3/envs/Trans_env/lib/python3.10/site-packages/transformers/utils/generic.py:309: UserWarning: torch.utils._pytree._register_pytree_node is deprecated. Please use torch.utils._pytree.register_pytree_node instead.\n",
      "  _torch_pytree._register_pytree_node(\n",
      "/opt/miniconda3/envs/Trans_env/lib/python3.10/site-packages/transformers/utils/generic.py:309: UserWarning: torch.utils._pytree._register_pytree_node is deprecated. Please use torch.utils._pytree.register_pytree_node instead.\n",
      "  _torch_pytree._register_pytree_node(\n",
      "/opt/miniconda3/envs/Trans_env/lib/python3.10/site-packages/transformers/utils/generic.py:309: UserWarning: torch.utils._pytree._register_pytree_node is deprecated. Please use torch.utils._pytree.register_pytree_node instead.\n",
      "  _torch_pytree._register_pytree_node(\n"
     ]
    }
   ],
   "source": [
    "########################## UTILITY AND SYSTEM ##########################\n",
    "\n",
    "import os                       # filesystem operations\n",
    "import csv                      # reading/writing CSV files\n",
    "import json                     # JSON parsing and serialization\n",
    "import math                     # basic math functions\n",
    "import random                   # random number generation\n",
    "import time                     # time-related functions\n",
    "import tempfile                 # temporary file management\n",
    "import tarfile                  # tar archive handling\n",
    "import io                       # input/output streams\n",
    "import pickle                   # object serialization\n",
    "import importlib                # dynamic import of modules\n",
    "import multiprocessing          # parallel process management\n",
    "import pkg_resources            # package and dependency management\n",
    "from copy import deepcopy       # deep copy of objects\n",
    "from pathlib import Path        # filesystem paths handling (cross-platform)\n",
    "\n",
    "########################## DOWNLOAD ##########################\n",
    "\n",
    "import requests                 # HTTP requests library\n",
    "import wget                     # file downloads from URLs\n",
    "from urllib.request import urlopen  # open URLs (alternative to requests)\n",
    "\n",
    "########################## VISUALIZATION ##########################\n",
    "\n",
    "import matplotlib.pyplot as plt # basic plotting library\n",
    "import plotly.graph_objs as go  # interactive plotting\n",
    "from tqdm.notebook import tqdm  # progress bars for loops in notebooks\n",
    "from pprint import pprint       # formatted pretty-printing of objects\n",
    "\n",
    "########################## DATAFRAME ##########################\n",
    "\n",
    "import numpy as np              # numerical arrays and operations\n",
    "import pandas as pd             # dataframes and data manipulation\n",
    "from sklearn.manifold import TSNE\n",
    "\n",
    "########################## TEXT PROCESSING ##########################\n",
    "\n",
    "import re                      # regular expressions\n",
    "import string                  # string constants and operations\n",
    "from itertools import chain, islice  # advanced iteration and chaining\n",
    "\n",
    "########################## TOKENIZATION ##########################\n",
    "\n",
    "from collections import Counter, OrderedDict  # frequency counts and ordered dictionaries\n",
    "import nltk                                   # natural language processing toolkit\n",
    "from nltk.tokenize import word_tokenize       # word tokenization\n",
    "import spacy                                  # advanced NLP (tokenization, parsing)\n",
    "from torchtext.data.utils import get_tokenizer       # torchtext tokenizers\n",
    "from torchtext.data.functional import to_map_style_dataset\n",
    "\n",
    "from torchtext.vocab import build_vocab_from_iterator # build vocabulary from iterator\n",
    "\n",
    "########################## DATASET AND DATALOADER ##########################\n",
    "\n",
    "from torch.utils.data import Dataset, DataLoader, random_split   # datasets and data loading utilities\n",
    "from torch.nn.utils.rnn import pad_sequence                      # padding variable-length sequences\n",
    "from datasets import load_dataset, DatasetDict                   # HuggingFace datasets loading\n",
    "from torchtext.datasets import AG_NEWS                           # torchtext built-in datasets\n",
    "\n",
    "########################## PYTORCH AND DEEP LEARNING ##########################\n",
    "\n",
    "import torch                             # PyTorch main library\n",
    "from torch import nn, Tensor             # neural network modules and tensors\n",
    "from torch.nn import CrossEntropyLoss    # common loss function for classification\n",
    "from torchsummary import summary\n",
    "\n",
    "########################## WORD EMBEDDING ##########################\n",
    "\n",
    "from torchtext.vocab import GloVe        # pretrained GloVe embeddings\n",
    "# from gensim.models import Word2Vec     # word2vec embeddings from corpus (commented out)\n",
    "\n",
    "########################## HUGGING FACE ##########################\n",
    "\n",
    "import transformers                      # transformers library core\n",
    "from transformers import (\n",
    "    GPT2Tokenizer, GPT2LMHeadModel,     # GPT-2 tokenizer and model\n",
    "    BertTokenizer, BertTokenizerFast, BertConfig, BertForMaskedLM,  # BERT components\n",
    "    XLNetTokenizer,                     # XLNet tokenizer\n",
    "    DistilBertForSequenceClassification, DistilBertTokenizer, AutoModelForSequenceClassification,\n",
    "    pipeline,                          # easy pipelines for inference\n",
    "    AutoTokenizer,                    # auto tokenizer loader\n",
    "    AutoModelForCausalLM, GPT2ForSequenceClassification,\n",
    "    DataCollatorForLanguageModeling, TrainingArguments, Trainer,  # training utilities\n",
    "    set_seed, GenerationConfig,\n",
    "    BertModel                        # BERT base model\n",
    ")\n",
    "from datasets import DatasetDict         # HuggingFace dataset dictionaries\n",
    "\n",
    "######################### TRL & PEFT (TRAINING & PARAMETER EFFICIENT FINE-TUNING) ##########################\n",
    "\n",
    "# from trl import (\n",
    "#     SFTConfig, SFTTrainer, DataCollatorForCompletionOnlyLM,\n",
    "#     DPOConfig, DPOTrainer,\n",
    "#     RewardTrainer, RewardConfig\n",
    "# )\n",
    "from peft import get_peft_model, LoraConfig, TaskType\n",
    "from torchmetrics import Accuracy        # metrics for evaluation\n",
    "\n",
    "########################## RAG ##########################\n",
    "\n",
    "from transformers import (\n",
    "    DPRQuestionEncoder, DPRQuestionEncoderTokenizer,\n",
    "    DPRContextEncoder, DPRContextEncoderTokenizer\n",
    ")\n",
    "import faiss                              # similarity search library\n",
    "\n",
    "########################## EVALUATION ##########################\n",
    "\n",
    "import evaluate\n",
    "\n"
   ]
  },
  {
   "cell_type": "code",
   "execution_count": 2,
   "id": "7cbaa5a8",
   "metadata": {},
   "outputs": [
    {
     "name": "stdout",
     "output_type": "stream",
     "text": [
      "Which device we are on: cpu\n"
     ]
    }
   ],
   "source": [
    "def accelerator(where = \"mps\"):\n",
    "    if where == \"mps\":\n",
    "        device = torch.device(\"mps\" if torch.backends.mps.is_available() else \"cpu\")\n",
    "        print(\"Which device we are on: {}\".format(device))\n",
    "        return device\n",
    "    if where == \"cuda\":\n",
    "        device = torch.device(\"cuda\" if torch.cuda.is_available() else \"cpu\")\n",
    "        print(\"Which device we are on: {}\".format(device))\n",
    "        return device\n",
    "    if where == \"cpu\":\n",
    "        device = torch.device(\"cpu\")\n",
    "        print(\"Which device we are on: {}\".format(device))\n",
    "        return device\n",
    "\n",
    "device = accelerator(\"cpu\")"
   ]
  },
  {
   "cell_type": "markdown",
   "id": "acdbb059",
   "metadata": {},
   "source": [
    "# 1) Tokenization"
   ]
  },
  {
   "cell_type": "markdown",
   "id": "9e27bf99",
   "metadata": {},
   "source": [
    "<center>\n",
    "<img src=\"https://cf-courses-data.s3.us.cloud-object-storage.appdomain.cloud/IBMSkillsNetwork-AI0201EN-Coursera/images/Tokenization%20lab%20Diagram%202.png\" width=\"50%\" alt=\"Image Description\">\n",
    "</center>"
   ]
  },
  {
   "cell_type": "markdown",
   "id": "1c4394c6",
   "metadata": {},
   "source": [
    "| Library        | Tokenizer Type           | Model Specific | Pretrained | Subword Aware | Notes                                                                 |\n",
    "|----------------|---------------------------|----------------|------------|----------------|-----------------------------------------------------------------------|\n",
    "| spaCy          | Rule-based NLP tokenizer | No             | No         | No             | Accurate sentence/word tokenizer with POS, NER, etc.                 |\n",
    "| NLTK           | Rule/Regex-based         | No             | No         | No             | Simple, customizable tokenizers (e.g., `word_tokenize`, `RegexpTokenizer`) |\n",
    "| Hugging Face   | Model-specific tokenizer | Yes            | Yes        | Yes            | Designed to match exact input format expected by models like BERT    |\n",
    "| TorchText      | Basic/Custom tokenizer   | No             | No         | No             | Useful for prototyping or simple tasks; supports basic English       |\n"
   ]
  },
  {
   "cell_type": "markdown",
   "id": "7e21d7f6",
   "metadata": {},
   "source": [
    "| Input Text      | spaCy Tokens        | NLTK Tokens         | TorchText (`basic_english`) | BERT (`bert-base-uncased`)        |\n",
    "|------------------|---------------------|----------------------|------------------------------|------------------------------------|\n",
    "| playing          | ['playing']         | ['playing']          | ['playing']                  | ['play', '##ing']                 |\n",
    "| New York City    | ['New', 'York', 'City'] | ['New', 'York', 'City'] | ['new', 'york', 'city']     | ['new', 'york', 'city']           |\n",
    "| can't            | ['ca', \"n't\"]       | [\"ca\", \"n't\"]        | ['ca', \"n't\"]                | ['can', \"'t\"]                     |\n",
    "| unbelievable     | ['unbelievable']    | ['unbelievable']     | ['unbelievable']             | ['un', '##bel', '##ievable']      |\n",
    "| e-mail addresses | ['e', '-', 'mail', 'addresses'] | ['e-mail', 'addresses'] | ['e', 'mail', 'addresses'] | ['e', '-', 'mail', 'addresses']  |\n"
   ]
  },
  {
   "cell_type": "markdown",
   "id": "e44260e8",
   "metadata": {},
   "source": [
    "```\n",
    "tokenizer = get_tokenizer('basic_english')\n",
    "tokenized_dataset = map(lambda x: tokenizer(x[1]), dataset)  # dataset[i][1] is the text\n",
    "vocab = build_vocab_from_iterator(tokenized_dataset, specials=[\"<unk>\"])\n",
    "vocab.set_default_index(vocab[\"<unk>\"]) \n",
    "```\n",
    "\n",
    "and \n",
    "```\n",
    "def yield_tokens(data_iter):\n",
    "    for _, text in data_iter:\n",
    "        yield tokenizer(text)\n",
    "\n",
    "vocab = build_vocab_from_iterator(yield_tokens(dataset), specials=[\"<unk>\"])\n",
    "```\n",
    "are equivalent. If we have the dataset already in the memory (es. dataset = [(1,\"Introduction to NLP\"),(2,\"Basics of PyTorch\")] ) we can use both, but if we are extracting a dataset from torchtext for example, **we must use yeld_tokens**, because the dataset itself is an iterator and we can not obtain the sentences as a list.\n",
    "\n",
    "\n",
    "def yield_tokens(data_iter): #this build an iterator\n",
    "    for index,text in data_iter:\n",
    "        yield tokenizer(text)"
   ]
  },
  {
   "cell_type": "markdown",
   "id": "8795ceb3",
   "metadata": {},
   "source": [
    "## Word-based (spacy, nltk)\n",
    "Preserves semantic meaning, increases overall vocabulary; it assigns different IDs to 'unicorn' and 'unicorns'"
   ]
  },
  {
   "cell_type": "markdown",
   "id": "58265cff",
   "metadata": {},
   "source": [
    "Import spacy models if necessary:"
   ]
  },
  {
   "cell_type": "code",
   "execution_count": 3,
   "id": "e95aab07",
   "metadata": {},
   "outputs": [],
   "source": [
    "# import subprocess\n",
    "\n",
    "# DO_INSTALL = 0\n",
    "\n",
    "# if DO_INSTALL:\n",
    "#     subprocess.check_call([\n",
    "#         \"python\", \"-m\", \"spacy\", \"download\", \"de_core_news_sm\"\n",
    "#     ])"
   ]
  },
  {
   "cell_type": "code",
   "execution_count": 4,
   "id": "c917c1dd",
   "metadata": {},
   "outputs": [
    {
     "name": "stdout",
     "output_type": "stream",
     "text": [
      "Tokens (spacy): ['Unicorns', 'are', 'real', '.', 'I', 'saw', 'a', 'unicorn', 'yesterday', '.', 'I', 'could', \"n't\", 'see', 'it', 'today']\n",
      "Unicorns NOUN nsubj\n",
      "Tokens (nltk ): ['Unicorns', 'are', 'real', '.', 'I', 'saw', 'a', 'unicorn', 'yesterday', '.', 'I', 'could', \"n't\", 'see', 'it', 'today']\n"
     ]
    },
    {
     "name": "stderr",
     "output_type": "stream",
     "text": [
      "[nltk_data] Downloading package punkt_tab to /Users/alex/nltk_data...\n",
      "[nltk_data]   Package punkt_tab is already up-to-date!\n"
     ]
    }
   ],
   "source": [
    "text = \"Unicorns are real. I saw a unicorn yesterday. I couldn't see it today\"\n",
    "\n",
    "nlp = spacy.load('en_core_web_sm')\n",
    "doc = nlp(text)\n",
    "token_list = [token.text for token in doc]\n",
    "print(f\"Tokens (spacy): {token_list}\")\n",
    "print(doc[0].text, doc[0].pos_, doc[0].dep_) #details of a token\n",
    "\n",
    "nltk.download(\"punkt_tab\")\n",
    "token_list = word_tokenize(text)\n",
    "print(f\"Tokens (nltk ): {token_list}\")"
   ]
  },
  {
   "cell_type": "markdown",
   "id": "bd81d582",
   "metadata": {},
   "source": [
    "## Character-based\n",
    "Small vocabulary but without semantic meaning."
   ]
  },
  {
   "cell_type": "markdown",
   "id": "09f037e8",
   "metadata": {},
   "source": [
    "## Subword-based (WordPiece, Unigram, SentencePiece),  <span style=\"background-color: yellow\"> HuggingFace tokenizers</span>\n",
    "Frequently used words stay unsplit, while breaking down infrequent words. 'Unicorns' becomes 'unicorn' and 's'.\n"
   ]
  },
  {
   "cell_type": "markdown",
   "id": "f466e915",
   "metadata": {},
   "source": [
    "The ## means that they **are not** new words; the _ means that they **are** new words."
   ]
  },
  {
   "cell_type": "code",
   "execution_count": 5,
   "id": "74df3535",
   "metadata": {},
   "outputs": [
    {
     "name": "stderr",
     "output_type": "stream",
     "text": [
      "/opt/miniconda3/envs/Trans_env/lib/python3.10/site-packages/huggingface_hub/file_download.py:795: FutureWarning: `resume_download` is deprecated and will be removed in version 1.0.0. Downloads always resume when possible. If you want to force a new download, use `force_download=True`.\n",
      "  warnings.warn(\n"
     ]
    },
    {
     "name": "stdout",
     "output_type": "stream",
     "text": [
      "Tokens (bert): ['unicorn', '##s', 'are', 'real', '.', 'i', 'saw', 'a', 'unicorn', 'yesterday', '.', 'i', 'couldn', \"'\", 't', 'see', 'it', 'today']\n",
      "Tokens (xlnet): ['▁Uni', 'corn', 's', '▁are', '▁real', '.', '▁I', '▁saw', '▁a', '▁', 'uni', 'corn', '▁yesterday', '.', '▁I', '▁couldn', \"'\", 't', '▁see', '▁it', '▁today']\n"
     ]
    }
   ],
   "source": [
    "text = \"Unicorns are real. I saw a unicorn yesterday. I couldn't see it today\"\n",
    "\n",
    "tokenizer = BertTokenizer.from_pretrained(\"bert-base-uncased\") # the WordPiece tokenizer is implemented in BertTokenizer\n",
    "token_list = tokenizer.tokenize(text)\n",
    "print(f\"Tokens (bert): {token_list}\")\n",
    "\n",
    "tokenizer = XLNetTokenizer.from_pretrained(\"xlnet-base-cased\") # Unigram and SentencePiece \n",
    "token_list = tokenizer.tokenize(text)\n",
    "print(f\"Tokens (xlnet): {token_list}\")\n"
   ]
  },
  {
   "cell_type": "markdown",
   "id": "79795989",
   "metadata": {},
   "source": [
    "## Using PyTorch (Words and sub-words), <span style=\"background-color: yellow\">torchtext tokenizer </span>\n",
    "\n",
    "In PyTorch, especially with the torchtext library, the tokenizer breaks down text from a data set into individual words or subwords, facilitating their conversion into numerical format. After tokenization, the vocab (vocabulary) maps these tokens to unique integers, allowing them to be fed into neural networks. This process is vital because deep learning models operate on numerical data and cannot process raw text directly. Thus, tokenization and vocabulary mapping serve as a bridge between human-readable text and machine-operable numerical data."
   ]
  },
  {
   "cell_type": "code",
   "execution_count": 6,
   "id": "525ec16a",
   "metadata": {},
   "outputs": [
    {
     "name": "stdout",
     "output_type": "stream",
     "text": [
      "Tokens (PyTorch): ['introduction', 'to', 'nlp']\n",
      "['introduction', 'to', 'nlp']\n"
     ]
    }
   ],
   "source": [
    "dataset = [ #it is an iterable, like a dataloader (think to the future application in DL)\n",
    "    (1,\"Introduction to NLP\"), #the first entry is a sentiment label\n",
    "    (2,\"Basics of PyTorch\"),\n",
    "    (1,\"NLP Techniques for Text Classification\"),\n",
    "    (3,\"Named Entity Recognition with PyTorch\")]\n",
    "\n",
    "tokenizer = get_tokenizer('basic_english') # TorchText tokenizer\n",
    "token_list = tokenizer(dataset[0][1])\n",
    "print(f\"Tokens (PyTorch): {token_list}\")\n",
    "\n",
    "def yield_tokens(data_iter): #this build an iterator\n",
    "    for sentiment, text in data_iter:\n",
    "        yield tokenizer(text)\n",
    "\n",
    "my_iterator = yield_tokens(dataset) \n",
    "print(next(my_iterator))\n"
   ]
  },
  {
   "cell_type": "markdown",
   "id": "32146679",
   "metadata": {},
   "source": [
    "Then we build a vocabulary:"
   ]
  },
  {
   "cell_type": "code",
   "execution_count": 7,
   "id": "c594e85b",
   "metadata": {},
   "outputs": [
    {
     "name": "stdout",
     "output_type": "stream",
     "text": [
      "Number of words in the vocabulary: 15 \n",
      "\n",
      "Vocabulary: {'with': 14, 'to': 13, 'of': 9, 'nlp': 1, 'classification': 4, 'named': 8, 'for': 6, 'text': 12, 'entity': 5, 'techniques': 11, '<unk>': 0, 'basics': 3, 'recognition': 10, 'pytorch': 2, 'introduction': 7} \n",
      "\n",
      "14\n",
      "with\n"
     ]
    }
   ],
   "source": [
    "vocab = build_vocab_from_iterator(yield_tokens(dataset), specials = ['<unk>']) #assigns numbers to token, and '<unk>' to words out of vocabulary\n",
    "vocab.set_default_index(vocab['<unk>'])\n",
    "\n",
    "print('Number of words in the vocabulary:',len(vocab), '\\n')\n",
    "vocab.get_itos() #**index_to_string** this is a list of the words in the vocabulary, already sorted by indexing (see the last two lines here)\n",
    "print('Vocabulary:',vocab.get_stoi(),'\\n') #this is a dictionary {'word in vocabulary': integer ID}\n",
    "\n",
    "print(vocab.get_stoi()['with'])\n",
    "print(vocab.get_itos()[14])"
   ]
  },
  {
   "cell_type": "code",
   "execution_count": 8,
   "id": "aefa3c97",
   "metadata": {},
   "outputs": [
    {
     "name": "stdout",
     "output_type": "stream",
     "text": [
      "Tokenized Sentence: ['introduction', 'to', 'nlp']\n",
      "Token Indices: [7, 13, 1]\n",
      "\n",
      "Tokenized Sentence: ['basics', 'of', 'pytorch']\n",
      "Token Indices: [3, 9, 2]\n",
      "\n",
      "Tokenized Sentence: ['nlp', 'techniques', 'for', 'text', 'classification']\n",
      "Token Indices: [1, 11, 6, 12, 4]\n",
      "\n",
      "Tokenized Sentence: ['named', 'entity', 'recognition', 'with', 'pytorch']\n",
      "Token Indices: [8, 5, 10, 14, 2]\n",
      "\n"
     ]
    }
   ],
   "source": [
    "my_iterator = yield_tokens(dataset) \n",
    "\n",
    "def get_tokenized_sentences_and_IDs(iterator, vocab):\n",
    "    for tokenized_sentence in iterator:\n",
    "        token_indices = [vocab[token] for token in tokenized_sentence]\n",
    "        print(\"Tokenized Sentence:\", tokenized_sentence)\n",
    "        print(\"Token Indices:\", token_indices)\n",
    "        print()  # riga vuota per separare\n",
    "\n",
    "get_tokenized_sentences_and_IDs(my_iterator,vocab)"
   ]
  },
  {
   "cell_type": "code",
   "execution_count": 9,
   "id": "42c63576",
   "metadata": {},
   "outputs": [],
   "source": [
    "text = \"\"\"\n",
    "Going through the world of tokenization has been like walking through a huge maze made of words, symbols, and meanings. Each turn shows a bit more about the cool ways computers learn to understand our language. And while I'm still finding my way through it, the journey’s been enlightening and, honestly, a bunch of fun.\n",
    "Eager to see where this learning path takes me next!\"\n",
    "\"\"\"\n",
    "\n",
    "# Counting and displaying tokens and their frequency\n",
    "\n",
    "def show_frequencies(tokens, method_name):\n",
    "    print(f\"{method_name} Token Frequencies: {dict(Counter(tokens))}\\n\")\n",
    "\n"
   ]
  },
  {
   "cell_type": "markdown",
   "id": "ee7a0ecf",
   "metadata": {},
   "source": [
    "# 2) Dataset and Dataloader"
   ]
  },
  {
   "cell_type": "markdown",
   "id": "af5fca4f",
   "metadata": {},
   "source": [
    "## General"
   ]
  },
  {
   "cell_type": "code",
   "execution_count": 10,
   "id": "f795426c",
   "metadata": {},
   "outputs": [
    {
     "name": "stdout",
     "output_type": "stream",
     "text": [
      "6\n",
      "It is our choices, Harry, that show what we truly are, far more than our abilities.\n",
      "['it', 'is', 'our', 'choices', ',', 'harry', ',', 'that', 'show', 'what', 'we', 'truly', 'are', ',', 'far', 'more', 'than', 'our', 'abilities', '.']\n"
     ]
    }
   ],
   "source": [
    "sentences = [\n",
    "    \"If you want to know what a man's like, take a good look at how he treats his inferiors, not his equals.\",\n",
    "    \"Fame's a fickle friend, Harry.\",\n",
    "    \"It is our choices, Harry, that show what we truly are, far more than our abilities.\",\n",
    "    \"Soon we must all face the choice between what is right and what is easy.\",\n",
    "    \"Youth can not know how age thinks and feels. But old men are guilty if they forget what it was to be young.\",\n",
    "    \"You are awesome!\"\n",
    "]\n",
    "\n",
    "class CustomDataset(Dataset):\n",
    "    def __init__(self, sentences, tokenizer = None): #this are the arguments passed when initialize the class\n",
    "        self.sentences = sentences\n",
    "        self.tokenizer = tokenizer\n",
    "\n",
    "    def __len__(self): #standard function which is added to the Dataset class\n",
    "        return len(self.sentences)\n",
    "\n",
    "    def __getitem__(self, idx): #standard function which is added to the Dataset class\n",
    "        return self.sentences[idx]\n",
    "    \n",
    "    def tokenized(self, idx): #non-standard function which can be added to the Dataset class\n",
    "        return self.tokenizer(self.sentences[idx])\n",
    "\n",
    "# Create an instance of your custom dataset\n",
    "custom_dataset = CustomDataset(sentences = sentences, tokenizer = get_tokenizer('basic_english') )\n",
    "len(custom_dataset) ==  custom_dataset.__len__() #number of sentences, method __len__\n",
    "print(len(custom_dataset))\n",
    "# custom_dataset[i] == custom_dataset.__getitem__(i) #is the i-th sentence, method __getitem\n",
    "print(custom_dataset[2])\n",
    "print(custom_dataset.tokenized(idx = 2))\n",
    "\n",
    "\n",
    "\n",
    "dataloader = DataLoader(dataset = custom_dataset, batch_size = 2, shuffle = True)\n",
    "# len(dataloader) # number of batches, of dimension 'batch_size'\n",
    "\n",
    "# Iterate through the DataLoader\n",
    "# for batch in dataloader:\n",
    "#     print(batch)"
   ]
  },
  {
   "cell_type": "markdown",
   "id": "47626d5e",
   "metadata": {},
   "source": [
    "## For NLP purposes"
   ]
  },
  {
   "cell_type": "markdown",
   "id": "d136b8f0",
   "metadata": {},
   "source": [
    "COLLATE FUNCTION: <span style=\"background-color: yellow\"> For a NLP task, we initialize the class by passing the sentences, a tokenizer, and a vocabulary. Problem is that a dataloader expects all data to have the same lenght, so we have to add padding manually, otherwise we eill encounter an error. </span>"
   ]
  },
  {
   "cell_type": "markdown",
   "id": "938c8565",
   "metadata": {},
   "source": [
    "The `pad_sequence`function adds padding, but it is not specified the maximum lenght of the padding. Instead, it computes the lenght of the longest sentence, and add padding to the other sequences to reach this number."
   ]
  },
  {
   "cell_type": "markdown",
   "id": "21830394",
   "metadata": {},
   "source": [
    "### Modifying the dataset (not good)"
   ]
  },
  {
   "cell_type": "markdown",
   "id": "b93d97be",
   "metadata": {},
   "source": [
    "This 'modify' the dataset in the sense that we have changed the `__getitem__` function to give indices:"
   ]
  },
  {
   "cell_type": "code",
   "execution_count": 11,
   "id": "8e555e3e",
   "metadata": {},
   "outputs": [
    {
     "name": "stdout",
     "output_type": "stream",
     "text": [
      "tensor([[11, 19, 63, 17, 13,  2,  3, 47,  6, 16, 45,  0, 55,  3, 41, 46, 24, 10,\n",
      "         43, 61,  9, 44,  0, 14,  9, 33,  1],\n",
      "        [54, 18, 50, 23, 34, 58, 30, 27,  2,  5, 52,  7,  2,  5, 32,  1,  0,  0,\n",
      "          0,  0,  0,  0,  0,  0,  0,  0,  0]])\n",
      "batch shape: torch.Size([2, 27])\n",
      "['if', 'you', 'want', 'to', 'know', 'what', 'a', 'man', \"'\", 's', 'like', ',', 'take', 'a', 'good', 'look', 'at', 'how', 'he', 'treats', 'his', 'inferiors', ',', 'not', 'his', 'equals', '.']\n",
      "['soon', 'we', 'must', 'all', 'face', 'the', 'choice', 'between', 'what', 'is', 'right', 'and', 'what', 'is', 'easy', '.', ',', ',', ',', ',', ',', ',', ',', ',', ',', ',', ',']\n",
      "\n",
      "tensor([[66, 29, 14, 13, 10, 22, 60,  7, 37,  1, 28, 51, 48,  4, 42, 11, 59, 39,\n",
      "          2, 12, 64, 17, 26, 65,  1],\n",
      "        [19,  4, 25, 20,  0,  0,  0,  0,  0,  0,  0,  0,  0,  0,  0,  0,  0,  0,\n",
      "          0,  0,  0,  0,  0,  0,  0]])\n",
      "batch shape: torch.Size([2, 25])\n",
      "['youth', 'can', 'not', 'know', 'how', 'age', 'thinks', 'and', 'feels', '.', 'but', 'old', 'men', 'are', 'guilty', 'if', 'they', 'forget', 'what', 'it', 'was', 'to', 'be', 'young', '.']\n",
      "['you', 'are', 'awesome', '!', ',', ',', ',', ',', ',', ',', ',', ',', ',', ',', ',', ',', ',', ',', ',', ',', ',', ',', ',', ',', ',']\n",
      "\n",
      "tensor([[12,  5, 15, 31,  0,  8,  0, 57, 53,  2, 18, 62,  4,  0, 36, 49, 56, 15,\n",
      "         21,  1],\n",
      "        [35,  6, 16,  3, 38, 40,  0,  8,  1,  0,  0,  0,  0,  0,  0,  0,  0,  0,\n",
      "          0,  0]])\n",
      "batch shape: torch.Size([2, 20])\n",
      "['it', 'is', 'our', 'choices', ',', 'harry', ',', 'that', 'show', 'what', 'we', 'truly', 'are', ',', 'far', 'more', 'than', 'our', 'abilities', '.']\n",
      "['fame', \"'\", 's', 'a', 'fickle', 'friend', ',', 'harry', '.', ',', ',', ',', ',', ',', ',', ',', ',', ',', ',', ',']\n",
      "\n"
     ]
    }
   ],
   "source": [
    "sentences = [\n",
    "    \"If you want to know what a man's like, take a good look at how he treats his inferiors, not his equals.\",\n",
    "    \"Fame's a fickle friend, Harry.\",\n",
    "    \"It is our choices, Harry, that show what we truly are, far more than our abilities.\",\n",
    "    \"Soon we must all face the choice between what is right and what is easy.\",\n",
    "    \"Youth can not know how age thinks and feels. But old men are guilty if they forget what it was to be young.\",\n",
    "    \"You are awesome!\"\n",
    "]\n",
    "\n",
    "class CustomDataset(Dataset):\n",
    "    def __init__(self, sentences, tokenizer, vocabulary):\n",
    "        self.sentences = sentences\n",
    "        self.tokenizer = tokenizer\n",
    "        self.vocabulary = vocabulary\n",
    "\n",
    "    def __len__(self):\n",
    "        return len(self.sentences)\n",
    "\n",
    "    def __getitem__(self, idx):\n",
    "        tokens = self.tokenizer(self.sentences[idx])\n",
    "        # Convert tokens to tensor indices using vocab\n",
    "        tensor_indices = [self.vocabulary[token] for token in tokens]\n",
    "        return torch.tensor(tensor_indices)\n",
    "    \n",
    "tokenizer = get_tokenizer('basic_english')\n",
    "vocab = build_vocab_from_iterator(map(tokenizer, sentences))\n",
    "\n",
    "custom_dataset = CustomDataset(sentences, tokenizer, vocab)\n",
    "custom_dataset[5] #IDs of the 5-th sentence\n",
    "\n",
    "# dataloader = DataLoader(custom_dataset, batch_size= 2 , shuffle=True)\n",
    "# for batch in dataloader:\n",
    "#     print(batch)              #this will rise an error\n",
    "\n",
    "def collate_fn(batch):\n",
    "    padded_batch = pad_sequence(batch, batch_first = True, padding_value = 0) # padding_value numerical value of the padding\n",
    "    return padded_batch\n",
    "\n",
    "dataloader = DataLoader(dataset = custom_dataset, batch_size = 2 , shuffle = True, collate_fn = collate_fn)\n",
    "for batch in dataloader:\n",
    "    print(batch) #batch is [batch_size x sequence_lenght] if batch_first = True, otherwise (default) [sequence_lenght x batch_size]\n",
    "    print(f'batch shape: {batch.shape}')\n",
    "    for row in batch:\n",
    "        for idx in row:\n",
    "            words = [vocab.get_itos()[idx] for idx in row]\n",
    "        print(words)\n",
    "    print()"
   ]
  },
  {
   "cell_type": "markdown",
   "id": "9d625950",
   "metadata": {},
   "source": [
    "### Without modifying the dataset: best practice"
   ]
  },
  {
   "cell_type": "markdown",
   "id": "843cdddb",
   "metadata": {},
   "source": [
    "We have the option to utilize the collate function for tasks such as tokenization, converting tokenized indices, and transforming the result into a tensor. It's important to note that the original data set remains untouched by these transformations. In this way we can still access the raw data as custom_dataset[i]"
   ]
  },
  {
   "cell_type": "code",
   "execution_count": 12,
   "id": "fc1570e3",
   "metadata": {},
   "outputs": [],
   "source": [
    "sentences = [\n",
    "    \"If you want to know what a man's like, take a good look at how he treats his inferiors, not his equals.\",\n",
    "    \"Fame's a fickle friend, Harry.\",\n",
    "    \"It is our choices, Harry, that show what we truly are, far more than our abilities.\",\n",
    "    \"Soon we must all face the choice between what is right and what is easy.\",\n",
    "    \"Youth can not know how age thinks and feels. But old men are guilty if they forget what it was to be young.\",\n",
    "    \"You are awesome!\"\n",
    "]\n",
    "\n",
    "class CustomDataset(Dataset): # standard CustomDataset, with std getitem\n",
    "    def __init__(self, sentences):\n",
    "        self.sentences = sentences\n",
    "\n",
    "    def __len__(self):\n",
    "        return len(self.sentences)\n",
    "\n",
    "    def __getitem__(self, idx):\n",
    "        return self.sentences[idx]\n",
    "\n",
    "custom_dataset = CustomDataset(sentences) #still have the raw text!"
   ]
  },
  {
   "cell_type": "markdown",
   "id": "10ee56da",
   "metadata": {},
   "source": [
    "`tokenizer`and `vocab`are necessary for the `my_collate_fn`:"
   ]
  },
  {
   "cell_type": "code",
   "execution_count": 13,
   "id": "6e8251e7",
   "metadata": {},
   "outputs": [
    {
     "name": "stdout",
     "output_type": "stream",
     "text": [
      "Batch: tensor([[55, 19, 51, 24, 35, 59, 31, 28,  3,  6, 53,  8,  3,  6, 33,  2,  0,  0,\n",
      "          0,  0,  0,  0,  0,  0,  0,  0,  0],\n",
      "        [12, 20, 64, 18, 14,  3,  4, 48,  7, 17, 46,  1, 56,  4, 42, 47, 25, 11,\n",
      "         44, 62, 10, 45,  1, 15, 10, 34,  2]])\n",
      "['soon', 'we', 'must', 'all', 'face', 'the', 'choice', 'between', 'what', 'is', 'right', 'and', 'what', 'is', 'easy', '.', '<unk>', '<unk>', '<unk>', '<unk>', '<unk>', '<unk>', '<unk>', '<unk>', '<unk>', '<unk>', '<unk>']\n",
      "['if', 'you', 'want', 'to', 'know', 'what', 'a', 'man', \"'\", 's', 'like', ',', 'take', 'a', 'good', 'look', 'at', 'how', 'he', 'treats', 'his', 'inferiors', ',', 'not', 'his', 'equals', '.']\n",
      "Batch length: 2\n",
      "Each (padded) sequence has lenght: 27\n",
      "Batch shape: torch.Size([2, 27])\n",
      "================================================================================================================================================================\n",
      "Batch: tensor([[36,  7, 17,  4, 39, 41,  1,  9,  2,  0,  0,  0,  0,  0,  0,  0,  0,  0,\n",
      "          0,  0],\n",
      "        [13,  6, 16, 32,  1,  9,  1, 58, 54,  3, 19, 63,  5,  1, 37, 50, 57, 16,\n",
      "         22,  2]])\n",
      "['fame', \"'\", 's', 'a', 'fickle', 'friend', ',', 'harry', '.', '<unk>', '<unk>', '<unk>', '<unk>', '<unk>', '<unk>', '<unk>', '<unk>', '<unk>', '<unk>', '<unk>']\n",
      "['it', 'is', 'our', 'choices', ',', 'harry', ',', 'that', 'show', 'what', 'we', 'truly', 'are', ',', 'far', 'more', 'than', 'our', 'abilities', '.']\n",
      "Batch length: 2\n",
      "Each (padded) sequence has lenght: 20\n",
      "Batch shape: torch.Size([2, 20])\n",
      "================================================================================================================================================================\n",
      "Batch: tensor([[20,  5, 26, 21,  0,  0,  0,  0,  0,  0,  0,  0,  0,  0,  0,  0,  0,  0,\n",
      "          0,  0,  0,  0,  0,  0,  0],\n",
      "        [67, 30, 15, 14, 11, 23, 61,  8, 38,  2, 29, 52, 49,  5, 43, 12, 60, 40,\n",
      "          3, 13, 65, 18, 27, 66,  2]])\n",
      "['you', 'are', 'awesome', '!', '<unk>', '<unk>', '<unk>', '<unk>', '<unk>', '<unk>', '<unk>', '<unk>', '<unk>', '<unk>', '<unk>', '<unk>', '<unk>', '<unk>', '<unk>', '<unk>', '<unk>', '<unk>', '<unk>', '<unk>', '<unk>']\n",
      "['youth', 'can', 'not', 'know', 'how', 'age', 'thinks', 'and', 'feels', '.', 'but', 'old', 'men', 'are', 'guilty', 'if', 'they', 'forget', 'what', 'it', 'was', 'to', 'be', 'young', '.']\n",
      "Batch length: 2\n",
      "Each (padded) sequence has lenght: 25\n",
      "Batch shape: torch.Size([2, 25])\n",
      "================================================================================================================================================================\n"
     ]
    }
   ],
   "source": [
    "tokenizer = get_tokenizer('basic_english')\n",
    "# vocab = build_vocab_from_iterator(map(tokenizer, sentences)) #alternative method, less general!\n",
    "\n",
    "def yield_tokens(data): #this build an iterator\n",
    "    for sentence in data:\n",
    "        yield tokenizer(sentence)\n",
    "\n",
    "vocab = build_vocab_from_iterator(yield_tokens(sentences), specials = ['<unk>']) #assigns numbers to token, and '<unk>' to words out of vocabulary\n",
    "vocab.set_default_index(vocab['<unk>'])\n",
    "\n",
    "#---------------------------------------------------\n",
    "\n",
    "def my_collate_fn(batch): #always a single batch\n",
    "    tensor_batch = []\n",
    "    for sentence in batch: # a batch is made by batch_size sentences\n",
    "        tokens = tokenizer(sentence)\n",
    "        tensor_batch.append(torch.tensor([vocab[token] for token in tokens])) # this is a list of lists: the list has lenght batch_size, \n",
    "                                                                              # and each sub_list has the lenght of the sentence\n",
    "    padded_batch = pad_sequence(tensor_batch, batch_first = True) # with this, each batch has sentences with different lenght, but the same lenght in the batch\n",
    "    return padded_batch\n",
    "\n",
    "#---------------------------------------------------\n",
    "\n",
    "dataloader = DataLoader(\n",
    "    dataset = custom_dataset,   # Custom PyTorch Dataset containing your data\n",
    "    batch_size = 2,     # Number of samples in each mini-batch\n",
    "    shuffle = True,              # Shuffle the data at the beginning of each epoch\n",
    "    collate_fn = my_collate_fn      # Custom collate function for processing batches\n",
    ")\n",
    "\n",
    "for batch in dataloader:\n",
    "    print(f\"Batch: {batch}\")\n",
    "    for row in batch:\n",
    "        for idx in row:\n",
    "            words = [vocab.get_itos()[idx] for idx in row]\n",
    "        print(words)\n",
    "    print(f\"Batch length: {len(batch)}\")\n",
    "    print(f\"Each (padded) sequence has lenght: {len(batch[0])}\")\n",
    "    print(f\"Batch shape: {batch.shape}\")\n",
    "    print(\"=\" * 160)"
   ]
  },
  {
   "cell_type": "markdown",
   "id": "c8b1b385",
   "metadata": {},
   "source": [
    "# A) CONCEPTS: Words to features, Evaluation"
   ]
  },
  {
   "cell_type": "markdown",
   "id": "33d4126c",
   "metadata": {},
   "source": [
    "## Words to features"
   ]
  },
  {
   "cell_type": "markdown",
   "id": "aed644bd",
   "metadata": {},
   "source": [
    "Given a $\\text{token}_i$, we have:\n",
    "- $\\text{OHE}_i=\\text{One-hot-encoding(token}_i)$ es. 'cat' = (0,0,1,0,0), 'I' = (1,0,0,0,0) and 'like' = (0,0,0,0,1). The vectors have lenght $D$ = number of words in the vocabulary;\n",
    "- $\\text{Bag-of-Words} = \\sum_{i} \\text{OHE}_i$ es 'I like cat' = (1,0,1,0,1). Always dimension $D$;\n",
    "- $\\text{Embedding}_i = W_{d\\times D} \\cdot \\text{OHE}_i$ . Vectors are in a new representation of lenght $d$, using an embedding matrix $W_{d\\times D}$.\n",
    "- $\\text{EmbeddingBag} = \\sum_{i} \\text{Embedding}_i = W_{d\\times D} \\cdot \\sum_{i} \\text{OHE}_i = W_{d\\times D} \\cdot \\text{Bag-of-Words}$. We can use the module **nn.Linear**.\n",
    "\n",
    "For practical purposes, it is easier to do:\n",
    "- construct vocab(tokenizer(text)) --> vector = [4, 6, 10, 45];\n",
    "- give it to the **nn.EmbeddingBag** module, which selects the rows (4,6,10,45) of $W_{d\\times D}$ (so the input to nn.EmbeddingBag will be the dimension of the vocabulary, even if the input vector has dimension $<D$!). Thus we do $\\text{EmbeddingBag} = \" W_{d\\times D}^{(4,6,10,45)} \\cdot [4, 6, 10, 45]\" \\equiv W_{d\\times D}^{\\text{column=4}}[4] + W_{d\\times D}^{\\text{column=6}}[6] + W_{d\\times D}^{\\text{column=10}}[10]+ W_{d\\times D}^{\\text{column=45}}[45]$\n",
    "\n",
    "This is easier because the input vectors have smaller dimension than $D$ (4 in the example), and the bag-of-words is done implicitly by the module."
   ]
  },
  {
   "cell_type": "markdown",
   "id": "d334bbe6",
   "metadata": {},
   "source": [
    "Difference between **nn.Embedding** and **nn.EmbeddingBag**:\n",
    "- **nn.Embedding**: Maps each index to an embedding vector, preserving the sequence order.\n",
    "Useful for models that process sequences (e.g., RNNs, Transformers).\n",
    "Requires equal-length inputs, so padding is needed — typically handled in the `collate_fn`.\n",
    "- **nn.EmbeddingBag**: Computes a reduction (mean, sum, or max) over a \"bag\" of embeddings.\n",
    "Useful for tasks like text classification, where sequence order is less important.\n",
    "No padding is required, but you must provide offsets to indicate where each sample starts in a concatenated list of indices"
   ]
  },
  {
   "cell_type": "markdown",
   "id": "f9293d5a",
   "metadata": {},
   "source": [
    "## Evaluation"
   ]
  },
  {
   "cell_type": "markdown",
   "id": "870ba2d7",
   "metadata": {},
   "source": [
    "1. **Perplexity**: $e^{\\text{Cross-Entropy-Loss}}$ is used generically only on the training set. We use PyTorch.\n",
    "2. **Precision(n) and Recall(n)**: given a reference translation 'The cat sits on the mat' and the trduction given by the model 'The big cat sitting on the rug' we count the number of unigram matched (4) and bigram matched (1), and this gives a measure of similarity. Then  $$ \\text{Precision}_n = \\frac{\\text{Number of common } n\\text{-grams}}{\\text{Number of } n\\text{-grams in the prediction}}\\,,\\quad  \\text{Recall}_n = \\frac{\\text{Number of common } n\\text{-grams}}{\\text{Number of } n\\text{-grams in the reference}}\\,,\\quad F_1 = \\frac{2}{\\frac{1}{P_n}+\\frac{1}{R_n}}\\,.$$\n",
    "3. **ROUGE** (Recall-Oriented Understudy for Gisting Evaluation): ROUGE is a set of metrics commonly used for evaluating text summarization systems. It measures the overlap between the generated summary and one or more reference summaries. ROUGE calculates various metrics, such as ROUGE-N, which measures the n-gram overlap, and ROUGE-L, which measures the longest common subsequence. Higher ROUGE scores indicate better summarization quality.\n",
    "4. **BLEU** (Bilingual Evaluation Understudy): BLEU is a metric primarily used for evaluating machine translation systems. It compares the generated translation with one or more reference translations and assigns a score based on the degree of overlap. BLEU measures the precision of the generated translation by counting the number of n-grams (contiguous sequences of n words) that appear in both the generated and reference translations. A higher BLEU score indicates a better translation quality.\n",
    "\n",
    "Libraries for evaluation:\n",
    "\n",
    "- NLTK with\n",
    "\n",
    "    1. BLEU: nltk.translate.bleu_score\n",
    "    2. METEOR: nltk.translate.meteor_score module\n",
    "\n",
    "- PyTorch with perplexity and celoss\n",
    "- Other libraries with\n",
    "\n",
    "    1. BLEU: torchtext.data.metrics.bleu_score\n",
    "    2. ROUGE: torchmetrics.text.rouge.ROUGEScore"
   ]
  },
  {
   "cell_type": "markdown",
   "id": "3348f2e5",
   "metadata": {},
   "source": [
    "# 2) Text Classification on AG dataset: <span style=\"background-color: yellow\">not Generative AI</span>"
   ]
  },
  {
   "cell_type": "markdown",
   "id": "1bf36cbe",
   "metadata": {},
   "source": [
    "AG is a text classifiation dataset with four labels: {1: \"World\", 2: \"Sports\", 3: \"Business\", 4: \"Sci/Tec\"}:"
   ]
  },
  {
   "cell_type": "code",
   "execution_count": 14,
   "id": "96bc0e96",
   "metadata": {},
   "outputs": [],
   "source": [
    "from torchtext.datasets import AG_NEWS"
   ]
  },
  {
   "cell_type": "markdown",
   "id": "e2830431",
   "metadata": {},
   "source": [
    "## From scratch:"
   ]
  },
  {
   "cell_type": "markdown",
   "id": "a3f868ec",
   "metadata": {},
   "source": [
    "### Dataset and DataLoader"
   ]
  },
  {
   "cell_type": "code",
   "execution_count": 15,
   "id": "2543df2e",
   "metadata": {},
   "outputs": [
    {
     "data": {
      "text/plain": [
       "('Business',\n",
       " \"Wall St. Bears Claw Back Into the Black (Reuters) Reuters - Short-sellers, Wall Street's dwindling\\\\band of ultra-cynics, are seeing green again.\")"
      ]
     },
     "execution_count": 15,
     "metadata": {},
     "output_type": "execute_result"
    }
   ],
   "source": [
    "ag_news_label = {1: \"World\", 2: \"Sports\", 3: \"Business\", 4: \"Sci/Tec\"}\n",
    "\n",
    "train_iter = iter(AG_NEWS(split=\"train\")) #load the train dataset\n",
    "test_iter = iter(AG_NEWS(split=\"test\")) #load test datasets\n",
    "\n",
    "\n",
    "train_labels = [label for (label, text) in train_iter]\n",
    "num_of_classes = pd.Series(train_labels).nunique() #4\n",
    "train_dataset_dimension = len(train_labels) #120000\n",
    "\n",
    "test_labels = [label for (label, text) in test_iter]\n",
    "num_of_classes = pd.Series(test_labels).nunique() #4\n",
    "test_dataset_dimension = len(test_labels) #7600\n",
    "\n",
    "train_iter = iter(AG_NEWS(split=\"train\"))  #load the dataset again to reset the iterator\n",
    "example_label, example_text = next(train_iter)\n",
    "\n",
    "ag_news_label[example_label],example_text"
   ]
  },
  {
   "cell_type": "markdown",
   "id": "078f0c89",
   "metadata": {},
   "source": [
    "Next we build the tokenizer, yield_tokens and the vocabulary in the standard way:"
   ]
  },
  {
   "cell_type": "code",
   "execution_count": 16,
   "id": "5d72426f",
   "metadata": {},
   "outputs": [
    {
     "data": {
      "text/plain": [
       "95811"
      ]
     },
     "execution_count": 16,
     "metadata": {},
     "output_type": "execute_result"
    }
   ],
   "source": [
    "train_iter = AG_NEWS(split=\"train\")\n",
    "tokenizer = get_tokenizer(\"basic_english\")\n",
    "\n",
    "def yield_tokens(data_iter):\n",
    "    for label, text in data_iter:\n",
    "        yield tokenizer(text.lower())  # Lowercase conversion for consistency\n",
    "\n",
    "vocab = build_vocab_from_iterator(yield_tokens(train_iter), specials=[\"<unk>\"])\n",
    "vocab.set_default_index(vocab[\"<unk>\"])\n",
    "\n",
    "vocab.get_stoi() #this is a dictionary {'word in vocabulary': integer ID}\n",
    "len(vocab) #dimension of the vocabulary, which will be the dimension of the input layer of the model!"
   ]
  },
  {
   "cell_type": "markdown",
   "id": "b4c7151e",
   "metadata": {},
   "source": [
    "The datasets are in iterable format, which is not compatible with indicization, len() and DataLoader. To solve this issue, we convert them to a map style dataset, and now we can do `train_dataset[i]` to get the i-th sentence. Moreover it is easier to get the lenght! Finally, it is compatible with the `DataLoader`"
   ]
  },
  {
   "cell_type": "code",
   "execution_count": 17,
   "id": "c89bd2b7",
   "metadata": {},
   "outputs": [
    {
     "name": "stdout",
     "output_type": "stream",
     "text": [
      "(3, \"Wall St. Bears Claw Back Into the Black (Reuters) Reuters - Short-sellers, Wall Street's dwindling\\\\band of ultra-cynics, are seeing green again.\")\n",
      "120000 7600\n"
     ]
    }
   ],
   "source": [
    "train_iter, test_iter = iter(AG_NEWS(split=\"train\")), iter(AG_NEWS(split=\"test\")) \n",
    "\n",
    "train_dataset = to_map_style_dataset(train_iter) #type: Dataset, compatible with DataLoader\n",
    "test_dataset = to_map_style_dataset(test_iter) \n",
    "\n",
    "print(train_dataset[0])\n",
    "\n",
    "print(len(train_dataset),len(test_dataset))"
   ]
  },
  {
   "cell_type": "markdown",
   "id": "d6795116",
   "metadata": {},
   "source": [
    "Next we divide in train-valid-test, by dividing the train in train and validation. Since we are working with PyTorch Dataset, we hace to use `random_split` instead of the analogous function of scikit-learn:"
   ]
  },
  {
   "cell_type": "code",
   "execution_count": 18,
   "id": "5b532777",
   "metadata": {},
   "outputs": [
    {
     "data": {
      "text/plain": [
       "True"
      ]
     },
     "execution_count": 18,
     "metadata": {},
     "output_type": "execute_result"
    }
   ],
   "source": [
    "num_train = int(len(train_dataset) * 0.95)\n",
    "split_train, split_valid = random_split(train_dataset, [num_train, len(train_dataset) - num_train])\n",
    "len(split_train)+len(split_valid)==len(train_dataset)"
   ]
  },
  {
   "cell_type": "code",
   "execution_count": 19,
   "id": "116f6bb5",
   "metadata": {},
   "outputs": [
    {
     "data": {
      "text/plain": [
       "tensor([  431,   425,     1,  1605, 14838,   113,    66,     2,   848,    13,\n",
       "           27,    14,    27,    15, 50725,     3,   431,   374,    16,     9,\n",
       "        67507,     6, 52258,     3,    42,  4009,   783,   325,     1])"
      ]
     },
     "execution_count": 19,
     "metadata": {},
     "output_type": "execute_result"
    }
   ],
   "source": [
    "example_label, example_text = train_dataset[0]\n",
    "torch.tensor(vocab(tokenizer(example_text)))"
   ]
  },
  {
   "cell_type": "markdown",
   "id": "fa20209a",
   "metadata": {},
   "source": [
    "We are ready to define the loaders, but to do it we should define the collate function before. Since we will use `nn.EmbeddingBag`, we do not add padding in the collate function, but we have to take care of the offsets:"
   ]
  },
  {
   "cell_type": "code",
   "execution_count": 20,
   "id": "c2dae69f",
   "metadata": {},
   "outputs": [
    {
     "name": "stdout",
     "output_type": "stream",
     "text": [
      "List of concatenated labels in a batch tensor([3, 0, 2, 0, 2, 3, 3, 0, 0, 2, 2, 3, 0, 0, 3, 1, 1, 3, 1, 2, 1, 1, 3, 1,\n",
      "        0, 3, 1, 3, 1, 1, 1, 3, 1, 1, 3, 0, 1, 0, 0, 3, 0, 1, 1, 3, 1, 0, 2, 0,\n",
      "        3, 1, 0, 2, 2, 2, 1, 1, 2, 3, 1, 0, 2, 3, 0, 3]) with lenght of BATCH_SIZE = 64.\n",
      "\n",
      "List of concatenated text in a batch tensor([ 224,  133, 1225,  ...,    2, 3756,    1]) with non-fixed lenght 2748.\n",
      "\n",
      "List of offsets in a batch tensor([   0,   23,   61,  100,  139,  222,  250,  279,  321,  358,  391,  428,\n",
      "         448,  492,  537,  609,  647,  725,  758,  800,  852,  889,  936,  973,\n",
      "        1012, 1062, 1109, 1137, 1188, 1236, 1279, 1327, 1395, 1449, 1479, 1525,\n",
      "        1569, 1613, 1654, 1688, 1731, 1776, 1813, 1853, 1877, 1916, 1953, 1999,\n",
      "        2091, 2136, 2164, 2205, 2242, 2279, 2332, 2385, 2427, 2484, 2515, 2554,\n",
      "        2591, 2631, 2679, 2712]) with lenght BATCH_SIZE = 64.\n"
     ]
    }
   ],
   "source": [
    "def collate_batch(batch):\n",
    "    label_list, text_list, offsets = [], [], [0]\n",
    "    for label, text in batch:\n",
    "\n",
    "        label_list.append(int(label)-1) # Convert to zero-based index\n",
    "\n",
    "        processed_text = torch.tensor( vocab(tokenizer(text)), dtype = torch.int64) # vocab(tokenizer(text) is the list of integers corresponidng to the tokens\n",
    "        text_list.append(processed_text) # This creates a list of lists, which will be concatenated with torch.cat later\n",
    "        \n",
    "        offsets.append(len(processed_text)) # This is a list with the lenght of each sentence\n",
    "\n",
    "    label_list = torch.tensor(label_list, dtype=torch.int64)\n",
    "    text_list = torch.cat(text_list) # Concatenate all the text tensors into a single tensor, required by EmbeddingBag\n",
    "    offsets = torch.tensor(offsets[:-1]).cumsum(dim=0) # A list with the position of each word beginning, required by EmbeddingBag\n",
    "    \n",
    "    return label_list.to(device), text_list.to(device), offsets.to(device)\n",
    "\n",
    "BATCH_SIZE = 64\n",
    "\n",
    "train_loader = DataLoader(split_train, batch_size = BATCH_SIZE, shuffle = True, collate_fn = collate_batch)\n",
    "valid_loader = DataLoader(split_valid, batch_size = BATCH_SIZE, shuffle = False, collate_fn = collate_batch)\n",
    "test_loader = DataLoader(test_dataset, batch_size = BATCH_SIZE, shuffle = False, collate_fn = collate_batch)\n",
    "\n",
    "label_list, text_list, offsets_list = next(iter(valid_loader))\n",
    "\n",
    "print(f\"List of concatenated labels in a batch {label_list} with lenght of BATCH_SIZE = {len(label_list)}.\\n\")\n",
    "print(f\"List of concatenated text in a batch {text_list} with non-fixed lenght {len(text_list)}.\\n\")\n",
    "print(f\"List of offsets in a batch {offsets_list} with lenght BATCH_SIZE = {len(offsets_list)}.\")"
   ]
  },
  {
   "cell_type": "markdown",
   "id": "9bd5090b",
   "metadata": {},
   "source": [
    "### Model"
   ]
  },
  {
   "cell_type": "markdown",
   "id": "fec288ca",
   "metadata": {},
   "source": [
    "We use the EmbeddingBag model because we started from vocab(tokenizer(text)); if we use one-hot encoding, instead, we could have used a linear layer to go to the hidden dimension."
   ]
  },
  {
   "cell_type": "code",
   "execution_count": 21,
   "id": "81b0761b",
   "metadata": {},
   "outputs": [],
   "source": [
    "class TextClassificationModel(nn.Module):\n",
    "    def __init__(self, input_dim, hidden_dim, output_dim): # The output dimension is the number of classes in the classification task: 4\n",
    "                                                           # The input is the vocabulary dimension\n",
    "        super(TextClassificationModel, self).__init__()\n",
    "\n",
    "        self.embedding = nn.EmbeddingBag(input_dim, hidden_dim, sparse = False)\n",
    "        self.fc = nn.Linear(hidden_dim, output_dim)\n",
    "\n",
    "        self.init_weights()\n",
    "\n",
    "    def init_weights(self):\n",
    "        initrange = 0.5\n",
    "        self.embedding.weight.data.uniform_(-initrange, initrange)\n",
    "        self.fc.weight.data.uniform_(-initrange, initrange)\n",
    "        self.fc.bias.data.zero_()\n",
    "\n",
    "    def forward(self, text, offsets): # EmbeddingBag eats a list of concatenated integers for text in a batch, and the list of offsets\n",
    "        embedded = self.embedding(text, offsets)\n",
    "        output = self.fc(embedded)\n",
    "        return output\n",
    "    \n",
    "vocab_size = len(vocab)\n",
    "EMBEDDING_DIM = 64 \n",
    "num_of_classes = len(ag_news_label)\n",
    "\n",
    "model = TextClassificationModel(input_dim = vocab_size, hidden_dim = EMBEDDING_DIM, output_dim = num_of_classes).to(device)"
   ]
  },
  {
   "cell_type": "markdown",
   "id": "fdc66eec",
   "metadata": {},
   "source": [
    "Usage example:"
   ]
  },
  {
   "cell_type": "code",
   "execution_count": 22,
   "id": "2404b1e5",
   "metadata": {},
   "outputs": [
    {
     "name": "stdout",
     "output_type": "stream",
     "text": [
      "torch.Size([64, 4])\n",
      "An example of the predicted logits of the first sentence tensor([0.0816, 0.0834, 0.1701, 0.0922], grad_fn=<SelectBackward0>),\n",
      "which corresponds to the class 2.\n",
      "\n",
      "\n",
      "tensor([2, 2, 3, 1, 2, 2, 1, 2, 3, 2, 3, 1, 3, 3, 1, 2, 0, 3, 3, 3, 0, 3, 0, 1,\n",
      "        3, 3, 2, 0, 0, 3, 3, 2, 3, 1, 3, 3, 2, 0, 0, 1, 3, 0, 3, 3, 2, 1, 2, 2,\n",
      "        3, 2, 2, 3, 2, 3, 2, 3, 3, 2, 0, 3, 3, 2, 1, 3])\n",
      "tensor([2, 2, 1, 0, 2, 2, 0, 0, 1, 1, 3, 0, 2, 1, 0, 2, 0, 3, 3, 1, 0, 2, 3, 2,\n",
      "        3, 1, 0, 3, 1, 2, 0, 0, 1, 2, 0, 1, 0, 0, 3, 0, 0, 0, 0, 2, 0, 0, 1, 0,\n",
      "        2, 0, 1, 2, 3, 3, 2, 1, 0, 2, 3, 2, 2, 3, 2, 0])\n"
     ]
    }
   ],
   "source": [
    "label_list, text_list, offsets_list = next(iter(train_loader))\n",
    "predicted_logits = model(text_list, offsets_list) #we obtain logits because there is not the softmax\n",
    "print(predicted_logits.shape) # [BATCH_SIZE, number_of_classes]\n",
    "print(f\"An example of the predicted logits of the first sentence {predicted_logits[0]},\\nwhich corresponds to the class {predicted_logits[0].argmax()}.\\n\\n\")\n",
    "\n",
    "predict_classes = predicted_logits.argmax(dim = 1) # vector of dim BATCH_SIZE containing the predicted classes\n",
    "print(predict_classes)\n",
    "print(label_list)"
   ]
  },
  {
   "cell_type": "markdown",
   "id": "823213df",
   "metadata": {},
   "source": [
    "### Accuracy"
   ]
  },
  {
   "cell_type": "code",
   "execution_count": 23,
   "id": "d48e30f1",
   "metadata": {},
   "outputs": [
    {
     "name": "stdout",
     "output_type": "stream",
     "text": [
      "Accuracies without training: 0.26092105263157894 0.2608333333333333 0.26289473684210524\n"
     ]
    }
   ],
   "source": [
    "def evaluate(dataloader, model ):\n",
    "    model.eval()\n",
    "    total_acc, total_count= 0, 0\n",
    "\n",
    "    with torch.no_grad():\n",
    "        for idx, (label_list, text_list, offsets_list) in enumerate(dataloader):\n",
    "            predicted_logits = model(text_list, offsets_list)\n",
    "\n",
    "            total_acc += (predicted_logits.argmax(1) == label_list).sum().item()\n",
    "            total_count += label_list.size(0) # This is better than using BATCH_SIZE, due to possible mismathces between the dimensions\n",
    "       \n",
    "    return total_acc / total_count\n",
    "\n",
    "# 7 seconds\n",
    "print('Accuracies without training:', evaluate(train_loader, model), evaluate(valid_loader, model), evaluate(test_loader, model))"
   ]
  },
  {
   "cell_type": "markdown",
   "id": "9683093f",
   "metadata": {},
   "source": [
    "### Training the model"
   ]
  },
  {
   "cell_type": "code",
   "execution_count": 24,
   "id": "ad91c837",
   "metadata": {},
   "outputs": [
    {
     "name": "stdout",
     "output_type": "stream",
     "text": [
      "There are a total of 1782 batches, which can also be computed as: '(len(train_dataset) * 0.95)// BATCH_SIZE +1' .\n"
     ]
    }
   ],
   "source": [
    "print(f\"There are a total of {len(train_loader)} batches, which can also be computed as: '(len(train_dataset) * 0.95)// BATCH_SIZE +1' .\")"
   ]
  },
  {
   "cell_type": "code",
   "execution_count": 25,
   "id": "41f5ef50",
   "metadata": {},
   "outputs": [
    {
     "name": "stdout",
     "output_type": "stream",
     "text": [
      "epoch 1\n"
     ]
    },
    {
     "data": {
      "application/vnd.jupyter.widget-view+json": {
       "model_id": "879f85b260864232a0b57258a591b9f2",
       "version_major": 2,
       "version_minor": 0
      },
      "text/plain": [
       "  0%|          | 0/1782 [00:00<?, ?it/s]"
      ]
     },
     "metadata": {},
     "output_type": "display_data"
    }
   ],
   "source": [
    "LR = 0.5\n",
    "EPOCHS = 1\n",
    "cum_loss_list = []\n",
    "acc_epoch = []\n",
    "acc_old = 0\n",
    "\n",
    "criterion = torch.nn.CrossEntropyLoss()\n",
    "optimizer = torch.optim.SGD(model.parameters(), lr = LR)\n",
    "scheduler = torch.optim.lr_scheduler.StepLR(optimizer, step_size = 1.0, gamma = 0.1) # after 1.0 epochs, the lerning rate will be multiplied by gamma\n",
    "\n",
    "for epoch in range(EPOCHS):\n",
    "    cum_loss = 0.0\n",
    "    print(f'epoch {epoch+1}')\n",
    "    model.train()\n",
    "    for i, (label_list, text_list, offsets_list) in enumerate(tqdm(train_loader)):\n",
    "        optimizer.zero_grad()\n",
    "        predicted_logits = model(text_list, offsets_list)\n",
    "        loss = criterion(predicted_logits, label_list) # softmax internally, thus we pass the logits\n",
    "        loss.backward()\n",
    "        torch.nn.utils.clip_grad_norm_(model.parameters(), 0.1) #gradient clipping\n",
    "        optimizer.step()\n",
    "        cum_loss += loss.item()\n",
    "    \n",
    "    cum_loss_list.append(cum_loss/len(train_loader))\n",
    "    accu_val = evaluate(valid_loader, model)\n",
    "    acc_epoch.append(accu_val)\n",
    "\n",
    "    if accu_val > acc_old:\n",
    "      acc_old= accu_val\n",
    "      torch.save(model.state_dict(), 'my_model.pth')\n",
    "\n",
    "    #scheduler.step()"
   ]
  },
  {
   "cell_type": "code",
   "execution_count": 26,
   "id": "04e5e287",
   "metadata": {},
   "outputs": [
    {
     "data": {
      "image/png": "[encoded data removed]",
      "text/plain": [
       "<Figure size 640x480 with 2 Axes>"
      ]
     },
     "metadata": {},
     "output_type": "display_data"
    }
   ],
   "source": [
    "def plot(COST,ACC):\n",
    "    fig, ax1 = plt.subplots()\n",
    "    color = 'tab:red'\n",
    "    ax1.plot(COST, color=color)\n",
    "    ax1.set_xlabel('epoch', color=color)\n",
    "    ax1.set_ylabel('loss', color=color)\n",
    "    ax1.tick_params(axis='y', color=color)\n",
    "    \n",
    "    ax2 = ax1.twinx()  \n",
    "    color = 'tab:blue'\n",
    "    ax2.set_ylabel('accuracy', color=color)  # you already handled the x-label with ax1\n",
    "    ax2.plot(ACC, color=color)\n",
    "    ax2.tick_params(axis='y', color=color)\n",
    "    fig.tight_layout()  # otherwise the right y-label is slightly clipped\n",
    "    \n",
    "    plt.show()\n",
    "\n",
    "plot(cum_loss_list, acc_epoch)\n"
   ]
  },
  {
   "cell_type": "code",
   "execution_count": 27,
   "id": "4e253da7",
   "metadata": {},
   "outputs": [
    {
     "data": {
      "text/plain": [
       "'Business'"
      ]
     },
     "execution_count": 27,
     "metadata": {},
     "output_type": "execute_result"
    }
   ],
   "source": [
    "def predict(text):\n",
    "    with torch.no_grad():\n",
    "        text = torch.tensor(vocab(tokenizer(text)))\n",
    "        output = model(text, torch.tensor([0]))\n",
    "        return ag_news_label[output.argmax(dim = 1).item() + 1]\n",
    "\n",
    "real_text = [\n",
    "    \"International talks have made significant headway with the signing of a climate accord that commits countries to reduce emissions by 40% over the next two decades. World leaders expressed optimism at the conclusion of the summit.\",\n",
    "    \"In a stunning upset, the underdog team won the national title, beating the favorites in a match that featured an incredible comeback and a last-minute goal that sealed their victory in front of a record crowd.\",\n",
    "    \"Market analysts are optimistic as the tech startup's stock prices soared after the announcement of their latest product, which promises to revolutionize how we interact with smart devices.\",\n",
    "    \"A recent study published in a leading scientific journal suggests that a new drug has shown promise in the treatment of Alzheimer's disease, outperforming current leading medications in early clinical trials.\",\n",
    "    \"Diplomatic relations have taken a positive turn with the recent peace talks that aim to end decades of conflict. The ceasefire agreement has been welcomed by the international community.\",\n",
    "    \"Economic indicators show a sharp rebound in manufacturing, with the automobile industry leading the charge. Analysts predict this surge will result in significant job creation over the next year.\",\n",
    "    \"Researchers at the university's astrophysics department have discovered a potentially habitable exoplanet. The planet, which lies in a nearby star system, has conditions that could support liquid water and, possibly, life.\",\n",
    "    \"The sports world is in shock as a legendary player announces their retirement. Over an illustrious 20-year career, the athlete has amassed numerous records and is regarded as one of the greatest to ever play the game.\",\n",
    "    \"A multinational corporation has announced a major investment in renewable energy. The initiative includes the construction of new wind farms and solar panels that will power hundreds of thousands of homes.\",\n",
    "    \"Climate scientists warn that the melting of the polar ice caps has been accelerating at an alarming rate, raising sea levels and threatening coastal cities worldwide with increased flooding risks.\"\n",
    "]\n",
    "\n",
    "predict(real_text[5])"
   ]
  },
  {
   "cell_type": "markdown",
   "id": "96e10f6b",
   "metadata": {},
   "source": [
    "### Embedding analysis"
   ]
  },
  {
   "cell_type": "code",
   "execution_count": 28,
   "id": "37c77e9e",
   "metadata": {},
   "outputs": [
    {
     "data": {
      "application/vnd.plotly.v1+json": {
       "config": {
        "plotlyServerURL": "https://plot.ly"
       },
       "data": [
        {
         "marker": {
          "color": [
           3,
           0,
           2,
           0,
           2,
           3,
           3,
           0,
           0,
           2,
           2,
           3,
           0,
           0,
           3,
           1,
           1,
           3,
           1,
           2,
           1,
           1,
           3,
           1,
           0,
           3,
           1,
           3,
           1,
           1,
           1,
           3,
           1,
           1,
           3,
           0,
           1,
           0,
           0,
           3,
           0,
           1,
           1,
           3,
           1,
           0,
           2,
           0,
           3,
           1,
           0,
           2,
           2,
           2,
           1,
           1,
           2,
           3,
           1,
           0,
           2,
           3,
           0,
           3
          ],
          "colorscale": [
           [
            0,
            "#440154"
           ],
           [
            0.1111111111111111,
            "#482878"
           ],
           [
            0.2222222222222222,
            "#3e4989"
           ],
           [
            0.3333333333333333,
            "#31688e"
           ],
           [
            0.4444444444444444,
            "#26828e"
           ],
           [
            0.5555555555555556,
            "#1f9e89"
           ],
           [
            0.6666666666666666,
            "#35b779"
           ],
           [
            0.7777777777777778,
            "#6ece58"
           ],
           [
            0.8888888888888888,
            "#b5de2b"
           ],
           [
            1,
            "#fde725"
           ]
          ],
          "opacity": 0.8,
          "size": 5
         },
         "mode": "markers",
         "type": "scatter3d",
         "x": [
          56.79383,
          -31.629044,
          130.07597,
          -0.58929557,
          90.4612,
          -94.211716,
          128.81596,
          -121.64264,
          -69.604416,
          67.80372,
          30.258646,
          -0.1684397,
          65.90786,
          27.704731,
          29.684507,
          9.537956,
          -6.9070544,
          103.84244,
          -102.88873,
          35.89221,
          -81.75646,
          117.81561,
          33.742363,
          -23.770126,
          -68.61102,
          40.249664,
          6.023696,
          -26.314226,
          -12.167986,
          -37.59992,
          -1.8120571,
          79.46376,
          -37.737915,
          -27.972357,
          67.517975,
          -80.448555,
          -24.55711,
          -48.687813,
          16.94178,
          89.24851,
          -11.883075,
          -115.05028,
          -49.19793,
          103.477844,
          -30.02822,
          70.85442,
          -2.436001,
          12.375458,
          50.60256,
          -96.110275,
          -134.59845,
          41.14233,
          -57.920025,
          -61.676785,
          -78.88399,
          -76.41871,
          59.495968,
          123.372025,
          -27.996033,
          -99.70662,
          47.77048,
          -24.731548,
          14.425034,
          10.461966
         ],
         "y": [
          -94.95889,
          -11.401497,
          24.266037,
          -58.175552,
          22.11472,
          -10.34654,
          -33.46887,
          -36.0094,
          -82.9268,
          -39.794857,
          4.44635,
          68.09941,
          78.24384,
          64.02237,
          -74.78766,
          57.556286,
          -111.280556,
          -106.21741,
          68.23425,
          17.966307,
          42.40563,
          -52.650307,
          -136.08275,
          107.47449,
          115.723526,
          -49.07723,
          124.935524,
          -24.00996,
          -73.37647,
          44.406555,
          -27.598158,
          0.80229485,
          -93.33664,
          26.300835,
          62.175884,
          -74.82015,
          -5.9173098,
          82.4991,
          129.39073,
          -93.83597,
          88.49998,
          -18.414398,
          -21.135704,
          -53.682022,
          47.813446,
          21.452055,
          -68.257416,
          -27.309631,
          1.6079953,
          -86.374115,
          19.665699,
          -34.159603,
          -51.058308,
          8.137267,
          11.938052,
          -17.511969,
          -30.470943,
          2.5643735,
          18.096745,
          70.7676,
          -113.0784,
          -64.514725,
          63.98555,
          7.660301
         ],
         "z": [
          -52.82984,
          41.942623,
          -58.664867,
          -87.25054,
          4.9507947,
          -111.407776,
          -4.6387725,
          -37.29842,
          -63.274593,
          -79.02102,
          60.96469,
          112.49933,
          -0.90486306,
          49.63915,
          13.577275,
          -34.847134,
          36.776913,
          -12.863022,
          -53.392864,
          5.4377804,
          11.414006,
          -64.868996,
          -5.097571,
          -72.94234,
          18.033112,
          65.55088,
          73.47625,
          -24.48492,
          77.21912,
          -61.36774,
          110.469826,
          -33.625347,
          -9.152322,
          -7.2773147,
          -70.05217,
          53.33943,
          -112.38201,
          -19.019451,
          -12.81931,
          30.31241,
          18.565731,
          69.2677,
          -70.91652,
          65.643486,
          53.18004,
          101.00082,
          -36.570858,
          19.439205,
          -107.24651,
          -9.025959,
          6.183328,
          -36.758835,
          109.27273,
          75.17959,
          -46.63138,
          11.181833,
          15.633176,
          57.669434,
          136.23389,
          63.351025,
          72.815445,
          23.327005,
          -113.59169,
          -62.439075
         ]
        }
       ],
       "layout": {
        "scene": {
         "xaxis": {
          "title": {
           "text": "Dimension 1"
          }
         },
         "yaxis": {
          "title": {
           "text": "Dimension 2"
          }
         },
         "zaxis": {
          "title": {
           "text": "Dimension 3"
          }
         }
        },
        "template": {
         "data": {
          "bar": [
           {
            "error_x": {
             "color": "#2a3f5f"
            },
            "error_y": {
             "color": "#2a3f5f"
            },
            "marker": {
             "line": {
              "color": "#E5ECF6",
              "width": 0.5
             },
             "pattern": {
              "fillmode": "overlay",
              "size": 10,
              "solidity": 0.2
             }
            },
            "type": "bar"
           }
          ],
          "barpolar": [
           {
            "marker": {
             "line": {
              "color": "#E5ECF6",
              "width": 0.5
             },
             "pattern": {
              "fillmode": "overlay",
              "size": 10,
              "solidity": 0.2
             }
            },
            "type": "barpolar"
           }
          ],
          "carpet": [
           {
            "aaxis": {
             "endlinecolor": "#2a3f5f",
             "gridcolor": "white",
             "linecolor": "white",
             "minorgridcolor": "white",
             "startlinecolor": "#2a3f5f"
            },
            "baxis": {
             "endlinecolor": "#2a3f5f",
             "gridcolor": "white",
             "linecolor": "white",
             "minorgridcolor": "white",
             "startlinecolor": "#2a3f5f"
            },
            "type": "carpet"
           }
          ],
          "choropleth": [
           {
            "colorbar": {
             "outlinewidth": 0,
             "ticks": ""
            },
            "type": "choropleth"
           }
          ],
          "contour": [
           {
            "colorbar": {
             "outlinewidth": 0,
             "ticks": ""
            },
            "colorscale": [
             [
              0,
              "#0d0887"
             ],
             [
              0.1111111111111111,
              "#46039f"
             ],
             [
              0.2222222222222222,
              "#7201a8"
             ],
             [
              0.3333333333333333,
              "#9c179e"
             ],
             [
              0.4444444444444444,
              "#bd3786"
             ],
             [
              0.5555555555555556,
              "#d8576b"
             ],
             [
              0.6666666666666666,
              "#ed7953"
             ],
             [
              0.7777777777777778,
              "#fb9f3a"
             ],
             [
              0.8888888888888888,
              "#fdca26"
             ],
             [
              1,
              "#f0f921"
             ]
            ],
            "type": "contour"
           }
          ],
          "contourcarpet": [
           {
            "colorbar": {
             "outlinewidth": 0,
             "ticks": ""
            },
            "type": "contourcarpet"
           }
          ],
          "heatmap": [
           {
            "colorbar": {
             "outlinewidth": 0,
             "ticks": ""
            },
            "colorscale": [
             [
              0,
              "#0d0887"
             ],
             [
              0.1111111111111111,
              "#46039f"
             ],
             [
              0.2222222222222222,
              "#7201a8"
             ],
             [
              0.3333333333333333,
              "#9c179e"
             ],
             [
              0.4444444444444444,
              "#bd3786"
             ],
             [
              0.5555555555555556,
              "#d8576b"
             ],
             [
              0.6666666666666666,
              "#ed7953"
             ],
             [
              0.7777777777777778,
              "#fb9f3a"
             ],
             [
              0.8888888888888888,
              "#fdca26"
             ],
             [
              1,
              "#f0f921"
             ]
            ],
            "type": "heatmap"
           }
          ],
          "heatmapgl": [
           {
            "colorbar": {
             "outlinewidth": 0,
             "ticks": ""
            },
            "colorscale": [
             [
              0,
              "#0d0887"
             ],
             [
              0.1111111111111111,
              "#46039f"
             ],
             [
              0.2222222222222222,
              "#7201a8"
             ],
             [
              0.3333333333333333,
              "#9c179e"
             ],
             [
              0.4444444444444444,
              "#bd3786"
             ],
             [
              0.5555555555555556,
              "#d8576b"
             ],
             [
              0.6666666666666666,
              "#ed7953"
             ],
             [
              0.7777777777777778,
              "#fb9f3a"
             ],
             [
              0.8888888888888888,
              "#fdca26"
             ],
             [
              1,
              "#f0f921"
             ]
            ],
            "type": "heatmapgl"
           }
          ],
          "histogram": [
           {
            "marker": {
             "pattern": {
              "fillmode": "overlay",
              "size": 10,
              "solidity": 0.2
             }
            },
            "type": "histogram"
           }
          ],
          "histogram2d": [
           {
            "colorbar": {
             "outlinewidth": 0,
             "ticks": ""
            },
            "colorscale": [
             [
              0,
              "#0d0887"
             ],
             [
              0.1111111111111111,
              "#46039f"
             ],
             [
              0.2222222222222222,
              "#7201a8"
             ],
             [
              0.3333333333333333,
              "#9c179e"
             ],
             [
              0.4444444444444444,
              "#bd3786"
             ],
             [
              0.5555555555555556,
              "#d8576b"
             ],
             [
              0.6666666666666666,
              "#ed7953"
             ],
             [
              0.7777777777777778,
              "#fb9f3a"
             ],
             [
              0.8888888888888888,
              "#fdca26"
             ],
             [
              1,
              "#f0f921"
             ]
            ],
            "type": "histogram2d"
           }
          ],
          "histogram2dcontour": [
           {
            "colorbar": {
             "outlinewidth": 0,
             "ticks": ""
            },
            "colorscale": [
             [
              0,
              "#0d0887"
             ],
             [
              0.1111111111111111,
              "#46039f"
             ],
             [
              0.2222222222222222,
              "#7201a8"
             ],
             [
              0.3333333333333333,
              "#9c179e"
             ],
             [
              0.4444444444444444,
              "#bd3786"
             ],
             [
              0.5555555555555556,
              "#d8576b"
             ],
             [
              0.6666666666666666,
              "#ed7953"
             ],
             [
              0.7777777777777778,
              "#fb9f3a"
             ],
             [
              0.8888888888888888,
              "#fdca26"
             ],
             [
              1,
              "#f0f921"
             ]
            ],
            "type": "histogram2dcontour"
           }
          ],
          "mesh3d": [
           {
            "colorbar": {
             "outlinewidth": 0,
             "ticks": ""
            },
            "type": "mesh3d"
           }
          ],
          "parcoords": [
           {
            "line": {
             "colorbar": {
              "outlinewidth": 0,
              "ticks": ""
             }
            },
            "type": "parcoords"
           }
          ],
          "pie": [
           {
            "automargin": true,
            "type": "pie"
           }
          ],
          "scatter": [
           {
            "fillpattern": {
             "fillmode": "overlay",
             "size": 10,
             "solidity": 0.2
            },
            "type": "scatter"
           }
          ],
          "scatter3d": [
           {
            "line": {
             "colorbar": {
              "outlinewidth": 0,
              "ticks": ""
             }
            },
            "marker": {
             "colorbar": {
              "outlinewidth": 0,
              "ticks": ""
             }
            },
            "type": "scatter3d"
           }
          ],
          "scattercarpet": [
           {
            "marker": {
             "colorbar": {
              "outlinewidth": 0,
              "ticks": ""
             }
            },
            "type": "scattercarpet"
           }
          ],
          "scattergeo": [
           {
            "marker": {
             "colorbar": {
              "outlinewidth": 0,
              "ticks": ""
             }
            },
            "type": "scattergeo"
           }
          ],
          "scattergl": [
           {
            "marker": {
             "colorbar": {
              "outlinewidth": 0,
              "ticks": ""
             }
            },
            "type": "scattergl"
           }
          ],
          "scattermapbox": [
           {
            "marker": {
             "colorbar": {
              "outlinewidth": 0,
              "ticks": ""
             }
            },
            "type": "scattermapbox"
           }
          ],
          "scatterpolar": [
           {
            "marker": {
             "colorbar": {
              "outlinewidth": 0,
              "ticks": ""
             }
            },
            "type": "scatterpolar"
           }
          ],
          "scatterpolargl": [
           {
            "marker": {
             "colorbar": {
              "outlinewidth": 0,
              "ticks": ""
             }
            },
            "type": "scatterpolargl"
           }
          ],
          "scatterternary": [
           {
            "marker": {
             "colorbar": {
              "outlinewidth": 0,
              "ticks": ""
             }
            },
            "type": "scatterternary"
           }
          ],
          "surface": [
           {
            "colorbar": {
             "outlinewidth": 0,
             "ticks": ""
            },
            "colorscale": [
             [
              0,
              "#0d0887"
             ],
             [
              0.1111111111111111,
              "#46039f"
             ],
             [
              0.2222222222222222,
              "#7201a8"
             ],
             [
              0.3333333333333333,
              "#9c179e"
             ],
             [
              0.4444444444444444,
              "#bd3786"
             ],
             [
              0.5555555555555556,
              "#d8576b"
             ],
             [
              0.6666666666666666,
              "#ed7953"
             ],
             [
              0.7777777777777778,
              "#fb9f3a"
             ],
             [
              0.8888888888888888,
              "#fdca26"
             ],
             [
              1,
              "#f0f921"
             ]
            ],
            "type": "surface"
           }
          ],
          "table": [
           {
            "cells": {
             "fill": {
              "color": "#EBF0F8"
             },
             "line": {
              "color": "white"
             }
            },
            "header": {
             "fill": {
              "color": "#C8D4E3"
             },
             "line": {
              "color": "white"
             }
            },
            "type": "table"
           }
          ]
         },
         "layout": {
          "annotationdefaults": {
           "arrowcolor": "#2a3f5f",
           "arrowhead": 0,
           "arrowwidth": 1
          },
          "autotypenumbers": "strict",
          "coloraxis": {
           "colorbar": {
            "outlinewidth": 0,
            "ticks": ""
           }
          },
          "colorscale": {
           "diverging": [
            [
             0,
             "#8e0152"
            ],
            [
             0.1,
             "#c51b7d"
            ],
            [
             0.2,
             "#de77ae"
            ],
            [
             0.3,
             "#f1b6da"
            ],
            [
             0.4,
             "#fde0ef"
            ],
            [
             0.5,
             "#f7f7f7"
            ],
            [
             0.6,
             "#e6f5d0"
            ],
            [
             0.7,
             "#b8e186"
            ],
            [
             0.8,
             "#7fbc41"
            ],
            [
             0.9,
             "#4d9221"
            ],
            [
             1,
             "#276419"
            ]
           ],
           "sequential": [
            [
             0,
             "#0d0887"
            ],
            [
             0.1111111111111111,
             "#46039f"
            ],
            [
             0.2222222222222222,
             "#7201a8"
            ],
            [
             0.3333333333333333,
             "#9c179e"
            ],
            [
             0.4444444444444444,
             "#bd3786"
            ],
            [
             0.5555555555555556,
             "#d8576b"
            ],
            [
             0.6666666666666666,
             "#ed7953"
            ],
            [
             0.7777777777777778,
             "#fb9f3a"
            ],
            [
             0.8888888888888888,
             "#fdca26"
            ],
            [
             1,
             "#f0f921"
            ]
           ],
           "sequentialminus": [
            [
             0,
             "#0d0887"
            ],
            [
             0.1111111111111111,
             "#46039f"
            ],
            [
             0.2222222222222222,
             "#7201a8"
            ],
            [
             0.3333333333333333,
             "#9c179e"
            ],
            [
             0.4444444444444444,
             "#bd3786"
            ],
            [
             0.5555555555555556,
             "#d8576b"
            ],
            [
             0.6666666666666666,
             "#ed7953"
            ],
            [
             0.7777777777777778,
             "#fb9f3a"
            ],
            [
             0.8888888888888888,
             "#fdca26"
            ],
            [
             1,
             "#f0f921"
            ]
           ]
          },
          "colorway": [
           "#636efa",
           "#EF553B",
           "#00cc96",
           "#ab63fa",
           "#FFA15A",
           "#19d3f3",
           "#FF6692",
           "#B6E880",
           "#FF97FF",
           "#FECB52"
          ],
          "font": {
           "color": "#2a3f5f"
          },
          "geo": {
           "bgcolor": "white",
           "lakecolor": "white",
           "landcolor": "#E5ECF6",
           "showlakes": true,
           "showland": true,
           "subunitcolor": "white"
          },
          "hoverlabel": {
           "align": "left"
          },
          "hovermode": "closest",
          "mapbox": {
           "style": "light"
          },
          "paper_bgcolor": "white",
          "plot_bgcolor": "#E5ECF6",
          "polar": {
           "angularaxis": {
            "gridcolor": "white",
            "linecolor": "white",
            "ticks": ""
           },
           "bgcolor": "#E5ECF6",
           "radialaxis": {
            "gridcolor": "white",
            "linecolor": "white",
            "ticks": ""
           }
          },
          "scene": {
           "xaxis": {
            "backgroundcolor": "#E5ECF6",
            "gridcolor": "white",
            "gridwidth": 2,
            "linecolor": "white",
            "showbackground": true,
            "ticks": "",
            "zerolinecolor": "white"
           },
           "yaxis": {
            "backgroundcolor": "#E5ECF6",
            "gridcolor": "white",
            "gridwidth": 2,
            "linecolor": "white",
            "showbackground": true,
            "ticks": "",
            "zerolinecolor": "white"
           },
           "zaxis": {
            "backgroundcolor": "#E5ECF6",
            "gridcolor": "white",
            "gridwidth": 2,
            "linecolor": "white",
            "showbackground": true,
            "ticks": "",
            "zerolinecolor": "white"
           }
          },
          "shapedefaults": {
           "line": {
            "color": "#2a3f5f"
           }
          },
          "ternary": {
           "aaxis": {
            "gridcolor": "white",
            "linecolor": "white",
            "ticks": ""
           },
           "baxis": {
            "gridcolor": "white",
            "linecolor": "white",
            "ticks": ""
           },
           "bgcolor": "#E5ECF6",
           "caxis": {
            "gridcolor": "white",
            "linecolor": "white",
            "ticks": ""
           }
          },
          "title": {
           "x": 0.05
          },
          "xaxis": {
           "automargin": true,
           "gridcolor": "white",
           "linecolor": "white",
           "ticks": "",
           "title": {
            "standoff": 15
           },
           "zerolinecolor": "white",
           "zerolinewidth": 2
          },
          "yaxis": {
           "automargin": true,
           "gridcolor": "white",
           "linecolor": "white",
           "ticks": "",
           "title": {
            "standoff": 15
           },
           "zerolinecolor": "white",
           "zerolinewidth": 2
          }
         }
        },
        "title": {
         "text": "3D t-SNE Visualization of Embeddings"
        }
       }
      }
     },
     "metadata": {},
     "output_type": "display_data"
    }
   ],
   "source": [
    "# Get the first batch from the validation data\n",
    "batch = next(iter(valid_loader))\n",
    "\n",
    "# Extract the text and offsets from the batch\n",
    "label, text, offsets = batch\n",
    "\n",
    "# Send the data to the device (GPU if available)\n",
    "text = text.to(device)\n",
    "offsets = offsets.to(device)\n",
    "\n",
    "# Get the embeddings bag output for the batch\n",
    "embedded = model.embedding(text, offsets)\n",
    "\n",
    "# Convert the embeddings tensor to a numpy array\n",
    "embeddings_numpy = embedded.detach().cpu().numpy()\n",
    "\n",
    "# Perform t-SNE on the embeddings to reduce their dimensionality to 3D.\n",
    "X_embedded_3d = TSNE(n_components=3).fit_transform(embeddings_numpy)\n",
    "\n",
    "# Create a 3D scatter plot using Plotly\n",
    "trace = go.Scatter3d(\n",
    "    x=X_embedded_3d[:, 0],\n",
    "    y=X_embedded_3d[:, 1],\n",
    "    z=X_embedded_3d[:, 2],\n",
    "    mode='markers',\n",
    "    marker=dict(\n",
    "        size=5,\n",
    "        color=label.numpy(),  # Use label information for color\n",
    "        colorscale='Viridis',  # Choose a colorscale\n",
    "        opacity=0.8\n",
    "    )\n",
    ")\n",
    "\n",
    "layout = go.Layout(title=\"3D t-SNE Visualization of Embeddings\",\n",
    "                   scene=dict(xaxis_title='Dimension 1',\n",
    "                              yaxis_title='Dimension 2',\n",
    "                              zaxis_title='Dimension 3'))\n",
    "\n",
    "fig = go.Figure(data=[trace], layout=layout)\n",
    "fig.show()"
   ]
  },
  {
   "cell_type": "markdown",
   "id": "fd1d3974",
   "metadata": {},
   "source": [
    "## Using pretrained GloVe"
   ]
  },
  {
   "cell_type": "markdown",
   "id": "93ae169d",
   "metadata": {},
   "source": [
    "### Idea"
   ]
  },
  {
   "cell_type": "markdown",
   "id": "de3252f9",
   "metadata": {},
   "source": [
    "GloVe, on the other hand, is another popular algorithm for learning word embeddings. It stands for Global Vectors for Word Representation. Unlike word2vec, which is based on predicting context/target words, GloVe focuses on capturing the global word co-occurrence statistics from the entire corpus. It constructs a co-occurrence matrix that represents how often words appear together in the text. The matrix is then factorized to obtain the word embeddings. For example, if \"Man\" and \"King\" co-occure many times, their vectors will be simialr.\n",
    "\n",
    "The GloVe model follows a fundamental approach by constructing a large word-context co-occurrence matrix that contains pairs of (word, context). Each entry in this matrix represents the frequency of a word occurring within a given context, which can be a sequence of words. The objective of the model is to utilize matrix factorization techniques to approximate this co-occurrence matrix. The process is illustrated in the following diagram:\n",
    "\n",
    "1. Create a word-context co-occurrence matrix: The model begins by generating a matrix that captures the co-occurrence information of words and their surrounding contexts. Each element in the matrix represents how often a specific word and context pair co-occur in the training data.\n",
    "\n",
    "2. Apply matrix factorization: Next, the GloVe model applies matrix factorization methods to approximate the word-context co-occurrence matrix. The goal is to decompose the original matrix into lower-dimensional representations that capture the semantic relationships between words and contexts.\n",
    "\n",
    "3. Obtain word and context embeddings: By factorizing the co-occurrence matrix, the model obtains word and context embeddings. These embeddings are numerical representations that encode the semantic meaning and relationships of words and contexts.\n",
    "\n",
    "To accomplish this, you can usually begin by initializing WF (Word-Feature matrix) and FC (Feature-Context matrix) with random weights.You will then perform a multiplication operation between these matrices to obtain WC' (an approximation of WC), and assess its similarity to WC. This process is repeated multiple times using Stochastic Gradient Descent (SGD) to minimize the error(WC'-WC).\n",
    "\n",
    "Once the training is complete, the resulting Word-Feature matrix (WF) provides you with word embeddings or vector representations for each word(the green vector in the diagram). The dimensionality of the embedding vectors can be predetermined by setting the value of F to a specific number of dimensions, allowing for a compact representation of the word semantics.\n",
    "\n",
    "<img src=\"https://cf-courses-data.s3.us.cloud-object-storage.appdomain.cloud/IBMSkillsNetwork-AI0205EN-SkillsNetwork/matrix%20fact.png\" alt=\"Co-occurence matrix\" class=\"bg-primary\" width=\"600px\">\n",
    "\n",
    "The key advantage of GloVe is that it can incorporate both global statistics and local context information. This results in word embeddings that not only capture the semantic relationships between words but also preserve certain syntactic relationships."
   ]
  },
  {
   "cell_type": "markdown",
   "id": "67e5459b",
   "metadata": {},
   "source": [
    "### Download and see similarities in embedding (general, not related to text classification)"
   ]
  },
  {
   "cell_type": "code",
   "execution_count": 29,
   "id": "f2b91abd",
   "metadata": {},
   "outputs": [
    {
     "data": {
      "text/plain": [
       "tensor([ 0.2501, -0.0340,  0.0941,  0.3234, -0.0165, -0.6321, -1.2778,  0.3226,\n",
       "        -0.1411, -0.2900, -0.7388, -1.0599, -0.6915,  0.0670,  1.4545,  0.2447,\n",
       "        -0.7986, -0.8467, -0.8100, -0.1035,  0.5937,  0.4780,  0.3372, -0.4284,\n",
       "        -0.3413, -1.8441,  0.3073,  0.2960, -0.4052,  0.3416,  3.4163,  0.4477,\n",
       "        -0.4327,  0.1254,  0.0556, -0.5740,  0.1810,  0.0923,  0.0726, -0.4837,\n",
       "        -0.7181,  0.3952, -0.1291, -0.2552,  0.4102,  0.1954, -0.1200,  0.8398,\n",
       "        -0.2912,  0.0787])"
      ]
     },
     "execution_count": 29,
     "metadata": {},
     "output_type": "execute_result"
    }
   ],
   "source": [
    "from torchtext.vocab import GloVe, vocab #*Glo*bal *Ve*ctors representation from Standford NLP group\n",
    "\n",
    "glove_vectors_6B = GloVe(name='6B', dim = 50, cache = './GloVe_model/') #6B is not the number of parameters, \n",
    "                                                                        #but the number of tokens used for training\n",
    "                                                                        #dim = embedding dimension\n",
    "\n",
    "\n",
    "vocab = vocab(glove_vectors_6B.stoi,0, specials = ('<unk>', '<pad>'))\n",
    "vocab.set_default_index(vocab['<unk>'])\n",
    "\n",
    "word_to_index = glove_vectors_6B.stoi  # without the special tokens\n",
    "\n",
    "embeddings_Glove6B = torch.nn.Embedding.from_pretrained(glove_vectors_6B.vectors, freeze = True)\n",
    "embeddings_Glove6B.weight[vocab['team']] #dim = 50, the embedding of the word 'team'\n"
   ]
  },
  {
   "cell_type": "markdown",
   "id": "97776b8f",
   "metadata": {},
   "source": [
    "This computed the similarity between two embedded words using the cosine similarity. We check the similarity between some words (it takes 13 sec):"
   ]
  },
  {
   "cell_type": "code",
   "execution_count": 30,
   "id": "a2ffd6f3",
   "metadata": {},
   "outputs": [
    {
     "name": "stdout",
     "output_type": "stream",
     "text": [
      "2 most similar words to team: ['teams', 'football']\n"
     ]
    }
   ],
   "source": [
    "def find_similar_words(target_word, embedding_dict, top_k=2):\n",
    "    if target_word not in embedding_dict:\n",
    "        return f\"Word '{target_word}' not found in embeddings.\"\n",
    "    \n",
    "    target_vector = embedding_dict[target_word]\n",
    "    similarities = {}\n",
    "\n",
    "    for word, vector in embedding_dict.items():\n",
    "        if word == target_word:\n",
    "            continue\n",
    "        similarity = np.dot(target_vector, vector) / (np.linalg.norm(target_vector) * np.linalg.norm(vector))\n",
    "        similarities[word] = similarity\n",
    "\n",
    "    sorted_words = sorted(similarities.items(), key=lambda x: x[1], reverse=True)\n",
    "    return [word for word, _ in sorted_words[:top_k]]\n",
    "\n",
    "words = glove_vectors_6B.itos # all the tokens without the special tokens <pad> and <unk>\n",
    "\n",
    "embedding_dict_Glove6B = {}\n",
    "for word in words:\n",
    "    # Get the index of the word from the vocabulary to access its embedding\n",
    "    embedding_vector = embeddings_Glove6B.weight[word_to_index[word]]\n",
    "    if embedding_vector is not None:\n",
    "        embedding_dict_Glove6B[word] = embedding_vector\n",
    "\n",
    "target_word = \"team\"\n",
    "top_k=2\n",
    "similar_words = find_similar_words(target_word, embedding_dict_Glove6B, top_k)\n",
    "\n",
    "# Print the similar words\n",
    "print(\"{} most similar words to {}:\".format(top_k,target_word) ,similar_words)\n"
   ]
  },
  {
   "cell_type": "markdown",
   "id": "c4f1c8b2",
   "metadata": {},
   "source": [
    "### Using it for text classification"
   ]
  },
  {
   "cell_type": "code",
   "execution_count": 31,
   "id": "b2d4a74c",
   "metadata": {},
   "outputs": [],
   "source": [
    "from torchtext.vocab import GloVe, vocab #*Glo*bal *Ve*ctors representation from Standford NLP group\n",
    "\n",
    "EMBEDDING_DIM = 300 \n",
    "glove_vectors_6B = GloVe(name='6B', dim = EMBEDDING_DIM, cache = './GloVe_model/') #6B is not the number of parameters, \n",
    "                                                                        #but the number of tokens used for training\n",
    "                                                                        #dim = embedding dimension\n",
    "\n",
    "# vocab = vocab(glove_vectors_6B.stoi,0, specials = ('<unk>', '<pad>'))\n",
    "# vocab.set_default_index(vocab['<unk>']) #this will bring to an error!!!\n",
    "\n",
    "counter = Counter(glove_vectors_6B.stoi.keys())\n",
    "ordered_dict = OrderedDict(counter.most_common())\n",
    "\n",
    "# Crea vocab e aggiungi special tokens\n",
    "vocab = vocab(ordered_dict)\n",
    "vocab.insert_token('<unk>', 0)\n",
    "vocab.insert_token('<pad>', 1)\n",
    "vocab.set_default_index(vocab['<unk>'])\n",
    "\n",
    "tokenizer = get_tokenizer(\"basic_english\")\n",
    "\n",
    "train_iter, test_iter = AG_NEWS()\n",
    "train_dataset = to_map_style_dataset(train_iter)\n",
    "test_dataset = to_map_style_dataset(test_iter)\n",
    "\n",
    "num_train = int(len(train_dataset) * 0.95)\n",
    "split_train, split_valid = random_split(train_dataset, [num_train, len(train_dataset) - num_train])\n",
    "\n",
    "ag_news_label = {1: \"World\", 2: \"Sports\", 3: \"Business\", 4: \"Sci/Tec\"}\n",
    "num_class = len(set([label for (label, text) in train_iter ]))"
   ]
  },
  {
   "cell_type": "markdown",
   "id": "905d97c5",
   "metadata": {},
   "source": [
    "Same collate as before (with the difference of the `.lower()` in `processed_text`), with coherence with GloVe:"
   ]
  },
  {
   "cell_type": "code",
   "execution_count": 32,
   "id": "efba10ce",
   "metadata": {},
   "outputs": [],
   "source": [
    "def collate_batch(batch):\n",
    "    label_list, text_list, offsets = [], [], [0]\n",
    "    for label, text in batch:\n",
    "\n",
    "        label_list.append(int(label)-1)\n",
    "\n",
    "        processed_text = torch.tensor(vocab(tokenizer(text.lower())), dtype=torch.int64) \n",
    "        text_list.append(processed_text)\n",
    "        \n",
    "        offsets.append(len(processed_text))\n",
    "\n",
    "    label_list = torch.tensor(label_list, dtype=torch.int64)\n",
    "    offsets = torch.tensor(offsets[:-1]).cumsum(dim=0)\n",
    "    text_list = torch.cat(text_list)\n",
    "    return label_list.to(device), text_list.to(device), offsets.to(device)\n",
    "\n",
    "BATCH_SIZE = 64\n",
    "\n",
    "train_loader = DataLoader(split_train, batch_size = BATCH_SIZE, shuffle = True, collate_fn = collate_batch)\n",
    "valid_loader = DataLoader(split_valid, batch_size = BATCH_SIZE, shuffle = False, collate_fn = collate_batch)\n",
    "test_loader = DataLoader(test_dataset, batch_size = BATCH_SIZE, shuffle = False, collate_fn = collate_batch)"
   ]
  },
  {
   "cell_type": "markdown",
   "id": "0940f5aa",
   "metadata": {},
   "source": [
    "Same model as before, but there is the pretrained nn:"
   ]
  },
  {
   "cell_type": "code",
   "execution_count": 33,
   "id": "036ce7e5",
   "metadata": {},
   "outputs": [],
   "source": [
    "class TextClassificationModel(nn.Module):\n",
    "    def __init__(self, input_dim, hidden_dim, output_dim):\n",
    "        super(TextClassificationModel, self).__init__()\n",
    "\n",
    "        embedding_matrix = torch.zeros(input_dim, hidden_dim)\n",
    "        for token, idx in vocab.get_stoi().items(): # we use the GloVe embedding for tokens known by GloVe, otherwise random integers\n",
    "            if token in glove_vectors_6B.stoi:\n",
    "                embedding_matrix[idx] = glove_vectors_6B[token]\n",
    "            else:\n",
    "                embedding_matrix[idx] = torch.randn(hidden_dim)  \n",
    "\n",
    "        self.embedding = nn.EmbeddingBag.from_pretrained(embedding_matrix, freeze = True)\n",
    "        self.fc = nn.Linear(hidden_dim, output_dim)\n",
    "        self.init_weights()\n",
    "\n",
    "    def init_weights(self):\n",
    "        initrange = 0.5\n",
    "        # self.embedding.weight.data.uniform_(-initrange, initrange) #this is useless becuse of the freeze = True!\n",
    "        self.fc.weight.data.uniform_(-initrange, initrange)\n",
    "        self.fc.bias.data.zero_()\n",
    "\n",
    "    def forward(self, text, offsets):\n",
    "        embedded = self.embedding(text, offsets)\n",
    "        output = self.fc(embedded)\n",
    "\n",
    "        return output\n",
    "\n",
    "vocab_size = len(vocab)\n",
    "# EMBEDDING_DIM = 300 # defined before \n",
    "num_of_classes = len(ag_news_label)\n",
    "\n",
    "model = TextClassificationModel(input_dim = vocab_size, hidden_dim = EMBEDDING_DIM, output_dim = num_of_classes).to(device)"
   ]
  },
  {
   "cell_type": "markdown",
   "id": "43730b44",
   "metadata": {},
   "source": [
    "Same accuracy as before:"
   ]
  },
  {
   "cell_type": "code",
   "execution_count": 34,
   "id": "41e9dc29",
   "metadata": {},
   "outputs": [
    {
     "data": {
      "text/plain": [
       "0.31355263157894736"
      ]
     },
     "execution_count": 34,
     "metadata": {},
     "output_type": "execute_result"
    }
   ],
   "source": [
    "def evaluate(dataloader, model ):\n",
    "    model.eval()\n",
    "    total_acc, total_count= 0, 0\n",
    "\n",
    "    with torch.no_grad():\n",
    "        for idx, (label, text, offsets) in enumerate(dataloader):\n",
    "            predicted_label = model(text, offsets)\n",
    "\n",
    "            total_acc += (predicted_label.argmax(1) == label).sum().item()\n",
    "            total_count += label.size(0)\n",
    "    return total_acc / total_count\n",
    "\n",
    "evaluate(test_loader, model)"
   ]
  },
  {
   "cell_type": "code",
   "execution_count": 35,
   "id": "1a197e16",
   "metadata": {},
   "outputs": [
    {
     "name": "stdout",
     "output_type": "stream",
     "text": [
      "epoch 1\n"
     ]
    },
    {
     "data": {
      "application/vnd.jupyter.widget-view+json": {
       "model_id": "c192c9ed7b514563bd1e45f358187ecc",
       "version_major": 2,
       "version_minor": 0
      },
      "text/plain": [
       "  0%|          | 0/1782 [00:00<?, ?it/s]"
      ]
     },
     "metadata": {},
     "output_type": "display_data"
    },
    {
     "name": "stdout",
     "output_type": "stream",
     "text": [
      "epoch 2\n"
     ]
    },
    {
     "data": {
      "application/vnd.jupyter.widget-view+json": {
       "model_id": "b5ff0c49744d4d83b66e61201fed9673",
       "version_major": 2,
       "version_minor": 0
      },
      "text/plain": [
       "  0%|          | 0/1782 [00:00<?, ?it/s]"
      ]
     },
     "metadata": {},
     "output_type": "display_data"
    }
   ],
   "source": [
    "LR = 0.5\n",
    "EPOCHS = 2\n",
    "cum_loss_list=[]\n",
    "acc_epoch=[]\n",
    "acc_old=0\n",
    "\n",
    "criterion = torch.nn.CrossEntropyLoss()\n",
    "optimizer = torch.optim.SGD(model.parameters(), lr = LR)\n",
    "scheduler = torch.optim.lr_scheduler.StepLR(optimizer, step_size = 1.0, gamma = 0.1) # after 1.0 epochs, the lerning rate will be multiplied by gamma\n",
    "\n",
    "for epoch in range(EPOCHS):\n",
    "    cum_loss = 0.0\n",
    "    print(f'epoch {epoch+1}')\n",
    "    model.train()\n",
    "    for i, (label, text, offsets) in enumerate(tqdm(train_loader)):\n",
    "        \n",
    "        optimizer.zero_grad()\n",
    "        predicted_logits = model(text, offsets)\n",
    "        loss = criterion(predicted_logits, label)\n",
    "        loss.backward()\n",
    "        torch.nn.utils.clip_grad_norm_(model.parameters(), 0.1) #gradient clipping\n",
    "        optimizer.step()\n",
    "        cum_loss += loss.item()\n",
    "    \n",
    "    cum_loss_list.append(cum_loss/len(train_loader))\n",
    "    accu_val = evaluate(valid_loader, model)\n",
    "    acc_epoch.append(accu_val)\n",
    "\n",
    "    if accu_val > acc_old:\n",
    "      acc_old= accu_val\n",
    "      torch.save(model.state_dict(), 'my_model.pth')\n"
   ]
  },
  {
   "cell_type": "code",
   "execution_count": 36,
   "id": "5029caa2",
   "metadata": {},
   "outputs": [
    {
     "data": {
      "image/png": "[encoded data removed]",
      "text/plain": [
       "<Figure size 640x480 with 2 Axes>"
      ]
     },
     "metadata": {},
     "output_type": "display_data"
    }
   ],
   "source": [
    "def plot(COST,ACC):\n",
    "    fig, ax1 = plt.subplots()\n",
    "    color = 'tab:red'\n",
    "    ax1.plot(COST, color=color)\n",
    "    ax1.set_xlabel('epoch', color=color)\n",
    "    ax1.set_ylabel('loss', color=color)\n",
    "    ax1.tick_params(axis='y', color=color)\n",
    "    \n",
    "    ax2 = ax1.twinx()  \n",
    "    color = 'tab:blue'\n",
    "    ax2.set_ylabel('accuracy', color=color)  # you already handled the x-label with ax1\n",
    "    ax2.plot(ACC, color=color)\n",
    "    ax2.tick_params(axis='y', color=color)\n",
    "    fig.tight_layout()  # otherwise the right y-label is slightly clipped\n",
    "    \n",
    "    plt.show()\n",
    "\n",
    "plot(cum_loss_list, acc_epoch)"
   ]
  },
  {
   "cell_type": "markdown",
   "id": "686ab921",
   "metadata": {},
   "source": [
    "<span style=\"background-color: yellow\"> In the Dataset class, the methods len e getitem are not defined because they depend strictly on the type on objects we have in the databse. So it is common practice to define a CustomDataset class, with the methods len e getitem!</span>\n",
    "\n",
    "DataLoader is an iterable but not an iterator:\n",
    "1. data_iterator = iter(dataloader)\n",
    "2. first_batch = next(data_iterator)"
   ]
  }
 ],
 "metadata": {
  "kernelspec": {
   "display_name": "Trans_env",
   "language": "python",
   "name": "python3"
  },
  "language_info": {
   "codemirror_mode": {
    "name": "ipython",
    "version": 3
   },
   "file_extension": ".py",
   "mimetype": "text/x-python",
   "name": "python",
   "nbconvert_exporter": "python",
   "pygments_lexer": "ipython3",
   "version": "3.10.18"
  }
 },
 "nbformat": 4,
 "nbformat_minor": 5
}
